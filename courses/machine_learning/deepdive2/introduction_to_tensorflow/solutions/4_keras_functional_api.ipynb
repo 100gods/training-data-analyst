{
 "cells": [
  {
   "cell_type": "markdown",
   "metadata": {},
   "source": [
    "# Introducing the Keras Functional API\n",
    "\n",
    "**Learning Objectives**\n",
    "  1. Understand embeddings and how to create them with the feature column API\n",
    "  1. Understand Deep and Wide models and when to use them\n",
    "  1. Understand the Keras functional API and how to build a deep and wide model with it\n",
    "\n",
    "## Introduction\n",
    "\n",
    "In the last notebook, we learned about the Keras Sequential API. The [Keras Functional API](https://www.tensorflow.org/guide/keras#functional_api) provides an alternate way of building models which is more flexible. With the Functional API, we can build models with more complex topologies, multiple input or output layers, shared layers or non-sequential data flows (e.g. residual layers).\n",
    "\n",
    "In this notebook we'll use what we learned about feature columns to build a Wide & Deep model. Recall, that the idea behind Wide & Deep models is to join the two methods of learning through memorization and generalization by making a wide linear model and a deep learning model to accommodate both. You can have a look at the original research paper here: [Wide & Deep Learning for Recommender Systems](https://arxiv.org/abs/1606.07792).\n",
    "\n",
    "<img src='assets/wide_deep.png' width='80%'>\n",
    "<sup>(image: https://ai.googleblog.com/2016/06/wide-deep-learning-better-together-with.html)</sup>\n",
    "\n",
    "The Wide part of the model is associated with the memory element. In this case, we train a linear model with a wide set of crossed features and learn the correlation of this related data with the assigned label. The Deep part of the model is associated with the generalization element where we use embedding vectors for features. The best embeddings are then learned through the training process. While both of these methods can work well alone, Wide & Deep models excel by combining these techniques together. "
   ]
  },
  {
   "cell_type": "code",
   "execution_count": 1,
   "metadata": {},
   "outputs": [
    {
     "name": "stdout",
     "output_type": "stream",
     "text": [
      "tensorflow==2.0.0\r\n"
     ]
    }
   ],
   "source": [
    "# Ensure the right version of Tensorflow is installed.\n",
    "!pip freeze | grep tensorflow==2.0 || pip install tensorflow==2.0"
   ]
  },
  {
   "cell_type": "markdown",
   "metadata": {},
   "source": [
    "Start by importing the necessary libraries for this lab."
   ]
  },
  {
   "cell_type": "code",
   "execution_count": 2,
   "metadata": {},
   "outputs": [
    {
     "name": "stdout",
     "output_type": "stream",
     "text": [
      "2.0.0\n"
     ]
    }
   ],
   "source": [
    "import datetime\n",
    "import os\n",
    "import shutil\n",
    "\n",
    "import numpy as np\n",
    "import pandas as pd\n",
    "import tensorflow as tf\n",
    "\n",
    "from matplotlib import pyplot as plt\n",
    "from tensorflow import keras\n",
    "\n",
    "from tensorflow import feature_column as fc\n",
    "\n",
    "from tensorflow.keras import Model\n",
    "from tensorflow.keras.layers import (\n",
    "    Input, Dense, DenseFeatures, concatenate)\n",
    "from tensorflow.keras.callbacks import TensorBoard\n",
    "\n",
    "print(tf.__version__)"
   ]
  },
  {
   "cell_type": "code",
   "execution_count": 3,
   "metadata": {},
   "outputs": [],
   "source": [
    "%matplotlib inline"
   ]
  },
  {
   "cell_type": "markdown",
   "metadata": {},
   "source": [
    "## Load raw data \n",
    "\n",
    "We will use the taxifare dataset, using the CSV files that we created in the first notebook of this sequence. Those files have been saved into `../data`."
   ]
  },
  {
   "cell_type": "code",
   "execution_count": 4,
   "metadata": {},
   "outputs": [
    {
     "name": "stdout",
     "output_type": "stream",
     "text": [
      "-rw-r--r--  1 dherin  primarygroup  123590 Oct 14 17:10 ../data/taxi-test.csv\r\n",
      "-rw-r--r--  1 dherin  primarygroup  579055 Oct 14 17:10 ../data/taxi-train.csv\r\n",
      "-rw-r--r--  1 dherin  primarygroup  123114 Oct 14 17:10 ../data/taxi-valid.csv\r\n",
      "-rw-r--r--  1 dherin  primarygroup  141449 Oct 29 13:36 ../data/traffic-taxi-test.csv\r\n",
      "-rw-r--r--  1 dherin  primarygroup  662312 Oct 29 13:36 ../data/traffic-taxi-train.csv\r\n",
      "-rw-r--r--  1 dherin  primarygroup  141062 Oct 29 13:36 ../data/traffic-taxi-valid.csv\r\n"
     ]
    }
   ],
   "source": [
    "!ls -l ../data/*.csv"
   ]
  },
  {
   "cell_type": "markdown",
   "metadata": {},
   "source": [
    "## Use tf.data to read the CSV files\n",
    "\n",
    "We wrote these functions for reading data from the csv files above in the [previous notebook](2_dataset_api.ipynb). For this lab we will also include some additional engineered features in our model. In particular, we will compute the difference in latitude and longitude, as well as the Euclidean distance between the pick-up and drop-off locations. We can accomplish this by adding these new features to the features dictionary with the function `add_engineered_features` below. \n",
    "\n",
    "Note that we include a call to this function when collecting our features dict and labels in the `features_and_labels` function below as well. "
   ]
  },
  {
   "cell_type": "code",
   "execution_count": 5,
   "metadata": {},
   "outputs": [],
   "source": [
    "CSV_COLUMNS = [\n",
    "    'fare_amount',\n",
    "    'pickup_datetime',\n",
    "    'pickup_longitude',\n",
    "    'pickup_latitude',\n",
    "    'dropoff_longitude',\n",
    "    'dropoff_latitude',\n",
    "    'passenger_count',\n",
    "    'key'\n",
    "]\n",
    "LABEL_COLUMN = 'fare_amount'\n",
    "DEFAULTS = [[0.0], ['na'], [0.0], [0.0], [0.0], [0.0], [0.0], ['na']]\n",
    "UNWANTED_COLS = ['pickup_datetime', 'key']\n",
    "\n",
    "\n",
    "def features_and_labels(row_data):\n",
    "    label = row_data.pop(LABEL_COLUMN)\n",
    "    features = row_data\n",
    "        \n",
    "    for unwanted_col in UNWANTED_COLS:\n",
    "        features.pop(unwanted_col)\n",
    "\n",
    "    return features, label\n",
    "\n",
    "\n",
    "def create_dataset(pattern, batch_size=1, mode=tf.estimator.ModeKeys.EVAL):\n",
    "    dataset = tf.data.experimental.make_csv_dataset(\n",
    "        pattern, batch_size, CSV_COLUMNS, DEFAULTS)\n",
    "\n",
    "    dataset = dataset.map(features_and_labels)\n",
    "    \n",
    "    if mode == tf.estimator.ModeKeys.TRAIN:\n",
    "        dataset = dataset.shuffle(buffer_size=1000).repeat()\n",
    "\n",
    "    # take advantage of multi-threading; 1=AUTOTUNE\n",
    "    dataset = dataset.prefetch(1)\n",
    "    return dataset"
   ]
  },
  {
   "cell_type": "markdown",
   "metadata": {},
   "source": [
    "## Feature columns for Wide and Deep model\n",
    "\n",
    "For the Wide columns, we will create feature columns of crossed features. To do this, we'll create a collection of Tensorflow feature columns to pass to the `tf.feature_column.crossed_column` constructor. The Deep columns will consist of numeric columns and the embedding columns we want to create. "
   ]
  },
  {
   "cell_type": "code",
   "execution_count": 6,
   "metadata": {},
   "outputs": [],
   "source": [
    "# TODO 1\n",
    "\n",
    "# 1. Bucketize latitudes and longitudes\n",
    "NBUCKETS = 16\n",
    "latbuckets = np.linspace(start=38.0, stop=42.0, num=NBUCKETS).tolist()\n",
    "lonbuckets = np.linspace(start=-76.0, stop=-72.0, num=NBUCKETS).tolist()\n",
    "\n",
    "fc_bucketized_plat = fc.bucketized_column(\n",
    "    source_column=fc.numeric_column(\"pickup_longitude\"), boundaries=lonbuckets)\n",
    "fc_bucketized_plon = fc.bucketized_column(\n",
    "    source_column=fc.numeric_column(\"pickup_latitude\"), boundaries=latbuckets)\n",
    "fc_bucketized_dlat = fc.bucketized_column(\n",
    "    source_column=fc.numeric_column(\"dropoff_longitude\"), boundaries=lonbuckets)\n",
    "fc_bucketized_dlon = fc.bucketized_column(\n",
    "    source_column=fc.numeric_column(\"dropoff_latitude\"), boundaries=latbuckets)\n",
    "\n",
    "# 2. Cross features for locations\n",
    "fc_crossed_dloc = fc.crossed_column(\n",
    "    [fc_bucketized_dlat, fc_bucketized_dlon],\n",
    "    hash_bucket_size=NBUCKETS * NBUCKETS)\n",
    "fc_crossed_ploc = fc.crossed_column(\n",
    "    [fc_bucketized_plat, fc_bucketized_plon],\n",
    "    hash_bucket_size=NBUCKETS * NBUCKETS)\n",
    "fc_crossed_pd_pair = fc.crossed_column(\n",
    "    [fc_crossed_dloc, fc_crossed_ploc],\n",
    "    hash_bucket_size=NBUCKETS**4)\n",
    "\n",
    "# 3. Create embedding columns for the crossed columns\n",
    "fc_pd_pair = fc.embedding_column(categorical_column=fc_crossed_pd_pair, dimension=3)\n",
    "fc_dloc = fc.embedding_column(categorical_column=fc_crossed_dloc, dimension=3)\n",
    "fc_ploc = fc.embedding_column(categorical_column=fc_crossed_ploc, dimension=3)"
   ]
  },
  {
   "cell_type": "markdown",
   "metadata": {},
   "source": [
    "### Gather list of feature columns\n",
    "\n",
    "Next we gather the list of wide and deep feature columns we'll pass to our Wide & Deep model in Tensorflow. Recall, wide columns are sparse, have linear relationship with the output while continuous columns are deep, have a complex relationship with the output. We will use our previously bucketized columns to collect crossed feature columns and sparse feature columns for our wide columns, and embedding feature columns and numeric features columns for the deep columns."
   ]
  },
  {
   "cell_type": "code",
   "execution_count": 7,
   "metadata": {},
   "outputs": [],
   "source": [
    "# TODO 2\n",
    "wide_columns = [\n",
    "    # One-hot encoded feature crosses\n",
    "    fc.indicator_column(fc_crossed_dloc),\n",
    "    fc.indicator_column(fc_crossed_ploc),\n",
    "    fc.indicator_column(fc_crossed_pd_pair)\n",
    "]\n",
    "\n",
    "deep_columns = [\n",
    "    # Embedding_column to \"group\" together ...\n",
    "    fc.embedding_column(fc_crossed_pd_pair, dimension=10),\n",
    "\n",
    "    # Numeric columns\n",
    "    fc.numeric_column(\"pickup_latitude\"),\n",
    "    fc.numeric_column(\"pickup_longitude\"),\n",
    "    fc.numeric_column(\"dropoff_longitude\"),\n",
    "    fc.numeric_column(\"dropoff_latitude\")\n",
    "]"
   ]
  },
  {
   "cell_type": "markdown",
   "metadata": {},
   "source": [
    "## Build a Wide and Deep model in Keras\n",
    "\n",
    "To build a wide-and-deep network, we connect the sparse (i.e. wide) features directly to the output node, but pass the dense (i.e. deep) features through a set of fully connected layers. Here’s that model architecture looks using the Functional API.\n",
    "\n",
    "First, we'll create our input columns using [tf.keras.layers.Input](https://www.tensorflow.org/versions/r2.0/api_docs/python/tf/keras/Input)."
   ]
  },
  {
   "cell_type": "code",
   "execution_count": 8,
   "metadata": {},
   "outputs": [],
   "source": [
    "INPUT_COLS = [\n",
    "    'pickup_longitude',\n",
    "    'pickup_latitude',\n",
    "    'dropoff_longitude',\n",
    "    'dropoff_latitude',\n",
    "    'passenger_count'\n",
    "]\n",
    "\n",
    "inputs = {colname : Input(name=colname, shape=(), dtype='float32')\n",
    "          for colname in INPUT_COLS\n",
    "}"
   ]
  },
  {
   "cell_type": "markdown",
   "metadata": {},
   "source": [
    "Then, we'll define our custom RMSE evaluation metric and build our wide and deep model."
   ]
  },
  {
   "cell_type": "code",
   "execution_count": 9,
   "metadata": {},
   "outputs": [],
   "source": [
    "def rmse(y_true, y_pred):\n",
    "    return tf.sqrt(tf.reduce_mean(tf.square(y_pred - y_true)))\n",
    "\n",
    "# TODO 2 & 3\n",
    "def build_model(dnn_hidden_units):\n",
    "    # Create the deep part of model\n",
    "    deep = DenseFeatures(deep_columns, name='deep_inputs')(inputs)\n",
    "    for num_nodes in dnn_hidden_units:\n",
    "        deep = Dense(num_nodes, activation='relu')(deep) \n",
    "\n",
    "    # Create the wide part of model\n",
    "    wide = DenseFeatures(wide_columns, name='wide_inputs')(inputs)\n",
    "\n",
    "    # Combine deep and wide parts of the model\n",
    "    combined = concatenate(inputs=[deep, wide], name='combined')\n",
    "\n",
    "    # Map the combined outputs into a single prediction value\n",
    "    output = Dense(units=1, activation=None, name='prediction')(combined)\n",
    "    \n",
    "    # Finalize the model\n",
    "    model = Model(inputs=list(inputs.values()), outputs=output)\n",
    "\n",
    "    # Compile the keras model\n",
    "    model.compile(optimizer=\"adam\", loss=\"mse\", metrics=[rmse, \"mse\"])\n",
    "    \n",
    "    return model"
   ]
  },
  {
   "cell_type": "markdown",
   "metadata": {},
   "source": [
    "Next, we can call the `build_model` to create the model. Here we'll have two hidden layers, each with 10 neurons, for the deep part of our model. We can also use `plot_model` to see a diagram of the model we've created."
   ]
  },
  {
   "cell_type": "code",
   "execution_count": 10,
   "metadata": {},
   "outputs": [
    {
     "name": "stdout",
     "output_type": "stream",
     "text": [
      "WARNING:tensorflow:From /Users/dherin/Desktop/asl/venv/lib/python3.6/site-packages/tensorflow_core/python/feature_column/feature_column_v2.py:4276: IndicatorColumn._variable_shape (from tensorflow.python.feature_column.feature_column_v2) is deprecated and will be removed in a future version.\n",
      "Instructions for updating:\n",
      "The old _FeatureColumn APIs are being deprecated. Please use the new FeatureColumn APIs instead.\n",
      "WARNING:tensorflow:From /Users/dherin/Desktop/asl/venv/lib/python3.6/site-packages/tensorflow_core/python/feature_column/feature_column_v2.py:4331: CrossedColumn._num_buckets (from tensorflow.python.feature_column.feature_column_v2) is deprecated and will be removed in a future version.\n",
      "Instructions for updating:\n",
      "The old _FeatureColumn APIs are being deprecated. Please use the new FeatureColumn APIs instead.\n",
      "Failed to import pydot. You must install pydot and graphviz for `pydotprint` to work.\n"
     ]
    }
   ],
   "source": [
    "HIDDEN_UNITS = [10,10]\n",
    "\n",
    "model = build_model(dnn_hidden_units=HIDDEN_UNITS)\n",
    "\n",
    "tf.keras.utils.plot_model(model, show_shapes=False, rankdir='LR')"
   ]
  },
  {
   "cell_type": "markdown",
   "metadata": {},
   "source": [
    "Next, we'll set up our training variables, create our datasets for training and validation, and train our model.\n",
    "\n",
    "(We refer you the the blog post [ML Design Pattern #3: Virtual Epochs](https://medium.com/google-cloud/ml-design-pattern-3-virtual-epochs-f842296de730) for further details on why express the training in terms of `NUM_TRAIN_EXAMPLES` and `NUM_EVALS` and why, in this training code, the number of epochs is really equal to the number of evaluations we perform.)"
   ]
  },
  {
   "cell_type": "code",
   "execution_count": 11,
   "metadata": {},
   "outputs": [
    {
     "name": "stdout",
     "output_type": "stream",
     "text": [
      "WARNING:tensorflow:From /Users/dherin/Desktop/asl/venv/lib/python3.6/site-packages/tensorflow_core/python/data/experimental/ops/readers.py:521: parallel_interleave (from tensorflow.python.data.experimental.ops.interleave_ops) is deprecated and will be removed in a future version.\n",
      "Instructions for updating:\n",
      "Use `tf.data.Dataset.interleave(map_func, cycle_length, block_length, num_parallel_calls=tf.data.experimental.AUTOTUNE)` instead. If sloppy execution is desired, use `tf.data.Options.experimental_determinstic`.\n",
      "WARNING:tensorflow:From /Users/dherin/Desktop/asl/venv/lib/python3.6/site-packages/tensorflow_core/python/data/experimental/ops/readers.py:215: shuffle_and_repeat (from tensorflow.python.data.experimental.ops.shuffle_ops) is deprecated and will be removed in a future version.\n",
      "Instructions for updating:\n",
      "Use `tf.data.Dataset.shuffle(buffer_size, seed)` followed by `tf.data.Dataset.repeat(count)`. Static tf.data optimizations will take care of using the fused implementation.\n"
     ]
    }
   ],
   "source": [
    "BATCH_SIZE = 1000\n",
    "NUM_TRAIN_EXAMPLES = 10000 * 5  # training dataset will repeat, wrap around\n",
    "NUM_EVALS = 50  # how many times to evaluate\n",
    "NUM_EVAL_EXAMPLES = 10000  # enough to get a reasonable sample\n",
    "\n",
    "trainds = create_dataset(\n",
    "    pattern='../data/taxi-train*',\n",
    "    batch_size=BATCH_SIZE,\n",
    "    mode=tf.estimator.ModeKeys.TRAIN)\n",
    "\n",
    "evalds = create_dataset(\n",
    "    pattern='../data/taxi-valid*',\n",
    "    batch_size=BATCH_SIZE,\n",
    "    mode=tf.estimator.ModeKeys.EVAL).take(NUM_EVAL_EXAMPLES//1000)"
   ]
  },
  {
   "cell_type": "code",
   "execution_count": null,
   "metadata": {},
   "outputs": [
    {
     "name": "stdout",
     "output_type": "stream",
     "text": [
      "Train for 1 steps, validate for 10 steps\n",
      "Epoch 1/50\n",
      "1/1 [==============================] - 17s 17s/step - loss: 230.9913 - rmse: 15.1984 - mse: 230.9913 - val_loss: 245.5276 - val_rmse: 15.6630 - val_mse: 245.5276\n",
      "Epoch 2/50\n",
      "1/1 [==============================] - 4s 4s/step - loss: 226.3983 - rmse: 15.0465 - mse: 226.3983 - val_loss: 243.4803 - val_rmse: 15.5975 - val_mse: 243.4803\n",
      "Epoch 3/50\n",
      "1/1 [==============================] - 5s 5s/step - loss: 210.5689 - rmse: 14.5110 - mse: 210.5689 - val_loss: 241.4498 - val_rmse: 15.5322 - val_mse: 241.4498\n",
      "Epoch 4/50\n",
      "1/1 [==============================] - 4s 4s/step - loss: 230.2447 - rmse: 15.1738 - mse: 230.2447 - val_loss: 239.4251 - val_rmse: 15.4668 - val_mse: 239.4251\n",
      "Epoch 5/50\n",
      "1/1 [==============================] - 5s 5s/step - loss: 200.4370 - rmse: 14.1576 - mse: 200.4370 - val_loss: 237.4044 - val_rmse: 15.4014 - val_mse: 237.4044\n",
      "Epoch 6/50\n",
      "1/1 [==============================] - 4s 4s/step - loss: 230.3194 - rmse: 15.1763 - mse: 230.3194 - val_loss: 235.3755 - val_rmse: 15.3353 - val_mse: 235.3755\n",
      "Epoch 7/50\n",
      "1/1 [==============================] - 4s 4s/step - loss: 203.7047 - rmse: 14.2725 - mse: 203.7047 - val_loss: 233.3365 - val_rmse: 15.2687 - val_mse: 233.3365\n",
      "Epoch 8/50\n",
      "1/1 [==============================] - 4s 4s/step - loss: 208.3091 - rmse: 14.4329 - mse: 208.3091 - val_loss: 231.2801 - val_rmse: 15.2011 - val_mse: 231.2801\n",
      "Epoch 9/50\n",
      "1/1 [==============================] - 4s 4s/step - loss: 209.7364 - rmse: 14.4823 - mse: 209.7364 - val_loss: 229.2025 - val_rmse: 15.1326 - val_mse: 229.2025\n",
      "Epoch 10/50\n",
      "1/1 [==============================] - 4s 4s/step - loss: 189.8456 - rmse: 13.7784 - mse: 189.8456 - val_loss: 227.1029 - val_rmse: 15.0630 - val_mse: 227.1030\n",
      "Epoch 11/50\n",
      "1/1 [==============================] - 4s 4s/step - loss: 192.2567 - rmse: 13.8657 - mse: 192.2567 - val_loss: 224.9765 - val_rmse: 14.9922 - val_mse: 224.9765\n",
      "Epoch 12/50\n",
      "1/1 [==============================] - 4s 4s/step - loss: 187.4868 - rmse: 13.6926 - mse: 187.4868 - val_loss: 222.8206 - val_rmse: 14.9201 - val_mse: 222.8206\n",
      "Epoch 13/50\n",
      "1/1 [==============================] - 4s 4s/step - loss: 189.1469 - rmse: 13.7531 - mse: 189.1469 - val_loss: 220.6320 - val_rmse: 14.8466 - val_mse: 220.6320\n",
      "Epoch 14/50\n",
      "1/1 [==============================] - 4s 4s/step - loss: 208.9154 - rmse: 14.4539 - mse: 208.9154 - val_loss: 218.4067 - val_rmse: 14.7714 - val_mse: 218.4067\n",
      "Epoch 15/50\n",
      "1/1 [==============================] - 4s 4s/step - loss: 203.7939 - rmse: 14.2756 - mse: 203.7939 - val_loss: 216.1464 - val_rmse: 14.6946 - val_mse: 216.1465\n",
      "Epoch 16/50\n",
      "1/1 [==============================] - 4s 4s/step - loss: 226.8960 - rmse: 15.0631 - mse: 226.8960 - val_loss: 213.8471 - val_rmse: 14.6161 - val_mse: 213.8470\n",
      "Epoch 17/50\n",
      "1/1 [==============================] - 4s 4s/step - loss: 171.8671 - rmse: 13.1098 - mse: 171.8671 - val_loss: 211.5136 - val_rmse: 14.5361 - val_mse: 211.5136\n",
      "Epoch 18/50\n",
      "1/1 [==============================] - 4s 4s/step - loss: 183.4821 - rmse: 13.5456 - mse: 183.4821 - val_loss: 209.1469 - val_rmse: 14.4544 - val_mse: 209.1469\n",
      "Epoch 19/50\n",
      "1/1 [==============================] - 4s 4s/step - loss: 190.4619 - rmse: 13.8008 - mse: 190.4619 - val_loss: 206.7456 - val_rmse: 14.3710 - val_mse: 206.7456\n",
      "Epoch 20/50\n",
      "1/1 [==============================] - 4s 4s/step - loss: 174.8380 - rmse: 13.2226 - mse: 174.8380 - val_loss: 204.3129 - val_rmse: 14.2861 - val_mse: 204.3129\n",
      "Epoch 21/50\n",
      "1/1 [==============================] - 5s 5s/step - loss: 180.9347 - rmse: 13.4512 - mse: 180.9347 - val_loss: 201.8448 - val_rmse: 14.1994 - val_mse: 201.8448\n",
      "Epoch 22/50\n",
      "1/1 [==============================] - 5s 5s/step - loss: 150.8448 - rmse: 12.2819 - mse: 150.8448 - val_loss: 199.3539 - val_rmse: 14.1113 - val_mse: 199.3539\n",
      "Epoch 23/50\n",
      "1/1 [==============================] - 5s 5s/step - loss: 162.0971 - rmse: 12.7317 - mse: 162.0971 - val_loss: 196.8362 - val_rmse: 14.0218 - val_mse: 196.8362\n",
      "Epoch 24/50\n",
      "1/1 [==============================] - 5s 5s/step - loss: 219.7219 - rmse: 14.8230 - mse: 219.7219 - val_loss: 194.2770 - val_rmse: 13.9302 - val_mse: 194.2771\n",
      "Epoch 25/50\n",
      "1/1 [==============================] - 5s 5s/step - loss: 182.1745 - rmse: 13.4972 - mse: 182.1745 - val_loss: 191.6893 - val_rmse: 13.8369 - val_mse: 191.6893\n",
      "Epoch 26/50\n",
      "1/1 [==============================] - 5s 5s/step - loss: 171.8815 - rmse: 13.1104 - mse: 171.8815 - val_loss: 189.0781 - val_rmse: 13.7422 - val_mse: 189.0781\n",
      "Epoch 27/50\n",
      "1/1 [==============================] - 4s 4s/step - loss: 215.8965 - rmse: 14.6934 - mse: 215.8965 - val_loss: 186.4371 - val_rmse: 13.6457 - val_mse: 186.4371\n",
      "Epoch 28/50\n",
      "1/1 [==============================] - 5s 5s/step - loss: 223.4758 - rmse: 14.9491 - mse: 223.4758 - val_loss: 183.7710 - val_rmse: 13.5476 - val_mse: 183.7710\n",
      "Epoch 29/50\n",
      "1/1 [==============================] - 6s 6s/step - loss: 185.5868 - rmse: 13.6230 - mse: 185.5868 - val_loss: 181.0918 - val_rmse: 13.4482 - val_mse: 181.0918\n",
      "Epoch 30/50\n",
      "1/1 [==============================] - 5s 5s/step - loss: 158.7689 - rmse: 12.6004 - mse: 158.7689 - val_loss: 178.4056 - val_rmse: 13.3479 - val_mse: 178.4056\n",
      "Epoch 31/50\n",
      "1/1 [==============================] - 5s 5s/step - loss: 146.1983 - rmse: 12.0912 - mse: 146.1983 - val_loss: 175.7141 - val_rmse: 13.2466 - val_mse: 175.7141\n",
      "Epoch 32/50\n",
      "1/1 [==============================] - 4s 4s/step - loss: 166.0619 - rmse: 12.8865 - mse: 166.0619 - val_loss: 173.0099 - val_rmse: 13.1441 - val_mse: 173.0099\n",
      "Epoch 33/50\n",
      "1/1 [==============================] - 4s 4s/step - loss: 168.2919 - rmse: 12.9727 - mse: 168.2919 - val_loss: 170.2992 - val_rmse: 13.0405 - val_mse: 170.2992\n",
      "Epoch 34/50\n",
      "1/1 [==============================] - 4s 4s/step - loss: 178.3636 - rmse: 13.3553 - mse: 178.3636 - val_loss: 167.5905 - val_rmse: 12.9361 - val_mse: 167.5905\n",
      "Epoch 35/50\n",
      "1/1 [==============================] - 4s 4s/step - loss: 132.3772 - rmse: 11.5055 - mse: 132.3772 - val_loss: 164.8985 - val_rmse: 12.8316 - val_mse: 164.8985\n",
      "Epoch 36/50\n",
      "1/1 [==============================] - 4s 4s/step - loss: 143.1267 - rmse: 11.9636 - mse: 143.1267 - val_loss: 162.2249 - val_rmse: 12.7269 - val_mse: 162.2249\n",
      "Epoch 37/50\n",
      "1/1 [==============================] - 4s 4s/step - loss: 151.6360 - rmse: 12.3141 - mse: 151.6360 - val_loss: 159.5552 - val_rmse: 12.6215 - val_mse: 159.5552\n",
      "Epoch 38/50\n",
      "1/1 [==============================] - 5s 5s/step - loss: 150.8712 - rmse: 12.2830 - mse: 150.8712 - val_loss: 156.8939 - val_rmse: 12.5155 - val_mse: 156.8939\n",
      "Epoch 39/50\n",
      "1/1 [==============================] - 5s 5s/step - loss: 141.7881 - rmse: 11.9075 - mse: 141.7881 - val_loss: 154.2523 - val_rmse: 12.4095 - val_mse: 154.2523\n",
      "Epoch 40/50\n",
      "1/1 [==============================] - 5s 5s/step - loss: 123.7807 - rmse: 11.1257 - mse: 123.7807 - val_loss: 151.6464 - val_rmse: 12.3039 - val_mse: 151.6464\n",
      "Epoch 41/50\n",
      "1/1 [==============================] - 4s 4s/step - loss: 128.5974 - rmse: 11.3401 - mse: 128.5974 - val_loss: 149.0688 - val_rmse: 12.1986 - val_mse: 149.0689\n",
      "Epoch 42/50\n"
     ]
    }
   ],
   "source": [
    "%%time\n",
    "steps_per_epoch = NUM_TRAIN_EXAMPLES // (BATCH_SIZE * NUM_EVALS)\n",
    "\n",
    "OUTDIR = \"./taxi_trained\"\n",
    "shutil.rmtree(path=OUTDIR, ignore_errors=True) # start fresh each time\n",
    "\n",
    "history = model.fit(x=trainds,\n",
    "                    steps_per_epoch=steps_per_epoch,\n",
    "                    epochs=NUM_EVALS,\n",
    "                    validation_data=evalds,\n",
    "                    callbacks=[TensorBoard(OUTDIR)])"
   ]
  },
  {
   "cell_type": "markdown",
   "metadata": {},
   "source": [
    "Just as before, we can examine the history to see how the RMSE changes through training on the train set and validation set. "
   ]
  },
  {
   "cell_type": "code",
   "execution_count": null,
   "metadata": {},
   "outputs": [],
   "source": [
    "RMSE_COLS = ['rmse', 'val_rmse']\n",
    "\n",
    "pd.DataFrame(history.history)[RMSE_COLS].plot()"
   ]
  },
  {
   "cell_type": "markdown",
   "metadata": {},
   "source": [
    "We can also view the training results in Tensorboard. Running the following command will launch TensorBoard on port 6006. This will block the notebook execution, so you'll have to interrupt that cell first before you can run other cells."
   ]
  },
  {
   "cell_type": "code",
   "execution_count": null,
   "metadata": {},
   "outputs": [],
   "source": [
    "!tensorboard --logdir $OUTDIR --port 6006"
   ]
  },
  {
   "cell_type": "markdown",
   "metadata": {},
   "source": [
    "Copyright 2019 Google Inc. Licensed under the Apache License, Version 2.0 (the \"License\"); you may not use this file except in compliance with the License. You may obtain a copy of the License at http://www.apache.org/licenses/LICENSE-2.0 Unless required by applicable law or agreed to in writing, software distributed under the License is distributed on an \"AS IS\" BASIS, WITHOUT WARRANTIES OR CONDITIONS OF ANY KIND, either express or implied. See the License for the specific language governing permissions and limitations under the License"
   ]
  }
 ],
 "metadata": {
  "kernelspec": {
   "display_name": "Python 3",
   "language": "python",
   "name": "python3"
  },
  "language_info": {
   "codemirror_mode": {
    "name": "ipython",
    "version": 3
   },
   "file_extension": ".py",
   "mimetype": "text/x-python",
   "name": "python",
   "nbconvert_exporter": "python",
   "pygments_lexer": "ipython3",
   "version": "3.6.4"
  }
 },
 "nbformat": 4,
 "nbformat_minor": 2
}
