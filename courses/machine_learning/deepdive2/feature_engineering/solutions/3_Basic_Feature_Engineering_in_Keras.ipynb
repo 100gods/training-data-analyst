{
 "cells": [
  {
   "cell_type": "markdown",
   "metadata": {
    "colab_type": "text",
    "id": "rNdWfPXCjTjY"
   },
   "source": [
    "# LAB 03:  Basic Feature Engineering in Keras \n",
    "\n",
    "**Learning Objectives**\n",
    "\n",
    "* Create the project datasets\n",
    "* Create an input pipeline using tf.data\n",
    "* Build, train, and evaluate a Keras Sequential Model \n",
    "* Feature engineer categorical and numeric features \n",
    "* Load and pre-process test data\n",
    "* Create and test a prediction model\n",
    "\n",
    "\n",
    "## Introduction \n",
    "In this lab, we utilize feature engineering to improve the prediction of housing prices using a Keras Sequential Model.  \n",
    "\n",
    "Each learning objective will correspond to a __#TODO__ in this student lab notebook -- try to complete this notebook first and then review the [solution notebook](../solution/feateng-solution_bqml.ipynb). **NOTE TO SELF**:  UPDATE HYPERLINK. "
   ]
  },
  {
   "cell_type": "markdown",
   "metadata": {
    "colab_type": "text",
    "id": "VxyBFc_kKazA"
   },
   "source": [
    "## Import TensorFlow and other libraries"
   ]
  },
  {
   "cell_type": "code",
   "execution_count": 1,
   "metadata": {},
   "outputs": [
    {
     "name": "stdout",
     "output_type": "stream",
     "text": [
      "Requirement already satisfied: sklearn in ./.local/lib/python3.5/site-packages (0.0)\n",
      "Requirement already satisfied: scikit-learn in /usr/local/lib/python3.5/site-packages (from sklearn) (0.19.2)\n",
      "Requirement already satisfied: pydaal in /usr/local/lib/python3.5/dist-packages (from scikit-learn->sklearn) (2019.0.0.20180713)\n",
      "Requirement already satisfied: intel-scipy in /usr/local/lib/python3.5/dist-packages (from scikit-learn->sklearn) (1.1.0)\n",
      "Requirement already satisfied: tbb4py==2019.* in /usr/local/lib/python3.5/dist-packages (from pydaal->scikit-learn->sklearn) (2019.0)\n",
      "Requirement already satisfied: daal==2019.* in /usr/local/lib/python3.5/dist-packages (from pydaal->scikit-learn->sklearn) (2019.0)\n",
      "Requirement already satisfied: intel-numpy in /usr/local/lib/python3.5/dist-packages (from pydaal->scikit-learn->sklearn) (1.15.1)\n",
      "Requirement already satisfied: tbb==2019.* in /usr/local/lib/python3.5/dist-packages (from tbb4py==2019.*->pydaal->scikit-learn->sklearn) (2019.0)\n",
      "Requirement already satisfied: mkl-fft in /usr/local/lib/python3.5/dist-packages (from intel-numpy->pydaal->scikit-learn->sklearn) (1.0.6)\n",
      "Requirement already satisfied: mkl-random in /usr/local/lib/python3.5/dist-packages (from intel-numpy->pydaal->scikit-learn->sklearn) (1.0.1.1)\n",
      "Requirement already satisfied: mkl in /usr/local/lib/python3.5/dist-packages (from intel-numpy->pydaal->scikit-learn->sklearn) (2019.0)\n",
      "Requirement already satisfied: icc-rt in /usr/local/lib/python3.5/dist-packages (from intel-numpy->pydaal->scikit-learn->sklearn) (2020.0.133)\n",
      "Requirement already satisfied: intel-openmp in /usr/local/lib/python3.5/dist-packages (from mkl->intel-numpy->pydaal->scikit-learn->sklearn) (2020.0.133)\n",
      "\u001b[33mWARNING: You are using pip version 19.3.1; however, version 20.0.2 is available.\n",
      "You should consider upgrading via the 'pip install --upgrade pip' command.\u001b[0m\n",
      "tensorflow==2.0.0\n"
     ]
    }
   ],
   "source": [
    "!pip install --user sklearn\n",
    "!python3 -m pip freeze | grep 'tensorflow==2\\|tensorflow-gpu==2' || \\\n",
    "!python3 -m pip install --user tensorflow==2"
   ]
  },
  {
   "cell_type": "code",
   "execution_count": 2,
   "metadata": {
    "colab": {},
    "colab_type": "code",
    "id": "9dEreb4QKizj"
   },
   "outputs": [
    {
     "name": "stdout",
     "output_type": "stream",
     "text": [
      "TensorFlow version:  2.0.0\n"
     ]
    },
    {
     "name": "stderr",
     "output_type": "stream",
     "text": [
      "Using TensorFlow backend.\n"
     ]
    }
   ],
   "source": [
    "from __future__ import absolute_import, \\\n",
    "    division, print_function, unicode_literals\n",
    "\n",
    "import pandas as pd\n",
    "import tensorflow as tf\n",
    "\n",
    "import tensorflow.keras\n",
    "from tensorflow import feature_column\n",
    "from tensorflow.keras import layers\n",
    "from sklearn.model_selection import train_test_split\n",
    "from sklearn.preprocessing import MinMaxScaler\n",
    "\n",
    "from keras.utils import plot_model\n",
    "from keras.callbacks import TensorBoard, EarlyStopping, ModelCheckpoint\n",
    "\n",
    "print(\"TensorFlow version: \",tf.version.VERSION)\n"
   ]
  },
  {
   "cell_type": "code",
   "execution_count": 3,
   "metadata": {},
   "outputs": [
    {
     "data": {
      "text/plain": [
       "'float64'"
      ]
     },
     "execution_count": 3,
     "metadata": {},
     "output_type": "execute_result"
    }
   ],
   "source": [
    "from keras import backend as K\n",
    "tf.keras.backend.set_floatx('float64')\n",
    "K.floatx()"
   ]
  },
  {
   "cell_type": "markdown",
   "metadata": {},
   "source": [
    "## The Source Dataset\n",
    "\n",
    "Many of the Google Machine Learning Courses Programming Exercises use the  [California Housing Dataset](https://developers.google.com/machine-learning/crash-course/california-housing-data-description\n",
    "), which contains data drawn from the 1990 U.S. Census.  Our lab dataset has been pre-processed so that there are no missing values.\n"
   ]
  },
  {
   "cell_type": "markdown",
   "metadata": {},
   "source": [
    "## Locate the CSV files"
   ]
  },
  {
   "cell_type": "markdown",
   "metadata": {
    "colab_type": "text",
    "id": "lM6-n6xntv3t"
   },
   "source": [
    "#### **Exercise**:   **RUN** the cell to read in the dataset and create a Pandas dataframe"
   ]
  },
  {
   "cell_type": "code",
   "execution_count": 4,
   "metadata": {
    "colab": {
     "base_uri": "https://localhost:8080/",
     "height": 222
    },
    "colab_type": "code",
    "id": "REZ57BXCLdfG",
    "outputId": "a6ef2eda-c7eb-4e2d-92e4-e7fcaa20b0af"
   },
   "outputs": [
    {
     "data": {
      "text/html": [
       "<div>\n",
       "<style scoped>\n",
       "    .dataframe tbody tr th:only-of-type {\n",
       "        vertical-align: middle;\n",
       "    }\n",
       "\n",
       "    .dataframe tbody tr th {\n",
       "        vertical-align: top;\n",
       "    }\n",
       "\n",
       "    .dataframe thead th {\n",
       "        text-align: right;\n",
       "    }\n",
       "</style>\n",
       "<table border=\"1\" class=\"dataframe\">\n",
       "  <thead>\n",
       "    <tr style=\"text-align: right;\">\n",
       "      <th></th>\n",
       "      <th>longitude</th>\n",
       "      <th>latitude</th>\n",
       "      <th>housing_median_age</th>\n",
       "      <th>total_rooms</th>\n",
       "      <th>total_bedrooms</th>\n",
       "      <th>population</th>\n",
       "      <th>households</th>\n",
       "      <th>median_income</th>\n",
       "      <th>median_house_value</th>\n",
       "      <th>ocean_proximity</th>\n",
       "    </tr>\n",
       "  </thead>\n",
       "  <tbody>\n",
       "    <tr>\n",
       "      <th>0</th>\n",
       "      <td>-122.23</td>\n",
       "      <td>37.88</td>\n",
       "      <td>41.0</td>\n",
       "      <td>880.0</td>\n",
       "      <td>129.0</td>\n",
       "      <td>322.0</td>\n",
       "      <td>126.0</td>\n",
       "      <td>8.3252</td>\n",
       "      <td>452600.0</td>\n",
       "      <td>NEAR BAY</td>\n",
       "    </tr>\n",
       "    <tr>\n",
       "      <th>1</th>\n",
       "      <td>-122.22</td>\n",
       "      <td>37.86</td>\n",
       "      <td>21.0</td>\n",
       "      <td>7099.0</td>\n",
       "      <td>1106.0</td>\n",
       "      <td>2401.0</td>\n",
       "      <td>1138.0</td>\n",
       "      <td>8.3014</td>\n",
       "      <td>358500.0</td>\n",
       "      <td>NEAR BAY</td>\n",
       "    </tr>\n",
       "    <tr>\n",
       "      <th>2</th>\n",
       "      <td>-122.24</td>\n",
       "      <td>37.85</td>\n",
       "      <td>52.0</td>\n",
       "      <td>1467.0</td>\n",
       "      <td>190.0</td>\n",
       "      <td>496.0</td>\n",
       "      <td>177.0</td>\n",
       "      <td>7.2574</td>\n",
       "      <td>352100.0</td>\n",
       "      <td>NEAR BAY</td>\n",
       "    </tr>\n",
       "    <tr>\n",
       "      <th>3</th>\n",
       "      <td>-122.25</td>\n",
       "      <td>37.85</td>\n",
       "      <td>52.0</td>\n",
       "      <td>1274.0</td>\n",
       "      <td>235.0</td>\n",
       "      <td>558.0</td>\n",
       "      <td>219.0</td>\n",
       "      <td>5.6431</td>\n",
       "      <td>341300.0</td>\n",
       "      <td>NEAR BAY</td>\n",
       "    </tr>\n",
       "    <tr>\n",
       "      <th>4</th>\n",
       "      <td>-122.25</td>\n",
       "      <td>37.85</td>\n",
       "      <td>52.0</td>\n",
       "      <td>1627.0</td>\n",
       "      <td>280.0</td>\n",
       "      <td>565.0</td>\n",
       "      <td>259.0</td>\n",
       "      <td>3.8462</td>\n",
       "      <td>342200.0</td>\n",
       "      <td>NEAR BAY</td>\n",
       "    </tr>\n",
       "  </tbody>\n",
       "</table>\n",
       "</div>"
      ],
      "text/plain": [
       "   longitude  latitude  housing_median_age  total_rooms  total_bedrooms  \\\n",
       "0    -122.23     37.88                41.0        880.0           129.0   \n",
       "1    -122.22     37.86                21.0       7099.0          1106.0   \n",
       "2    -122.24     37.85                52.0       1467.0           190.0   \n",
       "3    -122.25     37.85                52.0       1274.0           235.0   \n",
       "4    -122.25     37.85                52.0       1627.0           280.0   \n",
       "\n",
       "   population  households  median_income  median_house_value ocean_proximity  \n",
       "0       322.0       126.0         8.3252            452600.0        NEAR BAY  \n",
       "1      2401.0      1138.0         8.3014            358500.0        NEAR BAY  \n",
       "2       496.0       177.0         7.2574            352100.0        NEAR BAY  \n",
       "3       558.0       219.0         5.6431            341300.0        NEAR BAY  \n",
       "4       565.0       259.0         3.8462            342200.0        NEAR BAY  "
      ]
     },
     "execution_count": 4,
     "metadata": {},
     "output_type": "execute_result"
    }
   ],
   "source": [
    "dataframe = pd.read_csv('data/housing_pre-proc.csv', error_bad_lines=False)\n",
    "dataframe.head()"
   ]
  },
  {
   "cell_type": "markdown",
   "metadata": {},
   "source": [
    "#### DO NOT RUN CELL YET - ALTERNATVE METHOD TO READ IN DATASET - from the training-data-anlayst URL \n",
    "\n",
    "URL = 'training-data-analyst/courses/machine_learning/deepdive2/feature_engineering/housing_pre-proc.csv'\n",
    "dataframe = pd.read_csv(URL)\n",
    "dataframe.head()"
   ]
  },
  {
   "cell_type": "code",
   "execution_count": 55,
   "metadata": {
    "colab": {
     "base_uri": "https://localhost:8080/",
     "height": 277
    },
    "colab_type": "code",
    "id": "ieimDrzpxfe6",
    "outputId": "afcb9a7e-0704-44e7-e998-8145f94c9593"
   },
   "outputs": [
    {
     "name": "stdout",
     "output_type": "stream",
     "text": [
      "<class 'pandas.core.frame.DataFrame'>\n",
      "RangeIndex: 20433 entries, 0 to 20432\n",
      "Data columns (total 10 columns):\n",
      "longitude             20433 non-null float64\n",
      "latitude              20433 non-null float64\n",
      "housing_median_age    20433 non-null float64\n",
      "total_rooms           20433 non-null float64\n",
      "total_bedrooms        20433 non-null float64\n",
      "population            20433 non-null float64\n",
      "households            20433 non-null float64\n",
      "median_income         20433 non-null float64\n",
      "median_house_value    20433 non-null float64\n",
      "ocean_proximity       20433 non-null object\n",
      "dtypes: float64(9), object(1)\n",
      "memory usage: 1.6+ MB\n"
     ]
    }
   ],
   "source": [
    "# See datatype for each feature\n",
    "\n",
    "dataframe.info()"
   ]
  },
  {
   "cell_type": "code",
   "execution_count": 56,
   "metadata": {
    "colab": {
     "base_uri": "https://localhost:8080/",
     "height": 207
    },
    "colab_type": "code",
    "id": "8ySDIORqmd77",
    "outputId": "2c72219a-5ad2-4c40-c9f6-bfb41a27e5b6"
   },
   "outputs": [
    {
     "data": {
      "text/plain": [
       "longitude             0\n",
       "latitude              0\n",
       "housing_median_age    0\n",
       "total_rooms           0\n",
       "total_bedrooms        0\n",
       "population            0\n",
       "households            0\n",
       "median_income         0\n",
       "median_house_value    0\n",
       "ocean_proximity       0\n",
       "dtype: int64"
      ]
     },
     "execution_count": 56,
     "metadata": {},
     "output_type": "execute_result"
    }
   ],
   "source": [
    "# Check for null values\n",
    "\n",
    "dataframe.isnull().sum()"
   ]
  },
  {
   "cell_type": "markdown",
   "metadata": {
    "colab_type": "text",
    "id": "u0zhLtQqMPem"
   },
   "source": [
    "####  Split the dataset for ML\n",
    "\n",
    "The dataset we loaded was a single CSV file. We will split this into train, validation, and test sets.\n"
   ]
  },
  {
   "cell_type": "code",
   "execution_count": 57,
   "metadata": {
    "colab": {
     "base_uri": "https://localhost:8080/",
     "height": 69
    },
    "colab_type": "code",
    "id": "YEOpw7LhMYsI",
    "outputId": "6161a660-7133-465a-d754-d7acae2b68c8"
   },
   "outputs": [
    {
     "name": "stdout",
     "output_type": "stream",
     "text": [
      "13076 train examples\n",
      "3270 validation examples\n",
      "4087 test examples\n"
     ]
    }
   ],
   "source": [
    "train, test = train_test_split(dataframe, test_size=0.2)\n",
    "train, val = train_test_split(train, test_size=0.2)\n",
    "print(len(train), 'train examples')\n",
    "print(len(val), 'validation examples')\n",
    "print(len(test), 'test examples')"
   ]
  },
  {
   "cell_type": "code",
   "execution_count": 58,
   "metadata": {
    "colab": {
     "base_uri": "https://localhost:8080/",
     "height": 641
    },
    "colab_type": "code",
    "id": "EFz_dsZ2-Cxl",
    "outputId": "9a4ae158-c394-4b7b-cf7a-cd801acb4c9f"
   },
   "outputs": [
    {
     "name": "stdout",
     "output_type": "stream",
     "text": [
      "\n",
      "Train:\n",
      "\n",
      "       longitude  latitude  housing_median_age  total_rooms  total_bedrooms  \\\n",
      "4319     -118.37     34.08                22.0       3008.0           938.0   \n",
      "6161     -117.93     34.06                28.0       3342.0           688.0   \n",
      "17477    -121.90     37.26                20.0       4447.0           661.0   \n",
      "14618    -117.06     32.56                17.0       2803.0           683.0   \n",
      "6753     -118.10     34.09                46.0       2822.0           525.0   \n",
      "\n",
      "       population  households  median_income  median_house_value  \\\n",
      "4319       1224.0       816.0         3.2149            300000.0   \n",
      "6161       2210.0       647.0         3.4596            202800.0   \n",
      "17477      2062.0       660.0         6.8088            283300.0   \n",
      "14618      2768.0       676.0         1.7958            140400.0   \n",
      "6753       1434.0       520.0         3.8906            238300.0   \n",
      "\n",
      "      ocean_proximity  \n",
      "4319        <1H OCEAN  \n",
      "6161        <1H OCEAN  \n",
      "17477       <1H OCEAN  \n",
      "14618      NEAR OCEAN  \n",
      "6753        <1H OCEAN  \n",
      "(13076, 10)\n",
      "\n",
      "Validati:\n",
      "\n",
      "       longitude  latitude  housing_median_age  total_rooms  total_bedrooms  \\\n",
      "6456     -118.05     34.06                32.0       2286.0           654.0   \n",
      "12329    -114.65     33.60                28.0       1678.0           322.0   \n",
      "7813     -118.03     33.87                16.0       2306.0           393.0   \n",
      "14371    -117.15     32.91                15.0       1613.0           303.0   \n",
      "18729    -122.32     38.12                12.0       5382.0           928.0   \n",
      "\n",
      "       population  households  median_income  median_house_value  \\\n",
      "6456       2991.0       655.0         2.1781            174500.0   \n",
      "12329       666.0       256.0         2.9653             94900.0   \n",
      "7813       1368.0       387.0         5.9300            277600.0   \n",
      "14371       702.0       240.0         4.8750            169300.0   \n",
      "18729      3928.0       921.0         5.3785            150600.0   \n",
      "\n",
      "      ocean_proximity  \n",
      "6456        <1H OCEAN  \n",
      "12329          INLAND  \n",
      "7813        <1H OCEAN  \n",
      "14371       <1H OCEAN  \n",
      "18729        NEAR BAY  \n",
      "(3270, 10)\n",
      "\n",
      "Test:\n",
      "\n",
      "       longitude  latitude  housing_median_age  total_rooms  total_bedrooms  \\\n",
      "4389     -118.22     34.08                34.0       1709.0           562.0   \n",
      "16360    -121.21     37.80                45.0        370.0            84.0   \n",
      "14619    -117.06     32.56                 5.0       2706.0           925.0   \n",
      "16119    -121.26     37.94                43.0       1610.0           412.0   \n",
      "6526     -118.16     34.18                48.0        568.0           145.0   \n",
      "\n",
      "       population  households  median_income  median_house_value  \\\n",
      "4389       2105.0       503.0         1.9704            152100.0   \n",
      "16360       167.0        70.0         1.4853            101800.0   \n",
      "14619      3148.0       855.0         1.7301            125000.0   \n",
      "16119      1409.0       365.0         1.7574             51700.0   \n",
      "6526        559.0       135.0         2.4135            135700.0   \n",
      "\n",
      "      ocean_proximity  \n",
      "4389        <1H OCEAN  \n",
      "16360          INLAND  \n",
      "14619      NEAR OCEAN  \n",
      "16119          INLAND  \n",
      "6526        <1H OCEAN  \n",
      "(4087, 10)\n"
     ]
    }
   ],
   "source": [
    "# Print out the output.\n",
    "\n",
    "print(\"\\nTrain:\\n\")\n",
    "print(train.head())\n",
    "print(train.shape)\n",
    "\n",
    "print(\"\\nValidati:\\n\")\n",
    "print(val.head())\n",
    "print(val.shape)\n",
    "\n",
    "print(\"\\nTest:\\n\")\n",
    "print(test.head())\n",
    "print(test.shape)"
   ]
  },
  {
   "cell_type": "markdown",
   "metadata": {
    "colab_type": "text",
    "id": "dz9kfjOMBX9U"
   },
   "source": [
    "Now, we need to output the split files.  We will specifically need the test.csv later for testing.  You should see the files appear in the home directory.\n"
   ]
  },
  {
   "cell_type": "code",
   "execution_count": 59,
   "metadata": {
    "colab": {
     "base_uri": "https://localhost:8080/",
     "height": 222
    },
    "colab_type": "code",
    "id": "ADX23QUu_Wiu",
    "outputId": "e97fa59e-4ed4-48a3-8fba-c95f293944ee"
   },
   "outputs": [
    {
     "data": {
      "text/html": [
       "<div>\n",
       "<style scoped>\n",
       "    .dataframe tbody tr th:only-of-type {\n",
       "        vertical-align: middle;\n",
       "    }\n",
       "\n",
       "    .dataframe tbody tr th {\n",
       "        vertical-align: top;\n",
       "    }\n",
       "\n",
       "    .dataframe thead th {\n",
       "        text-align: right;\n",
       "    }\n",
       "</style>\n",
       "<table border=\"1\" class=\"dataframe\">\n",
       "  <thead>\n",
       "    <tr style=\"text-align: right;\">\n",
       "      <th></th>\n",
       "      <th>longitude</th>\n",
       "      <th>latitude</th>\n",
       "      <th>housing_median_age</th>\n",
       "      <th>total_rooms</th>\n",
       "      <th>total_bedrooms</th>\n",
       "      <th>population</th>\n",
       "      <th>households</th>\n",
       "      <th>median_income</th>\n",
       "      <th>median_house_value</th>\n",
       "      <th>ocean_proximity</th>\n",
       "    </tr>\n",
       "  </thead>\n",
       "  <tbody>\n",
       "    <tr>\n",
       "      <th>4319</th>\n",
       "      <td>-118.37</td>\n",
       "      <td>34.08</td>\n",
       "      <td>22.0</td>\n",
       "      <td>3008.0</td>\n",
       "      <td>938.0</td>\n",
       "      <td>1224.0</td>\n",
       "      <td>816.0</td>\n",
       "      <td>3.2149</td>\n",
       "      <td>300000.0</td>\n",
       "      <td>&lt;1H OCEAN</td>\n",
       "    </tr>\n",
       "    <tr>\n",
       "      <th>6161</th>\n",
       "      <td>-117.93</td>\n",
       "      <td>34.06</td>\n",
       "      <td>28.0</td>\n",
       "      <td>3342.0</td>\n",
       "      <td>688.0</td>\n",
       "      <td>2210.0</td>\n",
       "      <td>647.0</td>\n",
       "      <td>3.4596</td>\n",
       "      <td>202800.0</td>\n",
       "      <td>&lt;1H OCEAN</td>\n",
       "    </tr>\n",
       "    <tr>\n",
       "      <th>17477</th>\n",
       "      <td>-121.90</td>\n",
       "      <td>37.26</td>\n",
       "      <td>20.0</td>\n",
       "      <td>4447.0</td>\n",
       "      <td>661.0</td>\n",
       "      <td>2062.0</td>\n",
       "      <td>660.0</td>\n",
       "      <td>6.8088</td>\n",
       "      <td>283300.0</td>\n",
       "      <td>&lt;1H OCEAN</td>\n",
       "    </tr>\n",
       "    <tr>\n",
       "      <th>14618</th>\n",
       "      <td>-117.06</td>\n",
       "      <td>32.56</td>\n",
       "      <td>17.0</td>\n",
       "      <td>2803.0</td>\n",
       "      <td>683.0</td>\n",
       "      <td>2768.0</td>\n",
       "      <td>676.0</td>\n",
       "      <td>1.7958</td>\n",
       "      <td>140400.0</td>\n",
       "      <td>NEAR OCEAN</td>\n",
       "    </tr>\n",
       "    <tr>\n",
       "      <th>6753</th>\n",
       "      <td>-118.10</td>\n",
       "      <td>34.09</td>\n",
       "      <td>46.0</td>\n",
       "      <td>2822.0</td>\n",
       "      <td>525.0</td>\n",
       "      <td>1434.0</td>\n",
       "      <td>520.0</td>\n",
       "      <td>3.8906</td>\n",
       "      <td>238300.0</td>\n",
       "      <td>&lt;1H OCEAN</td>\n",
       "    </tr>\n",
       "  </tbody>\n",
       "</table>\n",
       "</div>"
      ],
      "text/plain": [
       "       longitude  latitude  housing_median_age  total_rooms  total_bedrooms  \\\n",
       "4319     -118.37     34.08                22.0       3008.0           938.0   \n",
       "6161     -117.93     34.06                28.0       3342.0           688.0   \n",
       "17477    -121.90     37.26                20.0       4447.0           661.0   \n",
       "14618    -117.06     32.56                17.0       2803.0           683.0   \n",
       "6753     -118.10     34.09                46.0       2822.0           525.0   \n",
       "\n",
       "       population  households  median_income  median_house_value  \\\n",
       "4319       1224.0       816.0         3.2149            300000.0   \n",
       "6161       2210.0       647.0         3.4596            202800.0   \n",
       "17477      2062.0       660.0         6.8088            283300.0   \n",
       "14618      2768.0       676.0         1.7958            140400.0   \n",
       "6753       1434.0       520.0         3.8906            238300.0   \n",
       "\n",
       "      ocean_proximity  \n",
       "4319        <1H OCEAN  \n",
       "6161        <1H OCEAN  \n",
       "17477       <1H OCEAN  \n",
       "14618      NEAR OCEAN  \n",
       "6753        <1H OCEAN  "
      ]
     },
     "execution_count": 59,
     "metadata": {},
     "output_type": "execute_result"
    }
   ],
   "source": [
    "train.to_csv('train.csv', encoding='utf-8', index=False)\n",
    "train.head()"
   ]
  },
  {
   "cell_type": "code",
   "execution_count": 60,
   "metadata": {
    "colab": {
     "base_uri": "https://localhost:8080/",
     "height": 222
    },
    "colab_type": "code",
    "id": "CU1FgmKEAmWh",
    "outputId": "2cce91e1-2c4a-4fe8-a6c3-3da52cb9458f"
   },
   "outputs": [
    {
     "data": {
      "text/html": [
       "<div>\n",
       "<style scoped>\n",
       "    .dataframe tbody tr th:only-of-type {\n",
       "        vertical-align: middle;\n",
       "    }\n",
       "\n",
       "    .dataframe tbody tr th {\n",
       "        vertical-align: top;\n",
       "    }\n",
       "\n",
       "    .dataframe thead th {\n",
       "        text-align: right;\n",
       "    }\n",
       "</style>\n",
       "<table border=\"1\" class=\"dataframe\">\n",
       "  <thead>\n",
       "    <tr style=\"text-align: right;\">\n",
       "      <th></th>\n",
       "      <th>longitude</th>\n",
       "      <th>latitude</th>\n",
       "      <th>housing_median_age</th>\n",
       "      <th>total_rooms</th>\n",
       "      <th>total_bedrooms</th>\n",
       "      <th>population</th>\n",
       "      <th>households</th>\n",
       "      <th>median_income</th>\n",
       "      <th>median_house_value</th>\n",
       "      <th>ocean_proximity</th>\n",
       "    </tr>\n",
       "  </thead>\n",
       "  <tbody>\n",
       "    <tr>\n",
       "      <th>6456</th>\n",
       "      <td>-118.05</td>\n",
       "      <td>34.06</td>\n",
       "      <td>32.0</td>\n",
       "      <td>2286.0</td>\n",
       "      <td>654.0</td>\n",
       "      <td>2991.0</td>\n",
       "      <td>655.0</td>\n",
       "      <td>2.1781</td>\n",
       "      <td>174500.0</td>\n",
       "      <td>&lt;1H OCEAN</td>\n",
       "    </tr>\n",
       "    <tr>\n",
       "      <th>12329</th>\n",
       "      <td>-114.65</td>\n",
       "      <td>33.60</td>\n",
       "      <td>28.0</td>\n",
       "      <td>1678.0</td>\n",
       "      <td>322.0</td>\n",
       "      <td>666.0</td>\n",
       "      <td>256.0</td>\n",
       "      <td>2.9653</td>\n",
       "      <td>94900.0</td>\n",
       "      <td>INLAND</td>\n",
       "    </tr>\n",
       "    <tr>\n",
       "      <th>7813</th>\n",
       "      <td>-118.03</td>\n",
       "      <td>33.87</td>\n",
       "      <td>16.0</td>\n",
       "      <td>2306.0</td>\n",
       "      <td>393.0</td>\n",
       "      <td>1368.0</td>\n",
       "      <td>387.0</td>\n",
       "      <td>5.9300</td>\n",
       "      <td>277600.0</td>\n",
       "      <td>&lt;1H OCEAN</td>\n",
       "    </tr>\n",
       "    <tr>\n",
       "      <th>14371</th>\n",
       "      <td>-117.15</td>\n",
       "      <td>32.91</td>\n",
       "      <td>15.0</td>\n",
       "      <td>1613.0</td>\n",
       "      <td>303.0</td>\n",
       "      <td>702.0</td>\n",
       "      <td>240.0</td>\n",
       "      <td>4.8750</td>\n",
       "      <td>169300.0</td>\n",
       "      <td>&lt;1H OCEAN</td>\n",
       "    </tr>\n",
       "    <tr>\n",
       "      <th>18729</th>\n",
       "      <td>-122.32</td>\n",
       "      <td>38.12</td>\n",
       "      <td>12.0</td>\n",
       "      <td>5382.0</td>\n",
       "      <td>928.0</td>\n",
       "      <td>3928.0</td>\n",
       "      <td>921.0</td>\n",
       "      <td>5.3785</td>\n",
       "      <td>150600.0</td>\n",
       "      <td>NEAR BAY</td>\n",
       "    </tr>\n",
       "  </tbody>\n",
       "</table>\n",
       "</div>"
      ],
      "text/plain": [
       "       longitude  latitude  housing_median_age  total_rooms  total_bedrooms  \\\n",
       "6456     -118.05     34.06                32.0       2286.0           654.0   \n",
       "12329    -114.65     33.60                28.0       1678.0           322.0   \n",
       "7813     -118.03     33.87                16.0       2306.0           393.0   \n",
       "14371    -117.15     32.91                15.0       1613.0           303.0   \n",
       "18729    -122.32     38.12                12.0       5382.0           928.0   \n",
       "\n",
       "       population  households  median_income  median_house_value  \\\n",
       "6456       2991.0       655.0         2.1781            174500.0   \n",
       "12329       666.0       256.0         2.9653             94900.0   \n",
       "7813       1368.0       387.0         5.9300            277600.0   \n",
       "14371       702.0       240.0         4.8750            169300.0   \n",
       "18729      3928.0       921.0         5.3785            150600.0   \n",
       "\n",
       "      ocean_proximity  \n",
       "6456        <1H OCEAN  \n",
       "12329          INLAND  \n",
       "7813        <1H OCEAN  \n",
       "14371       <1H OCEAN  \n",
       "18729        NEAR BAY  "
      ]
     },
     "execution_count": 60,
     "metadata": {},
     "output_type": "execute_result"
    }
   ],
   "source": [
    "val.to_csv('val.csv', encoding='utf-8', index=False)\n",
    "val.head()"
   ]
  },
  {
   "cell_type": "code",
   "execution_count": 61,
   "metadata": {
    "colab": {
     "base_uri": "https://localhost:8080/",
     "height": 222
    },
    "colab_type": "code",
    "id": "LvUNWv9iBMFx",
    "outputId": "f71fac39-3f45-44ab-9b3a-7612731dc0e6"
   },
   "outputs": [
    {
     "data": {
      "text/html": [
       "<div>\n",
       "<style scoped>\n",
       "    .dataframe tbody tr th:only-of-type {\n",
       "        vertical-align: middle;\n",
       "    }\n",
       "\n",
       "    .dataframe tbody tr th {\n",
       "        vertical-align: top;\n",
       "    }\n",
       "\n",
       "    .dataframe thead th {\n",
       "        text-align: right;\n",
       "    }\n",
       "</style>\n",
       "<table border=\"1\" class=\"dataframe\">\n",
       "  <thead>\n",
       "    <tr style=\"text-align: right;\">\n",
       "      <th></th>\n",
       "      <th>longitude</th>\n",
       "      <th>latitude</th>\n",
       "      <th>housing_median_age</th>\n",
       "      <th>total_rooms</th>\n",
       "      <th>total_bedrooms</th>\n",
       "      <th>population</th>\n",
       "      <th>households</th>\n",
       "      <th>median_income</th>\n",
       "      <th>median_house_value</th>\n",
       "      <th>ocean_proximity</th>\n",
       "    </tr>\n",
       "  </thead>\n",
       "  <tbody>\n",
       "    <tr>\n",
       "      <th>4389</th>\n",
       "      <td>-118.22</td>\n",
       "      <td>34.08</td>\n",
       "      <td>34.0</td>\n",
       "      <td>1709.0</td>\n",
       "      <td>562.0</td>\n",
       "      <td>2105.0</td>\n",
       "      <td>503.0</td>\n",
       "      <td>1.9704</td>\n",
       "      <td>152100.0</td>\n",
       "      <td>&lt;1H OCEAN</td>\n",
       "    </tr>\n",
       "    <tr>\n",
       "      <th>16360</th>\n",
       "      <td>-121.21</td>\n",
       "      <td>37.80</td>\n",
       "      <td>45.0</td>\n",
       "      <td>370.0</td>\n",
       "      <td>84.0</td>\n",
       "      <td>167.0</td>\n",
       "      <td>70.0</td>\n",
       "      <td>1.4853</td>\n",
       "      <td>101800.0</td>\n",
       "      <td>INLAND</td>\n",
       "    </tr>\n",
       "    <tr>\n",
       "      <th>14619</th>\n",
       "      <td>-117.06</td>\n",
       "      <td>32.56</td>\n",
       "      <td>5.0</td>\n",
       "      <td>2706.0</td>\n",
       "      <td>925.0</td>\n",
       "      <td>3148.0</td>\n",
       "      <td>855.0</td>\n",
       "      <td>1.7301</td>\n",
       "      <td>125000.0</td>\n",
       "      <td>NEAR OCEAN</td>\n",
       "    </tr>\n",
       "    <tr>\n",
       "      <th>16119</th>\n",
       "      <td>-121.26</td>\n",
       "      <td>37.94</td>\n",
       "      <td>43.0</td>\n",
       "      <td>1610.0</td>\n",
       "      <td>412.0</td>\n",
       "      <td>1409.0</td>\n",
       "      <td>365.0</td>\n",
       "      <td>1.7574</td>\n",
       "      <td>51700.0</td>\n",
       "      <td>INLAND</td>\n",
       "    </tr>\n",
       "    <tr>\n",
       "      <th>6526</th>\n",
       "      <td>-118.16</td>\n",
       "      <td>34.18</td>\n",
       "      <td>48.0</td>\n",
       "      <td>568.0</td>\n",
       "      <td>145.0</td>\n",
       "      <td>559.0</td>\n",
       "      <td>135.0</td>\n",
       "      <td>2.4135</td>\n",
       "      <td>135700.0</td>\n",
       "      <td>&lt;1H OCEAN</td>\n",
       "    </tr>\n",
       "  </tbody>\n",
       "</table>\n",
       "</div>"
      ],
      "text/plain": [
       "       longitude  latitude  housing_median_age  total_rooms  total_bedrooms  \\\n",
       "4389     -118.22     34.08                34.0       1709.0           562.0   \n",
       "16360    -121.21     37.80                45.0        370.0            84.0   \n",
       "14619    -117.06     32.56                 5.0       2706.0           925.0   \n",
       "16119    -121.26     37.94                43.0       1610.0           412.0   \n",
       "6526     -118.16     34.18                48.0        568.0           145.0   \n",
       "\n",
       "       population  households  median_income  median_house_value  \\\n",
       "4389       2105.0       503.0         1.9704            152100.0   \n",
       "16360       167.0        70.0         1.4853            101800.0   \n",
       "14619      3148.0       855.0         1.7301            125000.0   \n",
       "16119      1409.0       365.0         1.7574             51700.0   \n",
       "6526        559.0       135.0         2.4135            135700.0   \n",
       "\n",
       "      ocean_proximity  \n",
       "4389        <1H OCEAN  \n",
       "16360          INLAND  \n",
       "14619      NEAR OCEAN  \n",
       "16119          INLAND  \n",
       "6526        <1H OCEAN  "
      ]
     },
     "execution_count": 61,
     "metadata": {},
     "output_type": "execute_result"
    }
   ],
   "source": [
    "test.to_csv('test.csv', encoding='utf-8', index=False)\n",
    "test.head()"
   ]
  },
  {
   "cell_type": "markdown",
   "metadata": {
    "colab_type": "text",
    "id": "Aj35eYy_lutI"
   },
   "source": [
    "## Build an input pipeline"
   ]
  },
  {
   "cell_type": "markdown",
   "metadata": {
    "colab_type": "text",
    "id": "84ef46LXMfvu"
   },
   "source": [
    "Next, we will wrap the dataframes with [tf.data](https://www.tensorflow.org/guide/datasets). This will enable us  to use feature columns as a bridge to map from the columns in the Pandas dataframe to features used to train the model. \n",
    "\n",
    "#### **Exercise**:   Create an input pipeline using tf.data.  This function is missing two lines.  Correct and run the cell."
   ]
  },
  {
   "cell_type": "code",
   "execution_count": 62,
   "metadata": {
    "colab": {},
    "colab_type": "code",
    "id": "NkcaMYP-MsRe"
   },
   "outputs": [],
   "source": [
    "# A utility method to create a tf.data dataset from a Pandas Dataframe\n",
    "\n",
    "\n",
    "def df_to_dataset(dataframe, shuffle=True, batch_size=32):\n",
    "  dataframe = dataframe.copy()\n",
    "  labels = dataframe.pop('median_house_value')\n",
    "  ds = tf.data.Dataset.from_tensor_slices((dict(dataframe), labels))\n",
    "  if shuffle:\n",
    "    ds = ds.shuffle(buffer_size=len(dataframe))\n",
    "  ds = ds.batch(batch_size)\n",
    "  return ds"
   ]
  },
  {
   "cell_type": "markdown",
   "metadata": {
    "colab_type": "text",
    "id": "RtTJZeyzAszs"
   },
   "source": [
    "**RUN** the cell to initialize the training datasets."
   ]
  },
  {
   "cell_type": "code",
   "execution_count": 63,
   "metadata": {
    "colab": {},
    "colab_type": "code",
    "id": "CXbbXkJvMy34"
   },
   "outputs": [],
   "source": [
    "batch_size = 32\n",
    "train_ds = df_to_dataset(train, batch_size=batch_size)\n",
    "val_ds = df_to_dataset(val, shuffle=False, batch_size=batch_size)\n",
    "test_ds = df_to_dataset(test, shuffle=False, batch_size=batch_size)"
   ]
  },
  {
   "cell_type": "markdown",
   "metadata": {
    "colab_type": "text",
    "id": "qRLGSMDzM-dl"
   },
   "source": [
    "## Understand the input pipeline\n",
    "\n",
    "Now that we have created the input pipeline, let's call it to see the format of the data it returns. We have used a small batch size to keep the output readable."
   ]
  },
  {
   "cell_type": "markdown",
   "metadata": {
    "colab_type": "text",
    "id": "gSyRhEJuA9e2"
   },
   "source": [
    "#### **Exercise**:   **RUN** the cell to see a sample of the features from the batch."
   ]
  },
  {
   "cell_type": "code",
   "execution_count": 64,
   "metadata": {
    "colab": {
     "base_uri": "https://localhost:8080/",
     "height": 331
    },
    "colab_type": "code",
    "id": "CSBo3dUVNFc9",
    "outputId": "d1be2646-b1e5-4110-dbba-5bc49d9b30f6"
   },
   "outputs": [
    {
     "name": "stdout",
     "output_type": "stream",
     "text": [
      "Every feature: ['median_income', 'total_rooms', 'total_bedrooms', 'longitude', 'ocean_proximity', 'latitude', 'households', 'housing_median_age', 'population']\n",
      "A batch of households: tf.Tensor(\n",
      "[  57.  491.  363.  398.  443.  152.  138.    3.  718.  810.  491.  317.\n",
      "  570.  263.  982.  238.  811.  642.  526.  277. 1322.  652.  310.  477.\n",
      "  954.  501.  781.  306.  389.  272.  614.  597.], shape=(32,), dtype=float64)\n",
      "A batch of ocean_proximity: tf.Tensor(\n",
      "[b'INLAND' b'<1H OCEAN' b'INLAND' b'INLAND' b'<1H OCEAN' b'INLAND'\n",
      " b'INLAND' b'INLAND' b'INLAND' b'INLAND' b'INLAND' b'NEAR BAY'\n",
      " b'<1H OCEAN' b'INLAND' b'NEAR OCEAN' b'<1H OCEAN' b'<1H OCEAN'\n",
      " b'<1H OCEAN' b'NEAR OCEAN' b'INLAND' b'<1H OCEAN' b'<1H OCEAN'\n",
      " b'<1H OCEAN' b'INLAND' b'INLAND' b'<1H OCEAN' b'<1H OCEAN' b'<1H OCEAN'\n",
      " b'<1H OCEAN' b'<1H OCEAN' b'NEAR OCEAN' b'NEAR OCEAN'], shape=(32,), dtype=string)\n",
      "A batch of targets: tf.Tensor(\n",
      "[ 54400. 206100.  55300. 116100. 159100. 117600.  61300.  42500. 116500.\n",
      " 181800. 118800. 109900. 214200. 183400. 223600. 253800. 206300. 243200.\n",
      "  93400. 108900. 194400. 173200. 383000. 160900.  65000. 224200. 340800.\n",
      " 157700. 212500. 500001. 127800. 334600.], shape=(32,), dtype=float64)\n"
     ]
    }
   ],
   "source": [
    "for feature_batch, label_batch in train_ds.take(1):\n",
    "    print('Every feature:', list(feature_batch.keys()))\n",
    "    print('A batch of households:', feature_batch['households'])\n",
    "    print('A batch of ocean_proximity:', feature_batch['ocean_proximity'])\n",
    "    print('A batch of targets:', label_batch)"
   ]
  },
  {
   "cell_type": "markdown",
   "metadata": {
    "colab_type": "text",
    "id": "OT5N6Se-NQsC"
   },
   "source": [
    "We can see that the dataset returns a dictionary of column names (from the dataframe) that map to column values from rows in the dataframe."
   ]
  },
  {
   "cell_type": "markdown",
   "metadata": {
    "colab_type": "text",
    "id": "YEGEAqaziwfC"
   },
   "source": [
    "### Numeric columns\n",
    "The output of a feature column becomes the input to the model. A numeric is the simplest type of column. It is used to represent real valued features. When using this column, your model will receive the column value from the dataframe unchanged.\n",
    "\n",
    "In the California housing prices dataset, most columns from the dataframe are numeric."
   ]
  },
  {
   "cell_type": "markdown",
   "metadata": {
    "colab_type": "text",
    "id": "jioIeb9lBGNN"
   },
   "source": [
    "#### **Exercise**:   Create a variable called **num_c** to hold only the numerical feature columns."
   ]
  },
  {
   "cell_type": "code",
   "execution_count": 65,
   "metadata": {
    "colab": {},
    "colab_type": "code",
    "id": "YyXRsEgIEbSB"
   },
   "outputs": [],
   "source": [
    "longitude = feature_column.numeric_column('longitude')\n",
    "latitude = feature_column.numeric_column('latitude')\n",
    "housing_median_age = feature_column.numeric_column('housing_median_age')\n",
    "total_rooms = feature_column.numeric_column('total_rooms')\n",
    "population = feature_column.numeric_column('population')\n",
    "households = feature_column.numeric_column('households')\n",
    "median_income = feature_column.numeric_column('median_income')"
   ]
  },
  {
   "cell_type": "code",
   "execution_count": 66,
   "metadata": {},
   "outputs": [],
   "source": [
    "num_c = ['longitude', 'latitude', 'housing_median_age', 'total_rooms',\n",
    "         'total_bedrooms', 'population', 'households', 'median_income']\n"
   ]
  },
  {
   "cell_type": "markdown",
   "metadata": {
    "colab_type": "text",
    "id": "EwMEcH_52JT8"
   },
   "source": [
    "### Scaler function\n",
    "It is very important for numerical variables to get scaled before they are \"fed\" into the neural network. Here we use min-max scaling. Here we are creating a function named 'get_scal' which takes list of numerical features and  returns 'minmax' function, which will be used in tf.feature_column.numeric_column() as normalizer_fn in parameters. 'minmax' function itself takes a 'numerical' number from a particular feature and return scaled value of that number. "
   ]
  },
  {
   "cell_type": "markdown",
   "metadata": {
    "colab_type": "text",
    "id": "ig1k5ovWBnN8"
   },
   "source": [
    "**RUN** the next two cells to scale the numeric features."
   ]
  },
  {
   "cell_type": "code",
   "execution_count": 67,
   "metadata": {},
   "outputs": [],
   "source": [
    "# Scalar def get_scal(feature):\n",
    "\n",
    "def get_scal(feature):\n",
    "  def minmax(x):\n",
    "    mini = train[feature].min()\n",
    "    maxi = train[feature].max()\n",
    "    return (x - mini)/(maxi-mini)\n",
    "  return(minmax)"
   ]
  },
  {
   "cell_type": "markdown",
   "metadata": {},
   "source": [
    "### Creating feature columns"
   ]
  },
  {
   "cell_type": "code",
   "execution_count": 68,
   "metadata": {
    "colab": {},
    "colab_type": "code",
    "id": "Y8IUfcuVaS_g"
   },
   "outputs": [],
   "source": [
    "feature_columns = []\n",
    "for header in num_c:\n",
    "    scal_input_fn = get_scal(header)\n",
    "    feature_columns.append(feature_column.numeric_column(header, normalizer_fn=scal_input_fn))"
   ]
  },
  {
   "cell_type": "markdown",
   "metadata": {
    "colab_type": "text",
    "id": "8v9XoD7WCKRM"
   },
   "source": [
    "#### **Exercise**:   **RUN** the cell to see the total number of feature columns.  Compare this number to the number of numeric features you input earlier."
   ]
  },
  {
   "cell_type": "code",
   "execution_count": 69,
   "metadata": {
    "colab": {
     "base_uri": "https://localhost:8080/",
     "height": 34
    },
    "colab_type": "code",
    "id": "4jgPFThi50sS",
    "outputId": "23ede6f5-a62a-4767-b3a6-fe8a3b89a212"
   },
   "outputs": [
    {
     "name": "stdout",
     "output_type": "stream",
     "text": [
      "Total number of feature coLumns:  8\n"
     ]
    }
   ],
   "source": [
    "print('Total number of feature coLumns: ', len(feature_columns))"
   ]
  },
  {
   "cell_type": "markdown",
   "metadata": {
    "colab_type": "text",
    "id": "9Ug3hB8Sl0jO"
   },
   "source": [
    "## Objective:  Build, train, and evaluate a Keras Sequential Model"
   ]
  },
  {
   "cell_type": "markdown",
   "metadata": {
    "colab_type": "text",
    "id": "bBx4Xu0eTXWq"
   },
   "source": [
    "#### **Exercise**:   Correct the cell below that creates, compiles, and fits a Keras model."
   ]
  },
  {
   "cell_type": "markdown",
   "metadata": {},
   "source": [
    "Note:  Ignore the datatype warning, it will not affect the model."
   ]
  },
  {
   "cell_type": "code",
   "execution_count": 70,
   "metadata": {
    "colab": {
     "base_uri": "https://localhost:8080/",
     "height": 1000
    },
    "colab_type": "code",
    "id": "_YJPPb3xTPeZ",
    "outputId": "2d445722-1d43-4a27-a6c0-c6ce813ab450"
   },
   "outputs": [
    {
     "name": "stdout",
     "output_type": "stream",
     "text": [
      "WARNING:tensorflow:Layer dense_6 is casting an input tensor from dtype float32 to the layer's dtype of float64, which is new behavior in TensorFlow 2.  The layer has dtype float64 because it's dtype defaults to floatx.\n",
      "\n",
      "If you intended to run this layer in float64, you can safely ignore this warning. If in doubt, this warning is likely only an issue if you are porting a TensorFlow 1.X model to TensorFlow 2.\n",
      "\n",
      "To change all layers to have dtype float32 by default, call `tf.keras.backend.set_floatx('float32')`. To change just this layer, pass dtype='float32' to the layer constructor. If you are the author of this layer, you can disable autocasting by passing autocast=False to the base Layer constructor.\n",
      "\n",
      "Epoch 1/32\n",
      "409/409 [==============================] - 3s 7ms/step - loss: 56139680968.1533 - mse: 56153063553.4565 - val_loss: 0.0000e+00 - val_mse: 0.0000e+00\n",
      "Epoch 2/32\n",
      "409/409 [==============================] - 1s 3ms/step - loss: 56073554929.1559 - mse: 56074994483.7224 - val_loss: 55830794506.1521 - val_mse: 55913968115.4612\n",
      "Epoch 3/32\n",
      "409/409 [==============================] - 1s 3ms/step - loss: 55799826129.4482 - mse: 55802535298.5050 - val_loss: 55433308566.4482 - val_mse: 55516486437.1620\n",
      "Epoch 4/32\n",
      "409/409 [==============================] - 1s 3ms/step - loss: 55302942881.0448 - mse: 55262469256.5769 - val_loss: 54743179405.4531 - val_mse: 54826362856.7593\n",
      "Epoch 5/32\n",
      "409/409 [==============================] - 1s 3ms/step - loss: 54421900131.0452 - mse: 54411236833.9081 - val_loss: 53727966839.8932 - val_mse: 53811159001.8265\n",
      "Epoch 6/32\n",
      "409/409 [==============================] - 1s 3ms/step - loss: 53215814734.6758 - mse: 53228500917.2702 - val_loss: 52378838080.3532 - val_mse: 52462043145.1370\n",
      "Epoch 7/32\n",
      "409/409 [==============================] - 1s 3ms/step - loss: 51740975165.6626 - mse: 51711846153.4868 - val_loss: 50696767491.7590 - val_mse: 50779991595.4836\n",
      "Epoch 8/32\n",
      "409/409 [==============================] - 1s 3ms/step - loss: 49878694375.4571 - mse: 49873291107.7836 - val_loss: 48706108922.7495 - val_mse: 48789360831.7134\n",
      "Epoch 9/32\n",
      "409/409 [==============================] - 1s 3ms/step - loss: 47724500452.0039 - mse: 47731534410.0215 - val_loss: 46421216970.5484 - val_mse: 46504507880.6387\n",
      "Epoch 10/32\n",
      "409/409 [==============================] - 1s 3ms/step - loss: 45300176300.4755 - mse: 45313629931.6735 - val_loss: 43880048749.0877 - val_mse: 43963394467.5691\n",
      "Epoch 11/32\n",
      "409/409 [==============================] - 1s 3ms/step - loss: 42633900361.2653 - mse: 42657621022.4438 - val_loss: 41119312689.7433 - val_mse: 41202733390.3043\n",
      "Epoch 12/32\n",
      "409/409 [==============================] - 1s 3ms/step - loss: 39812164763.3277 - mse: 39807035784.2768 - val_loss: 38190498227.3834 - val_mse: 38274018038.7687\n",
      "Epoch 13/32\n",
      "409/409 [==============================] - 1s 3ms/step - loss: 36829470870.2577 - mse: 36821047052.7732 - val_loss: 35162656188.2382 - val_mse: 35246304592.2479\n",
      "Epoch 14/32\n",
      "409/409 [==============================] - 1s 3ms/step - loss: 33766559343.3853 - mse: 33758604146.0024 - val_loss: 32076936994.6953 - val_mse: 32160748319.5265\n",
      "Epoch 15/32\n",
      "409/409 [==============================] - 1s 3ms/step - loss: 30693853755.0308 - mse: 30678500959.3437 - val_loss: 29016470460.2738 - val_mse: 29100482449.1629\n",
      "Epoch 16/32\n",
      "409/409 [==============================] - 1s 3ms/step - loss: 27642245332.1322 - mse: 27658972053.2093 - val_loss: 26054671573.9436 - val_mse: 26138925996.8287\n",
      "Epoch 17/32\n",
      "409/409 [==============================] - 1s 3ms/step - loss: 24763704286.5879 - mse: 24769988476.1258 - val_loss: 23255546616.3553 - val_mse: 23340087086.4205\n",
      "Epoch 18/32\n",
      "409/409 [==============================] - 1s 3ms/step - loss: 22092545159.0783 - mse: 22081957719.1954 - val_loss: 20699065547.5219 - val_mse: 20783933777.3921\n",
      "Epoch 19/32\n",
      "409/409 [==============================] - 1s 3ms/step - loss: 19653655454.3567 - mse: 19660404102.0634 - val_loss: 18430081261.5108 - val_mse: 18515316877.1146\n",
      "Epoch 20/32\n",
      "409/409 [==============================] - 1s 3ms/step - loss: 17563298501.3508 - mse: 17562335720.9273 - val_loss: 16513142166.6490 - val_mse: 16598773402.2065\n",
      "Epoch 21/32\n",
      "409/409 [==============================] - 1s 3ms/step - loss: 15841603705.9158 - mse: 15832714941.2599 - val_loss: 14973325260.1787 - val_mse: 15059363739.7856\n",
      "Epoch 22/32\n",
      "409/409 [==============================] - 1s 3ms/step - loss: 14497550400.1490 - mse: 14493138373.8760 - val_loss: 13834372921.7587 - val_mse: 13920796010.1590\n",
      "Epoch 23/32\n",
      "409/409 [==============================] - 1s 3ms/step - loss: 13530094086.1194 - mse: 13525203942.5082 - val_loss: 13036050278.8250 - val_mse: 13122816339.5767\n",
      "Epoch 24/32\n",
      "409/409 [==============================] - 1s 3ms/step - loss: 12877960909.8326 - mse: 12887722185.6140 - val_loss: 12542095863.5599 - val_mse: 12629112507.0311\n",
      "Epoch 25/32\n",
      "409/409 [==============================] - 1s 3ms/step - loss: 12505859002.7902 - mse: 12508725235.6838 - val_loss: 12267002525.2906 - val_mse: 12354137629.6837\n",
      "Epoch 26/32\n",
      "409/409 [==============================] - 1s 3ms/step - loss: 12313660353.1298 - mse: 12304087983.8360 - val_loss: 12122054762.5551 - val_mse: 12209168987.7671\n",
      "Epoch 27/32\n",
      "409/409 [==============================] - 1s 3ms/step - loss: 12193158081.2918 - mse: 12197419734.5446 - val_loss: 12045037133.3626 - val_mse: 12131986870.1691\n",
      "Epoch 28/32\n",
      "409/409 [==============================] - 1s 3ms/step - loss: 12133165904.4686 - mse: 12133040900.0717 - val_loss: 11992198877.4277 - val_mse: 12078880310.8526\n",
      "Epoch 29/32\n",
      "409/409 [==============================] - 1s 3ms/step - loss: 12090233887.7638 - mse: 12084013817.7570 - val_loss: 11946159710.8445 - val_mse: 12032504471.5288\n",
      "Epoch 30/32\n",
      "409/409 [==============================] - 1s 3ms/step - loss: 12042143539.7358 - mse: 12038905452.5303 - val_loss: 11901880326.8528 - val_mse: 11987845245.8432\n",
      "Epoch 31/32\n",
      "409/409 [==============================] - 1s 3ms/step - loss: 11989578370.3197 - mse: 11993645874.2532 - val_loss: 11857442050.7880 - val_mse: 11942980132.3866\n",
      "Epoch 32/32\n",
      "409/409 [==============================] - 1s 3ms/step - loss: 11942692100.2268 - mse: 11948388722.6451 - val_loss: 11812070289.0762 - val_mse: 11897187496.3002\n"
     ]
    }
   ],
   "source": [
    "# Model create\n",
    "\n",
    "feature_layer = tf.keras.layers.DenseFeatures(feature_columns, dtype='float64')\n",
    "\n",
    "model = tf.keras.Sequential([\n",
    "  feature_layer,\n",
    "  layers.Dense(12,  input_dim=8, activation='relu'),\n",
    "  layers.Dense(8, activation='relu'),\n",
    "  layers.Dense(1, activation='linear',  name='median_house_value')\n",
    "])\n",
    "\n",
    "# Model compile\n",
    "model.compile(optimizer='adam',\n",
    "              loss='mse',\n",
    "              metrics=['mse'])\n",
    "\n",
    "# Model Fit\n",
    "history = model.fit(train_ds,\n",
    "                    validation_data=val_ds,\n",
    "                    epochs=32)"
   ]
  },
  {
   "cell_type": "markdown",
   "metadata": {
    "colab_type": "text",
    "id": "PSstMnHHh33R"
   },
   "source": [
    "**RUN** the cell to show loss and accuracy."
   ]
  },
  {
   "cell_type": "code",
   "execution_count": 71,
   "metadata": {
    "colab": {
     "base_uri": "https://localhost:8080/",
     "height": 71
    },
    "colab_type": "code",
    "id": "vo7hhkPqm6Jx",
    "outputId": "938907f6-b6c8-497c-a8f6-0f1cdbf336c9"
   },
   "outputs": [
    {
     "name": "stdout",
     "output_type": "stream",
     "text": [
      "128/128 [==============================] - 0s 2ms/step - loss: 11805099270.5167 - mse: 11801472605.7944\n",
      "Accuracy 11801472605.794384\n"
     ]
    }
   ],
   "source": [
    "loss, accuracy = model.evaluate(test_ds)\n",
    "print(\"Accuracy\", accuracy)"
   ]
  },
  {
   "cell_type": "markdown",
   "metadata": {
    "colab_type": "text",
    "id": "252EPxGp7-FJ"
   },
   "source": [
    "### Visualize the model loss curve\n",
    "\n",
    "Next, we will use matplotlib to draw the model's loss curves for training and validation.  A line plot is also created showing the mean squared error loss over the training epochs for both the train (blue) and test (orange) sets."
   ]
  },
  {
   "cell_type": "markdown",
   "metadata": {
    "colab_type": "text",
    "id": "n92_zRprDSVs"
   },
   "source": [
    "#### **Exercise**:   **RUN** the cell to show the the models loss curves."
   ]
  },
  {
   "cell_type": "code",
   "execution_count": 72,
   "metadata": {
    "colab": {
     "base_uri": "https://localhost:8080/",
     "height": 350
    },
    "colab_type": "code",
    "id": "q7pVC0E07YkE",
    "outputId": "55b1f6f9-a1e2-40fc-d5dd-7e2454031c85"
   },
   "outputs": [
    {
     "data": {
      "image/png": "[encoded data removed]",
      "text/plain": [
       "<Figure size 720x360 with 2 Axes>"
      ]
     },
     "metadata": {
      "needs_background": "light"
     },
     "output_type": "display_data"
    }
   ],
   "source": [
    "# Plot\n",
    "\n",
    "import matplotlib.pyplot as plt\n",
    "nrows = 1\n",
    "ncols = 2\n",
    "fig = plt.figure(figsize=(10, 5))\n",
    "\n",
    "for idx, key in enumerate(['loss', 'mse']):  \n",
    "    ax = fig.add_subplot(nrows, ncols, idx+1)\n",
    "    plt.plot(history.history[key])\n",
    "    plt.plot(history.history['val_{}'.format(key)])\n",
    "    plt.title('model {}'.format(key))\n",
    "    plt.ylabel(key)\n",
    "    plt.xlabel('epoch')\n",
    "    plt.legend(['train', 'validation'], loc='upper left');"
   ]
  },
  {
   "cell_type": "markdown",
   "metadata": {
    "colab_type": "text",
    "id": "wqkozY268xi7"
   },
   "source": [
    "## Objective:  Load and preprocess test data"
   ]
  },
  {
   "cell_type": "markdown",
   "metadata": {
    "colab_type": "text",
    "id": "uf4TyVJ_Dzxe"
   },
   "source": [
    "#### **Exercise**:   In the next two cells, read in the test.csv file and validate that there are no null values."
   ]
  },
  {
   "cell_type": "code",
   "execution_count": 73,
   "metadata": {
    "colab": {
     "base_uri": "https://localhost:8080/",
     "height": 222
    },
    "colab_type": "code",
    "id": "b4C4BmhV8ch9",
    "outputId": "82bcc9d3-4432-4068-ab82-6a6abbe4a024"
   },
   "outputs": [
    {
     "data": {
      "text/html": [
       "<div>\n",
       "<style scoped>\n",
       "    .dataframe tbody tr th:only-of-type {\n",
       "        vertical-align: middle;\n",
       "    }\n",
       "\n",
       "    .dataframe tbody tr th {\n",
       "        vertical-align: top;\n",
       "    }\n",
       "\n",
       "    .dataframe thead th {\n",
       "        text-align: right;\n",
       "    }\n",
       "</style>\n",
       "<table border=\"1\" class=\"dataframe\">\n",
       "  <thead>\n",
       "    <tr style=\"text-align: right;\">\n",
       "      <th></th>\n",
       "      <th>longitude</th>\n",
       "      <th>latitude</th>\n",
       "      <th>housing_median_age</th>\n",
       "      <th>total_rooms</th>\n",
       "      <th>total_bedrooms</th>\n",
       "      <th>population</th>\n",
       "      <th>households</th>\n",
       "      <th>median_income</th>\n",
       "      <th>median_house_value</th>\n",
       "      <th>ocean_proximity</th>\n",
       "    </tr>\n",
       "  </thead>\n",
       "  <tbody>\n",
       "    <tr>\n",
       "      <th>0</th>\n",
       "      <td>-118.22</td>\n",
       "      <td>34.08</td>\n",
       "      <td>34.0</td>\n",
       "      <td>1709.0</td>\n",
       "      <td>562.0</td>\n",
       "      <td>2105.0</td>\n",
       "      <td>503.0</td>\n",
       "      <td>1.9704</td>\n",
       "      <td>152100.0</td>\n",
       "      <td>&lt;1H OCEAN</td>\n",
       "    </tr>\n",
       "    <tr>\n",
       "      <th>1</th>\n",
       "      <td>-121.21</td>\n",
       "      <td>37.80</td>\n",
       "      <td>45.0</td>\n",
       "      <td>370.0</td>\n",
       "      <td>84.0</td>\n",
       "      <td>167.0</td>\n",
       "      <td>70.0</td>\n",
       "      <td>1.4853</td>\n",
       "      <td>101800.0</td>\n",
       "      <td>INLAND</td>\n",
       "    </tr>\n",
       "    <tr>\n",
       "      <th>2</th>\n",
       "      <td>-117.06</td>\n",
       "      <td>32.56</td>\n",
       "      <td>5.0</td>\n",
       "      <td>2706.0</td>\n",
       "      <td>925.0</td>\n",
       "      <td>3148.0</td>\n",
       "      <td>855.0</td>\n",
       "      <td>1.7301</td>\n",
       "      <td>125000.0</td>\n",
       "      <td>NEAR OCEAN</td>\n",
       "    </tr>\n",
       "    <tr>\n",
       "      <th>3</th>\n",
       "      <td>-121.26</td>\n",
       "      <td>37.94</td>\n",
       "      <td>43.0</td>\n",
       "      <td>1610.0</td>\n",
       "      <td>412.0</td>\n",
       "      <td>1409.0</td>\n",
       "      <td>365.0</td>\n",
       "      <td>1.7574</td>\n",
       "      <td>51700.0</td>\n",
       "      <td>INLAND</td>\n",
       "    </tr>\n",
       "    <tr>\n",
       "      <th>4</th>\n",
       "      <td>-118.16</td>\n",
       "      <td>34.18</td>\n",
       "      <td>48.0</td>\n",
       "      <td>568.0</td>\n",
       "      <td>145.0</td>\n",
       "      <td>559.0</td>\n",
       "      <td>135.0</td>\n",
       "      <td>2.4135</td>\n",
       "      <td>135700.0</td>\n",
       "      <td>&lt;1H OCEAN</td>\n",
       "    </tr>\n",
       "  </tbody>\n",
       "</table>\n",
       "</div>"
      ],
      "text/plain": [
       "   longitude  latitude  housing_median_age  total_rooms  total_bedrooms  \\\n",
       "0    -118.22     34.08                34.0       1709.0           562.0   \n",
       "1    -121.21     37.80                45.0        370.0            84.0   \n",
       "2    -117.06     32.56                 5.0       2706.0           925.0   \n",
       "3    -121.26     37.94                43.0       1610.0           412.0   \n",
       "4    -118.16     34.18                48.0        568.0           145.0   \n",
       "\n",
       "   population  households  median_income  median_house_value ocean_proximity  \n",
       "0      2105.0       503.0         1.9704            152100.0       <1H OCEAN  \n",
       "1       167.0        70.0         1.4853            101800.0          INLAND  \n",
       "2      3148.0       855.0         1.7301            125000.0      NEAR OCEAN  \n",
       "3      1409.0       365.0         1.7574             51700.0          INLAND  \n",
       "4       559.0       135.0         2.4135            135700.0       <1H OCEAN  "
      ]
     },
     "execution_count": 73,
     "metadata": {},
     "output_type": "execute_result"
    }
   ],
   "source": [
    "test_data = pd.read_csv('test.csv')\n",
    "test_data.head()"
   ]
  },
  {
   "cell_type": "code",
   "execution_count": 74,
   "metadata": {
    "colab": {
     "base_uri": "https://localhost:8080/",
     "height": 207
    },
    "colab_type": "code",
    "id": "bVH2Ma22Cd31",
    "outputId": "87f67e05-bb0c-4b30-d1f1-f65f1abb21ab"
   },
   "outputs": [
    {
     "data": {
      "text/plain": [
       "longitude             0\n",
       "latitude              0\n",
       "housing_median_age    0\n",
       "total_rooms           0\n",
       "total_bedrooms        0\n",
       "population            0\n",
       "households            0\n",
       "median_income         0\n",
       "median_house_value    0\n",
       "ocean_proximity       0\n",
       "dtype: int64"
      ]
     },
     "execution_count": 74,
     "metadata": {},
     "output_type": "execute_result"
    }
   ],
   "source": [
    "test_data.isnull().sum()"
   ]
  },
  {
   "cell_type": "markdown",
   "metadata": {
    "colab_type": "text",
    "id": "nY2Yrt8fC7RW"
   },
   "source": [
    "## Input function for test data"
   ]
  },
  {
   "cell_type": "markdown",
   "metadata": {
    "colab_type": "text",
    "id": "rAyMaZOlERdF"
   },
   "source": [
    "**RUN** the cells to create the input function for the test data and to initialize the test_predict variable."
   ]
  },
  {
   "cell_type": "code",
   "execution_count": 75,
   "metadata": {
    "colab": {},
    "colab_type": "code",
    "id": "8rMdDeGDCwpT"
   },
   "outputs": [],
   "source": [
    "def test_input_fn(features, batch_size=256):\n",
    "    \"\"\"An input function for prediction.\"\"\"\n",
    "    # Convert the inputs to a Dataset without labels.\n",
    "    return tf.data.Dataset.from_tensor_slices(dict(features)).batch(batch_size)"
   ]
  },
  {
   "cell_type": "code",
   "execution_count": 76,
   "metadata": {
    "colab": {},
    "colab_type": "code",
    "id": "qflwLiz9IeZR"
   },
   "outputs": [],
   "source": [
    "test_predict = test_input_fn(dict(test_data))"
   ]
  },
  {
   "cell_type": "markdown",
   "metadata": {
    "colab_type": "text",
    "id": "H5SkINtbDIdr"
   },
   "source": [
    "## Prediction:  Linear Regression\n",
    "\n",
    "To predict with Keras, you simply call [model.predict()](https://keras.io/models/model/#predict) and pass in the housing features you want to predict the median_house_value for. Note:  We are predicting the model locally."
   ]
  },
  {
   "cell_type": "markdown",
   "metadata": {
    "colab_type": "text",
    "id": "aP5NOK8QEma7"
   },
   "source": [
    "**RUN** the cell to create the median house value prediction on the test data.\n"
   ]
  },
  {
   "cell_type": "code",
   "execution_count": 77,
   "metadata": {
    "colab": {},
    "colab_type": "code",
    "id": "uNc6TSoJDL7-"
   },
   "outputs": [],
   "source": [
    "predicted_median_house_value = model.predict(test_predict)"
   ]
  },
  {
   "cell_type": "markdown",
   "metadata": {
    "colab_type": "text",
    "id": "HFXK1SKPDYgD"
   },
   "source": [
    "#### **Exercise**:  Code two predictions in separate cells - one where ocean_proximity=INLAND and one where ocean_proximity= NEAR OCEAN. "
   ]
  },
  {
   "cell_type": "code",
   "execution_count": 78,
   "metadata": {
    "colab": {
     "base_uri": "https://localhost:8080/",
     "height": 34
    },
    "colab_type": "code",
    "id": "xepss0vhoHge",
    "outputId": "46842a26-eacd-4801-857b-18c6a8f2005c"
   },
   "outputs": [
    {
     "data": {
      "text/plain": [
       "array([[229277.32310318]])"
      ]
     },
     "execution_count": 78,
     "metadata": {},
     "output_type": "execute_result"
    }
   ],
   "source": [
    "# Ocean_proximity is INLAND\n",
    "\n",
    "model.predict({\n",
    "    'longitude': tf.convert_to_tensor([-121.86]),\n",
    "    'latitude': tf.convert_to_tensor([39.78]),\n",
    "    'housing_median_age': tf.convert_to_tensor([12.0]),\n",
    "    'total_rooms': tf.convert_to_tensor([7653.0]),\n",
    "    'total_bedrooms': tf.convert_to_tensor([1578.0]),\n",
    "    'population': tf.convert_to_tensor([3628.0]),\n",
    "    'households': tf.convert_to_tensor([1494.0]),\n",
    "    'median_income': tf.convert_to_tensor([3.0905]),\n",
    "    'ocean_proximity': tf.convert_to_tensor(['INLAND'])\n",
    "}, steps=1)"
   ]
  },
  {
   "cell_type": "code",
   "execution_count": 79,
   "metadata": {
    "colab": {
     "base_uri": "https://localhost:8080/",
     "height": 34
    },
    "colab_type": "code",
    "id": "qPssm8p4EZHh",
    "outputId": "2a55d427-7857-401c-f60d-edbb36be19ec"
   },
   "outputs": [
    {
     "data": {
      "text/plain": [
       "array([[224545.96996686]])"
      ]
     },
     "execution_count": 79,
     "metadata": {},
     "output_type": "execute_result"
    }
   ],
   "source": [
    "# Ocean_proximity is NEAR OCEAN\n",
    "\n",
    "model.predict({\n",
    "    'longitude': tf.convert_to_tensor([-122.43]),\n",
    "    'latitude': tf.convert_to_tensor([37.63]),\n",
    "    'housing_median_age': tf.convert_to_tensor([34.0]),\n",
    "    'total_rooms': tf.convert_to_tensor([4135.0]),\n",
    "    'total_bedrooms': tf.convert_to_tensor([687.0]),\n",
    "    'population': tf.convert_to_tensor([2154.0]),\n",
    "    'households': tf.convert_to_tensor([742.0\t]),\n",
    "    'median_income': tf.convert_to_tensor([4.9732]),\n",
    "    'ocean_proximity': tf.convert_to_tensor(['NEAR OCEAN'])\n",
    "}, steps=1)"
   ]
  },
  {
   "cell_type": "markdown",
   "metadata": {
    "colab_type": "text",
    "id": "Txl-MRuLFE_8"
   },
   "source": [
    "#### **Exercise**:  Analysis\n",
    "\n",
    "The arrays returns a predicted value.  What do these numbers mean?  Let's compare this value to the test set.   \n",
    "\n",
    "Go to the test.csv you read in a few cells up.  Locate the first line and find the median_house_value - which should be 249,000 dollars near the ocean. What value did your model predicted for the median_house_value? Was it a solid model performance? Let's see if we can improve this a bit with feature engineering!  \n"
   ]
  },
  {
   "cell_type": "markdown",
   "metadata": {
    "colab_type": "text",
    "id": "C7fFruEWU08C"
   },
   "source": [
    "## Feature Engineering\n",
    "\n"
   ]
  },
  {
   "cell_type": "markdown",
   "metadata": {
    "colab_type": "text",
    "id": "78F1XH1Qwvbt"
   },
   "source": [
    "#### **Exercise**:   Create a cell that indicates which features will be used in the model.\n",
    "\n",
    "Note:  Be sure to bucketize 'housing_median_age' and ensure that 'ocean_proximity' is one-hot encoded.  And, don't forget your numeric values!\n"
   ]
  },
  {
   "cell_type": "code",
   "execution_count": 80,
   "metadata": {
    "colab": {},
    "colab_type": "code",
    "id": "ZxSatLUxUmvI"
   },
   "outputs": [],
   "source": [
    "num_c = ['longitude', 'latitude', 'housing_median_age', 'total_rooms',\n",
    "         'total_bedrooms', 'population', 'households', 'median_income']\n",
    "\n",
    "bucket_c = ['housing_median_age']\n",
    "\n",
    "cat_i_c = ['ocean_proximity']  # indicator columns,Categorical features"
   ]
  },
  {
   "cell_type": "markdown",
   "metadata": {
    "colab_type": "text",
    "id": "5HbypkYHxxwt"
   },
   "source": [
    "**RUN** the next two cells to scale the features.\n",
    "\n"
   ]
  },
  {
   "cell_type": "code",
   "execution_count": 81,
   "metadata": {
    "colab": {},
    "colab_type": "code",
    "id": "ExX5Akz0UnE-"
   },
   "outputs": [],
   "source": [
    "# Scalar def get_scal(feature):\n",
    "\n",
    "\n",
    "def get_scal(feature):\n",
    "  def minmax(x):\n",
    "    mini = train[feature].min()\n",
    "    maxi = train[feature].max()\n",
    "    return (x - mini)/(maxi-mini)\n",
    "  return(minmax)"
   ]
  },
  {
   "cell_type": "code",
   "execution_count": 82,
   "metadata": {
    "colab": {},
    "colab_type": "code",
    "id": "wzqcddUQUnKn"
   },
   "outputs": [],
   "source": [
    "# All numeric features -scaling\n",
    "\n",
    "feature_columns = []\n",
    "for header in num_c:\n",
    "    scal_input_fn = get_scal(header)\n",
    "    feature_columns.append(feature_column.numeric_column(header, normalizer_fn=scal_input_fn))"
   ]
  },
  {
   "cell_type": "markdown",
   "metadata": {
    "colab_type": "text",
    "id": "yYUpUZvgwrPe"
   },
   "source": [
    "### Categorical Feature\n",
    "In this dataset, 'ocean_proximity' is represented as a string.  We cannot feed strings directly to a model. Instead, we must first map them to numeric values. The categorical vocabulary columns provide a way to represent strings as a one-hot vector."
   ]
  },
  {
   "cell_type": "markdown",
   "metadata": {
    "colab_type": "text",
    "id": "sZnlnFZkyEbe"
   },
   "source": [
    "#### **Exercise**:   Create a categorical feature using 'ocean_proximity'.\n",
    "\n"
   ]
  },
  {
   "cell_type": "code",
   "execution_count": 83,
   "metadata": {
    "colab": {},
    "colab_type": "code",
    "id": "3Cf6SoFTUnc6"
   },
   "outputs": [],
   "source": [
    "for feature_name in cat_i_c:\n",
    "    vocabulary = dataframe[feature_name].unique()\n",
    "    cat_c = tf.feature_column.categorical_column_with_vocabulary_list(feature_name, vocabulary)\n",
    "    one_hot = feature_column.indicator_column(cat_c)\n",
    "    feature_columns.append(one_hot)"
   ]
  },
  {
   "cell_type": "markdown",
   "metadata": {
    "colab_type": "text",
    "id": "qnGyWaijzShj"
   },
   "source": [
    "### Bucketized Feature\n",
    "\n",
    "Often, you don't want to feed a number directly into the model, but instead split its value into different categories based on numerical ranges. Consider our raw data that represents a homes' age. Instead of representing the house age as a numeric column, we could split the home age into several buckets using a [bucketized column](https://www.tensorflow.org/api_docs/python/tf/feature_column/bucketized_column). Notice the one-hot values below describe which age range each row matches."
   ]
  },
  {
   "cell_type": "markdown",
   "metadata": {
    "colab_type": "text",
    "id": "7ZRlFyP7fOw-"
   },
   "source": [
    "#### **Exercise**:   Create a Bucketized column using 'housing_median_age'"
   ]
  },
  {
   "cell_type": "code",
   "execution_count": 84,
   "metadata": {
    "colab": {},
    "colab_type": "code",
    "id": "xB-yiVLmUnXp"
   },
   "outputs": [],
   "source": [
    "Age = feature_column.numeric_column(\"housing_median_age\")\n",
    "\n",
    "# Bucketized cols\n",
    "age_buckets = feature_column.bucketized_column(Age, boundaries=[18, 25, 30, 35, 40, 45, 50, 55, 60, 65])\n",
    "feature_columns.append(age_buckets)"
   ]
  },
  {
   "cell_type": "markdown",
   "metadata": {
    "colab_type": "text",
    "id": "Ri4_wssOg943"
   },
   "source": [
    "### Feature Cross\n",
    "\n",
    "Combining features into a single feature, better known as [feature crosses](https://developers.google.com/machine-learning/glossary/#feature_cross), enables a model to learn separate weights for each combination of features."
   ]
  },
  {
   "cell_type": "markdown",
   "metadata": {
    "colab_type": "text",
    "id": "a6HHJl3J0j0T"
   },
   "source": [
    "#### **Exercise**:   Create a Feature Cross of  'housing_median_age' and 'ocean_proximity'."
   ]
  },
  {
   "cell_type": "code",
   "execution_count": 85,
   "metadata": {
    "colab": {},
    "colab_type": "code",
    "id": "JVLnG0WbUnkl"
   },
   "outputs": [],
   "source": [
    "vocabulary = dataframe['ocean_proximity'].unique()\n",
    "ocean_proximity = tf.feature_column.categorical_column_with_vocabulary_list('ocean_proximity', vocabulary)\n",
    "\n",
    "crossed_feature = feature_column.crossed_column([age_buckets, ocean_proximity], hash_bucket_size=1000)\n",
    "crossed_feature = feature_column.indicator_column(crossed_feature)\n",
    "feature_columns.append(crossed_feature)"
   ]
  },
  {
   "cell_type": "markdown",
   "metadata": {
    "colab_type": "text",
    "id": "hiz6HCWg1CXO"
   },
   "source": [
    "**RUN** the cell to determine the number of feature columns you now have.  Compare this number to the previous number of features."
   ]
  },
  {
   "cell_type": "code",
   "execution_count": 86,
   "metadata": {
    "colab": {
     "base_uri": "https://localhost:8080/",
     "height": 34
    },
    "colab_type": "code",
    "id": "6P3Ewc3_Unsv",
    "outputId": "42c1c4a6-89f8-4685-b2d0-e76a90cdf9ee"
   },
   "outputs": [
    {
     "name": "stdout",
     "output_type": "stream",
     "text": [
      "Total number of feature coumns:  11\n"
     ]
    }
   ],
   "source": [
    "print('Total number of feature coumns: ', len(feature_columns))"
   ]
  },
  {
   "cell_type": "markdown",
   "metadata": {
    "colab_type": "text",
    "id": "lNr00mP41sJp"
   },
   "source": [
    "**RUN** the cell to compile, create, and train the Keras model.\n"
   ]
  },
  {
   "cell_type": "code",
   "execution_count": 87,
   "metadata": {
    "colab": {
     "base_uri": "https://localhost:8080/",
     "height": 1000
    },
    "colab_type": "code",
    "id": "4Dwal3oxUoCe",
    "outputId": "1ae08747-7dbe-47a5-b3e7-87581e460b1b"
   },
   "outputs": [
    {
     "name": "stdout",
     "output_type": "stream",
     "text": [
      "WARNING:tensorflow:Layer dense_8 is casting an input tensor from dtype float32 to the layer's dtype of float64, which is new behavior in TensorFlow 2.  The layer has dtype float64 because it's dtype defaults to floatx.\n",
      "\n",
      "If you intended to run this layer in float64, you can safely ignore this warning. If in doubt, this warning is likely only an issue if you are porting a TensorFlow 1.X model to TensorFlow 2.\n",
      "\n",
      "To change all layers to have dtype float32 by default, call `tf.keras.backend.set_floatx('float32')`. To change just this layer, pass dtype='float32' to the layer constructor. If you are the author of this layer, you can disable autocasting by passing autocast=False to the base Layer constructor.\n",
      "\n",
      "Epoch 1/32\n",
      "409/409 [==============================] - 3s 8ms/step - loss: 56150104203.5939 - mse: 56145329958.3864 - val_loss: 0.0000e+00 - val_mse: 0.0000e+00\n",
      "Epoch 2/32\n",
      "409/409 [==============================] - 2s 4ms/step - loss: 55980295461.2128 - mse: 55995873870.3575 - val_loss: 55678645402.2929 - val_mse: 55761865748.6723\n",
      "Epoch 3/32\n",
      "409/409 [==============================] - 2s 4ms/step - loss: 55545057228.7963 - mse: 55524493672.7576 - val_loss: 55001024139.2913 - val_mse: 55084354404.0097\n",
      "Epoch 4/32\n",
      "409/409 [==============================] - 2s 4ms/step - loss: 54599924620.6344 - mse: 54612104808.1481 - val_loss: 53843159851.5049 - val_mse: 53926667875.2609\n",
      "Epoch 5/32\n",
      "409/409 [==============================] - 2s 4ms/step - loss: 53194646111.9286 - mse: 53195175328.0168 - val_loss: 52166929153.0858 - val_mse: 52250702919.0836\n",
      "Epoch 6/32\n",
      "409/409 [==============================] - 2s 4ms/step - loss: 51279444630.0941 - mse: 51259739784.3175 - val_loss: 49976309999.3714 - val_mse: 50060428081.4003\n",
      "Epoch 7/32\n",
      "409/409 [==============================] - 2s 4ms/step - loss: 48866723795.9043 - mse: 48824588962.5755 - val_loss: 47307848105.3312 - val_mse: 47392396320.5218\n",
      "Epoch 8/32\n",
      "409/409 [==============================] - 2s 4ms/step - loss: 45928932245.7199 - mse: 45943002545.8436 - val_loss: 44231301888.1353 - val_mse: 44316360562.0191\n",
      "Epoch 9/32\n",
      "409/409 [==============================] - 2s 4ms/step - loss: 42685322394.2363 - mse: 42684531303.1221 - val_loss: 40818453981.6495 - val_mse: 40904120159.1651\n",
      "Epoch 10/32\n",
      "409/409 [==============================] - 2s 4ms/step - loss: 39130652821.3504 - mse: 39149641628.5846 - val_loss: 37179709252.8763 - val_mse: 37266034675.5310\n",
      "Epoch 11/32\n",
      "409/409 [==============================] - 2s 4ms/step - loss: 35432794627.0521 - mse: 35440948596.2985 - val_loss: 33426558077.4469 - val_mse: 33513588873.9928\n",
      "Epoch 12/32\n",
      "409/409 [==============================] - 2s 4ms/step - loss: 31698475224.5410 - mse: 31681433211.6452 - val_loss: 29688420409.5300 - val_mse: 29776178297.4275\n",
      "Epoch 13/32\n",
      "409/409 [==============================] - 2s 4ms/step - loss: 27964735764.7442 - mse: 28002213923.0266 - val_loss: 26091983341.4719 - val_mse: 26180441440.3697\n",
      "Epoch 14/32\n",
      "409/409 [==============================] - 2s 4ms/step - loss: 24534873690.8448 - mse: 24528328739.6524 - val_loss: 22763356148.8241 - val_mse: 22852451494.2059\n",
      "Epoch 15/32\n",
      "409/409 [==============================] - 2s 4ms/step - loss: 21378312038.7070 - mse: 21372981559.9567 - val_loss: 19805436117.5936 - val_mse: 19894978972.2753\n",
      "Epoch 16/32\n",
      "409/409 [==============================] - 2s 4ms/step - loss: 18614499166.1324 - mse: 18631055500.6106 - val_loss: 17300075739.3535 - val_mse: 17389783506.1056\n",
      "Epoch 17/32\n",
      "409/409 [==============================] - 2s 4ms/step - loss: 16363922500.2481 - mse: 16365761817.3734 - val_loss: 15284051654.4651 - val_mse: 15373417747.2664\n",
      "Epoch 18/32\n",
      "409/409 [==============================] - 2s 4ms/step - loss: 14586921594.4103 - mse: 14582875875.7984 - val_loss: 13745824741.5987 - val_mse: 13834208017.0741\n",
      "Epoch 19/32\n",
      "409/409 [==============================] - 2s 4ms/step - loss: 13254325360.3097 - mse: 13262632662.7870 - val_loss: 12650366534.1740 - val_mse: 12737149855.4754\n",
      "Epoch 20/32\n",
      "409/409 [==============================] - 2s 4ms/step - loss: 12342497261.4086 - mse: 12338832438.8445 - val_loss: 11910323009.5512 - val_mse: 11995045442.7157\n",
      "Epoch 21/32\n",
      "409/409 [==============================] - 2s 4ms/step - loss: 11725620906.2110 - mse: 11726101166.9319 - val_loss: 11437525087.8334 - val_mse: 11519984846.6503\n",
      "Epoch 22/32\n",
      "409/409 [==============================] - 2s 4ms/step - loss: 11337267186.4526 - mse: 11332076920.5646 - val_loss: 11132076216.6155 - val_mse: 11212314836.7394\n",
      "Epoch 23/32\n",
      "409/409 [==============================] - 2s 4ms/step - loss: 11067473000.9080 - mse: 11064702640.1306 - val_loss: 10918992135.7663 - val_mse: 10997233452.9320\n",
      "Epoch 24/32\n",
      "409/409 [==============================] - 2s 4ms/step - loss: 10856221215.4293 - mse: 10862133685.4342 - val_loss: 10748489233.3589 - val_mse: 10824976224.9646\n",
      "Epoch 25/32\n",
      "409/409 [==============================] - 2s 4ms/step - loss: 10693002354.3358 - mse: 10690649708.9294 - val_loss: 10598357623.4820 - val_mse: 10673308235.4106\n",
      "Epoch 26/32\n",
      "409/409 [==============================] - 2s 4ms/step - loss: 10537487780.2801 - mse: 10536273186.7869 - val_loss: 10459955475.6133 - val_mse: 10533638002.7938\n",
      "Epoch 27/32\n",
      "409/409 [==============================] - 2s 4ms/step - loss: 10391985497.9007 - mse: 10392241360.3924 - val_loss: 10328878728.2983 - val_mse: 10401355020.5757\n",
      "Epoch 28/32\n",
      "409/409 [==============================] - 2s 4ms/step - loss: 10264775035.8748 - mse: 10256599156.1219 - val_loss: 10206349238.4820 - val_mse: 10277744657.5693\n",
      "Epoch 29/32\n",
      "409/409 [==============================] - 2s 4ms/step - loss: 10123315928.0211 - mse: 10128502242.0526 - val_loss: 10090246435.3107 - val_mse: 10160639283.1777\n",
      "Epoch 30/32\n",
      "409/409 [==============================] - 2s 4ms/step - loss: 10005522512.0598 - mse: 10006854401.1354 - val_loss: 9980375701.8258 - val_mse: 10049759519.0383\n",
      "Epoch 31/32\n",
      "409/409 [==============================] - 2s 4ms/step - loss: 9900681898.1500 - mse: 9891664592.6764 - val_loss: 9875570436.5067 - val_mse: 9944128140.4639\n",
      "Epoch 32/32\n",
      "409/409 [==============================] - 2s 4ms/step - loss: 9782532972.4298 - mse: 9783052857.7704 - val_loss: 9777265821.4559 - val_mse: 9844937879.1442\n"
     ]
    }
   ],
   "source": [
    "# Model create\n",
    "\n",
    "feature_layer = tf.keras.layers.DenseFeatures(feature_columns, dtype='float64')\n",
    "\n",
    "model = tf.keras.Sequential([\n",
    "  feature_layer,\n",
    "  layers.Dense(12,  input_dim=8, activation='relu'),\n",
    "  layers.Dense(8, activation='relu'),\n",
    "  layers.Dense(1, activation='linear',  name='median_house_value')\n",
    "])\n",
    "\n",
    "# Model compile\n",
    "model.compile(optimizer='adam',\n",
    "              loss='mse',\n",
    "              metrics=['mse'])\n",
    "\n",
    "# Model Fit\n",
    "history = model.fit(train_ds,\n",
    "                    validation_data=val_ds,\n",
    "                    epochs=32)"
   ]
  },
  {
   "cell_type": "markdown",
   "metadata": {
    "colab_type": "text",
    "id": "3LdUQszM16Oj"
   },
   "source": [
    "#### **Exercise**:   **RUN** the next two cells to show loss and accuracy and to plot the model.\n"
   ]
  },
  {
   "cell_type": "code",
   "execution_count": 88,
   "metadata": {
    "colab": {
     "base_uri": "https://localhost:8080/",
     "height": 71
    },
    "colab_type": "code",
    "id": "ZtFSpkd9UoAW",
    "outputId": "bac4836e-c4f1-4b29-876d-91fe1b51a5a7"
   },
   "outputs": [
    {
     "name": "stdout",
     "output_type": "stream",
     "text": [
      "128/128 [==============================] - 0s 2ms/step - loss: 9662627796.2956 - mse: 9662531036.1573\n",
      "Accuracy 9662531036.157316\n"
     ]
    }
   ],
   "source": [
    "loss, accuracy = model.evaluate(test_ds)\n",
    "print(\"Accuracy\", accuracy)"
   ]
  },
  {
   "cell_type": "code",
   "execution_count": 89,
   "metadata": {
    "colab": {
     "base_uri": "https://localhost:8080/",
     "height": 350
    },
    "colab_type": "code",
    "id": "O8kWMa6xUn-M",
    "outputId": "05ed9323-1102-4245-a40b-88543f11b0f3"
   },
   "outputs": [
    {
     "data": {
      "image/png": "[encoded data removed]",
      "text/plain": [
       "<Figure size 720x360 with 2 Axes>"
      ]
     },
     "metadata": {
      "needs_background": "light"
     },
     "output_type": "display_data"
    }
   ],
   "source": [
    "# Plot\n",
    "\n",
    "import matplotlib.pyplot as plt\n",
    "nrows = 1\n",
    "ncols = 2\n",
    "fig = plt.figure(figsize=(10, 5))\n",
    "\n",
    "for idx, key in enumerate(['loss', 'mse']):  \n",
    "    ax = fig.add_subplot(nrows, ncols, idx+1)\n",
    "    plt.plot(history.history[key])\n",
    "    plt.plot(history.history['val_{}'.format(key)])\n",
    "    plt.title('model {}'.format(key))\n",
    "    plt.ylabel(key)\n",
    "    plt.xlabel('epoch')\n",
    "    plt.legend(['train', 'validation'], loc='upper left');"
   ]
  },
  {
   "cell_type": "markdown",
   "metadata": {
    "colab_type": "text",
    "id": "C4tWwOQt2e-P"
   },
   "source": [
    "#### **Exercise**:  Create a prediction model.  Note:  You may use the same values from the previous prediciton.  \n",
    "\n"
   ]
  },
  {
   "cell_type": "code",
   "execution_count": 90,
   "metadata": {},
   "outputs": [
    {
     "data": {
      "text/plain": [
       "array([[238823.87680964]])"
      ]
     },
     "execution_count": 90,
     "metadata": {},
     "output_type": "execute_result"
    }
   ],
   "source": [
    "# Median_house_value is $249,000, prediction is $234,000 NEAR OCEAN\n",
    "\n",
    "model.predict({\n",
    "    'longitude': tf.convert_to_tensor([-122.43]),\n",
    "    'latitude': tf.convert_to_tensor([37.63]),\n",
    "    'housing_median_age': tf.convert_to_tensor([34.0]),\n",
    "    'total_rooms': tf.convert_to_tensor([4135.0]),\n",
    "    'total_bedrooms': tf.convert_to_tensor([687.0]),\n",
    "    'population': tf.convert_to_tensor([2154.0]),\n",
    "    'households': tf.convert_to_tensor([742.0]),\n",
    "    'median_income': tf.convert_to_tensor([4.9732]),\n",
    "    'ocean_proximity': tf.convert_to_tensor(['NEAR OCEAN'])\n",
    "}, steps=1)"
   ]
  },
  {
   "cell_type": "markdown",
   "metadata": {
    "colab_type": "text",
    "id": "rcbdA3arXkej"
   },
   "source": [
    "### Analysis \n",
    "\n",
    "The array returns a predicted value.  Compare this value to the test set you ran earlier. Your predicted value may be a bit better.\n",
    "\n",
    "Now that you have your \"feature engineering template\" setup, you can experiment by creating additional features.  For exmample, you can create derived features, such as households per population, and see how they impact the model.  You can also experiment with replacing the features you used to create the feature cross.\n",
    " "
   ]
  },
  {
   "cell_type": "markdown",
   "metadata": {
    "colab": {},
    "colab_type": "code",
    "id": "R42I8BvbuN7Q"
   },
   "source": [
    "**Feature Engineering Summary**"
   ]
  },
  {
   "cell_type": "code",
   "execution_count": 91,
   "metadata": {},
   "outputs": [],
   "source": [
    "# Features\n",
    "\n",
    "num_c = ['longitude', 'latitude', 'housing_median_age', 'total_rooms',\n",
    "         'total_bedrooms', 'population', 'households', 'median_income']\n",
    "\n",
    "bucket_c = ['housing_median_age']\n",
    "\n",
    "cat_i_c = ['ocean_proximity']  # indicator columns,Categorical features\n",
    "\n",
    "# /*****************************************************************************\n",
    "\n",
    "# Scalar def get_scal(feature):\n",
    "\n",
    "\n",
    "def get_scal(feature):\n",
    "  def minmax(x):\n",
    "        mini = train[feature].min()\n",
    "        maxi = train[feature].max()\n",
    "        return (x - mini)/(maxi-mini)\n",
    "  return(minmax)\n",
    "\n",
    "\n",
    "feature_columns = []\n",
    "for header in num_c:\n",
    "    scal_input_fn = get_scal(header)\n",
    "    feature_columns.append(feature_column.numeric_column(header, normalizer_fn=scal_input_fn))\n",
    "\n",
    "\n",
    "\n",
    "# /******************************************************************************************\n",
    "# One hot encoding\n",
    "\n",
    "for feature_name in cat_i_c:\n",
    "    vocabulary = dataframe[feature_name].unique()\n",
    "    cat_c = tf.feature_column.categorical_column_with_vocabulary_list(feature_name, vocabulary)\n",
    "    one_hot = feature_column.indicator_column(cat_c)\n",
    "    feature_columns.append(one_hot)\n",
    "\n",
    "    \n",
    "# /*****************************************************************************************\n",
    "\n",
    "# Bucketize\n",
    "\n",
    "Age = feature_column.numeric_column(\"housing_median_age\")\n",
    "\n",
    "# Bucketized cols\n",
    "\n",
    "age_buckets = feature_column.bucketized_column(Age, boundaries=[18, 25, 30, 35, 40, 45, 50, 55, 60, 65])\n",
    "feature_columns.append(age_buckets)\n",
    "\n",
    "\n",
    "# /*****************************************************************************************\n",
    "\n",
    "#Feature Cross\n",
    "\n",
    "vocabulary = dataframe['ocean_proximity'].unique()\n",
    "ocean_proximity = tf.feature_column.categorical_column_with_vocabulary_list('ocean_proximity', vocabulary)\n",
    "\n",
    "crossed_feature = feature_column.crossed_column([age_buckets, ocean_proximity], hash_bucket_size=1000)\n",
    "crossed_feature = feature_column.indicator_column(crossed_feature)\n",
    "feature_columns.append(crossed_feature)"
   ]
  },
  {
   "cell_type": "markdown",
   "metadata": {},
   "source": [
    "Copyright 2020 Google Inc.\n",
    "Licensed under the Apache License, Version 2.0 (the \"License\"); you may not use this file except in compliance with the License. You may obtain a copy of the License at\n",
    "http://www.apache.org/licenses/LICENSE-2.0\n",
    "Unless required by applicable law or agreed to in writing, software distributed under the License is distributed on an \"AS IS\" BASIS, WITHOUT WARRANTIES OR CONDITIONS OF ANY KIND, either express or implied. See the License for the specific language governing permissions and limitations under the License."
   ]
  }
 ],
 "metadata": {
  "colab": {
   "collapsed_sections": [],
   "name": "Basic Feature Engineering in Keras.ipynb",
   "provenance": [],
   "toc_visible": true
  },
  "kernelspec": {
   "display_name": "Python 3",
   "language": "python",
   "name": "python3"
  },
  "language_info": {
   "codemirror_mode": {
    "name": "ipython",
    "version": 3
   },
   "file_extension": ".py",
   "mimetype": "text/x-python",
   "name": "python",
   "nbconvert_exporter": "python",
   "pygments_lexer": "ipython3",
   "version": "3.5.3"
  }
 },
 "nbformat": 4,
 "nbformat_minor": 4
}
