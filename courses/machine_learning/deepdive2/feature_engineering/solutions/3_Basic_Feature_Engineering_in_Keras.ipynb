{
 "cells": [
  {
   "cell_type": "markdown",
   "metadata": {
    "colab_type": "text",
    "id": "rNdWfPXCjTjY"
   },
   "source": [
    "# LAB 03:  Basic Feature Engineering in Keras \n",
    "\n",
    "**Learning Objectives**\n",
    "\n",
    "* Create the project datasets\n",
    "* Create an input pipeline using tf.data\n",
    "* Build, train, and evaluate a Keras Sequential Model \n",
    "* Feature engineer categorical and numeric features \n",
    "* Load and pre-process test data\n",
    "* Create and test a prediction model\n",
    "\n",
    "\n",
    "## Introduction \n",
    "In this lab, we utilize feature engineering to improve the prediction of housing prices using a Keras Sequential Model.  \n",
    "\n",
    "Each learning objective will correspond to a __#TODO__ in this student lab notebook -- try to complete this notebook first and then review the [solution notebook](../solution/feateng-solution_bqml.ipynb). **NOTE TO SELF**:  UPDATE HYPERLINK. "
   ]
  },
  {
   "cell_type": "markdown",
   "metadata": {
    "colab_type": "text",
    "id": "VxyBFc_kKazA"
   },
   "source": [
    "## Import TensorFlow and other libraries"
   ]
  },
  {
   "cell_type": "code",
   "execution_count": 30,
   "metadata": {},
   "outputs": [
    {
     "name": "stdout",
     "output_type": "stream",
     "text": [
      "Requirement already satisfied: sklearn in ./.local/lib/python3.5/site-packages (0.0)\n",
      "Requirement already satisfied: scikit-learn in /usr/local/lib/python3.5/site-packages (from sklearn) (0.19.2)\n",
      "Requirement already satisfied: intel-scipy in /usr/local/lib/python3.5/dist-packages (from scikit-learn->sklearn) (1.1.0)\n",
      "Requirement already satisfied: pydaal in /usr/local/lib/python3.5/dist-packages (from scikit-learn->sklearn) (2019.0.0.20180713)\n",
      "Requirement already satisfied: intel-numpy in /usr/local/lib/python3.5/dist-packages (from intel-scipy->scikit-learn->sklearn) (1.15.1)\n",
      "Requirement already satisfied: tbb4py==2019.* in /usr/local/lib/python3.5/dist-packages (from pydaal->scikit-learn->sklearn) (2019.0)\n",
      "Requirement already satisfied: daal==2019.* in /usr/local/lib/python3.5/dist-packages (from pydaal->scikit-learn->sklearn) (2019.0)\n",
      "Requirement already satisfied: mkl-fft in /usr/local/lib/python3.5/dist-packages (from intel-numpy->intel-scipy->scikit-learn->sklearn) (1.0.6)\n",
      "Requirement already satisfied: icc-rt in /usr/local/lib/python3.5/dist-packages (from intel-numpy->intel-scipy->scikit-learn->sklearn) (2020.0.133)\n",
      "Requirement already satisfied: mkl-random in /usr/local/lib/python3.5/dist-packages (from intel-numpy->intel-scipy->scikit-learn->sklearn) (1.0.1.1)\n",
      "Requirement already satisfied: mkl in /usr/local/lib/python3.5/dist-packages (from intel-numpy->intel-scipy->scikit-learn->sklearn) (2019.0)\n",
      "Requirement already satisfied: tbb==2019.* in /usr/local/lib/python3.5/dist-packages (from tbb4py==2019.*->pydaal->scikit-learn->sklearn) (2019.0)\n",
      "Requirement already satisfied: intel-openmp==2020.* in /usr/local/lib/python3.5/dist-packages (from icc-rt->intel-numpy->intel-scipy->scikit-learn->sklearn) (2020.0.133)\n",
      "\u001b[33mWARNING: You are using pip version 19.3.1; however, version 20.0.2 is available.\n",
      "You should consider upgrading via the 'pip install --upgrade pip' command.\u001b[0m\n",
      "tensorflow==2.0.0\n"
     ]
    }
   ],
   "source": [
    "!pip install --user sklearn\n",
    "!python3 -m pip freeze | grep 'tensorflow==2\\|tensorflow-gpu==2' || \\\n",
    "!python3 -m pip install --user tensorflow==2"
   ]
  },
  {
   "cell_type": "code",
   "execution_count": 31,
   "metadata": {
    "colab": {},
    "colab_type": "code",
    "id": "9dEreb4QKizj"
   },
   "outputs": [
    {
     "name": "stdout",
     "output_type": "stream",
     "text": [
      "TensorFlow version:  2.0.0\n"
     ]
    }
   ],
   "source": [
    "from __future__ import absolute_import, \\\n",
    "    division, print_function, unicode_literals\n",
    "\n",
    "import pandas as pd\n",
    "import tensorflow as tf\n",
    "\n",
    "import tensorflow.keras\n",
    "from tensorflow import feature_column\n",
    "from tensorflow.keras import layers\n",
    "from sklearn.model_selection import train_test_split\n",
    "from sklearn.preprocessing import MinMaxScaler\n",
    "\n",
    "from keras.utils import plot_model\n",
    "from keras.callbacks import TensorBoard, EarlyStopping, ModelCheckpoint\n",
    "\n",
    "print(\"TensorFlow version: \",tf.version.VERSION)\n"
   ]
  },
  {
   "cell_type": "code",
   "execution_count": 32,
   "metadata": {},
   "outputs": [
    {
     "data": {
      "text/plain": [
       "'float64'"
      ]
     },
     "execution_count": 32,
     "metadata": {},
     "output_type": "execute_result"
    }
   ],
   "source": [
    "from keras import backend as K\n",
    "tf.keras.backend.set_floatx('float64')\n",
    "K.floatx()"
   ]
  },
  {
   "cell_type": "markdown",
   "metadata": {},
   "source": [
    "## The Source Dataset\n",
    "\n",
    "Many of the Google Machine Learning Courses Programming Exercises use the  [California Housing Dataset](https://developers.google.com/machine-learning/crash-course/california-housing-data-description\n",
    "), which contains data drawn from the 1990 U.S. Census.  Our lab dataset has been pre-processed so that there are no missing values.\n",
    "\n",
    "### Load raw data\n",
    "First, let's download the raw .csv data by copying the data from a cloud storage bucket.\n"
   ]
  },
  {
   "cell_type": "code",
   "execution_count": 33,
   "metadata": {},
   "outputs": [
    {
     "name": "stdout",
     "output_type": "stream",
     "text": [
      "Copying gs://cloud-training-demos/feat_eng/housing/housing_pre-proc.csv...\n",
      "/ [1 files][  1.4 MiB/  1.4 MiB]                                                \n",
      "Operation completed over 1 objects/1.4 MiB.                                      \n",
      "housing_pre-proc.csv\n"
     ]
    }
   ],
   "source": [
    "!gsutil cp gs://cloud-training-demos/feat_eng/housing/housing_pre-proc.csv .\n",
    "    \n",
    "!ls housing_pre-proc.csv"
   ]
  },
  {
   "cell_type": "markdown",
   "metadata": {},
   "source": [
    "## Locate the CSV files"
   ]
  },
  {
   "cell_type": "markdown",
   "metadata": {
    "colab_type": "text",
    "id": "lM6-n6xntv3t"
   },
   "source": [
    "#### **Exercise**:   **RUN** the cell to read in the dataset and create a Pandas dataframe"
   ]
  },
  {
   "cell_type": "code",
   "execution_count": 34,
   "metadata": {
    "colab": {
     "base_uri": "https://localhost:8080/",
     "height": 222
    },
    "colab_type": "code",
    "id": "REZ57BXCLdfG",
    "outputId": "a6ef2eda-c7eb-4e2d-92e4-e7fcaa20b0af"
   },
   "outputs": [
    {
     "data": {
      "text/html": [
       "<div>\n",
       "<style scoped>\n",
       "    .dataframe tbody tr th:only-of-type {\n",
       "        vertical-align: middle;\n",
       "    }\n",
       "\n",
       "    .dataframe tbody tr th {\n",
       "        vertical-align: top;\n",
       "    }\n",
       "\n",
       "    .dataframe thead th {\n",
       "        text-align: right;\n",
       "    }\n",
       "</style>\n",
       "<table border=\"1\" class=\"dataframe\">\n",
       "  <thead>\n",
       "    <tr style=\"text-align: right;\">\n",
       "      <th></th>\n",
       "      <th>longitude</th>\n",
       "      <th>latitude</th>\n",
       "      <th>housing_median_age</th>\n",
       "      <th>total_rooms</th>\n",
       "      <th>total_bedrooms</th>\n",
       "      <th>population</th>\n",
       "      <th>households</th>\n",
       "      <th>median_income</th>\n",
       "      <th>median_house_value</th>\n",
       "      <th>ocean_proximity</th>\n",
       "    </tr>\n",
       "  </thead>\n",
       "  <tbody>\n",
       "    <tr>\n",
       "      <th>0</th>\n",
       "      <td>-122.23</td>\n",
       "      <td>37.88</td>\n",
       "      <td>41.0</td>\n",
       "      <td>880.0</td>\n",
       "      <td>129.0</td>\n",
       "      <td>322.0</td>\n",
       "      <td>126.0</td>\n",
       "      <td>8.3252</td>\n",
       "      <td>452600.0</td>\n",
       "      <td>NEAR BAY</td>\n",
       "    </tr>\n",
       "    <tr>\n",
       "      <th>1</th>\n",
       "      <td>-122.22</td>\n",
       "      <td>37.86</td>\n",
       "      <td>21.0</td>\n",
       "      <td>7099.0</td>\n",
       "      <td>1106.0</td>\n",
       "      <td>2401.0</td>\n",
       "      <td>1138.0</td>\n",
       "      <td>8.3014</td>\n",
       "      <td>358500.0</td>\n",
       "      <td>NEAR BAY</td>\n",
       "    </tr>\n",
       "    <tr>\n",
       "      <th>2</th>\n",
       "      <td>-122.24</td>\n",
       "      <td>37.85</td>\n",
       "      <td>52.0</td>\n",
       "      <td>1467.0</td>\n",
       "      <td>190.0</td>\n",
       "      <td>496.0</td>\n",
       "      <td>177.0</td>\n",
       "      <td>7.2574</td>\n",
       "      <td>352100.0</td>\n",
       "      <td>NEAR BAY</td>\n",
       "    </tr>\n",
       "    <tr>\n",
       "      <th>3</th>\n",
       "      <td>-122.25</td>\n",
       "      <td>37.85</td>\n",
       "      <td>52.0</td>\n",
       "      <td>1274.0</td>\n",
       "      <td>235.0</td>\n",
       "      <td>558.0</td>\n",
       "      <td>219.0</td>\n",
       "      <td>5.6431</td>\n",
       "      <td>341300.0</td>\n",
       "      <td>NEAR BAY</td>\n",
       "    </tr>\n",
       "    <tr>\n",
       "      <th>4</th>\n",
       "      <td>-122.25</td>\n",
       "      <td>37.85</td>\n",
       "      <td>52.0</td>\n",
       "      <td>1627.0</td>\n",
       "      <td>280.0</td>\n",
       "      <td>565.0</td>\n",
       "      <td>259.0</td>\n",
       "      <td>3.8462</td>\n",
       "      <td>342200.0</td>\n",
       "      <td>NEAR BAY</td>\n",
       "    </tr>\n",
       "  </tbody>\n",
       "</table>\n",
       "</div>"
      ],
      "text/plain": [
       "   longitude  latitude  housing_median_age  total_rooms  total_bedrooms  \\\n",
       "0    -122.23     37.88                41.0        880.0           129.0   \n",
       "1    -122.22     37.86                21.0       7099.0          1106.0   \n",
       "2    -122.24     37.85                52.0       1467.0           190.0   \n",
       "3    -122.25     37.85                52.0       1274.0           235.0   \n",
       "4    -122.25     37.85                52.0       1627.0           280.0   \n",
       "\n",
       "   population  households  median_income  median_house_value ocean_proximity  \n",
       "0       322.0       126.0         8.3252            452600.0        NEAR BAY  \n",
       "1      2401.0      1138.0         8.3014            358500.0        NEAR BAY  \n",
       "2       496.0       177.0         7.2574            352100.0        NEAR BAY  \n",
       "3       558.0       219.0         5.6431            341300.0        NEAR BAY  \n",
       "4       565.0       259.0         3.8462            342200.0        NEAR BAY  "
      ]
     },
     "execution_count": 34,
     "metadata": {},
     "output_type": "execute_result"
    }
   ],
   "source": [
    "dataframe = pd.read_csv('housing_pre-proc.csv', error_bad_lines=False)\n",
    "dataframe.head()"
   ]
  },
  {
   "cell_type": "code",
   "execution_count": 35,
   "metadata": {
    "colab": {
     "base_uri": "https://localhost:8080/",
     "height": 277
    },
    "colab_type": "code",
    "id": "ieimDrzpxfe6",
    "outputId": "afcb9a7e-0704-44e7-e998-8145f94c9593"
   },
   "outputs": [
    {
     "name": "stdout",
     "output_type": "stream",
     "text": [
      "<class 'pandas.core.frame.DataFrame'>\n",
      "RangeIndex: 20433 entries, 0 to 20432\n",
      "Data columns (total 10 columns):\n",
      "longitude             20433 non-null float64\n",
      "latitude              20433 non-null float64\n",
      "housing_median_age    20433 non-null float64\n",
      "total_rooms           20433 non-null float64\n",
      "total_bedrooms        20433 non-null float64\n",
      "population            20433 non-null float64\n",
      "households            20433 non-null float64\n",
      "median_income         20433 non-null float64\n",
      "median_house_value    20433 non-null float64\n",
      "ocean_proximity       20433 non-null object\n",
      "dtypes: float64(9), object(1)\n",
      "memory usage: 1.6+ MB\n"
     ]
    }
   ],
   "source": [
    "# See datatype for each feature\n",
    "\n",
    "dataframe.info()"
   ]
  },
  {
   "cell_type": "code",
   "execution_count": 36,
   "metadata": {
    "colab": {
     "base_uri": "https://localhost:8080/",
     "height": 207
    },
    "colab_type": "code",
    "id": "8ySDIORqmd77",
    "outputId": "2c72219a-5ad2-4c40-c9f6-bfb41a27e5b6"
   },
   "outputs": [
    {
     "data": {
      "text/plain": [
       "longitude             0\n",
       "latitude              0\n",
       "housing_median_age    0\n",
       "total_rooms           0\n",
       "total_bedrooms        0\n",
       "population            0\n",
       "households            0\n",
       "median_income         0\n",
       "median_house_value    0\n",
       "ocean_proximity       0\n",
       "dtype: int64"
      ]
     },
     "execution_count": 36,
     "metadata": {},
     "output_type": "execute_result"
    }
   ],
   "source": [
    "# Check for null values\n",
    "\n",
    "dataframe.isnull().sum()"
   ]
  },
  {
   "cell_type": "markdown",
   "metadata": {
    "colab_type": "text",
    "id": "u0zhLtQqMPem"
   },
   "source": [
    "####  Split the dataset for ML\n",
    "\n",
    "The dataset we loaded was a single CSV file. We will split this into train, validation, and test sets.\n"
   ]
  },
  {
   "cell_type": "code",
   "execution_count": 37,
   "metadata": {
    "colab": {
     "base_uri": "https://localhost:8080/",
     "height": 69
    },
    "colab_type": "code",
    "id": "YEOpw7LhMYsI",
    "outputId": "6161a660-7133-465a-d754-d7acae2b68c8"
   },
   "outputs": [
    {
     "name": "stdout",
     "output_type": "stream",
     "text": [
      "13076 train examples\n",
      "3270 validation examples\n",
      "4087 test examples\n"
     ]
    }
   ],
   "source": [
    "train, test = train_test_split(dataframe, test_size=0.2)\n",
    "train, val = train_test_split(train, test_size=0.2)\n",
    "print(len(train), 'train examples')\n",
    "print(len(val), 'validation examples')\n",
    "print(len(test), 'test examples')"
   ]
  },
  {
   "cell_type": "code",
   "execution_count": 38,
   "metadata": {
    "colab": {
     "base_uri": "https://localhost:8080/",
     "height": 641
    },
    "colab_type": "code",
    "id": "EFz_dsZ2-Cxl",
    "outputId": "9a4ae158-c394-4b7b-cf7a-cd801acb4c9f"
   },
   "outputs": [
    {
     "name": "stdout",
     "output_type": "stream",
     "text": [
      "\n",
      "Train:\n",
      "\n",
      "       longitude  latitude  housing_median_age  total_rooms  total_bedrooms  \\\n",
      "19995    -119.20     34.26                13.0       3009.0           588.0   \n",
      "14188    -117.15     32.72                52.0        344.0           177.0   \n",
      "17259    -120.46     34.65                10.0       2143.0           593.0   \n",
      "8720     -118.31     33.77                20.0       5776.0           956.0   \n",
      "7920     -118.11     33.85                36.0        887.0           163.0   \n",
      "\n",
      "       population  households  median_income  median_house_value  \\\n",
      "19995      1439.0       607.0         4.1845            199500.0   \n",
      "14188       460.0       147.0         1.2292            137500.0   \n",
      "17259      1167.0       548.0         2.0819            103300.0   \n",
      "8720       2757.0       936.0         6.6447            416800.0   \n",
      "7920        482.0       157.0         4.1250            219500.0   \n",
      "\n",
      "      ocean_proximity  \n",
      "19995      NEAR OCEAN  \n",
      "14188      NEAR OCEAN  \n",
      "17259      NEAR OCEAN  \n",
      "8720        <1H OCEAN  \n",
      "7920        <1H OCEAN  \n",
      "(13076, 10)\n",
      "\n",
      "Validati:\n",
      "\n",
      "       longitude  latitude  housing_median_age  total_rooms  total_bedrooms  \\\n",
      "9426     -123.19     39.15                16.0       2577.0           495.0   \n",
      "3352     -118.27     34.25                37.0       2489.0           454.0   \n",
      "5640     -118.25     34.23                41.0       1979.0           496.0   \n",
      "13819    -117.13     34.24                17.0       2828.0           506.0   \n",
      "13481    -117.25     34.14                19.0       5163.0          1229.0   \n",
      "\n",
      "       population  households  median_income  median_house_value  \\\n",
      "9426       1232.0       488.0         2.6012            125600.0   \n",
      "3352       1215.0       431.0         5.0234            257600.0   \n",
      "5640       1157.0       459.0         4.4083            217700.0   \n",
      "13819       673.0       274.0         5.2563            144100.0   \n",
      "13481      2680.0      1141.0         2.2482            114500.0   \n",
      "\n",
      "      ocean_proximity  \n",
      "9426        <1H OCEAN  \n",
      "3352        <1H OCEAN  \n",
      "5640        <1H OCEAN  \n",
      "13819          INLAND  \n",
      "13481          INLAND  \n",
      "(3270, 10)\n",
      "\n",
      "Test:\n",
      "\n",
      "       longitude  latitude  housing_median_age  total_rooms  total_bedrooms  \\\n",
      "19500    -121.60     39.12                21.0       1299.0           338.0   \n",
      "9174     -119.98     36.86                31.0       2366.0           482.0   \n",
      "2834     -118.94     35.40                14.0       5548.0           941.0   \n",
      "15320    -117.21     33.16                13.0       2937.0           698.0   \n",
      "14297    -117.24     32.80                26.0       3433.0           873.0   \n",
      "\n",
      "       population  households  median_income  median_house_value  \\\n",
      "19500      1494.0       311.0         1.3348            225000.0   \n",
      "9174       1933.0       433.0         3.0234             65000.0   \n",
      "2834       2815.0       935.0         4.2214            104600.0   \n",
      "15320      1246.0       579.0         2.6487            196000.0   \n",
      "14297      1492.0       798.0         2.9258            234800.0   \n",
      "\n",
      "      ocean_proximity  \n",
      "19500          INLAND  \n",
      "9174           INLAND  \n",
      "2834           INLAND  \n",
      "15320       <1H OCEAN  \n",
      "14297      NEAR OCEAN  \n",
      "(4087, 10)\n"
     ]
    }
   ],
   "source": [
    "# Print out the output.\n",
    "\n",
    "print(\"\\nTrain:\\n\")\n",
    "print(train.head())\n",
    "print(train.shape)\n",
    "\n",
    "print(\"\\nValidati:\\n\")\n",
    "print(val.head())\n",
    "print(val.shape)\n",
    "\n",
    "print(\"\\nTest:\\n\")\n",
    "print(test.head())\n",
    "print(test.shape)"
   ]
  },
  {
   "cell_type": "markdown",
   "metadata": {
    "colab_type": "text",
    "id": "dz9kfjOMBX9U"
   },
   "source": [
    "Now, we need to output the split files.  We will specifically need the test.csv later for testing.  You should see the files appear in the home directory.\n"
   ]
  },
  {
   "cell_type": "code",
   "execution_count": 39,
   "metadata": {
    "colab": {
     "base_uri": "https://localhost:8080/",
     "height": 222
    },
    "colab_type": "code",
    "id": "ADX23QUu_Wiu",
    "outputId": "e97fa59e-4ed4-48a3-8fba-c95f293944ee"
   },
   "outputs": [
    {
     "data": {
      "text/html": [
       "<div>\n",
       "<style scoped>\n",
       "    .dataframe tbody tr th:only-of-type {\n",
       "        vertical-align: middle;\n",
       "    }\n",
       "\n",
       "    .dataframe tbody tr th {\n",
       "        vertical-align: top;\n",
       "    }\n",
       "\n",
       "    .dataframe thead th {\n",
       "        text-align: right;\n",
       "    }\n",
       "</style>\n",
       "<table border=\"1\" class=\"dataframe\">\n",
       "  <thead>\n",
       "    <tr style=\"text-align: right;\">\n",
       "      <th></th>\n",
       "      <th>longitude</th>\n",
       "      <th>latitude</th>\n",
       "      <th>housing_median_age</th>\n",
       "      <th>total_rooms</th>\n",
       "      <th>total_bedrooms</th>\n",
       "      <th>population</th>\n",
       "      <th>households</th>\n",
       "      <th>median_income</th>\n",
       "      <th>median_house_value</th>\n",
       "      <th>ocean_proximity</th>\n",
       "    </tr>\n",
       "  </thead>\n",
       "  <tbody>\n",
       "    <tr>\n",
       "      <th>19995</th>\n",
       "      <td>-119.20</td>\n",
       "      <td>34.26</td>\n",
       "      <td>13.0</td>\n",
       "      <td>3009.0</td>\n",
       "      <td>588.0</td>\n",
       "      <td>1439.0</td>\n",
       "      <td>607.0</td>\n",
       "      <td>4.1845</td>\n",
       "      <td>199500.0</td>\n",
       "      <td>NEAR OCEAN</td>\n",
       "    </tr>\n",
       "    <tr>\n",
       "      <th>14188</th>\n",
       "      <td>-117.15</td>\n",
       "      <td>32.72</td>\n",
       "      <td>52.0</td>\n",
       "      <td>344.0</td>\n",
       "      <td>177.0</td>\n",
       "      <td>460.0</td>\n",
       "      <td>147.0</td>\n",
       "      <td>1.2292</td>\n",
       "      <td>137500.0</td>\n",
       "      <td>NEAR OCEAN</td>\n",
       "    </tr>\n",
       "    <tr>\n",
       "      <th>17259</th>\n",
       "      <td>-120.46</td>\n",
       "      <td>34.65</td>\n",
       "      <td>10.0</td>\n",
       "      <td>2143.0</td>\n",
       "      <td>593.0</td>\n",
       "      <td>1167.0</td>\n",
       "      <td>548.0</td>\n",
       "      <td>2.0819</td>\n",
       "      <td>103300.0</td>\n",
       "      <td>NEAR OCEAN</td>\n",
       "    </tr>\n",
       "    <tr>\n",
       "      <th>8720</th>\n",
       "      <td>-118.31</td>\n",
       "      <td>33.77</td>\n",
       "      <td>20.0</td>\n",
       "      <td>5776.0</td>\n",
       "      <td>956.0</td>\n",
       "      <td>2757.0</td>\n",
       "      <td>936.0</td>\n",
       "      <td>6.6447</td>\n",
       "      <td>416800.0</td>\n",
       "      <td>&lt;1H OCEAN</td>\n",
       "    </tr>\n",
       "    <tr>\n",
       "      <th>7920</th>\n",
       "      <td>-118.11</td>\n",
       "      <td>33.85</td>\n",
       "      <td>36.0</td>\n",
       "      <td>887.0</td>\n",
       "      <td>163.0</td>\n",
       "      <td>482.0</td>\n",
       "      <td>157.0</td>\n",
       "      <td>4.1250</td>\n",
       "      <td>219500.0</td>\n",
       "      <td>&lt;1H OCEAN</td>\n",
       "    </tr>\n",
       "  </tbody>\n",
       "</table>\n",
       "</div>"
      ],
      "text/plain": [
       "       longitude  latitude  housing_median_age  total_rooms  total_bedrooms  \\\n",
       "19995    -119.20     34.26                13.0       3009.0           588.0   \n",
       "14188    -117.15     32.72                52.0        344.0           177.0   \n",
       "17259    -120.46     34.65                10.0       2143.0           593.0   \n",
       "8720     -118.31     33.77                20.0       5776.0           956.0   \n",
       "7920     -118.11     33.85                36.0        887.0           163.0   \n",
       "\n",
       "       population  households  median_income  median_house_value  \\\n",
       "19995      1439.0       607.0         4.1845            199500.0   \n",
       "14188       460.0       147.0         1.2292            137500.0   \n",
       "17259      1167.0       548.0         2.0819            103300.0   \n",
       "8720       2757.0       936.0         6.6447            416800.0   \n",
       "7920        482.0       157.0         4.1250            219500.0   \n",
       "\n",
       "      ocean_proximity  \n",
       "19995      NEAR OCEAN  \n",
       "14188      NEAR OCEAN  \n",
       "17259      NEAR OCEAN  \n",
       "8720        <1H OCEAN  \n",
       "7920        <1H OCEAN  "
      ]
     },
     "execution_count": 39,
     "metadata": {},
     "output_type": "execute_result"
    }
   ],
   "source": [
    "train.to_csv('train.csv', encoding='utf-8', index=False)\n",
    "train.head()"
   ]
  },
  {
   "cell_type": "code",
   "execution_count": 40,
   "metadata": {
    "colab": {
     "base_uri": "https://localhost:8080/",
     "height": 222
    },
    "colab_type": "code",
    "id": "CU1FgmKEAmWh",
    "outputId": "2cce91e1-2c4a-4fe8-a6c3-3da52cb9458f"
   },
   "outputs": [
    {
     "data": {
      "text/html": [
       "<div>\n",
       "<style scoped>\n",
       "    .dataframe tbody tr th:only-of-type {\n",
       "        vertical-align: middle;\n",
       "    }\n",
       "\n",
       "    .dataframe tbody tr th {\n",
       "        vertical-align: top;\n",
       "    }\n",
       "\n",
       "    .dataframe thead th {\n",
       "        text-align: right;\n",
       "    }\n",
       "</style>\n",
       "<table border=\"1\" class=\"dataframe\">\n",
       "  <thead>\n",
       "    <tr style=\"text-align: right;\">\n",
       "      <th></th>\n",
       "      <th>longitude</th>\n",
       "      <th>latitude</th>\n",
       "      <th>housing_median_age</th>\n",
       "      <th>total_rooms</th>\n",
       "      <th>total_bedrooms</th>\n",
       "      <th>population</th>\n",
       "      <th>households</th>\n",
       "      <th>median_income</th>\n",
       "      <th>median_house_value</th>\n",
       "      <th>ocean_proximity</th>\n",
       "    </tr>\n",
       "  </thead>\n",
       "  <tbody>\n",
       "    <tr>\n",
       "      <th>9426</th>\n",
       "      <td>-123.19</td>\n",
       "      <td>39.15</td>\n",
       "      <td>16.0</td>\n",
       "      <td>2577.0</td>\n",
       "      <td>495.0</td>\n",
       "      <td>1232.0</td>\n",
       "      <td>488.0</td>\n",
       "      <td>2.6012</td>\n",
       "      <td>125600.0</td>\n",
       "      <td>&lt;1H OCEAN</td>\n",
       "    </tr>\n",
       "    <tr>\n",
       "      <th>3352</th>\n",
       "      <td>-118.27</td>\n",
       "      <td>34.25</td>\n",
       "      <td>37.0</td>\n",
       "      <td>2489.0</td>\n",
       "      <td>454.0</td>\n",
       "      <td>1215.0</td>\n",
       "      <td>431.0</td>\n",
       "      <td>5.0234</td>\n",
       "      <td>257600.0</td>\n",
       "      <td>&lt;1H OCEAN</td>\n",
       "    </tr>\n",
       "    <tr>\n",
       "      <th>5640</th>\n",
       "      <td>-118.25</td>\n",
       "      <td>34.23</td>\n",
       "      <td>41.0</td>\n",
       "      <td>1979.0</td>\n",
       "      <td>496.0</td>\n",
       "      <td>1157.0</td>\n",
       "      <td>459.0</td>\n",
       "      <td>4.4083</td>\n",
       "      <td>217700.0</td>\n",
       "      <td>&lt;1H OCEAN</td>\n",
       "    </tr>\n",
       "    <tr>\n",
       "      <th>13819</th>\n",
       "      <td>-117.13</td>\n",
       "      <td>34.24</td>\n",
       "      <td>17.0</td>\n",
       "      <td>2828.0</td>\n",
       "      <td>506.0</td>\n",
       "      <td>673.0</td>\n",
       "      <td>274.0</td>\n",
       "      <td>5.2563</td>\n",
       "      <td>144100.0</td>\n",
       "      <td>INLAND</td>\n",
       "    </tr>\n",
       "    <tr>\n",
       "      <th>13481</th>\n",
       "      <td>-117.25</td>\n",
       "      <td>34.14</td>\n",
       "      <td>19.0</td>\n",
       "      <td>5163.0</td>\n",
       "      <td>1229.0</td>\n",
       "      <td>2680.0</td>\n",
       "      <td>1141.0</td>\n",
       "      <td>2.2482</td>\n",
       "      <td>114500.0</td>\n",
       "      <td>INLAND</td>\n",
       "    </tr>\n",
       "  </tbody>\n",
       "</table>\n",
       "</div>"
      ],
      "text/plain": [
       "       longitude  latitude  housing_median_age  total_rooms  total_bedrooms  \\\n",
       "9426     -123.19     39.15                16.0       2577.0           495.0   \n",
       "3352     -118.27     34.25                37.0       2489.0           454.0   \n",
       "5640     -118.25     34.23                41.0       1979.0           496.0   \n",
       "13819    -117.13     34.24                17.0       2828.0           506.0   \n",
       "13481    -117.25     34.14                19.0       5163.0          1229.0   \n",
       "\n",
       "       population  households  median_income  median_house_value  \\\n",
       "9426       1232.0       488.0         2.6012            125600.0   \n",
       "3352       1215.0       431.0         5.0234            257600.0   \n",
       "5640       1157.0       459.0         4.4083            217700.0   \n",
       "13819       673.0       274.0         5.2563            144100.0   \n",
       "13481      2680.0      1141.0         2.2482            114500.0   \n",
       "\n",
       "      ocean_proximity  \n",
       "9426        <1H OCEAN  \n",
       "3352        <1H OCEAN  \n",
       "5640        <1H OCEAN  \n",
       "13819          INLAND  \n",
       "13481          INLAND  "
      ]
     },
     "execution_count": 40,
     "metadata": {},
     "output_type": "execute_result"
    }
   ],
   "source": [
    "val.to_csv('val.csv', encoding='utf-8', index=False)\n",
    "val.head()"
   ]
  },
  {
   "cell_type": "code",
   "execution_count": 41,
   "metadata": {
    "colab": {
     "base_uri": "https://localhost:8080/",
     "height": 222
    },
    "colab_type": "code",
    "id": "LvUNWv9iBMFx",
    "outputId": "f71fac39-3f45-44ab-9b3a-7612731dc0e6"
   },
   "outputs": [
    {
     "data": {
      "text/html": [
       "<div>\n",
       "<style scoped>\n",
       "    .dataframe tbody tr th:only-of-type {\n",
       "        vertical-align: middle;\n",
       "    }\n",
       "\n",
       "    .dataframe tbody tr th {\n",
       "        vertical-align: top;\n",
       "    }\n",
       "\n",
       "    .dataframe thead th {\n",
       "        text-align: right;\n",
       "    }\n",
       "</style>\n",
       "<table border=\"1\" class=\"dataframe\">\n",
       "  <thead>\n",
       "    <tr style=\"text-align: right;\">\n",
       "      <th></th>\n",
       "      <th>longitude</th>\n",
       "      <th>latitude</th>\n",
       "      <th>housing_median_age</th>\n",
       "      <th>total_rooms</th>\n",
       "      <th>total_bedrooms</th>\n",
       "      <th>population</th>\n",
       "      <th>households</th>\n",
       "      <th>median_income</th>\n",
       "      <th>median_house_value</th>\n",
       "      <th>ocean_proximity</th>\n",
       "    </tr>\n",
       "  </thead>\n",
       "  <tbody>\n",
       "    <tr>\n",
       "      <th>19500</th>\n",
       "      <td>-121.60</td>\n",
       "      <td>39.12</td>\n",
       "      <td>21.0</td>\n",
       "      <td>1299.0</td>\n",
       "      <td>338.0</td>\n",
       "      <td>1494.0</td>\n",
       "      <td>311.0</td>\n",
       "      <td>1.3348</td>\n",
       "      <td>225000.0</td>\n",
       "      <td>INLAND</td>\n",
       "    </tr>\n",
       "    <tr>\n",
       "      <th>9174</th>\n",
       "      <td>-119.98</td>\n",
       "      <td>36.86</td>\n",
       "      <td>31.0</td>\n",
       "      <td>2366.0</td>\n",
       "      <td>482.0</td>\n",
       "      <td>1933.0</td>\n",
       "      <td>433.0</td>\n",
       "      <td>3.0234</td>\n",
       "      <td>65000.0</td>\n",
       "      <td>INLAND</td>\n",
       "    </tr>\n",
       "    <tr>\n",
       "      <th>2834</th>\n",
       "      <td>-118.94</td>\n",
       "      <td>35.40</td>\n",
       "      <td>14.0</td>\n",
       "      <td>5548.0</td>\n",
       "      <td>941.0</td>\n",
       "      <td>2815.0</td>\n",
       "      <td>935.0</td>\n",
       "      <td>4.2214</td>\n",
       "      <td>104600.0</td>\n",
       "      <td>INLAND</td>\n",
       "    </tr>\n",
       "    <tr>\n",
       "      <th>15320</th>\n",
       "      <td>-117.21</td>\n",
       "      <td>33.16</td>\n",
       "      <td>13.0</td>\n",
       "      <td>2937.0</td>\n",
       "      <td>698.0</td>\n",
       "      <td>1246.0</td>\n",
       "      <td>579.0</td>\n",
       "      <td>2.6487</td>\n",
       "      <td>196000.0</td>\n",
       "      <td>&lt;1H OCEAN</td>\n",
       "    </tr>\n",
       "    <tr>\n",
       "      <th>14297</th>\n",
       "      <td>-117.24</td>\n",
       "      <td>32.80</td>\n",
       "      <td>26.0</td>\n",
       "      <td>3433.0</td>\n",
       "      <td>873.0</td>\n",
       "      <td>1492.0</td>\n",
       "      <td>798.0</td>\n",
       "      <td>2.9258</td>\n",
       "      <td>234800.0</td>\n",
       "      <td>NEAR OCEAN</td>\n",
       "    </tr>\n",
       "  </tbody>\n",
       "</table>\n",
       "</div>"
      ],
      "text/plain": [
       "       longitude  latitude  housing_median_age  total_rooms  total_bedrooms  \\\n",
       "19500    -121.60     39.12                21.0       1299.0           338.0   \n",
       "9174     -119.98     36.86                31.0       2366.0           482.0   \n",
       "2834     -118.94     35.40                14.0       5548.0           941.0   \n",
       "15320    -117.21     33.16                13.0       2937.0           698.0   \n",
       "14297    -117.24     32.80                26.0       3433.0           873.0   \n",
       "\n",
       "       population  households  median_income  median_house_value  \\\n",
       "19500      1494.0       311.0         1.3348            225000.0   \n",
       "9174       1933.0       433.0         3.0234             65000.0   \n",
       "2834       2815.0       935.0         4.2214            104600.0   \n",
       "15320      1246.0       579.0         2.6487            196000.0   \n",
       "14297      1492.0       798.0         2.9258            234800.0   \n",
       "\n",
       "      ocean_proximity  \n",
       "19500          INLAND  \n",
       "9174           INLAND  \n",
       "2834           INLAND  \n",
       "15320       <1H OCEAN  \n",
       "14297      NEAR OCEAN  "
      ]
     },
     "execution_count": 41,
     "metadata": {},
     "output_type": "execute_result"
    }
   ],
   "source": [
    "test.to_csv('test.csv', encoding='utf-8', index=False)\n",
    "test.head()"
   ]
  },
  {
   "cell_type": "markdown",
   "metadata": {
    "colab_type": "text",
    "id": "Aj35eYy_lutI"
   },
   "source": [
    "## Build an input pipeline"
   ]
  },
  {
   "cell_type": "markdown",
   "metadata": {
    "colab_type": "text",
    "id": "84ef46LXMfvu"
   },
   "source": [
    "Next, we will wrap the dataframes with [tf.data](https://www.tensorflow.org/guide/datasets). This will enable us  to use feature columns as a bridge to map from the columns in the Pandas dataframe to features used to train the model. \n",
    "\n",
    "#### **Exercise**:   Create an input pipeline using tf.data.  This function is missing two lines.  Correct and run the cell."
   ]
  },
  {
   "cell_type": "code",
   "execution_count": 42,
   "metadata": {
    "colab": {},
    "colab_type": "code",
    "id": "NkcaMYP-MsRe"
   },
   "outputs": [],
   "source": [
    "# A utility method to create a tf.data dataset from a Pandas Dataframe\n",
    "\n",
    "\n",
    "def df_to_dataset(dataframe, shuffle=True, batch_size=32):\n",
    "  dataframe = dataframe.copy()\n",
    "  labels = dataframe.pop('median_house_value')\n",
    "  ds = tf.data.Dataset.from_tensor_slices((dict(dataframe), labels))\n",
    "  if shuffle:\n",
    "    ds = ds.shuffle(buffer_size=len(dataframe))\n",
    "  ds = ds.batch(batch_size)\n",
    "  return ds"
   ]
  },
  {
   "cell_type": "markdown",
   "metadata": {
    "colab_type": "text",
    "id": "RtTJZeyzAszs"
   },
   "source": [
    "**RUN** the cell to initialize the training datasets."
   ]
  },
  {
   "cell_type": "code",
   "execution_count": 43,
   "metadata": {
    "colab": {},
    "colab_type": "code",
    "id": "CXbbXkJvMy34"
   },
   "outputs": [],
   "source": [
    "batch_size = 32\n",
    "train_ds = df_to_dataset(train, batch_size=batch_size)\n",
    "val_ds = df_to_dataset(val, shuffle=False, batch_size=batch_size)\n",
    "test_ds = df_to_dataset(test, shuffle=False, batch_size=batch_size)"
   ]
  },
  {
   "cell_type": "markdown",
   "metadata": {
    "colab_type": "text",
    "id": "qRLGSMDzM-dl"
   },
   "source": [
    "## Understand the input pipeline\n",
    "\n",
    "Now that we have created the input pipeline, let's call it to see the format of the data it returns. We have used a small batch size to keep the output readable."
   ]
  },
  {
   "cell_type": "markdown",
   "metadata": {
    "colab_type": "text",
    "id": "gSyRhEJuA9e2"
   },
   "source": [
    "#### **Exercise**:   **RUN** the cell to see a sample of the features from the batch."
   ]
  },
  {
   "cell_type": "code",
   "execution_count": 44,
   "metadata": {
    "colab": {
     "base_uri": "https://localhost:8080/",
     "height": 331
    },
    "colab_type": "code",
    "id": "CSBo3dUVNFc9",
    "outputId": "d1be2646-b1e5-4110-dbba-5bc49d9b30f6"
   },
   "outputs": [
    {
     "name": "stdout",
     "output_type": "stream",
     "text": [
      "Every feature: ['households', 'ocean_proximity', 'housing_median_age', 'population', 'latitude', 'median_income', 'total_bedrooms', 'total_rooms', 'longitude']\n",
      "A batch of households: tf.Tensor(\n",
      "[587. 466. 255. 575. 479. 846. 814. 256. 552. 873. 431. 402. 337. 602.\n",
      " 744. 637. 569. 134. 632. 505. 435. 635. 370. 218. 370. 226. 530. 388.\n",
      " 285. 227. 451.  21.], shape=(32,), dtype=float32)\n",
      "A batch of ocean_proximity: tf.Tensor(\n",
      "[b'NEAR OCEAN' b'INLAND' b'INLAND' b'INLAND' b'NEAR BAY' b'INLAND'\n",
      " b'<1H OCEAN' b'<1H OCEAN' b'NEAR OCEAN' b'NEAR BAY' b'INLAND'\n",
      " b'<1H OCEAN' b'INLAND' b'NEAR OCEAN' b'NEAR OCEAN' b'<1H OCEAN'\n",
      " b'<1H OCEAN' b'INLAND' b'<1H OCEAN' b'INLAND' b'<1H OCEAN' b'INLAND'\n",
      " b'<1H OCEAN' b'NEAR BAY' b'<1H OCEAN' b'<1H OCEAN' b'<1H OCEAN' b'INLAND'\n",
      " b'<1H OCEAN' b'INLAND' b'NEAR BAY' b'INLAND'], shape=(32,), dtype=string)\n",
      "A batch of targets: tf.Tensor(\n",
      "[175000. 119000. 165500. 116100. 295200. 146500. 238900. 226800. 500001.\n",
      " 271000. 202800.  96900.  56800. 119200. 204800. 247600. 214600. 152500.\n",
      " 387800.  65200. 500001. 164800. 162500. 322300. 190600. 431800. 210700.\n",
      "  96800.  89800.  75800.  96700. 175000.], shape=(32,), dtype=float32)\n"
     ]
    }
   ],
   "source": [
    "for feature_batch, label_batch in train_ds.take(1):\n",
    "    print('Every feature:', list(feature_batch.keys()))\n",
    "    print('A batch of households:', feature_batch['households'])\n",
    "    print('A batch of ocean_proximity:', feature_batch['ocean_proximity'])\n",
    "    print('A batch of targets:', label_batch)"
   ]
  },
  {
   "cell_type": "markdown",
   "metadata": {
    "colab_type": "text",
    "id": "OT5N6Se-NQsC"
   },
   "source": [
    "We can see that the dataset returns a dictionary of column names (from the dataframe) that map to column values from rows in the dataframe."
   ]
  },
  {
   "cell_type": "markdown",
   "metadata": {
    "colab_type": "text",
    "id": "YEGEAqaziwfC"
   },
   "source": [
    "### Numeric columns\n",
    "The output of a feature column becomes the input to the model. A numeric is the simplest type of column. It is used to represent real valued features. When using this column, your model will receive the column value from the dataframe unchanged.\n",
    "\n",
    "In the California housing prices dataset, most columns from the dataframe are numeric."
   ]
  },
  {
   "cell_type": "markdown",
   "metadata": {
    "colab_type": "text",
    "id": "jioIeb9lBGNN"
   },
   "source": [
    "#### **Exercise**:   Create a variable called **num_c** to hold only the numerical feature columns."
   ]
  },
  {
   "cell_type": "code",
   "execution_count": 45,
   "metadata": {},
   "outputs": [],
   "source": [
    "num_c = ['longitude', 'latitude', 'housing_median_age', 'total_rooms',\n",
    "         'total_bedrooms', 'population', 'households', 'median_income']\n"
   ]
  },
  {
   "cell_type": "markdown",
   "metadata": {
    "colab_type": "text",
    "id": "EwMEcH_52JT8"
   },
   "source": [
    "### Scaler function\n",
    "It is very important for numerical variables to get scaled before they are \"fed\" into the neural network. Here we use min-max scaling. Here we are creating a function named 'get_scal' which takes list of numerical features and  returns 'minmax' function, which will be used in tf.feature_column.numeric_column() as normalizer_fn in parameters. 'minmax' function itself takes a 'numerical' number from a particular feature and return scaled value of that number. "
   ]
  },
  {
   "cell_type": "markdown",
   "metadata": {
    "colab_type": "text",
    "id": "ig1k5ovWBnN8"
   },
   "source": [
    "**RUN** the next two cells to scale the numeric features."
   ]
  },
  {
   "cell_type": "code",
   "execution_count": 46,
   "metadata": {},
   "outputs": [],
   "source": [
    "# Scalar def get_scal(feature):\n",
    "\n",
    "def get_scal(feature):\n",
    "  def minmax(x):\n",
    "    mini = train[feature].min()\n",
    "    maxi = train[feature].max()\n",
    "    return (x - mini)/(maxi-mini)\n",
    "  return(minmax)"
   ]
  },
  {
   "cell_type": "markdown",
   "metadata": {},
   "source": [
    "### Creating feature columns"
   ]
  },
  {
   "cell_type": "code",
   "execution_count": 47,
   "metadata": {
    "colab": {},
    "colab_type": "code",
    "id": "Y8IUfcuVaS_g"
   },
   "outputs": [],
   "source": [
    "feature_columns = []\n",
    "for header in num_c:\n",
    "    scal_input_fn = get_scal(header)\n",
    "    feature_columns.append(feature_column.numeric_column(header, normalizer_fn=scal_input_fn))"
   ]
  },
  {
   "cell_type": "markdown",
   "metadata": {
    "colab_type": "text",
    "id": "8v9XoD7WCKRM"
   },
   "source": [
    "#### **Exercise**:   **RUN** the cell to see the total number of feature columns.  Compare this number to the number of numeric features you input earlier."
   ]
  },
  {
   "cell_type": "code",
   "execution_count": 48,
   "metadata": {
    "colab": {
     "base_uri": "https://localhost:8080/",
     "height": 34
    },
    "colab_type": "code",
    "id": "4jgPFThi50sS",
    "outputId": "23ede6f5-a62a-4767-b3a6-fe8a3b89a212"
   },
   "outputs": [
    {
     "name": "stdout",
     "output_type": "stream",
     "text": [
      "Total number of feature coLumns:  8\n"
     ]
    }
   ],
   "source": [
    "print('Total number of feature coLumns: ', len(feature_columns))"
   ]
  },
  {
   "cell_type": "markdown",
   "metadata": {
    "colab_type": "text",
    "id": "9Ug3hB8Sl0jO"
   },
   "source": [
    "## Objective:  Build, train, and evaluate a Keras Sequential Model"
   ]
  },
  {
   "cell_type": "markdown",
   "metadata": {
    "colab_type": "text",
    "id": "bBx4Xu0eTXWq"
   },
   "source": [
    "#### **Exercise**:   Correct the cell below that creates, compiles, and fits a Keras model."
   ]
  },
  {
   "cell_type": "markdown",
   "metadata": {},
   "source": [
    "Note:  Ignore the datatype warning, it will not affect the model."
   ]
  },
  {
   "cell_type": "code",
   "execution_count": 49,
   "metadata": {
    "colab": {
     "base_uri": "https://localhost:8080/",
     "height": 1000
    },
    "colab_type": "code",
    "id": "_YJPPb3xTPeZ",
    "outputId": "2d445722-1d43-4a27-a6c0-c6ce813ab450"
   },
   "outputs": [
    {
     "name": "stdout",
     "output_type": "stream",
     "text": [
      "WARNING:tensorflow:Layer sequential is casting an input tensor from dtype float32 to the layer's dtype of float64, which is new behavior in TensorFlow 2.  The layer has dtype float64 because it's dtype defaults to floatx.\n",
      "\n",
      "If you intended to run this layer in float64, you can safely ignore this warning. If in doubt, this warning is likely only an issue if you are porting a TensorFlow 1.X model to TensorFlow 2.\n",
      "\n",
      "To change all layers to have dtype float32 by default, call `tf.keras.backend.set_floatx('float32')`. To change just this layer, pass dtype='float32' to the layer constructor. If you are the author of this layer, you can disable autocasting by passing autocast=False to the base Layer constructor.\n",
      "\n",
      "WARNING:tensorflow:Layer dense is casting an input tensor from dtype float32 to the layer's dtype of float64, which is new behavior in TensorFlow 2.  The layer has dtype float64 because it's dtype defaults to floatx.\n",
      "\n",
      "If you intended to run this layer in float64, you can safely ignore this warning. If in doubt, this warning is likely only an issue if you are porting a TensorFlow 1.X model to TensorFlow 2.\n",
      "\n",
      "To change all layers to have dtype float32 by default, call `tf.keras.backend.set_floatx('float32')`. To change just this layer, pass dtype='float32' to the layer constructor. If you are the author of this layer, you can disable autocasting by passing autocast=False to the base Layer constructor.\n",
      "\n",
      "Epoch 1/32\n",
      "409/409 [==============================] - 4s 11ms/step - loss: 55870885788.0245 - mse: 55858771803.4445 - val_loss: 0.0000e+00 - val_mse: 0.0000e+00774458.8 - 3s 20ms/step - loss: 555273 - 3s 17ms/step - los - 3s 11ms/step - loss: 56015847267.7222 - m - 3s 11ms\n",
      "Epoch 2/32\n",
      "409/409 [==============================] - 1s 3ms/step - loss: 55827215577.6228 - mse: 55815193709.6733 - val_loss: 56061523084.2249 - val_mse: 56202510065.7987\n",
      "Epoch 3/32\n",
      "409/409 [==============================] - 1s 3ms/step - loss: 55669369692.4510 - mse: 55664536808.0866 - val_loss: 55840082408.1116 - val_mse: 55980733851.5646\n",
      "Epoch 4/32\n",
      "409/409 [==============================] - 1s 3ms/step - loss: 55336792709.6907 - mse: 55363766960.6485 - val_loss: 55454019686.3333 - val_mse: 55594083311.1438\n",
      "Epoch 5/32\n",
      "409/409 [==============================] - 1s 3ms/step - loss: 54913364796.8723 - mse: 54887723428.9215 - val_loss: 54882812078.1408 - val_mse: 55022000499.9683\n",
      "Epoch 6/32\n",
      "409/409 [==============================] - 1s 3ms/step - loss: 54156058210.9127 - mse: 54221135177.4251 - val_loss: 54117447462.0841 - val_mse: 54255454940.1673\n",
      "Epoch 7/32\n",
      "409/409 [==============================] - 1s 3ms/step - loss: 53349635035.0265 - mse: 53358538376.7553 - val_loss: 53153705767.2985 - val_mse: 53290213162.1972\n",
      "Epoch 8/32\n",
      "409/409 [==============================] - 1s 3ms/step - loss: 52297323306.5557 - mse: 52297614677.6227 - val_loss: 51990463793.4076 - val_mse: 52125140984.2756\n",
      "Epoch 9/32\n",
      "409/409 [==============================] - 1s 3ms/step - loss: 51051947019.7951 - mse: 51039648183.9062 - val_loss: 50633262969.2030 - val_mse: 50765775867.9260\n",
      "Epoch 10/32\n",
      "409/409 [==============================] - 1s 3ms/step - loss: 49597019970.8860 - mse: 49590960874.1668 - val_loss: 49086600320.5520 - val_mse: 49216608402.7346\n",
      "Epoch 11/32\n",
      "409/409 [==============================] - 1s 3ms/step - loss: 47920087225.0598 - mse: 47958916151.0409 - val_loss: 47363167351.9633 - val_mse: 47490332746.2870\n",
      "Epoch 12/32\n",
      "409/409 [==============================] - 1s 3ms/step - loss: 46177972407.0987 - mse: 46152884625.7036 - val_loss: 45470010659.7978 - val_mse: 45593985892.7763\n",
      "Epoch 13/32\n",
      "409/409 [==============================] - 1s 3ms/step - loss: 44197669917.0197 - mse: 44187681005.9913 - val_loss: 43426487206.9153 - val_mse: 43546933586.3131\n",
      "Epoch 14/32\n",
      "409/409 [==============================] - 1s 3ms/step - loss: 42031319869.4784 - mse: 42084915220.4804 - val_loss: 41254736537.3741 - val_mse: 41371325564.8625\n",
      "Epoch 15/32\n",
      "409/409 [==============================] - 1s 3ms/step - loss: 39867268436.8464 - mse: 39865028754.1447 - val_loss: 38975996276.8345 - val_mse: 39088406705.3988\n",
      "Epoch 16/32\n",
      "409/409 [==============================] - 1s 3ms/step - loss: 37527760655.7687 - mse: 37550939688.1007 - val_loss: 36612365423.3416 - val_mse: 36720280339.7737\n",
      "Epoch 17/32\n",
      "409/409 [==============================] - 1s 3ms/step - loss: 35180247126.2015 - mse: 35166037341.8196 - val_loss: 34192117325.7959 - val_mse: 34295234299.2403\n",
      "Epoch 18/32\n",
      "409/409 [==============================] - 1s 3ms/step - loss: 32756032325.3023 - mse: 32740735044.6065 - val_loss: 31746593609.1951 - val_mse: 31844627946.8400\n",
      "Epoch 19/32\n",
      "409/409 [==============================] - 1s 3ms/step - loss: 30329531153.8163 - mse: 30310207599.5175 - val_loss: 29310618934.5181 - val_mse: 29403311286.9260\n",
      "Epoch 20/32\n",
      "409/409 [==============================] - 1s 3ms/step - loss: 27897895257.7976 - mse: 27907869723.9901 - val_loss: 26922783289.5162 - val_mse: 27009909072.3836\n",
      "Epoch 21/32\n",
      "409/409 [==============================] - 1s 3ms/step - loss: 25577161965.8761 - mse: 25571845741.0223 - val_loss: 24619484274.2634 - val_mse: 24700852279.7863\n",
      "Epoch 22/32\n",
      "409/409 [==============================] - 1s 3ms/step - loss: 23347906966.2093 - mse: 23340922189.3622 - val_loss: 22435555219.3071 - val_mse: 22511009657.4249\n",
      "Epoch 23/32\n",
      "409/409 [==============================] - 1s 3ms/step - loss: 21253396888.0997 - mse: 21250268159.9808 - val_loss: 20411105860.5424 - val_mse: 20480551845.5918\n",
      "Epoch 24/32\n",
      "409/409 [==============================] - 1s 3ms/step - loss: 19335157543.2610 - mse: 19336203372.2135 - val_loss: 18577410117.4104 - val_mse: 18640806624.4937\n",
      "Epoch 25/32\n",
      "409/409 [==============================] - 1s 3ms/step - loss: 17651210843.8657 - mse: 17632451672.5665 - val_loss: 16969573857.5477 - val_mse: 17026973761.7209\n",
      "Epoch 26/32\n",
      "409/409 [==============================] - 1s 3ms/step - loss: 16163087377.1775 - mse: 16163779869.5500 - val_loss: 15605421558.9578 - val_mse: 15656954453.0774\n",
      "Epoch 27/32\n",
      "409/409 [==============================] - 1s 3ms/step - loss: 14950728241.4625 - mse: 14946122298.0879 - val_loss: 14494991707.8102 - val_mse: 14540883940.7370\n",
      "Epoch 28/32\n",
      "409/409 [==============================] - 1s 3ms/step - loss: 13979070408.0005 - mse: 13983294098.3160 - val_loss: 13637689457.2839 - val_mse: 13678289777.4868\n",
      "Epoch 29/32\n",
      "409/409 [==============================] - 1s 3ms/step - loss: 13275719490.3589 - mse: 13267710783.6298 - val_loss: 13019673223.9476 - val_mse: 13055485987.1833\n",
      "Epoch 30/32\n",
      "409/409 [==============================] - 1s 3ms/step - loss: 12783185366.9330 - mse: 12776279568.0923 - val_loss: 12609701898.0572 - val_mse: 12641408752.3693\n",
      "Epoch 31/32\n",
      "409/409 [==============================] - 1s 3ms/step - loss: 12459086310.7189 - mse: 12463315887.1065 - val_loss: 12353646869.8886 - val_mse: 12381962597.6425\n",
      "Epoch 32/32\n",
      "409/409 [==============================] - 1s 3ms/step - loss: 12270896314.3876 - mse: 12277981889.6145 - val_loss: 12203812031.6471 - val_mse: 12229522941.4346\n"
     ]
    }
   ],
   "source": [
    "# Model create\n",
    "\n",
    "feature_layer = tf.keras.layers.DenseFeatures(feature_columns, dtype='float64')\n",
    "\n",
    "model = tf.keras.Sequential([\n",
    "  feature_layer,\n",
    "  layers.Dense(12,  input_dim=8, activation='relu'),\n",
    "  layers.Dense(8, activation='relu'),\n",
    "  layers.Dense(1, activation='linear',  name='median_house_value')\n",
    "])\n",
    "\n",
    "# Model compile\n",
    "model.compile(optimizer='adam',\n",
    "              loss='mse',\n",
    "              metrics=['mse'])\n",
    "\n",
    "# Model Fit\n",
    "history = model.fit(train_ds,\n",
    "                    validation_data=val_ds,\n",
    "                    epochs=32)"
   ]
  },
  {
   "cell_type": "markdown",
   "metadata": {
    "colab_type": "text",
    "id": "PSstMnHHh33R"
   },
   "source": [
    "**RUN** the cell to show loss and accuracy."
   ]
  },
  {
   "cell_type": "code",
   "execution_count": 50,
   "metadata": {
    "colab": {
     "base_uri": "https://localhost:8080/",
     "height": 71
    },
    "colab_type": "code",
    "id": "vo7hhkPqm6Jx",
    "outputId": "938907f6-b6c8-497c-a8f6-0f1cdbf336c9"
   },
   "outputs": [
    {
     "name": "stdout",
     "output_type": "stream",
     "text": [
      "128/128 [==============================] - 0s 3ms/step - loss: 12276618194.4574 - mse: 12280179974.1324\n",
      "Accuracy 12280179974.132399\n"
     ]
    }
   ],
   "source": [
    "loss, accuracy = model.evaluate(test_ds)\n",
    "print(\"Accuracy\", accuracy)"
   ]
  },
  {
   "cell_type": "markdown",
   "metadata": {
    "colab_type": "text",
    "id": "252EPxGp7-FJ"
   },
   "source": [
    "### Visualize the model loss curve\n",
    "\n",
    "Next, we will use matplotlib to draw the model's loss curves for training and validation.  A line plot is also created showing the mean squared error loss over the training epochs for both the train (blue) and test (orange) sets."
   ]
  },
  {
   "cell_type": "markdown",
   "metadata": {
    "colab_type": "text",
    "id": "n92_zRprDSVs"
   },
   "source": [
    "#### **Exercise**:   **RUN** the cell to show the the models loss curves."
   ]
  },
  {
   "cell_type": "code",
   "execution_count": 51,
   "metadata": {
    "colab": {
     "base_uri": "https://localhost:8080/",
     "height": 350
    },
    "colab_type": "code",
    "id": "q7pVC0E07YkE",
    "outputId": "55b1f6f9-a1e2-40fc-d5dd-7e2454031c85"
   },
   "outputs": [
    {
     "data": {
      "image/png": "[encoded data removed]",
      "text/plain": [
       "<Figure size 720x360 with 2 Axes>"
      ]
     },
     "metadata": {
      "needs_background": "light"
     },
     "output_type": "display_data"
    }
   ],
   "source": [
    "# Plot\n",
    "\n",
    "import matplotlib.pyplot as plt\n",
    "nrows = 1\n",
    "ncols = 2\n",
    "fig = plt.figure(figsize=(10, 5))\n",
    "\n",
    "for idx, key in enumerate(['loss', 'mse']):  \n",
    "    ax = fig.add_subplot(nrows, ncols, idx+1)\n",
    "    plt.plot(history.history[key])\n",
    "    plt.plot(history.history['val_{}'.format(key)])\n",
    "    plt.title('model {}'.format(key))\n",
    "    plt.ylabel(key)\n",
    "    plt.xlabel('epoch')\n",
    "    plt.legend(['train', 'validation'], loc='upper left');"
   ]
  },
  {
   "cell_type": "markdown",
   "metadata": {
    "colab_type": "text",
    "id": "wqkozY268xi7"
   },
   "source": [
    "## Objective:  Load and preprocess test data"
   ]
  },
  {
   "cell_type": "markdown",
   "metadata": {
    "colab_type": "text",
    "id": "uf4TyVJ_Dzxe"
   },
   "source": [
    "#### **Exercise**:   In the next two cells, read in the test.csv file and validate that there are no null values."
   ]
  },
  {
   "cell_type": "code",
   "execution_count": 52,
   "metadata": {
    "colab": {
     "base_uri": "https://localhost:8080/",
     "height": 222
    },
    "colab_type": "code",
    "id": "b4C4BmhV8ch9",
    "outputId": "82bcc9d3-4432-4068-ab82-6a6abbe4a024"
   },
   "outputs": [
    {
     "data": {
      "text/html": [
       "<div>\n",
       "<style scoped>\n",
       "    .dataframe tbody tr th:only-of-type {\n",
       "        vertical-align: middle;\n",
       "    }\n",
       "\n",
       "    .dataframe tbody tr th {\n",
       "        vertical-align: top;\n",
       "    }\n",
       "\n",
       "    .dataframe thead th {\n",
       "        text-align: right;\n",
       "    }\n",
       "</style>\n",
       "<table border=\"1\" class=\"dataframe\">\n",
       "  <thead>\n",
       "    <tr style=\"text-align: right;\">\n",
       "      <th></th>\n",
       "      <th>longitude</th>\n",
       "      <th>latitude</th>\n",
       "      <th>housing_median_age</th>\n",
       "      <th>total_rooms</th>\n",
       "      <th>total_bedrooms</th>\n",
       "      <th>population</th>\n",
       "      <th>households</th>\n",
       "      <th>median_income</th>\n",
       "      <th>median_house_value</th>\n",
       "      <th>ocean_proximity</th>\n",
       "    </tr>\n",
       "  </thead>\n",
       "  <tbody>\n",
       "    <tr>\n",
       "      <th>0</th>\n",
       "      <td>-121.60</td>\n",
       "      <td>39.12</td>\n",
       "      <td>21.0</td>\n",
       "      <td>1299.0</td>\n",
       "      <td>338.0</td>\n",
       "      <td>1494.0</td>\n",
       "      <td>311.0</td>\n",
       "      <td>1.3348</td>\n",
       "      <td>225000.0</td>\n",
       "      <td>INLAND</td>\n",
       "    </tr>\n",
       "    <tr>\n",
       "      <th>1</th>\n",
       "      <td>-119.98</td>\n",
       "      <td>36.86</td>\n",
       "      <td>31.0</td>\n",
       "      <td>2366.0</td>\n",
       "      <td>482.0</td>\n",
       "      <td>1933.0</td>\n",
       "      <td>433.0</td>\n",
       "      <td>3.0234</td>\n",
       "      <td>65000.0</td>\n",
       "      <td>INLAND</td>\n",
       "    </tr>\n",
       "    <tr>\n",
       "      <th>2</th>\n",
       "      <td>-118.94</td>\n",
       "      <td>35.40</td>\n",
       "      <td>14.0</td>\n",
       "      <td>5548.0</td>\n",
       "      <td>941.0</td>\n",
       "      <td>2815.0</td>\n",
       "      <td>935.0</td>\n",
       "      <td>4.2214</td>\n",
       "      <td>104600.0</td>\n",
       "      <td>INLAND</td>\n",
       "    </tr>\n",
       "    <tr>\n",
       "      <th>3</th>\n",
       "      <td>-117.21</td>\n",
       "      <td>33.16</td>\n",
       "      <td>13.0</td>\n",
       "      <td>2937.0</td>\n",
       "      <td>698.0</td>\n",
       "      <td>1246.0</td>\n",
       "      <td>579.0</td>\n",
       "      <td>2.6487</td>\n",
       "      <td>196000.0</td>\n",
       "      <td>&lt;1H OCEAN</td>\n",
       "    </tr>\n",
       "    <tr>\n",
       "      <th>4</th>\n",
       "      <td>-117.24</td>\n",
       "      <td>32.80</td>\n",
       "      <td>26.0</td>\n",
       "      <td>3433.0</td>\n",
       "      <td>873.0</td>\n",
       "      <td>1492.0</td>\n",
       "      <td>798.0</td>\n",
       "      <td>2.9258</td>\n",
       "      <td>234800.0</td>\n",
       "      <td>NEAR OCEAN</td>\n",
       "    </tr>\n",
       "  </tbody>\n",
       "</table>\n",
       "</div>"
      ],
      "text/plain": [
       "   longitude  latitude  housing_median_age  total_rooms  total_bedrooms  \\\n",
       "0    -121.60     39.12                21.0       1299.0           338.0   \n",
       "1    -119.98     36.86                31.0       2366.0           482.0   \n",
       "2    -118.94     35.40                14.0       5548.0           941.0   \n",
       "3    -117.21     33.16                13.0       2937.0           698.0   \n",
       "4    -117.24     32.80                26.0       3433.0           873.0   \n",
       "\n",
       "   population  households  median_income  median_house_value ocean_proximity  \n",
       "0      1494.0       311.0         1.3348            225000.0          INLAND  \n",
       "1      1933.0       433.0         3.0234             65000.0          INLAND  \n",
       "2      2815.0       935.0         4.2214            104600.0          INLAND  \n",
       "3      1246.0       579.0         2.6487            196000.0       <1H OCEAN  \n",
       "4      1492.0       798.0         2.9258            234800.0      NEAR OCEAN  "
      ]
     },
     "execution_count": 52,
     "metadata": {},
     "output_type": "execute_result"
    }
   ],
   "source": [
    "test_data = pd.read_csv('test.csv')\n",
    "test_data.head()"
   ]
  },
  {
   "cell_type": "code",
   "execution_count": 53,
   "metadata": {
    "colab": {
     "base_uri": "https://localhost:8080/",
     "height": 207
    },
    "colab_type": "code",
    "id": "bVH2Ma22Cd31",
    "outputId": "87f67e05-bb0c-4b30-d1f1-f65f1abb21ab"
   },
   "outputs": [
    {
     "data": {
      "text/plain": [
       "longitude             0\n",
       "latitude              0\n",
       "housing_median_age    0\n",
       "total_rooms           0\n",
       "total_bedrooms        0\n",
       "population            0\n",
       "households            0\n",
       "median_income         0\n",
       "median_house_value    0\n",
       "ocean_proximity       0\n",
       "dtype: int64"
      ]
     },
     "execution_count": 53,
     "metadata": {},
     "output_type": "execute_result"
    }
   ],
   "source": [
    "test_data.isnull().sum()"
   ]
  },
  {
   "cell_type": "markdown",
   "metadata": {
    "colab_type": "text",
    "id": "nY2Yrt8fC7RW"
   },
   "source": [
    "## Input function for test data"
   ]
  },
  {
   "cell_type": "markdown",
   "metadata": {
    "colab_type": "text",
    "id": "rAyMaZOlERdF"
   },
   "source": [
    "**RUN** the cells to create the input function for the test data and to initialize the test_predict variable."
   ]
  },
  {
   "cell_type": "code",
   "execution_count": 54,
   "metadata": {
    "colab": {},
    "colab_type": "code",
    "id": "8rMdDeGDCwpT"
   },
   "outputs": [],
   "source": [
    "def test_input_fn(features, batch_size=256):\n",
    "    \"\"\"An input function for prediction.\"\"\"\n",
    "    # Convert the inputs to a Dataset without labels.\n",
    "    return tf.data.Dataset.from_tensor_slices(dict(features)).batch(batch_size)"
   ]
  },
  {
   "cell_type": "code",
   "execution_count": 55,
   "metadata": {
    "colab": {},
    "colab_type": "code",
    "id": "qflwLiz9IeZR"
   },
   "outputs": [],
   "source": [
    "test_predict = test_input_fn(dict(test_data))"
   ]
  },
  {
   "cell_type": "markdown",
   "metadata": {
    "colab_type": "text",
    "id": "H5SkINtbDIdr"
   },
   "source": [
    "## Prediction:  Linear Regression\n",
    "\n",
    "To predict with Keras, you simply call [model.predict()](https://keras.io/models/model/#predict) and pass in the housing features you want to predict the median_house_value for. Note:  We are predicting the model locally."
   ]
  },
  {
   "cell_type": "markdown",
   "metadata": {
    "colab_type": "text",
    "id": "aP5NOK8QEma7"
   },
   "source": [
    "**RUN** the cell to create the median house value prediction on the test data.\n"
   ]
  },
  {
   "cell_type": "code",
   "execution_count": 56,
   "metadata": {
    "colab": {},
    "colab_type": "code",
    "id": "uNc6TSoJDL7-"
   },
   "outputs": [],
   "source": [
    "predicted_median_house_value = model.predict(test_predict)"
   ]
  },
  {
   "cell_type": "markdown",
   "metadata": {
    "colab_type": "text",
    "id": "HFXK1SKPDYgD"
   },
   "source": [
    "#### **Exercise**:  Code two predictions in separate cells - one where ocean_proximity=INLAND and one where ocean_proximity= NEAR OCEAN. "
   ]
  },
  {
   "cell_type": "code",
   "execution_count": 57,
   "metadata": {
    "colab": {
     "base_uri": "https://localhost:8080/",
     "height": 34
    },
    "colab_type": "code",
    "id": "xepss0vhoHge",
    "outputId": "46842a26-eacd-4801-857b-18c6a8f2005c"
   },
   "outputs": [
    {
     "data": {
      "text/plain": [
       "array([[221021.58050495]])"
      ]
     },
     "execution_count": 57,
     "metadata": {},
     "output_type": "execute_result"
    }
   ],
   "source": [
    "# Ocean_proximity is INLAND\n",
    "\n",
    "model.predict({\n",
    "    'longitude': tf.convert_to_tensor([-121.86]),\n",
    "    'latitude': tf.convert_to_tensor([39.78]),\n",
    "    'housing_median_age': tf.convert_to_tensor([12.0]),\n",
    "    'total_rooms': tf.convert_to_tensor([7653.0]),\n",
    "    'total_bedrooms': tf.convert_to_tensor([1578.0]),\n",
    "    'population': tf.convert_to_tensor([3628.0]),\n",
    "    'households': tf.convert_to_tensor([1494.0]),\n",
    "    'median_income': tf.convert_to_tensor([3.0905]),\n",
    "    'ocean_proximity': tf.convert_to_tensor(['INLAND'])\n",
    "}, steps=1)"
   ]
  },
  {
   "cell_type": "code",
   "execution_count": 58,
   "metadata": {
    "colab": {
     "base_uri": "https://localhost:8080/",
     "height": 34
    },
    "colab_type": "code",
    "id": "qPssm8p4EZHh",
    "outputId": "2a55d427-7857-401c-f60d-edbb36be19ec"
   },
   "outputs": [
    {
     "data": {
      "text/plain": [
       "array([[214246.47139499]])"
      ]
     },
     "execution_count": 58,
     "metadata": {},
     "output_type": "execute_result"
    }
   ],
   "source": [
    "# Ocean_proximity is NEAR OCEAN\n",
    "\n",
    "model.predict({\n",
    "    'longitude': tf.convert_to_tensor([-122.43]),\n",
    "    'latitude': tf.convert_to_tensor([37.63]),\n",
    "    'housing_median_age': tf.convert_to_tensor([34.0]),\n",
    "    'total_rooms': tf.convert_to_tensor([4135.0]),\n",
    "    'total_bedrooms': tf.convert_to_tensor([687.0]),\n",
    "    'population': tf.convert_to_tensor([2154.0]),\n",
    "    'households': tf.convert_to_tensor([742.0\t]),\n",
    "    'median_income': tf.convert_to_tensor([4.9732]),\n",
    "    'ocean_proximity': tf.convert_to_tensor(['NEAR OCEAN'])\n",
    "}, steps=1)"
   ]
  },
  {
   "cell_type": "markdown",
   "metadata": {
    "colab_type": "text",
    "id": "Txl-MRuLFE_8"
   },
   "source": [
    "#### **Exercise**:  Analysis\n",
    "\n",
    "The arrays returns a predicted value.  What do these numbers mean?  Let's compare this value to the test set.   \n",
    "\n",
    "Go to the test.csv you read in a few cells up.  Locate the first line and find the median_house_value - which should be 249,000 dollars near the ocean. What value did your model predicted for the median_house_value? Was it a solid model performance? Let's see if we can improve this a bit with feature engineering!  \n"
   ]
  },
  {
   "cell_type": "markdown",
   "metadata": {
    "colab_type": "text",
    "id": "C7fFruEWU08C"
   },
   "source": [
    "## Feature Engineering\n",
    "\n"
   ]
  },
  {
   "cell_type": "markdown",
   "metadata": {
    "colab_type": "text",
    "id": "78F1XH1Qwvbt"
   },
   "source": [
    "#### **Exercise**:   Create a cell that indicates which features will be used in the model.\n",
    "\n",
    "Note:  Be sure to bucketize 'housing_median_age' and ensure that 'ocean_proximity' is one-hot encoded.  And, don't forget your numeric values!\n"
   ]
  },
  {
   "cell_type": "code",
   "execution_count": 59,
   "metadata": {
    "colab": {},
    "colab_type": "code",
    "id": "ZxSatLUxUmvI"
   },
   "outputs": [],
   "source": [
    "num_c = ['longitude', 'latitude', 'housing_median_age', 'total_rooms',\n",
    "         'total_bedrooms', 'population', 'households', 'median_income']\n",
    "\n",
    "bucket_c = ['housing_median_age']\n",
    "\n",
    "cat_i_c = ['ocean_proximity']  # indicator columns,Categorical features"
   ]
  },
  {
   "cell_type": "markdown",
   "metadata": {
    "colab_type": "text",
    "id": "5HbypkYHxxwt"
   },
   "source": [
    "**RUN** the next two cells to scale the features.\n",
    "\n"
   ]
  },
  {
   "cell_type": "code",
   "execution_count": 60,
   "metadata": {
    "colab": {},
    "colab_type": "code",
    "id": "ExX5Akz0UnE-"
   },
   "outputs": [],
   "source": [
    "# Scalar def get_scal(feature):\n",
    "\n",
    "\n",
    "def get_scal(feature):\n",
    "  def minmax(x):\n",
    "    mini = train[feature].min()\n",
    "    maxi = train[feature].max()\n",
    "    return (x - mini)/(maxi-mini)\n",
    "  return(minmax)"
   ]
  },
  {
   "cell_type": "code",
   "execution_count": 61,
   "metadata": {
    "colab": {},
    "colab_type": "code",
    "id": "wzqcddUQUnKn"
   },
   "outputs": [],
   "source": [
    "# All numeric features -scaling\n",
    "\n",
    "feature_columns = []\n",
    "for header in num_c:\n",
    "    scal_input_fn = get_scal(header)\n",
    "    feature_columns.append(feature_column.numeric_column(header, normalizer_fn=scal_input_fn))"
   ]
  },
  {
   "cell_type": "markdown",
   "metadata": {
    "colab_type": "text",
    "id": "yYUpUZvgwrPe"
   },
   "source": [
    "### Categorical Feature\n",
    "In this dataset, 'ocean_proximity' is represented as a string.  We cannot feed strings directly to a model. Instead, we must first map them to numeric values. The categorical vocabulary columns provide a way to represent strings as a one-hot vector."
   ]
  },
  {
   "cell_type": "markdown",
   "metadata": {
    "colab_type": "text",
    "id": "sZnlnFZkyEbe"
   },
   "source": [
    "#### **Exercise**:   Create a categorical feature using 'ocean_proximity'.\n",
    "\n"
   ]
  },
  {
   "cell_type": "code",
   "execution_count": 62,
   "metadata": {
    "colab": {},
    "colab_type": "code",
    "id": "3Cf6SoFTUnc6"
   },
   "outputs": [],
   "source": [
    "for feature_name in cat_i_c:\n",
    "    vocabulary = dataframe[feature_name].unique()\n",
    "    cat_c = tf.feature_column.categorical_column_with_vocabulary_list(feature_name, vocabulary)\n",
    "    one_hot = feature_column.indicator_column(cat_c)\n",
    "    feature_columns.append(one_hot)"
   ]
  },
  {
   "cell_type": "markdown",
   "metadata": {
    "colab_type": "text",
    "id": "qnGyWaijzShj"
   },
   "source": [
    "### Bucketized Feature\n",
    "\n",
    "Often, you don't want to feed a number directly into the model, but instead split its value into different categories based on numerical ranges. Consider our raw data that represents a homes' age. Instead of representing the house age as a numeric column, we could split the home age into several buckets using a [bucketized column](https://www.tensorflow.org/api_docs/python/tf/feature_column/bucketized_column). Notice the one-hot values below describe which age range each row matches."
   ]
  },
  {
   "cell_type": "markdown",
   "metadata": {
    "colab_type": "text",
    "id": "7ZRlFyP7fOw-"
   },
   "source": [
    "#### **Exercise**:   Create a Bucketized column using 'housing_median_age'"
   ]
  },
  {
   "cell_type": "code",
   "execution_count": 63,
   "metadata": {
    "colab": {},
    "colab_type": "code",
    "id": "xB-yiVLmUnXp"
   },
   "outputs": [],
   "source": [
    "Age = feature_column.numeric_column(\"housing_median_age\")\n",
    "\n",
    "# Bucketized cols\n",
    "age_buckets = feature_column.bucketized_column(Age, boundaries=[18, 25, 30, 35, 40, 45, 50, 55, 60, 65])\n",
    "feature_columns.append(age_buckets)"
   ]
  },
  {
   "cell_type": "markdown",
   "metadata": {
    "colab_type": "text",
    "id": "Ri4_wssOg943"
   },
   "source": [
    "### Feature Cross\n",
    "\n",
    "Combining features into a single feature, better known as [feature crosses](https://developers.google.com/machine-learning/glossary/#feature_cross), enables a model to learn separate weights for each combination of features."
   ]
  },
  {
   "cell_type": "markdown",
   "metadata": {
    "colab_type": "text",
    "id": "a6HHJl3J0j0T"
   },
   "source": [
    "#### **Exercise**:   Create a Feature Cross of  'housing_median_age' and 'ocean_proximity'."
   ]
  },
  {
   "cell_type": "code",
   "execution_count": 64,
   "metadata": {
    "colab": {},
    "colab_type": "code",
    "id": "JVLnG0WbUnkl"
   },
   "outputs": [],
   "source": [
    "vocabulary = dataframe['ocean_proximity'].unique()\n",
    "ocean_proximity = tf.feature_column.categorical_column_with_vocabulary_list('ocean_proximity', vocabulary)\n",
    "\n",
    "crossed_feature = feature_column.crossed_column([age_buckets, ocean_proximity], hash_bucket_size=1000)\n",
    "crossed_feature = feature_column.indicator_column(crossed_feature)\n",
    "feature_columns.append(crossed_feature)"
   ]
  },
  {
   "cell_type": "markdown",
   "metadata": {
    "colab_type": "text",
    "id": "hiz6HCWg1CXO"
   },
   "source": [
    "**RUN** the cell to determine the number of feature columns you now have.  Compare this number to the previous number of features."
   ]
  },
  {
   "cell_type": "code",
   "execution_count": 65,
   "metadata": {
    "colab": {
     "base_uri": "https://localhost:8080/",
     "height": 34
    },
    "colab_type": "code",
    "id": "6P3Ewc3_Unsv",
    "outputId": "42c1c4a6-89f8-4685-b2d0-e76a90cdf9ee"
   },
   "outputs": [
    {
     "name": "stdout",
     "output_type": "stream",
     "text": [
      "Total number of feature coumns:  11\n"
     ]
    }
   ],
   "source": [
    "print('Total number of feature coumns: ', len(feature_columns))"
   ]
  },
  {
   "cell_type": "markdown",
   "metadata": {
    "colab_type": "text",
    "id": "lNr00mP41sJp"
   },
   "source": [
    "**RUN** the cell to compile, create, and train the Keras model.\n"
   ]
  },
  {
   "cell_type": "code",
   "execution_count": 66,
   "metadata": {
    "colab": {
     "base_uri": "https://localhost:8080/",
     "height": 1000
    },
    "colab_type": "code",
    "id": "4Dwal3oxUoCe",
    "outputId": "1ae08747-7dbe-47a5-b3e7-87581e460b1b"
   },
   "outputs": [
    {
     "name": "stdout",
     "output_type": "stream",
     "text": [
      "WARNING:tensorflow:Layer sequential_1 is casting an input tensor from dtype float32 to the layer's dtype of float64, which is new behavior in TensorFlow 2.  The layer has dtype float64 because it's dtype defaults to floatx.\n",
      "\n",
      "If you intended to run this layer in float64, you can safely ignore this warning. If in doubt, this warning is likely only an issue if you are porting a TensorFlow 1.X model to TensorFlow 2.\n",
      "\n",
      "To change all layers to have dtype float32 by default, call `tf.keras.backend.set_floatx('float32')`. To change just this layer, pass dtype='float32' to the layer constructor. If you are the author of this layer, you can disable autocasting by passing autocast=False to the base Layer constructor.\n",
      "\n",
      "WARNING:tensorflow:From /home/jupyter/.local/lib/python3.5/site-packages/tensorflow_core/python/feature_column/feature_column_v2.py:4276: IndicatorColumn._variable_shape (from tensorflow.python.feature_column.feature_column_v2) is deprecated and will be removed in a future version.\n",
      "Instructions for updating:\n",
      "The old _FeatureColumn APIs are being deprecated. Please use the new FeatureColumn APIs instead.\n",
      "WARNING:tensorflow:From /home/jupyter/.local/lib/python3.5/site-packages/tensorflow_core/python/feature_column/feature_column_v2.py:4331: CrossedColumn._num_buckets (from tensorflow.python.feature_column.feature_column_v2) is deprecated and will be removed in a future version.\n",
      "Instructions for updating:\n",
      "The old _FeatureColumn APIs are being deprecated. Please use the new FeatureColumn APIs instead.\n",
      "WARNING:tensorflow:From /home/jupyter/.local/lib/python3.5/site-packages/tensorflow_core/python/feature_column/feature_column_v2.py:4331: VocabularyListCategoricalColumn._num_buckets (from tensorflow.python.feature_column.feature_column_v2) is deprecated and will be removed in a future version.\n",
      "Instructions for updating:\n",
      "The old _FeatureColumn APIs are being deprecated. Please use the new FeatureColumn APIs instead.\n",
      "WARNING:tensorflow:Layer dense_2 is casting an input tensor from dtype float32 to the layer's dtype of float64, which is new behavior in TensorFlow 2.  The layer has dtype float64 because it's dtype defaults to floatx.\n",
      "\n",
      "If you intended to run this layer in float64, you can safely ignore this warning. If in doubt, this warning is likely only an issue if you are porting a TensorFlow 1.X model to TensorFlow 2.\n",
      "\n",
      "To change all layers to have dtype float32 by default, call `tf.keras.backend.set_floatx('float32')`. To change just this layer, pass dtype='float32' to the layer constructor. If you are the author of this layer, you can disable autocasting by passing autocast=False to the base Layer constructor.\n",
      "\n",
      "Epoch 1/32\n",
      "409/409 [==============================] - 4s 9ms/step - loss: 55849713955.3736 - mse: 55858216225.2571 - val_loss: 0.0000e+00 - val_mse: 0.0000e+00\n",
      "Epoch 2/32\n",
      "409/409 [==============================] - 2s 4ms/step - loss: 55826975364.5866 - mse: 55802023131.1589 - val_loss: 56031984571.0388 - val_mse: 56172956769.6740\n",
      "Epoch 3/32\n",
      "409/409 [==============================] - 2s 4ms/step - loss: 55633930541.3308 - mse: 55606732737.0251 - val_loss: 55744867220.7184 - val_mse: 55885468725.1015\n",
      "Epoch 4/32\n",
      "409/409 [==============================] - 2s 4ms/step - loss: 55176352669.8523 - mse: 55215229789.7449 - val_loss: 55241026210.6197 - val_mse: 55380971388.8682\n",
      "Epoch 5/32\n",
      "409/409 [==============================] - 2s 4ms/step - loss: 54625478228.7020 - mse: 54595886461.0182 - val_loss: 54498623409.0291 - val_mse: 54637583866.0609\n",
      "Epoch 6/32\n",
      "409/409 [==============================] - 2s 4ms/step - loss: 53740162714.9222 - mse: 53730990328.5719 - val_loss: 53504653434.3778 - val_mse: 53642290796.0598\n",
      "Epoch 7/32\n",
      "409/409 [==============================] - 2s 4ms/step - loss: 52573131969.2709 - mse: 52613559956.2411 - val_loss: 52258137808.8111 - val_mse: 52394080657.5971\n",
      "Epoch 8/32\n",
      "409/409 [==============================] - 2s 4ms/step - loss: 51279793739.9343 - mse: 51246398503.0262 - val_loss: 50762160105.2956 - val_mse: 50896032710.1697\n",
      "Epoch 9/32\n",
      "409/409 [==============================] - 2s 4ms/step - loss: 49648481525.5500 - mse: 49635269024.3768 - val_loss: 49026979390.6569 - val_mse: 49158378581.6866\n",
      "Epoch 10/32\n",
      "409/409 [==============================] - 2s 4ms/step - loss: 47812539965.2554 - mse: 47796105886.3524 - val_loss: 47072125026.6076 - val_mse: 47200667271.5052\n",
      "Epoch 11/32\n",
      "409/409 [==============================] - 2s 4ms/step - loss: 45733335020.8897 - mse: 45744727472.4777 - val_loss: 44913043201.4796 - val_mse: 45038329744.1777\n",
      "Epoch 12/32\n",
      "409/409 [==============================] - 2s 4ms/step - loss: 43472969385.2681 - mse: 43501248537.1251 - val_loss: 42577574022.7411 - val_mse: 42699174878.8310\n",
      "Epoch 13/32\n",
      "409/409 [==============================] - 2s 4ms/step - loss: 41097230202.0172 - mse: 41098273516.4836 - val_loss: 40093893996.1200 - val_mse: 40211391230.1626\n",
      "Epoch 14/32\n",
      "409/409 [==============================] - 2s 4ms/step - loss: 38575809427.0498 - mse: 38565186573.3138 - val_loss: 37496197834.7931 - val_mse: 37609165086.3831\n",
      "Epoch 15/32\n",
      "409/409 [==============================] - 2s 4ms/step - loss: 35944117514.5641 - mse: 35941166619.6158 - val_loss: 34825239117.7536 - val_mse: 34933270625.5904\n",
      "Epoch 16/32\n",
      "409/409 [==============================] - 2s 4ms/step - loss: 33226742427.5731 - mse: 33267047542.7219 - val_loss: 32130452634.8623 - val_mse: 32233166594.0181\n",
      "Epoch 17/32\n",
      "409/409 [==============================] - 2s 4ms/step - loss: 30577595281.9176 - mse: 30584201944.2479 - val_loss: 29446077654.7771 - val_mse: 29543076620.3452\n",
      "Epoch 18/32\n",
      "409/409 [==============================] - 2s 4ms/step - loss: 27934833690.4677 - mse: 27944402811.2637 - val_loss: 26822501564.7863 - val_mse: 26913443278.4946\n",
      "Epoch 19/32\n",
      "409/409 [==============================] - 2s 4ms/step - loss: 25401855906.1603 - mse: 25392939418.0716 - val_loss: 24321915887.3720 - val_mse: 24406537842.8686\n",
      "Epoch 20/32\n",
      "409/409 [==============================] - 2s 4ms/step - loss: 22979718601.8218 - mse: 22984279785.6927 - val_loss: 21977075110.1594 - val_mse: 22055120497.5561\n",
      "Epoch 21/32\n",
      "409/409 [==============================] - 2s 4ms/step - loss: 20742212488.0432 - mse: 20758017479.9910 - val_loss: 19839859521.5474 - val_mse: 19911209238.5865\n",
      "Epoch 22/32\n",
      "409/409 [==============================] - 2s 4ms/step - loss: 18720039203.3668 - mse: 18750398543.7784 - val_loss: 17931107276.7774 - val_mse: 17995751337.4235\n",
      "Epoch 23/32\n",
      "409/409 [==============================] - 2s 4ms/step - loss: 16986239901.5745 - mse: 16986518853.7946 - val_loss: 16272383651.0400 - val_mse: 16330518409.4210\n",
      "Epoch 24/32\n",
      "409/409 [==============================] - 2s 4ms/step - loss: 15479631685.8151 - mse: 15488165748.9184 - val_loss: 14884471259.8199 - val_mse: 14936568404.1572\n",
      "Epoch 25/32\n",
      "409/409 [==============================] - 2s 4ms/step - loss: 14244335129.6403 - mse: 14252436506.0851 - val_loss: 13761014496.2054 - val_mse: 13807770701.7395\n",
      "Epoch 26/32\n",
      "409/409 [==============================] - 2s 4ms/step - loss: 13284557140.3546 - mse: 13273580298.6804 - val_loss: 12884207591.6093 - val_mse: 12926429718.1154\n",
      "Epoch 27/32\n",
      "409/409 [==============================] - 2s 4ms/step - loss: 12521344107.8028 - mse: 12532569093.8539 - val_loss: 12232738474.3608 - val_mse: 12271387905.1268\n",
      "Epoch 28/32\n",
      "409/409 [==============================] - 2s 4ms/step - loss: 12004576968.8347 - mse: 11993168322.6532 - val_loss: 11762902065.5612 - val_mse: 11798898102.5779\n",
      "Epoch 29/32\n",
      "409/409 [==============================] - 2s 4ms/step - loss: 11620322063.0459 - mse: 11613999742.2431 - val_loss: 11437676796.8557 - val_mse: 11471993060.2825\n",
      "Epoch 30/32\n",
      "409/409 [==============================] - 2s 4ms/step - loss: 11353575656.3098 - mse: 11346920742.9745 - val_loss: 11202380452.2199 - val_mse: 11235775871.2181\n",
      "Epoch 31/32\n",
      "409/409 [==============================] - 2s 4ms/step - loss: 11155915115.1432 - mse: 11152313640.7782 - val_loss: 11027506236.3935 - val_mse: 11060704439.7473\n",
      "Epoch 32/32\n",
      "409/409 [==============================] - 2s 4ms/step - loss: 11002632619.7981 - mse: 10997540911.3667 - val_loss: 10880454711.1360 - val_mse: 10913767476.3172\n"
     ]
    }
   ],
   "source": [
    "# Model create\n",
    "\n",
    "feature_layer = tf.keras.layers.DenseFeatures(feature_columns, dtype='float64')\n",
    "\n",
    "model = tf.keras.Sequential([\n",
    "  feature_layer,\n",
    "  layers.Dense(12,  input_dim=8, activation='relu'),\n",
    "  layers.Dense(8, activation='relu'),\n",
    "  layers.Dense(1, activation='linear',  name='median_house_value')\n",
    "])\n",
    "\n",
    "# Model compile\n",
    "model.compile(optimizer='adam',\n",
    "              loss='mse',\n",
    "              metrics=['mse'])\n",
    "\n",
    "# Model Fit\n",
    "history = model.fit(train_ds,\n",
    "                    validation_data=val_ds,\n",
    "                    epochs=32)"
   ]
  },
  {
   "cell_type": "markdown",
   "metadata": {
    "colab_type": "text",
    "id": "3LdUQszM16Oj"
   },
   "source": [
    "#### **Exercise**:   **RUN** the next two cells to show loss and accuracy and to plot the model.\n"
   ]
  },
  {
   "cell_type": "code",
   "execution_count": 67,
   "metadata": {
    "colab": {
     "base_uri": "https://localhost:8080/",
     "height": 71
    },
    "colab_type": "code",
    "id": "ZtFSpkd9UoAW",
    "outputId": "bac4836e-c4f1-4b29-876d-91fe1b51a5a7"
   },
   "outputs": [
    {
     "name": "stdout",
     "output_type": "stream",
     "text": [
      "128/128 [==============================] - 1s 5ms/step - loss: 10870024988.5515 - mse: 10874797859.2467\n",
      "Accuracy 10874797859.246664\n"
     ]
    }
   ],
   "source": [
    "loss, accuracy = model.evaluate(test_ds)\n",
    "print(\"Accuracy\", accuracy)"
   ]
  },
  {
   "cell_type": "code",
   "execution_count": 68,
   "metadata": {
    "colab": {
     "base_uri": "https://localhost:8080/",
     "height": 350
    },
    "colab_type": "code",
    "id": "O8kWMa6xUn-M",
    "outputId": "05ed9323-1102-4245-a40b-88543f11b0f3"
   },
   "outputs": [
    {
     "data": {
      "image/png": "[encoded data removed]",
      "text/plain": [
       "<Figure size 720x360 with 2 Axes>"
      ]
     },
     "metadata": {
      "needs_background": "light"
     },
     "output_type": "display_data"
    }
   ],
   "source": [
    "# Plot\n",
    "\n",
    "import matplotlib.pyplot as plt\n",
    "nrows = 1\n",
    "ncols = 2\n",
    "fig = plt.figure(figsize=(10, 5))\n",
    "\n",
    "for idx, key in enumerate(['loss', 'mse']):  \n",
    "    ax = fig.add_subplot(nrows, ncols, idx+1)\n",
    "    plt.plot(history.history[key])\n",
    "    plt.plot(history.history['val_{}'.format(key)])\n",
    "    plt.title('model {}'.format(key))\n",
    "    plt.ylabel(key)\n",
    "    plt.xlabel('epoch')\n",
    "    plt.legend(['train', 'validation'], loc='upper left');"
   ]
  },
  {
   "cell_type": "markdown",
   "metadata": {
    "colab_type": "text",
    "id": "C4tWwOQt2e-P"
   },
   "source": [
    "#### **Exercise**:  Create a prediction model.  Note:  You may use the same values from the previous prediciton.  \n",
    "\n"
   ]
  },
  {
   "cell_type": "code",
   "execution_count": 69,
   "metadata": {},
   "outputs": [
    {
     "data": {
      "text/plain": [
       "array([[219961.60642644]])"
      ]
     },
     "execution_count": 69,
     "metadata": {},
     "output_type": "execute_result"
    }
   ],
   "source": [
    "# Median_house_value is $249,000, prediction is $234,000 NEAR OCEAN\n",
    "\n",
    "model.predict({\n",
    "    'longitude': tf.convert_to_tensor([-122.43]),\n",
    "    'latitude': tf.convert_to_tensor([37.63]),\n",
    "    'housing_median_age': tf.convert_to_tensor([34.0]),\n",
    "    'total_rooms': tf.convert_to_tensor([4135.0]),\n",
    "    'total_bedrooms': tf.convert_to_tensor([687.0]),\n",
    "    'population': tf.convert_to_tensor([2154.0]),\n",
    "    'households': tf.convert_to_tensor([742.0]),\n",
    "    'median_income': tf.convert_to_tensor([4.9732]),\n",
    "    'ocean_proximity': tf.convert_to_tensor(['NEAR OCEAN'])\n",
    "}, steps=1)"
   ]
  },
  {
   "cell_type": "markdown",
   "metadata": {
    "colab_type": "text",
    "id": "rcbdA3arXkej"
   },
   "source": [
    "### Analysis \n",
    "\n",
    "The array returns a predicted value.  Compare this value to the test set you ran earlier. Your predicted value may be a bit better.\n",
    "\n",
    "Now that you have your \"feature engineering template\" setup, you can experiment by creating additional features.  For exmample, you can create derived features, such as households per population, and see how they impact the model.  You can also experiment with replacing the features you used to create the feature cross.\n",
    " "
   ]
  },
  {
   "cell_type": "markdown",
   "metadata": {
    "colab": {},
    "colab_type": "code",
    "id": "R42I8BvbuN7Q"
   },
   "source": [
    "**Feature Engineering Summary**"
   ]
  },
  {
   "cell_type": "code",
   "execution_count": 91,
   "metadata": {},
   "outputs": [],
   "source": [
    "# Features\n",
    "\n",
    "num_c = ['longitude', 'latitude', 'housing_median_age', 'total_rooms',\n",
    "         'total_bedrooms', 'population', 'households', 'median_income']\n",
    "\n",
    "bucket_c = ['housing_median_age']\n",
    "\n",
    "cat_i_c = ['ocean_proximity']  # indicator columns,Categorical features\n",
    "\n",
    "# /*****************************************************************************\n",
    "\n",
    "# Scalar def get_scal(feature):\n",
    "\n",
    "\n",
    "def get_scal(feature):\n",
    "  def minmax(x):\n",
    "        mini = train[feature].min()\n",
    "        maxi = train[feature].max()\n",
    "        return (x - mini)/(maxi-mini)\n",
    "  return(minmax)\n",
    "\n",
    "\n",
    "feature_columns = []\n",
    "for header in num_c:\n",
    "    scal_input_fn = get_scal(header)\n",
    "    feature_columns.append(feature_column.numeric_column(header, normalizer_fn=scal_input_fn))\n",
    "\n",
    "\n",
    "\n",
    "# /******************************************************************************************\n",
    "# One hot encoding\n",
    "\n",
    "for feature_name in cat_i_c:\n",
    "    vocabulary = dataframe[feature_name].unique()\n",
    "    cat_c = tf.feature_column.categorical_column_with_vocabulary_list(feature_name, vocabulary)\n",
    "    one_hot = feature_column.indicator_column(cat_c)\n",
    "    feature_columns.append(one_hot)\n",
    "\n",
    "    \n",
    "# /*****************************************************************************************\n",
    "\n",
    "# Bucketize\n",
    "\n",
    "Age = feature_column.numeric_column(\"housing_median_age\")\n",
    "\n",
    "# Bucketized cols\n",
    "\n",
    "age_buckets = feature_column.bucketized_column(Age, boundaries=[18, 25, 30, 35, 40, 45, 50, 55, 60, 65])\n",
    "feature_columns.append(age_buckets)\n",
    "\n",
    "\n",
    "# /*****************************************************************************************\n",
    "\n",
    "#Feature Cross\n",
    "\n",
    "vocabulary = dataframe['ocean_proximity'].unique()\n",
    "ocean_proximity = tf.feature_column.categorical_column_with_vocabulary_list('ocean_proximity', vocabulary)\n",
    "\n",
    "crossed_feature = feature_column.crossed_column([age_buckets, ocean_proximity], hash_bucket_size=1000)\n",
    "crossed_feature = feature_column.indicator_column(crossed_feature)\n",
    "feature_columns.append(crossed_feature)"
   ]
  },
  {
   "cell_type": "markdown",
   "metadata": {},
   "source": [
    "Copyright 2020 Google Inc.\n",
    "Licensed under the Apache License, Version 2.0 (the \"License\"); you may not use this file except in compliance with the License. You may obtain a copy of the License at\n",
    "http://www.apache.org/licenses/LICENSE-2.0\n",
    "Unless required by applicable law or agreed to in writing, software distributed under the License is distributed on an \"AS IS\" BASIS, WITHOUT WARRANTIES OR CONDITIONS OF ANY KIND, either express or implied. See the License for the specific language governing permissions and limitations under the License."
   ]
  }
 ],
 "metadata": {
  "colab": {
   "collapsed_sections": [],
   "name": "Basic Feature Engineering in Keras.ipynb",
   "provenance": [],
   "toc_visible": true
  },
  "kernelspec": {
   "display_name": "Python 3",
   "language": "python",
   "name": "python3"
  },
  "language_info": {
   "codemirror_mode": {
    "name": "ipython",
    "version": 3
   },
   "file_extension": ".py",
   "mimetype": "text/x-python",
   "name": "python",
   "nbconvert_exporter": "python",
   "pygments_lexer": "ipython3",
   "version": "3.5.3"
  }
 },
 "nbformat": 4,
 "nbformat_minor": 4
}
