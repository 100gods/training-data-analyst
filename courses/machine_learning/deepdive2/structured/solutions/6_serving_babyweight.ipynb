{
 "cells": [
  {
   "cell_type": "markdown",
   "metadata": {},
   "source": [
    "# LAB 6:  Serving baby weight predictions.\n",
    "\n",
    "**Learning Objectives**\n",
    "\n",
    "1. Deploy a web application that consumes the machine learning service\n",
    "\n",
    "## Introduction \n",
    "In the pevious notebook, we deployed our model to CAIP. In this notebook, we'll make a [Flask app](https://palletsprojects.com/p/flask/) to show how our models can interact with a web application which could be deployed to [App Engine](https://cloud.google.com/appengine) with the [Flexible Environment](https://cloud.google.com/appengine/docs/flexible)."
   ]
  },
  {
   "cell_type": "markdown",
   "metadata": {},
   "source": [
    "## Step 1\n",
    "Let's start with what our users will see. In the `application` folder, we have prebuilt the components for web application. In the templates folder, the <a href=\"application/templates/index.html\">index.html</a> file is the visual GUI our users will make predictions with.\n",
    "\n",
    "It works by using an HTML [form](https://www.w3schools.com/html/html_forms.asp) to make a [POST request](https://www.w3schools.com/tags/ref_httpmethods.asp) to our server, passing along the values captured by the [input tags](https://www.w3schools.com/html/html_form_input_types.asp).\n",
    "\n",
    "The page will render a little strangely in the notebook since the notebook environment does not run javascript, nor do we have our server up and running. Let's get to that!"
   ]
  },
  {
   "cell_type": "code",
   "execution_count": 1,
   "metadata": {},
   "outputs": [],
   "source": [
    "import os\n",
    "os.environ[\"BUCKET\"] = \"your-bucket-id-here\""
   ]
  },
  {
   "cell_type": "markdown",
   "metadata": {},
   "source": [
    "## Step 2\n",
    "We can set up our server with python using [Flask](https://flask.palletsprojects.com/en/1.1.x/quickstart/). Below, we've already built out most of the application for you.\n",
    "\n",
    "The `@app.route()` decorator defines a function to handle web reqests. Let's say our website is `www.example.com`. With how our `@app.route(\"/\")` function is defined, our sever will render our <a href=\"application/templates/index.html\">index.html</a> file when users go to `www.example.com/` (which is the default route for a website).\n",
    "\n",
    "So, when a user pings our server with `www.example.com/predict`, they would use `@app.route(\"/predict\", methods=[\"POST\"])` to make a prediction. The data that gets sent over the internet isn't a dictionary, but a string like below:\n",
    "\n",
    "`name1=value1&name2=value2` where `name` corresponds to the `name` on the input tag of our html form, and the value is what the user entered. Thankfully, Flask makes it easy to transform into a dictionary with `request.form.to_dict()`, but we still need to transform the data into a format our model expects. We've done this with the `gender2str` and the `plurality2str` functions.\n",
    "\n",
    "Ok! With our data all set up, let's hit up our CAIP models. Fill in the **TODO** below to connect our web server to our ML pipeline."
   ]
  },
  {
   "cell_type": "code",
   "execution_count": 2,
   "metadata": {},
   "outputs": [
    {
     "name": "stdout",
     "output_type": "stream",
     "text": [
      "Overwriting application/main.py\n"
     ]
    }
   ],
   "source": [
    "%%writefile application/main.py\n",
    "import os\n",
    "\n",
    "from flask import Flask\n",
    "from flask import render_template\n",
    "from flask import request\n",
    "from googleapiclient import discovery\n",
    "from oauth2client.client import GoogleCredentials\n",
    "\n",
    "\n",
    "credentials = GoogleCredentials.get_application_default()\n",
    "api = discovery.build(\"ml\", \"v1\", credentials=credentials)\n",
    "\n",
    "app = Flask(__name__)\n",
    "\n",
    "\n",
    "def get_prediction(features):\n",
    "    project = \"ddetering-experimental\"\n",
    "    model_name = os.getenv(\"MODEL_NAME\", \"babyweight\")\n",
    "    version_name = os.getenv(\"VERSION_NAME\", \"ml_on_gcp\")\n",
    "\n",
    "    input_data = {\"instances\": [features]}\n",
    "    # TODO: Write the code to make a prediction against a CAIP deployed model\n",
    "    parent = \"projects/{0}/models/{1}/versions/{2}\".format(\n",
    "        project, model_name, version_name)\n",
    "    prediction = api.projects().predict(body=input_data, name=parent).execute()\n",
    "\n",
    "    return prediction[\"predictions\"][0][\"weight\"][0]\n",
    "\n",
    "\n",
    "@app.route(\"/\")\n",
    "def index():\n",
    "    return render_template(\"index.html\")\n",
    "\n",
    "\n",
    "@app.route(\"/predict\", methods=[\"POST\"])\n",
    "def predict():\n",
    "    def gender2str(val):\n",
    "        genders = {\"unknown\": \"Unknown\", \"male\": \"True\", \"female\": \"False\"}\n",
    "        return genders[val]\n",
    "\n",
    "    def plurality2str(val):\n",
    "        pluralities = {\"1\": \"Single(1)\", \"2\": \"Twins(2)\", \"3\": \"Triplets(3)\"}\n",
    "        if features[\"is_male\"] == \"Unknown\" and int(val) > 1:\n",
    "            return \"Multiple(2+)\"\n",
    "        return pluralities[val]\n",
    "\n",
    "    data = request.form.to_dict()\n",
    "    mandatory_items = [\"babyGender\",\n",
    "                       \"motherAge\",\n",
    "                       \"plurality\",\n",
    "                       \"gestationWeeks\"]\n",
    "    for item in mandatory_items:\n",
    "        if item not in data.keys():\n",
    "            return \"Set all items.\"\n",
    "\n",
    "    features = {}\n",
    "    features[\"is_male\"] = gender2str(data[\"babyGender\"])\n",
    "    features[\"mother_age\"] = float(data[\"motherAge\"])\n",
    "    features[\"plurality\"] = plurality2str(data[\"plurality\"])\n",
    "    features[\"gestation_weeks\"] = float(data[\"gestationWeeks\"])\n",
    "\n",
    "    prediction = get_prediction(features)\n",
    "\n",
    "    return \"{:.2f} lbs.\".format(prediction)\n",
    "\n",
    "\n",
    "if __name__ == '__main__':\n",
    "    # This is used when running locally. Gunicorn is used to run the\n",
    "    # application on Google App Engine. See entrypoint in app.yaml.\n",
    "    app.run(host='127.0.0.1', port=8080)\n"
   ]
  },
  {
   "cell_type": "markdown",
   "metadata": {},
   "source": [
    "## Step 3\n",
    "So how do we know that it works? We'll have to deploy our website and find out! Notebooks aren't made for website deployment, so we'll move our operation to the [Google Cloud Shell](https://console.cloud.google.com/home/dashboard?cloudshell=true).\n",
    "\n",
    "By default, the shell doesn't have Flask installed, so copy over the following command to install it.\n",
    "\n",
    "`python3 -m pip install --user Flask==0.12.1`\n",
    "\n",
    "Next, we'll need to copy our web app to the Cloud Shell. We can use [GCS](https://cloud.google.com/storage) as an inbetween."
   ]
  },
  {
   "cell_type": "code",
   "execution_count": 3,
   "metadata": {},
   "outputs": [
    {
     "name": "stderr",
     "output_type": "stream",
     "text": [
      "CommandException: \"rm\" command does not support \"file://\" URLs. Did you mean to use a gs:// URL?\n",
      "Copying file://application/main.py [Content-Type=text/x-python]...\n",
      "Copying file://application/app.yaml [Content-Type=application/octet-stream]...  \n",
      "Copying file://application/templates/index.html [Content-Type=text/html]...     \n",
      "Copying file://application/templates/.ipynb_checkpoints/index-checkpoint.html [Content-Type=text/html]...\n",
      "- [4 files][ 10.7 KiB/ 10.7 KiB]                                                \n",
      "==> NOTE: You are performing a sequence of gsutil operations that may\n",
      "run significantly faster if you instead use gsutil -m cp ... Please\n",
      "see the -m section under \"gsutil help options\" for further information\n",
      "about when gsutil -m can be advantageous.\n",
      "\n",
      "Copying file://application/static/baby.png [Content-Type=image/png]...\n",
      "Copying file://application/.ipynb_checkpoints/main-checkpoint.py [Content-Type=text/x-python]...\n",
      "Copying file://application/.ipynb_checkpoints/app-checkpoint.yaml [Content-Type=application/octet-stream]...\n",
      "\\ [7 files][ 26.4 KiB/ 26.4 KiB]                                                \n",
      "Operation completed over 7 objects/26.4 KiB.                                     \n"
     ]
    }
   ],
   "source": [
    "%%bash\n",
    "gsutil rm -r application/ gs://$BUCKET/baby_app\n",
    "gsutil cp -r application/ gs://$BUCKET/baby_app"
   ]
  },
  {
   "cell_type": "markdown",
   "metadata": {},
   "source": [
    "Run the below cell, and copy the output into the [Google Cloud Shell](https://console.cloud.google.com/home/dashboard?cloudshell=true)"
   ]
  },
  {
   "cell_type": "code",
   "execution_count": 4,
   "metadata": {},
   "outputs": [
    {
     "name": "stdout",
     "output_type": "stream",
     "text": [
      "rm -r baby_app/\n",
      "mkdir baby_app/\n",
      "gsutil cp -r gs://ddetering-experimental/baby_app ./\n",
      "python3 baby_app/main.py\n"
     ]
    }
   ],
   "source": [
    "%%bash\n",
    "echo rm -r baby_app/\n",
    "echo mkdir baby_app/\n",
    "echo gsutil cp -r gs://$BUCKET/baby_app ./\n",
    "echo python3 baby_app/main.py"
   ]
  },
  {
   "cell_type": "markdown",
   "metadata": {},
   "source": [
    "## Step 4\n",
    "Time to play with the website! The cloud shell should now say something like `* Running on http://127.0.0.1:8080/ (Press CTRL+C to quit)`. Click on the `http` link to go to your shiny new website. Fill out the form and give it a minute or two to process its first prediction. After the first one, the rest of the predictions will be lightning fast.\n",
    "\n",
    "Did you get a prediction? If not, the Google Cloud Shell will spit out a stack trace of the error to help narrow it down. If yes, congratulations! Great job on bringing all of your work together for the users."
   ]
  }
 ],
 "metadata": {
  "kernelspec": {
   "display_name": "Python 3",
   "language": "python",
   "name": "python3"
  },
  "language_info": {
   "codemirror_mode": {
    "name": "ipython",
    "version": 3
   },
   "file_extension": ".py",
   "mimetype": "text/x-python",
   "name": "python",
   "nbconvert_exporter": "python",
   "pygments_lexer": "ipython3",
   "version": "3.5.3"
  }
 },
 "nbformat": 4,
 "nbformat_minor": 4
}
