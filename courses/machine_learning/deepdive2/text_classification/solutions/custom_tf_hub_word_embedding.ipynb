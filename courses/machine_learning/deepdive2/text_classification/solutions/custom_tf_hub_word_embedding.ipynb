{
 "cells": [
  {
   "cell_type": "markdown",
   "metadata": {},
   "source": [
    "# Custom TF-Hub Word Embedding with text2hub\n",
    "\n",
    "**Learning Objectives:**\n",
    "  1. Learn how to deploy deploy AI Hub Kubeflow pipeline\n",
    "  1. Learn how to configure the run parameters for text2hub\n",
    "  1. Learn how to inspect text2hub generated artifacts and word embeddings in TensorBoard\n",
    "  1. Learn how to run TF 1.x generated hub module in TF 2.0\n",
    "\n",
    "\n",
    "## Introduction\n",
    "\n",
    "In this notebook, we will first learn how to run a pipeline from AI Hub Kubeflow, text2hub, that takes as input a corpus of text in a GCS bucket and ouputs a reusable TF-Hub text embedding module trained on that corpus. We will create a medical text embedding using a surgery manual from Project Gutenberg.\n",
    "We will learn how to inspect the pipeline run artifacts and the generated embeddings via visual exploration of the embedding space in TensorBoard. At last we will learn how to use the generated text embedding modules both in TF 1.x and TF 2.0. "
   ]
  },
  {
   "cell_type": "code",
   "execution_count": 29,
   "metadata": {},
   "outputs": [],
   "source": [
    "import os\n",
    "\n",
    "import tensorflow as tf\n",
    "import tensorflow_hub as hub"
   ]
  },
  {
   "cell_type": "markdown",
   "metadata": {},
   "source": [
    "Replace by your GCP project and bucket:"
   ]
  },
  {
   "cell_type": "code",
   "execution_count": 30,
   "metadata": {},
   "outputs": [],
   "source": [
    "PROJECT = \"<YOUR PROJEC>\"\n",
    "BUCKET = \"<YOUR BUCKET>\"\n",
    "\n",
    "os.environ[\"PROJECT\"] = PROJECT\n",
    "os.environ[\"BUCKET\"] = BUCKET"
   ]
  },
  {
   "cell_type": "markdown",
   "metadata": {},
   "source": [
    "## Setting up the Kubeflow cluster"
   ]
  },
  {
   "cell_type": "markdown",
   "metadata": {},
   "source": [
    "We assume that you have a running Kubeflow cluster. \n",
    "\n",
    "If not, to deploy a [Kubeflow](https://www.kubeflow.org/) cluster in your GCP project, use the [Kubeflow cluster deployer](https://deploy.kubeflow.cloud/#/deploy).\n",
    "\n",
    "There is a [setup video](https://www.kubeflow.org/docs/started/cloud/getting-started-gke/~) that will\n",
    "take you over all the steps in details, and explains how to access to the Kubeflow Dashboard UI, once it is \n",
    "running. \n",
    "\n",
    "You'll need to create an OAuth client for authentication purposes: Follow the \n",
    "instructions [here](https://www.kubeflow.org/docs/gke/deploy/oauth-setup/)."
   ]
  },
  {
   "cell_type": "markdown",
   "metadata": {},
   "source": [
    "## Loading the dataset on GCS"
   ]
  },
  {
   "cell_type": "code",
   "execution_count": 40,
   "metadata": {},
   "outputs": [
    {
     "name": "stdout",
     "output_type": "stream",
     "text": [
      "gsutil cp surgery_manual.txt gs://dherin-sandbox/custom_embedding/surgery_manual.txt\n"
     ]
    },
    {
     "name": "stderr",
     "output_type": "stream",
     "text": [
      "  % Total    % Received % Xferd  Average Speed   Time    Time     Time  Current\n",
      "                                 Dload  Upload   Total   Spent    Left  Speed\n",
      "\r",
      "  0     0    0     0    0     0      0      0 --:--:-- --:--:-- --:--:--     0\r",
      " 17  608k   17  104k    0     0   156k      0  0:00:03 --:--:--  0:00:03  156k\r",
      "100  608k  100  608k    0     0   461k      0  0:00:01  0:00:01 --:--:--  462k\n"
     ]
    }
   ],
   "source": [
    "%%bash\n",
    "\n",
    "# Surgery Manual\n",
    "URL=http://www.gutenberg.org/cache/epub/24564/pg24564.txt\n",
    "OUTDIR=gs://$BUCKET/custom_embedding\n",
    "CORPUS=surgery_manual.txt\n",
    "\n",
    "curl $URL > $CORPUS\n",
    "echo gsutil cp $CORPUS $OUTDIR/$CORPUS"
   ]
  },
  {
   "cell_type": "markdown",
   "metadata": {},
   "source": [
    "## Step 1: Download the `text2hub` pipeline from AI Hub"
   ]
  },
  {
   "cell_type": "markdown",
   "metadata": {},
   "source": [
    "You can go on [AI Hub](https://aihub.cloud.google.com/u/0/) and search for the `text2hub` pipeline, or just follow [this link](https://aihub.cloud.google.com/u/0/p/products%2F4a91d2d0-1fb8-4e79-adf7-a35707071195).\n",
    "You'll land onto a page describing `text2hub`. Click on the \"Download\" button on that page to download the Kubeflow pipeline"
   ]
  },
  {
   "cell_type": "markdown",
   "metadata": {},
   "source": [
    "![img](./assets/text2hub_download.png)"
   ]
  },
  {
   "cell_type": "markdown",
   "metadata": {},
   "source": [
    "## Step 2: Upload the pipeline to the Kubflow cluster"
   ]
  },
  {
   "cell_type": "markdown",
   "metadata": {},
   "source": [
    "![img](./assets/text2hub_upload.png)"
   ]
  },
  {
   "cell_type": "markdown",
   "metadata": {},
   "source": [
    "## Step 3: Create a pipeline run"
   ]
  },
  {
   "cell_type": "markdown",
   "metadata": {},
   "source": [
    "After uploading the pipeline, you should see `text2hub` appear on the pipeline list. Click on it. This will bring you to a page describing the pipeline (explore!) and allowing you to create a run:"
   ]
  },
  {
   "cell_type": "markdown",
   "metadata": {},
   "source": [
    "![img](./assets/text2hub_run_creation.png)"
   ]
  },
  {
   "cell_type": "markdown",
   "metadata": {},
   "source": [
    "## Step 4: Enter the run parameters"
   ]
  },
  {
   "cell_type": "markdown",
   "metadata": {},
   "source": [
    "![img](./assets/text2hub_run_parameters.png)"
   ]
  },
  {
   "cell_type": "markdown",
   "metadata": {},
   "source": [
    "You can leave most parameters as default except for\n",
    "`gcs-path-to-the-test-corpus` whose value should be set to"
   ]
  },
  {
   "cell_type": "code",
   "execution_count": 48,
   "metadata": {},
   "outputs": [
    {
     "name": "stdout",
     "output_type": "stream",
     "text": [
      "gs://dherin-sandbox/custom_embedding/surgery_manual.txt\r\n"
     ]
    }
   ],
   "source": [
    "!echo gs://$BUCKET/custom_embedding/surgery_manual.txt"
   ]
  },
  {
   "cell_type": "markdown",
   "metadata": {},
   "source": [
    "and for `gcs-directory-path-for-pipeline-output` which we will set to"
   ]
  },
  {
   "cell_type": "code",
   "execution_count": 49,
   "metadata": {},
   "outputs": [
    {
     "name": "stdout",
     "output_type": "stream",
     "text": [
      "gs://dherin-sandbox/custom_embedding\r\n"
     ]
    }
   ],
   "source": [
    "!echo gs://$BUCKET/custom_embedding"
   ]
  },
  {
   "cell_type": "markdown",
   "metadata": {},
   "source": [
    "Once these values have been set, you can start the run by clicking on \"Start\"."
   ]
  },
  {
   "cell_type": "markdown",
   "metadata": {},
   "source": [
    "## Step 5: Inspect the run artifacts"
   ]
  },
  {
   "cell_type": "markdown",
   "metadata": {},
   "source": [
    "![img](assets/text2hub_experiment_list.png)"
   ]
  },
  {
   "cell_type": "code",
   "execution_count": null,
   "metadata": {},
   "outputs": [],
   "source": []
  },
  {
   "cell_type": "markdown",
   "metadata": {},
   "source": [
    "![img](assets/text2cooc_markdown_artifacts.png)"
   ]
  },
  {
   "cell_type": "code",
   "execution_count": null,
   "metadata": {},
   "outputs": [],
   "source": []
  },
  {
   "cell_type": "markdown",
   "metadata": {},
   "source": [
    "![img](assets/cooc2emb_artifacts.png)"
   ]
  },
  {
   "cell_type": "markdown",
   "metadata": {},
   "source": [
    "tensorboard==1.15.0"
   ]
  },
  {
   "cell_type": "markdown",
   "metadata": {},
   "source": [
    "![img](assets/cooc2emb_tb_search.png)"
   ]
  },
  {
   "cell_type": "markdown",
   "metadata": {},
   "source": [
    "The [ilium bone](https://en.wikipedia.org/wiki/Ilium_(bone))"
   ]
  },
  {
   "cell_type": "markdown",
   "metadata": {},
   "source": [
    "![img](assets/cooc2emb_nn.png)"
   ]
  },
  {
   "cell_type": "code",
   "execution_count": null,
   "metadata": {},
   "outputs": [],
   "source": []
  },
  {
   "cell_type": "markdown",
   "metadata": {},
   "source": [
    "![img](assets/emb2hub_artifacts.png)"
   ]
  },
  {
   "cell_type": "markdown",
   "metadata": {},
   "source": [
    "# Step 7: Using the generated TF-Hub module"
   ]
  },
  {
   "cell_type": "code",
   "execution_count": 62,
   "metadata": {},
   "outputs": [],
   "source": [
    "MODULE = \"gs://{bucket}/custom_embedding/hub-module\".format(bucket=BUCKET)"
   ]
  },
  {
   "cell_type": "code",
   "execution_count": 70,
   "metadata": {},
   "outputs": [
    {
     "data": {
      "text/plain": [
       "<tf.Tensor: id=1378, shape=(3,), dtype=string, numpy=array([b'ilium', b'fracture', b'aneurism'], dtype=object)>"
      ]
     },
     "execution_count": 70,
     "metadata": {},
     "output_type": "execute_result"
    }
   ],
   "source": [
    "texts = tf.constant(['ilium', 'fracture', 'aneurism'])\n",
    "texts"
   ]
  },
  {
   "cell_type": "code",
   "execution_count": 71,
   "metadata": {},
   "outputs": [],
   "source": [
    "class Wrapper(tf.train.Checkpoint):\n",
    "    def __init__(self, spec):\n",
    "        super(Wrapper, self).__init__()\n",
    "        self.module = hub.load(spec)\n",
    "        self.variables = self.module.variables\n",
    "        self.trainable_variables = []\n",
    "    def __call__(self, x):\n",
    "        return self.module.signatures[\"default\"](x)[\"default\"]"
   ]
  },
  {
   "cell_type": "code",
   "execution_count": 72,
   "metadata": {},
   "outputs": [],
   "source": [
    "med_embed = hub.KerasLayer(Wrapper(MODULE))\n"
   ]
  },
  {
   "cell_type": "code",
   "execution_count": 73,
   "metadata": {},
   "outputs": [
    {
     "data": {
      "text/plain": [
       "<tf.Tensor: id=1517, shape=(3, 128), dtype=float32, numpy=\n",
       "array([[ 0.14453109,  0.07852267,  0.10940594,  0.46825212,  0.2711016 ,\n",
       "        -0.30434078,  0.35756677, -0.25814775,  0.58705705, -0.33127564,\n",
       "        -0.3224882 , -0.14958593,  0.27588782, -0.16383132, -0.15279762,\n",
       "        -0.37463644, -0.37352383, -0.375445  , -0.41296828, -0.1574907 ,\n",
       "         0.6536843 ,  0.12237123,  0.12104838,  0.1749343 , -0.41965425,\n",
       "        -0.08719758,  0.19248757,  0.01838654, -0.06238181, -0.23054636,\n",
       "         0.03802659, -0.06728458, -0.23047519,  0.4418791 , -0.21132842,\n",
       "        -0.09843157, -0.08029427, -0.11595032,  0.12324606, -0.09030671,\n",
       "         0.3085222 , -0.08089428, -0.24685636, -0.60403794,  0.4301253 ,\n",
       "        -0.46597183,  0.475734  , -0.43883252, -0.11868288, -0.21692485,\n",
       "        -0.01024164, -0.3957712 ,  0.371831  ,  0.30342016,  0.1703456 ,\n",
       "        -0.40179157,  0.48199773,  0.4366476 , -0.1528644 , -0.15868089,\n",
       "         0.3833921 ,  0.22966436,  0.53352064,  0.19017717, -0.20319304,\n",
       "        -0.14291056,  0.27719742,  0.12461181,  0.2685519 , -0.02031964,\n",
       "        -0.31587142, -0.24115059,  0.49385047,  0.46896133,  0.15680353,\n",
       "         0.5757193 , -0.35598013, -0.17011577,  0.37994483,  0.38705346,\n",
       "        -0.48963422, -0.22141391, -0.13311529,  0.1217213 ,  0.10572889,\n",
       "         0.00914867,  0.48309857,  0.19068594,  0.65811855, -0.3488899 ,\n",
       "         0.82147115, -0.12336684, -0.19860533, -0.00717204,  0.00655735,\n",
       "         0.63817227, -0.11087445, -0.09598988,  0.00900863,  0.09973834,\n",
       "        -0.09877969,  0.14547217,  0.03858263, -0.05532194,  0.15113775,\n",
       "         0.10626303,  0.6526023 , -0.25385836, -0.07579204, -0.10374842,\n",
       "        -0.16401999, -0.3356936 ,  0.1496517 ,  0.51793283,  0.23419356,\n",
       "        -0.22008544, -0.13944909, -0.82629   ,  0.32507917, -0.565222  ,\n",
       "        -0.5308213 ,  0.2986781 , -0.2662198 ,  0.69686294, -0.6315541 ,\n",
       "        -0.5368628 , -0.3538828 , -0.12873396],\n",
       "       [ 0.2542147 ,  0.6017066 ,  0.42542225, -0.20965382, -0.4664192 ,\n",
       "         0.16893718, -0.48435393,  0.10459217, -0.01829936, -0.15274368,\n",
       "        -0.04866313, -0.47243202, -0.62553245,  0.3722682 ,  0.00675124,\n",
       "         0.21513796,  0.08605143, -0.32437044,  0.28208405,  0.33521125,\n",
       "         0.28674585,  0.22600004, -0.76700145, -0.6303177 , -0.39943963,\n",
       "         0.2615345 , -0.3051207 ,  0.6155862 , -0.71172035, -0.06730596,\n",
       "        -0.05608491, -0.05474348,  0.19819734,  0.5110134 ,  0.07558369,\n",
       "        -0.0578533 ,  0.25876904, -0.601245  , -0.23770176, -0.3440771 ,\n",
       "         0.08972091, -0.00273869,  0.9541978 ,  0.46153852, -0.33720168,\n",
       "        -0.5070919 ,  0.12705463,  0.07489628,  0.58954585, -0.31392014,\n",
       "        -0.45800266,  0.44286007, -0.14394863, -0.51198554, -0.0414355 ,\n",
       "         0.03452691,  0.17916822,  0.49628106, -0.14133756, -0.40494913,\n",
       "         0.02476492,  0.02845753, -0.25489262, -0.51900476, -0.04804331,\n",
       "        -0.13529685, -0.4810556 ,  0.3168122 , -0.03801044, -0.3903845 ,\n",
       "        -0.03487501, -0.13755894,  0.0152415 ,  0.14355543, -0.03933396,\n",
       "         0.37228423, -0.59532243,  0.20936516, -0.6639994 , -0.1880815 ,\n",
       "        -0.03224498,  0.27785975, -0.656994  , -0.34010214, -0.3772091 ,\n",
       "        -0.27333477, -0.2838921 ,  0.12660132, -0.07647497, -0.32058543,\n",
       "        -0.14268567, -0.43521324,  0.31482244,  0.13924783,  0.27346617,\n",
       "         0.12928359, -0.03236621,  0.5471461 ,  0.3162894 , -0.13311914,\n",
       "         0.03736883, -0.03597933,  0.5792912 , -0.43321478, -0.39207387,\n",
       "        -0.46529463,  0.29757863, -0.28401566, -0.22942936,  0.20598802,\n",
       "         0.3139302 ,  0.4025603 , -0.04412586,  0.2831372 ,  0.26512143,\n",
       "        -0.27668664, -0.49443558,  0.47924647, -0.03899092, -0.00562759,\n",
       "        -0.5318303 ,  0.37478873, -0.07550237,  0.6229051 , -0.06092577,\n",
       "        -0.07168812,  0.4631151 ,  0.4438431 ],\n",
       "       [ 0.13811088, -0.09591421,  0.31303802,  0.24009922, -0.0812918 ,\n",
       "         0.14325963,  0.06262179, -0.06275751,  0.26495335, -0.48686534,\n",
       "         0.3413443 , -0.28140727, -0.44951075, -0.32282868,  0.13710192,\n",
       "        -0.03942354,  0.26617947, -0.1130475 ,  0.13939439,  0.10550673,\n",
       "         0.19619323, -0.22686051,  0.25844324,  0.06733705, -0.16707568,\n",
       "        -0.15205836, -0.5114491 ,  0.37341952, -0.20279683,  0.4576506 ,\n",
       "        -0.02800272, -0.27989018,  0.33208385,  0.00852232, -0.14005467,\n",
       "         0.11981987,  0.21790147, -0.22426009, -0.06426904, -0.03637813,\n",
       "        -0.1315249 ,  0.23980996, -0.08890792,  0.2795673 ,  0.18043289,\n",
       "         0.30665493, -0.17751847, -0.12178431,  0.31715417, -0.13972795,\n",
       "        -0.234842  ,  0.05617719,  0.20617327,  0.21240275, -0.3236465 ,\n",
       "         0.1804206 ,  0.25617716,  0.6137357 ,  0.29672724,  0.16565354,\n",
       "        -0.37149554,  0.02147242, -0.48856175,  0.12420561,  0.231504  ,\n",
       "        -0.18371941,  0.27795634, -0.5476045 , -0.00926034, -0.27517208,\n",
       "        -0.04792161,  0.11804966, -0.04004014, -0.05059653, -0.24388383,\n",
       "        -0.20765102,  0.3991441 ,  0.1749315 ,  0.21538194, -0.22134262,\n",
       "         0.16286355,  0.14585266,  0.5718665 , -0.21328932,  0.13794544,\n",
       "        -0.06670448, -0.05700678,  0.35419303,  0.43550327,  0.46776128,\n",
       "         0.33836746,  0.23739074,  0.45195872,  0.05455807,  0.42990732,\n",
       "         0.14652824,  0.00105203,  0.3239196 , -0.01887704, -0.11426861,\n",
       "        -0.17127517, -0.08945896,  0.48870897, -0.09813708,  0.44773033,\n",
       "        -0.15237601, -0.02145011, -0.20109749, -0.5017692 , -0.57740414,\n",
       "         0.28072864,  0.24212027, -0.3353082 , -0.19923748, -0.2490241 ,\n",
       "        -0.17450345, -0.22412509, -0.37222236,  0.18634911,  0.30547267,\n",
       "         0.04713549,  0.02006195,  0.0703491 ,  0.33243734, -0.02751613,\n",
       "         0.6161408 , -0.31436777,  0.06119841]], dtype=float32)>"
      ]
     },
     "execution_count": 73,
     "metadata": {},
     "output_type": "execute_result"
    }
   ],
   "source": [
    "outputs = med_embed(texts)\n",
    "outputs"
   ]
  }
 ],
 "metadata": {
  "kernelspec": {
   "display_name": "Python 3",
   "language": "python",
   "name": "python3"
  },
  "language_info": {
   "codemirror_mode": {
    "name": "ipython",
    "version": 3
   },
   "file_extension": ".py",
   "mimetype": "text/x-python",
   "name": "python",
   "nbconvert_exporter": "python",
   "pygments_lexer": "ipython3",
   "version": "3.6.4"
  }
 },
 "nbformat": 4,
 "nbformat_minor": 2
}
