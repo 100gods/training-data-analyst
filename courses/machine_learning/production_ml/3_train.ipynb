{
 "cells": [
  {
   "cell_type": "markdown",
   "metadata": {},
   "source": [
    "# Training a model with `traffic_last_5min` feature\n",
    "\n",
    "\n",
    "## Introduction\n",
    "\n",
    "In this notebook, we'll train a taxifare prediction model but this time with an additional feature of `traffic_last_5min`."
   ]
  },
  {
   "cell_type": "code",
   "execution_count": 1,
   "metadata": {},
   "outputs": [
    {
     "name": "stdout",
     "output_type": "stream",
     "text": [
      "2.0.0-dev20190926\n"
     ]
    }
   ],
   "source": [
    "import datetime\n",
    "import os\n",
    "import shutil\n",
    "\n",
    "import numpy as np\n",
    "import pandas as pd\n",
    "import tensorflow as tf\n",
    "\n",
    "from matplotlib import pyplot as plt\n",
    "from tensorflow import keras\n",
    "\n",
    "from tensorflow.keras.models import Sequential\n",
    "from tensorflow.keras.layers import Dense, DenseFeatures\n",
    "from tensorflow.keras.callbacks import TensorBoard\n",
    "\n",
    "print(tf.__version__)\n",
    "%matplotlib inline"
   ]
  },
  {
   "cell_type": "markdown",
   "metadata": {},
   "source": [
    "## Load raw data"
   ]
  },
  {
   "cell_type": "code",
   "execution_count": 2,
   "metadata": {},
   "outputs": [
    {
     "name": "stdout",
     "output_type": "stream",
     "text": [
      "-rw-r--r--  1 munn  primarygroup  141449 Sep 26 21:04 ../data/traffic-taxi-test.csv\r\n",
      "-rw-r--r--  1 munn  primarygroup  662312 Sep 26 21:04 ../data/traffic-taxi-train.csv\r\n",
      "-rw-r--r--  1 munn  primarygroup  141062 Sep 26 21:04 ../data/traffic-taxi-valid.csv\r\n"
     ]
    }
   ],
   "source": [
    "!ls -l ../data/traffic-taxi*.csv"
   ]
  },
  {
   "cell_type": "code",
   "execution_count": 3,
   "metadata": {},
   "outputs": [
    {
     "name": "stdout",
     "output_type": "stream",
     "text": [
      "==> ../data/traffic-taxi-test.csv <==\r\n",
      "fare_amount,pickup_datetime,pickup_longitude,pickup_latitude,dropoff_longitude,dropoff_latitude,passenger_count,trips_last_5min,key\r\n",
      "6.0,2013-03-27 03:35:00 UTC,-73.977672,40.784052,-73.96533199999999,40.801025,2,2089,0\r\n",
      "19.3,2012-05-10 18:43:16 UTC,-73.95436600000001,40.778923999999996,-74.004094,40.723104,1,1738,1\r\n",
      "7.5,2014-05-20 23:09:00 UTC,-73.999165,40.738377,-74.003473,40.723862,2,2971,2\r\n",
      "12.5,2015-02-23 19:51:31 UTC,-73.9652099609375,40.76948165893555,-73.98949432373047,40.739742279052734,1,2320,3\r\n",
      "10.9,2011-03-19 03:32:00 UTC,-73.99259,40.742957000000004,-73.989908,40.711053,1,1491,4\r\n",
      "7.0,2012-09-18 12:51:11 UTC,-73.971195,40.751566,-73.975922,40.756361,1,1794,5\r\n",
      "19.0,2014-05-20 23:09:00 UTC,-73.99839200000001,40.74517,-73.93984499999999,40.74908,1,2341,6\r\n",
      "8.9,2012-07-18 08:46:08 UTC,-73.997638,40.756541,-73.973303,40.762019,1,2329,7\r\n",
      "4.5,2010-07-11 20:39:08 UTC,-73.976738,40.751321000000004,-73.986671,40.74883,1,2318,8\r\n",
      "\r\n",
      "==> ../data/traffic-taxi-train.csv <==\r\n",
      "fare_amount,pickup_datetime,pickup_longitude,pickup_latitude,dropoff_longitude,dropoff_latitude,passenger_count,trips_last_5min,key\r\n",
      "11.3,2011-01-28 20:42:59 UTC,-73.999022,40.739146000000005,-73.990369,40.717866,1,1129,0\r\n",
      "7.7,2011-06-27 04:28:06 UTC,-73.987443,40.729221,-73.979013,40.758641,1,2876,1\r\n",
      "10.5,2011-04-03 00:54:53 UTC,-73.982539,40.735725,-73.954797,40.778388,1,3950,2\r\n",
      "16.2,2009-04-10 04:11:56 UTC,-74.00194499999999,40.740505,-73.91385,40.758559000000005,1,1334,3\r\n",
      "33.5,2014-02-24 18:22:00 UTC,-73.993372,40.753382,-73.8609,40.732896999999994,2,2623,4\r\n",
      "6.9,2011-12-10 00:25:23 UTC,-73.996237,40.721848,-73.989416,40.718052,1,2833,5\r\n",
      "6.1,2012-09-01 14:30:19 UTC,-73.977048,40.758461,-73.984899,40.744693,2,2002,6\r\n",
      "9.5,2012-11-08 13:28:07 UTC,-73.969402,40.757545,-73.95004899999999,40.776078999999996,1,661,7\r\n",
      "9.0,2014-07-15 11:37:25 UTC,-73.979318,40.760949,-73.95767,40.773724,1,1938,8\r\n",
      "\r\n",
      "==> ../data/traffic-taxi-valid.csv <==\r\n",
      "fare_amount,pickup_datetime,pickup_longitude,pickup_latitude,dropoff_longitude,dropoff_latitude,passenger_count,trips_last_5min,key\r\n",
      "5.3,2012-01-03 19:21:35 UTC,-73.962627,40.763214000000005,-73.973485,40.753353000000004,1,1059,0\r\n",
      "25.3,2010-09-27 07:30:15 UTC,-73.965799,40.794243,-73.927134,40.852261,3,2225,1\r\n",
      "27.5,2015-05-19 00:40:02 UTC,-73.86344146728516,40.76899719238281,-73.96058654785156,40.76129913330078,1,1994,2\r\n",
      "5.7,2010-04-29 12:28:00 UTC,-73.989255,40.738912,-73.97558000000001,40.749171999999994,1,321,3\r\n",
      "11.5,2013-06-23 06:08:09 UTC,-73.99731,40.763735,-73.95565699999999,40.768141,1,1115,4\r\n",
      "18.0,2014-10-14 18:52:03 UTC,-73.99799499999999,40.761638,-74.008985,40.712441999999996,1,2697,5\r\n",
      "4.9,2010-04-29 12:28:00 UTC,-73.977315,40.766182,-73.970845,40.761462,5,868,6\r\n",
      "32.33,2014-02-24 18:22:00 UTC,-73.98535799999999,40.761352,-73.92426999999999,40.699145,1,711,7\r\n",
      "17.0,2015-03-26 02:48:58 UTC,-73.93981170654297,40.846473693847656,-73.97361755371094,40.78698348999024,1,1990,8\r\n"
     ]
    }
   ],
   "source": [
    "!head ../data/traffic-taxi*.csv"
   ]
  },
  {
   "cell_type": "markdown",
   "metadata": {},
   "source": [
    "## Use tf.data to read the CSV files\n",
    "\n",
    "These functions for reading data from the csv files are similar to what we used in the Introduction to Tensorflow module. Note that here we have an addtional feature `traffic_last_5min`."
   ]
  },
  {
   "cell_type": "code",
   "execution_count": 4,
   "metadata": {},
   "outputs": [],
   "source": [
    "CSV_COLUMNS = [\n",
    "    'fare_amount',\n",
    "    'pickup_datetime',\n",
    "    'pickup_longitude',\n",
    "    'pickup_latitude',\n",
    "    'dropoff_longitude',\n",
    "    'dropoff_latitude',\n",
    "    'passenger_count',\n",
    "    'traffic_last_5min',\n",
    "    'key'\n",
    "]\n",
    "LABEL_COLUMN = 'fare_amount'\n",
    "DEFAULTS = [[0.0], ['na'], [0.0], [0.0], [0.0], [0.0], [0.0], [0.0], ['na']]\n",
    "UNWANTED_COLS = ['pickup_datetime', 'key']\n",
    "\n",
    "\n",
    "def features_and_labels(row_data):\n",
    "    label = row_data.pop(LABEL_COLUMN)\n",
    "    features = row_data\n",
    "    \n",
    "    for unwanted_col in UNWANTED_COLS:\n",
    "        features.pop(unwanted_col)\n",
    "\n",
    "    return features, label\n",
    "\n",
    "\n",
    "def create_dataset(pattern, batch_size=1, mode=tf.estimator.ModeKeys.EVAL):\n",
    "    dataset = tf.data.experimental.make_csv_dataset(\n",
    "        pattern, batch_size, CSV_COLUMNS, DEFAULTS)\n",
    "\n",
    "    dataset = dataset.map(features_and_labels)\n",
    "\n",
    "    if mode == tf.estimator.ModeKeys.TRAIN:\n",
    "        dataset = dataset.shuffle(buffer_size=1000).repeat()\n",
    "\n",
    "    # take advantage of multi-threading; 1=AUTOTUNE\n",
    "    dataset = dataset.prefetch(1)\n",
    "    return dataset"
   ]
  },
  {
   "cell_type": "code",
   "execution_count": 5,
   "metadata": {},
   "outputs": [],
   "source": [
    "INPUT_COLS = [\n",
    "    'pickup_longitude',\n",
    "    'pickup_latitude',\n",
    "    'dropoff_longitude',\n",
    "    'dropoff_latitude',\n",
    "    'passenger_count',\n",
    "    'traffic_last_5min'\n",
    "]\n",
    "\n",
    "# Create input layer of feature columns\n",
    "feature_columns = {\n",
    "    colname: tf.feature_column.numeric_column(colname)\n",
    "    for colname in INPUT_COLS\n",
    "    }"
   ]
  },
  {
   "cell_type": "markdown",
   "metadata": {},
   "source": [
    "## Build a simple keras DNN model"
   ]
  },
  {
   "cell_type": "code",
   "execution_count": 6,
   "metadata": {},
   "outputs": [],
   "source": [
    "# Build a keras DNN model using Sequential API\n",
    "def build_model(dnn_hidden_units):\n",
    "    model = Sequential(DenseFeatures(feature_columns=feature_columns.values()))\n",
    "    \n",
    "    for num_nodes in dnn_hidden_units:\n",
    "        model.add(Dense(units=num_nodes, activation=\"relu\"))\n",
    "    \n",
    "    model.add(Dense(units=1, activation=\"linear\"))    \n",
    "    \n",
    "    # Create a custom evalution metric\n",
    "    def rmse(y_true, y_pred):\n",
    "        return tf.sqrt(tf.reduce_mean(tf.square(y_pred - y_true)))\n",
    "\n",
    "    # Compile the keras model\n",
    "    model.compile(optimizer=\"adam\", loss=\"mse\", metrics=[rmse, \"mse\"])\n",
    "    \n",
    "    return model"
   ]
  },
  {
   "cell_type": "markdown",
   "metadata": {},
   "source": [
    "Next, we can call the `build_model` to create the model. Here we'll have two hidden layers before our final output layer. And we'll train with the same parameters we used before."
   ]
  },
  {
   "cell_type": "code",
   "execution_count": 7,
   "metadata": {},
   "outputs": [],
   "source": [
    "HIDDEN_UNITS = [32, 8]\n",
    "\n",
    "model = build_model(dnn_hidden_units=HIDDEN_UNITS)"
   ]
  },
  {
   "cell_type": "code",
   "execution_count": 8,
   "metadata": {},
   "outputs": [
    {
     "name": "stdout",
     "output_type": "stream",
     "text": [
      "WARNING:tensorflow:From /Users/munn/Projects/ASL2.0/wChris/asl-dev/lib/python3.6/site-packages/tensorflow_core/python/data/experimental/ops/readers.py:540: parallel_interleave (from tensorflow.python.data.experimental.ops.interleave_ops) is deprecated and will be removed in a future version.\n",
      "Instructions for updating:\n",
      "Use `tf.data.Dataset.interleave(map_func, cycle_length, block_length, num_parallel_calls=tf.data.experimental.AUTOTUNE)` instead. If sloppy execution is desired, use `tf.data.Options.experimental_deterministic`.\n",
      "WARNING:tensorflow:From /Users/munn/Projects/ASL2.0/wChris/asl-dev/lib/python3.6/site-packages/tensorflow_core/python/data/experimental/ops/readers.py:214: shuffle_and_repeat (from tensorflow.python.data.experimental.ops.shuffle_ops) is deprecated and will be removed in a future version.\n",
      "Instructions for updating:\n",
      "Use `tf.data.Dataset.shuffle(buffer_size, seed)` followed by `tf.data.Dataset.repeat(count)`. Static tf.data optimizations will take care of using the fused implementation.\n"
     ]
    }
   ],
   "source": [
    "BATCH_SIZE = 1000\n",
    "NUM_TRAIN_EXAMPLES = 10000 * 5  # training dataset will repeat, wrap around\n",
    "NUM_EVALS = 50  # how many times to evaluate\n",
    "NUM_EVAL_EXAMPLES = 10000  # enough to get a reasonable sample\n",
    "\n",
    "trainds = create_dataset(\n",
    "    pattern='../data/traffic-taxi-train*',\n",
    "    batch_size=BATCH_SIZE,\n",
    "    mode=tf.estimator.ModeKeys.TRAIN)\n",
    "\n",
    "evalds = create_dataset(\n",
    "    pattern='../data/traffic-taxi-valid*',\n",
    "    batch_size=BATCH_SIZE,\n",
    "    mode=tf.estimator.ModeKeys.EVAL).take(NUM_EVAL_EXAMPLES//1000)"
   ]
  },
  {
   "cell_type": "code",
   "execution_count": 9,
   "metadata": {},
   "outputs": [
    {
     "name": "stdout",
     "output_type": "stream",
     "text": [
      "Train for 1 steps, validate for 10 steps\n",
      "Epoch 1/50\n",
      "1/1 [==============================] - 11s 11s/step - loss: 12796.8779 - rmse: 113.1233 - mse: 12796.8779 - val_loss: 8430.3162 - val_rmse: 91.8155 - val_mse: 8430.3164\n",
      "Epoch 2/50\n",
      "1/1 [==============================] - 0s 193ms/step - loss: 10861.8223 - rmse: 104.2201 - mse: 10861.8223 - val_loss: 7117.4407 - val_rmse: 84.3638 - val_mse: 7117.4409\n",
      "Epoch 3/50\n",
      "1/1 [==============================] - 0s 188ms/step - loss: 9566.2129 - rmse: 97.8070 - mse: 9566.2129 - val_loss: 5917.4453 - val_rmse: 76.9239 - val_mse: 5917.4458\n",
      "Epoch 4/50\n",
      "1/1 [==============================] - 0s 192ms/step - loss: 7963.4985 - rmse: 89.2384 - mse: 7963.4985 - val_loss: 4825.7738 - val_rmse: 69.4668 - val_mse: 4825.7734\n",
      "Epoch 5/50\n",
      "1/1 [==============================] - 0s 196ms/step - loss: 6501.3086 - rmse: 80.6307 - mse: 6501.3086 - val_loss: 3830.0757 - val_rmse: 61.8867 - val_mse: 3830.0757\n",
      "Epoch 6/50\n",
      "1/1 [==============================] - 0s 203ms/step - loss: 4967.6279 - rmse: 70.4814 - mse: 4967.6279 - val_loss: 2922.6589 - val_rmse: 54.0608 - val_mse: 2922.6587\n",
      "Epoch 7/50\n",
      "1/1 [==============================] - 0s 196ms/step - loss: 3879.7771 - rmse: 62.2879 - mse: 3879.7771 - val_loss: 2094.9036 - val_rmse: 45.7693 - val_mse: 2094.9038\n",
      "Epoch 8/50\n",
      "1/1 [==============================] - 0s 191ms/step - loss: 3021.4043 - rmse: 54.9673 - mse: 3021.4043 - val_loss: 1402.4786 - val_rmse: 37.4489 - val_mse: 1402.4786\n",
      "Epoch 9/50\n",
      "1/1 [==============================] - 0s 197ms/step - loss: 2042.1859 - rmse: 45.1906 - mse: 2042.1859 - val_loss: 861.3181 - val_rmse: 29.3474 - val_mse: 861.3181\n",
      "Epoch 10/50\n",
      "1/1 [==============================] - 0s 185ms/step - loss: 1248.0864 - rmse: 35.3283 - mse: 1248.0864 - val_loss: 479.1120 - val_rmse: 21.8872 - val_mse: 479.1120\n",
      "Epoch 11/50\n",
      "1/1 [==============================] - 0s 189ms/step - loss: 683.4226 - rmse: 26.1424 - mse: 683.4226 - val_loss: 252.4587 - val_rmse: 15.8854 - val_mse: 252.4587\n",
      "Epoch 12/50\n",
      "1/1 [==============================] - 0s 197ms/step - loss: 345.6268 - rmse: 18.5910 - mse: 345.6268 - val_loss: 167.7775 - val_rmse: 12.9458 - val_mse: 167.7775\n",
      "Epoch 13/50\n",
      "1/1 [==============================] - 0s 197ms/step - loss: 216.8861 - rmse: 14.7271 - mse: 216.8861 - val_loss: 202.3878 - val_rmse: 14.2208 - val_mse: 202.3878\n",
      "Epoch 14/50\n",
      "1/1 [==============================] - 0s 189ms/step - loss: 179.6941 - rmse: 13.4050 - mse: 179.6941 - val_loss: 323.8340 - val_rmse: 17.9927 - val_mse: 323.8340\n",
      "Epoch 15/50\n",
      "1/1 [==============================] - 0s 196ms/step - loss: 301.7556 - rmse: 17.3711 - mse: 301.7556 - val_loss: 492.3514 - val_rmse: 22.1876 - val_mse: 492.3514\n",
      "Epoch 16/50\n",
      "1/1 [==============================] - 0s 189ms/step - loss: 473.3971 - rmse: 21.7577 - mse: 473.3971 - val_loss: 668.4859 - val_rmse: 25.8542 - val_mse: 668.4860\n",
      "Epoch 17/50\n",
      "1/1 [==============================] - 0s 195ms/step - loss: 673.3814 - rmse: 25.9496 - mse: 673.3814 - val_loss: 819.8560 - val_rmse: 28.6325 - val_mse: 819.8561\n",
      "Epoch 18/50\n",
      "1/1 [==============================] - 0s 198ms/step - loss: 846.4219 - rmse: 29.0933 - mse: 846.4219 - val_loss: 925.5699 - val_rmse: 30.4226 - val_mse: 925.5700\n",
      "Epoch 19/50\n",
      "1/1 [==============================] - 0s 189ms/step - loss: 958.8605 - rmse: 30.9655 - mse: 958.8605 - val_loss: 975.7687 - val_rmse: 31.2368 - val_mse: 975.7686\n",
      "Epoch 20/50\n",
      "1/1 [==============================] - 0s 201ms/step - loss: 1037.1771 - rmse: 32.2052 - mse: 1037.1771 - val_loss: 970.0810 - val_rmse: 31.1456 - val_mse: 970.0810\n",
      "Epoch 21/50\n",
      "1/1 [==============================] - 0s 181ms/step - loss: 1034.6842 - rmse: 32.1665 - mse: 1034.6842 - val_loss: 916.8975 - val_rmse: 30.2798 - val_mse: 916.8976\n",
      "Epoch 22/50\n",
      "1/1 [==============================] - 0s 207ms/step - loss: 947.3954 - rmse: 30.7798 - mse: 947.3954 - val_loss: 828.1517 - val_rmse: 28.7770 - val_mse: 828.1518\n",
      "Epoch 23/50\n",
      "1/1 [==============================] - 0s 203ms/step - loss: 877.9371 - rmse: 29.6300 - mse: 877.9371 - val_loss: 716.0527 - val_rmse: 26.7584 - val_mse: 716.0527\n",
      "Epoch 24/50\n",
      "1/1 [==============================] - 0s 213ms/step - loss: 749.4011 - rmse: 27.3752 - mse: 749.4011 - val_loss: 595.1457 - val_rmse: 24.3946 - val_mse: 595.1458\n",
      "Epoch 25/50\n",
      "1/1 [==============================] - 0s 210ms/step - loss: 594.1683 - rmse: 24.3756 - mse: 594.1683 - val_loss: 477.4452 - val_rmse: 21.8491 - val_mse: 477.4452\n",
      "Epoch 26/50\n",
      "1/1 [==============================] - 0s 198ms/step - loss: 468.6578 - rmse: 21.6485 - mse: 468.6578 - val_loss: 372.8698 - val_rmse: 19.3078 - val_mse: 372.8698\n",
      "Epoch 27/50\n",
      "1/1 [==============================] - 0s 196ms/step - loss: 353.4601 - rmse: 18.8005 - mse: 353.4601 - val_loss: 286.8313 - val_rmse: 16.9330 - val_mse: 286.8312\n",
      "Epoch 28/50\n",
      "1/1 [==============================] - 0s 229ms/step - loss: 281.3591 - rmse: 16.7738 - mse: 281.3591 - val_loss: 222.9765 - val_rmse: 14.9279 - val_mse: 222.9765\n",
      "Epoch 29/50\n",
      "1/1 [==============================] - 0s 204ms/step - loss: 213.4922 - rmse: 14.6114 - mse: 213.4922 - val_loss: 181.8450 - val_rmse: 13.4788 - val_mse: 181.8450\n",
      "Epoch 30/50\n",
      "1/1 [==============================] - 0s 203ms/step - loss: 202.2175 - rmse: 14.2203 - mse: 202.2175 - val_loss: 161.4622 - val_rmse: 12.6993 - val_mse: 161.4622\n",
      "Epoch 31/50\n",
      "1/1 [==============================] - 0s 288ms/step - loss: 195.0641 - rmse: 13.9665 - mse: 195.0641 - val_loss: 155.7213 - val_rmse: 12.4710 - val_mse: 155.7213\n",
      "Epoch 32/50\n",
      "1/1 [==============================] - 0s 287ms/step - loss: 171.8005 - rmse: 13.1073 - mse: 171.8005 - val_loss: 156.0041 - val_rmse: 12.4826 - val_mse: 156.0041\n",
      "Epoch 33/50\n",
      "1/1 [==============================] - 0s 244ms/step - loss: 160.6289 - rmse: 12.6739 - mse: 160.6289 - val_loss: 158.6278 - val_rmse: 12.5876 - val_mse: 158.6278\n",
      "Epoch 34/50\n",
      "1/1 [==============================] - 0s 204ms/step - loss: 162.5026 - rmse: 12.7477 - mse: 162.5026 - val_loss: 161.9468 - val_rmse: 12.7189 - val_mse: 161.9468\n",
      "Epoch 35/50\n",
      "1/1 [==============================] - 0s 197ms/step - loss: 226.8946 - rmse: 15.0630 - mse: 226.8946 - val_loss: 164.7310 - val_rmse: 12.8280 - val_mse: 164.7310\n",
      "Epoch 36/50\n",
      "1/1 [==============================] - 0s 212ms/step - loss: 151.6629 - rmse: 12.3151 - mse: 151.6629 - val_loss: 166.4890 - val_rmse: 12.8964 - val_mse: 166.4890\n",
      "Epoch 37/50\n",
      "1/1 [==============================] - 0s 217ms/step - loss: 169.9500 - rmse: 13.0365 - mse: 169.9500 - val_loss: 166.8832 - val_rmse: 12.9117 - val_mse: 166.8833\n",
      "Epoch 38/50\n",
      "1/1 [==============================] - 0s 253ms/step - loss: 175.5502 - rmse: 13.2495 - mse: 175.5502 - val_loss: 165.7968 - val_rmse: 12.8695 - val_mse: 165.7968\n",
      "Epoch 39/50\n",
      "1/1 [==============================] - 0s 227ms/step - loss: 169.1729 - rmse: 13.0066 - mse: 169.1729 - val_loss: 163.3150 - val_rmse: 12.7727 - val_mse: 163.3150\n",
      "Epoch 40/50\n",
      "1/1 [==============================] - 0s 200ms/step - loss: 214.7006 - rmse: 14.6527 - mse: 214.7006 - val_loss: 159.5403 - val_rmse: 12.6239 - val_mse: 159.5403\n",
      "Epoch 41/50\n",
      "1/1 [==============================] - 0s 200ms/step - loss: 158.0990 - rmse: 12.5737 - mse: 158.0990 - val_loss: 154.9607 - val_rmse: 12.4410 - val_mse: 154.9607\n",
      "Epoch 42/50\n",
      "1/1 [==============================] - 0s 208ms/step - loss: 166.6027 - rmse: 12.9075 - mse: 166.6027 - val_loss: 149.8021 - val_rmse: 12.2317 - val_mse: 149.8021\n",
      "Epoch 43/50\n",
      "1/1 [==============================] - 0s 193ms/step - loss: 171.3939 - rmse: 13.0917 - mse: 171.3939 - val_loss: 144.4814 - val_rmse: 12.0120 - val_mse: 144.4814\n",
      "Epoch 44/50\n",
      "1/1 [==============================] - 0s 179ms/step - loss: 126.2615 - rmse: 11.2366 - mse: 126.2615 - val_loss: 139.5504 - val_rmse: 11.8047 - val_mse: 139.5504\n",
      "Epoch 45/50\n",
      "1/1 [==============================] - 0s 186ms/step - loss: 137.3132 - rmse: 11.7181 - mse: 137.3132 - val_loss: 135.1835 - val_rmse: 11.6180 - val_mse: 135.1835\n",
      "Epoch 46/50\n",
      "1/1 [==============================] - 0s 192ms/step - loss: 148.4892 - rmse: 12.1856 - mse: 148.4892 - val_loss: 131.6189 - val_rmse: 11.4634 - val_mse: 131.6189\n",
      "Epoch 47/50\n",
      "1/1 [==============================] - 0s 221ms/step - loss: 119.7171 - rmse: 10.9415 - mse: 119.7171 - val_loss: 128.9414 - val_rmse: 11.3458 - val_mse: 128.9414\n"
     ]
    },
    {
     "name": "stdout",
     "output_type": "stream",
     "text": [
      "Epoch 48/50\n",
      "1/1 [==============================] - 0s 188ms/step - loss: 100.9877 - rmse: 10.0493 - mse: 100.9877 - val_loss: 127.2190 - val_rmse: 11.2696 - val_mse: 127.2190\n",
      "Epoch 49/50\n",
      "1/1 [==============================] - 0s 190ms/step - loss: 119.1185 - rmse: 10.9141 - mse: 119.1185 - val_loss: 126.4003 - val_rmse: 11.2332 - val_mse: 126.4003\n",
      "Epoch 50/50\n",
      "1/1 [==============================] - 0s 255ms/step - loss: 101.0899 - rmse: 10.0543 - mse: 101.0899 - val_loss: 126.3982 - val_rmse: 11.2331 - val_mse: 126.3982\n",
      "CPU times: user 36.2 s, sys: 8.61 s, total: 44.8 s\n",
      "Wall time: 31.4 s\n"
     ]
    }
   ],
   "source": [
    "%%time\n",
    "steps_per_epoch = NUM_TRAIN_EXAMPLES // (BATCH_SIZE * NUM_EVALS)\n",
    "\n",
    "LOGDIR = \"./taxi_trained\"\n",
    "history = model.fit(x=trainds,\n",
    "                    steps_per_epoch=steps_per_epoch,\n",
    "                    epochs=NUM_EVALS,\n",
    "                    validation_data=evalds,\n",
    "                    callbacks=[TensorBoard(LOGDIR)])"
   ]
  },
  {
   "cell_type": "code",
   "execution_count": 10,
   "metadata": {},
   "outputs": [
    {
     "data": {
      "text/plain": [
       "<matplotlib.axes._subplots.AxesSubplot at 0x136aa6908>"
      ]
     },
     "execution_count": 10,
     "metadata": {},
     "output_type": "execute_result"
    },
    {
     "data": {
      "image/png": "[encoded data removed]",
      "text/plain": [
       "<Figure size 432x288 with 1 Axes>"
      ]
     },
     "metadata": {
      "needs_background": "light"
     },
     "output_type": "display_data"
    }
   ],
   "source": [
    "RMSE_COLS = ['rmse', 'val_rmse']\n",
    "\n",
    "pd.DataFrame(history.history)[RMSE_COLS].plot()"
   ]
  },
  {
   "cell_type": "code",
   "execution_count": 11,
   "metadata": {},
   "outputs": [
    {
     "data": {
      "text/plain": [
       "array([[15.112219]], dtype=float32)"
      ]
     },
     "execution_count": 11,
     "metadata": {},
     "output_type": "execute_result"
    }
   ],
   "source": [
    "model.predict(x={\"pickup_longitude\": tf.convert_to_tensor([-73.982683]),\n",
    "                 \"pickup_latitude\": tf.convert_to_tensor([40.742104]),\n",
    "                 \"dropoff_longitude\": tf.convert_to_tensor([-73.983766]),\n",
    "                 \"dropoff_latitude\": tf.convert_to_tensor([40.755174]),\n",
    "                 \"passenger_count\": tf.convert_to_tensor([3.0]),\n",
    "                \"traffic_last_5min\": tf.convert_to_tensor([114])},\n",
    "              steps=1)"
   ]
  },
  {
   "cell_type": "markdown",
   "metadata": {},
   "source": [
    "## Export and deploy model"
   ]
  },
  {
   "cell_type": "code",
   "execution_count": 18,
   "metadata": {},
   "outputs": [
    {
     "name": "stdout",
     "output_type": "stream",
     "text": [
      "INFO:tensorflow:Assets written to: ./export/savedmodel/20190926210756/assets\n"
     ]
    }
   ],
   "source": [
    "OUTPUT_DIR = \"./export/savedmodel\"\n",
    "shutil.rmtree(OUTPUT_DIR, ignore_errors=True)\n",
    "EXPORT_PATH = os.path.join(OUTPUT_DIR,\n",
    "                           datetime.datetime.now().strftime(\"%Y%m%d%H%M%S\"))\n",
    "tf.saved_model.save(model, EXPORT_PATH)  # with default serving function\n",
    "os.environ['EXPORT_PATH'] = EXPORT_PATH"
   ]
  },
  {
   "cell_type": "code",
   "execution_count": 19,
   "metadata": {},
   "outputs": [
    {
     "name": "stdout",
     "output_type": "stream",
     "text": [
      "taxifare already exists\n",
      "Creating taxifare:traffic\n"
     ]
    }
   ],
   "source": [
    "%%bash\n",
    "PROJECT='munn-sandbox'\n",
    "BUCKET=${PROJECT}\n",
    "REGION=us-east1\n",
    "MODEL_NAME=taxifare\n",
    "VERSION_NAME=traffic\n",
    "\n",
    "if [[ $(gcloud ai-platform models list --format='value(name)' | grep $MODEL_NAME) ]]; then\n",
    "    echo \"$MODEL_NAME already exists\"\n",
    "else\n",
    "    # create model\n",
    "    echo \"Creating $MODEL_NAME\"\n",
    "    gcloud ai-platform models create --regions=$REGION $MODEL_NAME\n",
    "fi\n",
    "\n",
    "if [[ $(gcloud ai-platform versions list --model $MODEL_NAME --format='value(name)' | grep $VERSION_NAME) ]]; then\n",
    "    echo \"Deleting already existing $MODEL_NAME:$VERSION_NAME ... \"\n",
    "    gcloud ai-platform versions delete --model=$MODEL_NAME $VERSION_NAME\n",
    "    echo \"Please run this cell again if you don't see a Creating message ... \"\n",
    "    sleep 2\n",
    "fi\n",
    "\n",
    "# create model\n",
    "echo \"Creating $MODEL_NAME:$VERSION_NAME\"\n",
    "gcloud ai-platform versions create --model=$MODEL_NAME $VERSION_NAME --async \\\n",
    "       --framework=tensorflow --python-version=3.5 --runtime-version=1.14 \\\n",
    "       --origin=${EXPORT_PATH} --staging-bucket=gs://$BUCKET"
   ]
  },
  {
   "cell_type": "markdown",
   "metadata": {},
   "source": [
    "Copyright 2019 Google Inc. Licensed under the Apache License, Version 2.0 (the \"License\"); you may not use this file except in compliance with the License. You may obtain a copy of the License at http://www.apache.org/licenses/LICENSE-2.0 Unless required by applicable law or agreed to in writing, software distributed under the License is distributed on an \"AS IS\" BASIS, WITHOUT WARRANTIES OR CONDITIONS OF ANY KIND, either express or implied. See the License for the specific language governing permissions and limitations under the License"
   ]
  }
 ],
 "metadata": {
  "kernelspec": {
   "display_name": "Python 3",
   "language": "python",
   "name": "python3"
  },
  "language_info": {
   "codemirror_mode": {
    "name": "ipython",
    "version": 3
   },
   "file_extension": ".py",
   "mimetype": "text/x-python",
   "name": "python",
   "nbconvert_exporter": "python",
   "pygments_lexer": "ipython3",
   "version": "3.6.8"
  }
 },
 "nbformat": 4,
 "nbformat_minor": 2
}
