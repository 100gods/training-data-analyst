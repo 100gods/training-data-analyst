{
 "cells": [
  {
   "cell_type": "markdown",
   "metadata": {},
   "source": [
    "# Reusable Embeddings\n",
    "\n",
    "**Learning Objectives**\n",
    "* Learn how to use Tensorflow Hub pre-trained text modules for building text ML models\n",
    "* Get familiar with two popular TF Hub modules for text: nnlm and Swivel\n",
    "\n",
    "\n",
    "## Introduction\n",
    "\n",
    "\n",
    "In this notebook, we will implement text models to recognize the probable source (Github, Tech-Crunch, or The New-York Times) of the titles we have in the title dataset we constructed in a previous lab.\n",
    "\n",
    "First, we will load and pre-process the texts and labels so that they are suitable to be fed to sequential Keras models with first layer being TF-hub pre-trained modules. Thanks to this first layer, we won't need to tokenize and integerize the text before passing it to our models. The pre-trained layer will take care of that for us, and consume directly raw text. However, we will still have to one-hot-encode each of the 3 classes into a 3 dimensional basis vector.\n",
    "\n",
    "Then we will build, train and compare simple DNN models starting with different pre-trained TF-Hub layers."
   ]
  },
  {
   "cell_type": "code",
   "execution_count": null,
   "metadata": {},
   "outputs": [],
   "source": [
    "# Ensure that we have the right version of Tensorflow installed.\n",
    "!pip freeze | grep tf-nightly-2.0-preview || pip install tf-nightly-2.0-preview"
   ]
  },
  {
   "cell_type": "code",
   "execution_count": 2,
   "metadata": {},
   "outputs": [
    {
     "name": "stdout",
     "output_type": "stream",
     "text": [
      "2.0.0-dev20190925\n"
     ]
    }
   ],
   "source": [
    "import datetime\n",
    "import os\n",
    "import shutil\n",
    "\n",
    "import pandas as pd\n",
    "import tensorflow as tf\n",
    "from tensorflow.keras.callbacks import TensorBoard, EarlyStopping\n",
    "from tensorflow_hub import KerasLayer\n",
    "from tensorflow.keras.layers import Dense\n",
    "from tensorflow.keras.models import Sequential\n",
    "from tensorflow.keras.preprocessing.text import Tokenizer\n",
    "from tensorflow.keras.utils import to_categorical\n",
    "\n",
    "\n",
    "print(tf.__version__)"
   ]
  },
  {
   "cell_type": "code",
   "execution_count": 3,
   "metadata": {},
   "outputs": [],
   "source": [
    "%matplotlib inline"
   ]
  },
  {
   "cell_type": "markdown",
   "metadata": {},
   "source": [
    "Let's start by specifying where the information about the trained models will be saved as well as where our dataset is located:"
   ]
  },
  {
   "cell_type": "code",
   "execution_count": 4,
   "metadata": {},
   "outputs": [],
   "source": [
    "MODEL_DIR = \"./text_models\"\n",
    "DATA_DIR = \"./data\""
   ]
  },
  {
   "cell_type": "markdown",
   "metadata": {},
   "source": [
    "## Loading the dataset"
   ]
  },
  {
   "cell_type": "markdown",
   "metadata": {},
   "source": [
    "As in the previous labs, our dataset consists of titles of articles along with the label indicating from which source these articles have been taken from (GitHub, Tech-Crunch, or the New-York Times):"
   ]
  },
  {
   "cell_type": "code",
   "execution_count": 5,
   "metadata": {},
   "outputs": [
    {
     "name": "stdout",
     "output_type": "stream",
     "text": [
      "titles_full.csv    titles_sample.csv\r\n"
     ]
    }
   ],
   "source": [
    "ls ./data/"
   ]
  },
  {
   "cell_type": "code",
   "execution_count": 6,
   "metadata": {},
   "outputs": [
    {
     "data": {
      "text/html": [
       "<div>\n",
       "<style scoped>\n",
       "    .dataframe tbody tr th:only-of-type {\n",
       "        vertical-align: middle;\n",
       "    }\n",
       "\n",
       "    .dataframe tbody tr th {\n",
       "        vertical-align: top;\n",
       "    }\n",
       "\n",
       "    .dataframe thead th {\n",
       "        text-align: right;\n",
       "    }\n",
       "</style>\n",
       "<table border=\"1\" class=\"dataframe\">\n",
       "  <thead>\n",
       "    <tr style=\"text-align: right;\">\n",
       "      <th></th>\n",
       "      <th>title</th>\n",
       "      <th>source</th>\n",
       "    </tr>\n",
       "  </thead>\n",
       "  <tbody>\n",
       "    <tr>\n",
       "      <td>0</td>\n",
       "      <td>show hn  macosx preferences pane for mongodb</td>\n",
       "      <td>github</td>\n",
       "    </tr>\n",
       "    <tr>\n",
       "      <td>1</td>\n",
       "      <td>yacc is dead  parsing with derivatives  implem...</td>\n",
       "      <td>github</td>\n",
       "    </tr>\n",
       "    <tr>\n",
       "      <td>2</td>\n",
       "      <td>the truth about the wars</td>\n",
       "      <td>nytimes</td>\n",
       "    </tr>\n",
       "    <tr>\n",
       "      <td>3</td>\n",
       "      <td>the lottery mentality</td>\n",
       "      <td>nytimes</td>\n",
       "    </tr>\n",
       "    <tr>\n",
       "      <td>4</td>\n",
       "      <td>dagobah v0.3.0 released   dag-based job schedu...</td>\n",
       "      <td>github</td>\n",
       "    </tr>\n",
       "  </tbody>\n",
       "</table>\n",
       "</div>"
      ],
      "text/plain": [
       "                                               title   source\n",
       "0       show hn  macosx preferences pane for mongodb   github\n",
       "1  yacc is dead  parsing with derivatives  implem...   github\n",
       "2                           the truth about the wars  nytimes\n",
       "3                              the lottery mentality  nytimes\n",
       "4  dagobah v0.3.0 released   dag-based job schedu...   github"
      ]
     },
     "execution_count": 6,
     "metadata": {},
     "output_type": "execute_result"
    }
   ],
   "source": [
    "DATASET_NAME = \"titles_full.csv\"\n",
    "TITLE_SAMPLE_PATH = os.path.join(DATA_DIR, DATASET_NAME)\n",
    "COLUMNS = ['title', 'source']\n",
    "\n",
    "titles_df = pd.read_csv(TITLE_SAMPLE_PATH, header=None, names=COLUMNS)\n",
    "titles_df.head()"
   ]
  },
  {
   "cell_type": "markdown",
   "metadata": {},
   "source": [
    "Let's look again at the number of examples per label to make sure we have a well-balanced dataset:"
   ]
  },
  {
   "cell_type": "code",
   "execution_count": 7,
   "metadata": {},
   "outputs": [
    {
     "data": {
      "text/plain": [
       "github        36525\n",
       "techcrunch    30891\n",
       "nytimes       28787\n",
       "Name: source, dtype: int64"
      ]
     },
     "execution_count": 7,
     "metadata": {},
     "output_type": "execute_result"
    }
   ],
   "source": [
    "titles_df.source.value_counts()"
   ]
  },
  {
   "cell_type": "markdown",
   "metadata": {},
   "source": [
    "## Preparing the labels"
   ]
  },
  {
   "cell_type": "markdown",
   "metadata": {},
   "source": [
    "In this lab, we will use pre-trained [TF-Hub embeddings modules for english](https://tfhub.dev/s?q=tf2%20embeddings%20text%20english) for the first layer of our models. One immediate\n",
    "advantage of doing so is that the TF-Hub embedding module will take care for us of processing the raw text. \n",
    "This also means that our model will be able to consume text directly instead of sequences of integers representing the words.\n",
    "\n",
    "However, as before, we still need to preprocess the labels into one-hot-encoded vectors:"
   ]
  },
  {
   "cell_type": "code",
   "execution_count": 8,
   "metadata": {},
   "outputs": [],
   "source": [
    "CLASSES = {\n",
    "    'github': 0,\n",
    "    'nytimes': 1,\n",
    "    'techcrunch': 2\n",
    "}\n",
    "N_CLASSES = len(CLASSES)"
   ]
  },
  {
   "cell_type": "code",
   "execution_count": 9,
   "metadata": {},
   "outputs": [],
   "source": [
    "def encode_labels(sources):\n",
    "    classes = [CLASSES[source] for source in sources]\n",
    "    one_hots = to_categorical(classes, num_classes=N_CLASSES)\n",
    "    return one_hots"
   ]
  },
  {
   "cell_type": "code",
   "execution_count": 10,
   "metadata": {},
   "outputs": [
    {
     "data": {
      "text/plain": [
       "array([[1., 0., 0.],\n",
       "       [1., 0., 0.],\n",
       "       [0., 1., 0.],\n",
       "       [0., 1., 0.]], dtype=float32)"
      ]
     },
     "execution_count": 10,
     "metadata": {},
     "output_type": "execute_result"
    }
   ],
   "source": [
    "encode_labels(titles_df.source[:4])"
   ]
  },
  {
   "cell_type": "markdown",
   "metadata": {},
   "source": [
    "## Preparing the train/test splits"
   ]
  },
  {
   "cell_type": "markdown",
   "metadata": {},
   "source": [
    "Let's split our data into train and test splits:"
   ]
  },
  {
   "cell_type": "code",
   "execution_count": 12,
   "metadata": {},
   "outputs": [],
   "source": [
    "N_TRAIN = int(len(titles_df) * 0.95)\n",
    "\n",
    "titles_train, sources_train = (\n",
    "    titles_df.title[:N_TRAIN], titles_df.source[:N_TRAIN])\n",
    "\n",
    "titles_valid, sources_valid = (\n",
    "    titles_df.title[N_TRAIN:], titles_df.source[N_TRAIN:])"
   ]
  },
  {
   "cell_type": "markdown",
   "metadata": {},
   "source": [
    "To be on the safe side, we verify that the train and test splits\n",
    "have roughly the same number of examples per class.\n",
    "\n",
    "Since it is the case, accuracy will be a good metric to use to measure\n",
    "the performance of our models."
   ]
  },
  {
   "cell_type": "code",
   "execution_count": 13,
   "metadata": {},
   "outputs": [
    {
     "data": {
      "text/plain": [
       "github        34722\n",
       "techcrunch    29283\n",
       "nytimes       27387\n",
       "Name: source, dtype: int64"
      ]
     },
     "execution_count": 13,
     "metadata": {},
     "output_type": "execute_result"
    }
   ],
   "source": [
    "sources_train.value_counts()"
   ]
  },
  {
   "cell_type": "code",
   "execution_count": 14,
   "metadata": {},
   "outputs": [
    {
     "data": {
      "text/plain": [
       "github        1803\n",
       "techcrunch    1608\n",
       "nytimes       1400\n",
       "Name: source, dtype: int64"
      ]
     },
     "execution_count": 14,
     "metadata": {},
     "output_type": "execute_result"
    }
   ],
   "source": [
    "sources_valid.value_counts()"
   ]
  },
  {
   "cell_type": "markdown",
   "metadata": {},
   "source": [
    "Now let's create the features and labels we will feed our models with:"
   ]
  },
  {
   "cell_type": "code",
   "execution_count": 15,
   "metadata": {},
   "outputs": [],
   "source": [
    "X_train, Y_train = titles_train.values, encode_labels(sources_train)\n",
    "X_valid, Y_valid = titles_valid.values, encode_labels(sources_valid)"
   ]
  },
  {
   "cell_type": "code",
   "execution_count": 16,
   "metadata": {},
   "outputs": [
    {
     "data": {
      "text/plain": [
       "array(['show hn  macosx preferences pane for mongodb',\n",
       "       'yacc is dead  parsing with derivatives  implemented in go',\n",
       "       'the truth about the wars'], dtype=object)"
      ]
     },
     "execution_count": 16,
     "metadata": {},
     "output_type": "execute_result"
    }
   ],
   "source": [
    "X_train[:3]"
   ]
  },
  {
   "cell_type": "code",
   "execution_count": 17,
   "metadata": {},
   "outputs": [
    {
     "data": {
      "text/plain": [
       "array([[1., 0., 0.],\n",
       "       [1., 0., 0.],\n",
       "       [0., 1., 0.]], dtype=float32)"
      ]
     },
     "execution_count": 17,
     "metadata": {},
     "output_type": "execute_result"
    }
   ],
   "source": [
    "Y_train[:3]"
   ]
  },
  {
   "cell_type": "markdown",
   "metadata": {},
   "source": [
    "## NNLM Model"
   ]
  },
  {
   "cell_type": "markdown",
   "metadata": {},
   "source": [
    "We will first try a word embedding pre-trained using a [Neural Probabilistic Language Model](http://www.jmlr.org/papers/volume3/bengio03a/bengio03a.pdf). TF-Hub has a 50-dimensional one called \n",
    "[nnlm-en-dim50-with-normalization](https://tfhub.dev/google/tf2-preview/nnlm-en-dim50/1), which also\n",
    "normalizes the vectors produced. \n",
    "\n",
    "Once loaded from its url, the TF-hub module can be used as a normal Keras layer in a sequential or functional model. Since we have enough data to fine-tune the parameters of the pre-trained embedding itself, we will set `trainable=True` in the `KerasLayer` that loads the pre-trained embedding:"
   ]
  },
  {
   "cell_type": "code",
   "execution_count": 18,
   "metadata": {},
   "outputs": [],
   "source": [
    "NNLM = \"https://tfhub.dev/google/tf2-preview/nnlm-en-dim50-with-normalization/1\"\n",
    "\n",
    "nnlm_module = KerasLayer(\n",
    "    NNLM, output_shape=[50], input_shape=[], dtype=tf.string, trainable=True)"
   ]
  },
  {
   "cell_type": "markdown",
   "metadata": {},
   "source": [
    "Note that this TF-Hub embedding produces a single 50-dimensional vector when passed a sentence:"
   ]
  },
  {
   "cell_type": "code",
   "execution_count": 19,
   "metadata": {},
   "outputs": [
    {
     "data": {
      "text/plain": [
       "<tf.Tensor: id=184, shape=(1, 50), dtype=float32, numpy=\n",
       "array([[ 0.1299611 ,  0.08171072,  0.06024609,  0.1897307 ,  0.1554303 ,\n",
       "         0.02832681,  0.20851292, -0.20073421, -0.1162339 ,  0.09962303,\n",
       "        -0.00823456,  0.07382201, -0.151453  , -0.03049451, -0.09065688,\n",
       "        -0.4422915 , -0.00984869, -0.05030105,  0.0120667 , -0.3166044 ,\n",
       "        -0.10787552, -0.23041075,  0.08485214,  0.04026556,  0.09290276,\n",
       "         0.26631656, -0.33125097, -0.06418459, -0.00408724, -0.01634568,\n",
       "        -0.20365101, -0.05161688,  0.08445277,  0.02203171, -0.37011603,\n",
       "        -0.24225973,  0.0447066 , -0.05840004, -0.02355968, -0.0995158 ,\n",
       "        -0.01159552,  0.01638035, -0.09878304,  0.06675767, -0.00144666,\n",
       "         0.00651569,  0.0162654 , -0.09303603, -0.0172936 ,  0.08206343]],\n",
       "      dtype=float32)>"
      ]
     },
     "execution_count": 19,
     "metadata": {},
     "output_type": "execute_result"
    }
   ],
   "source": [
    "nnlm_module(tf.constant([\"The dog is happy to see people in the street.\"]))"
   ]
  },
  {
   "cell_type": "markdown",
   "metadata": {},
   "source": [
    "## Swivel Model"
   ]
  },
  {
   "cell_type": "markdown",
   "metadata": {},
   "source": [
    "Then we will try a word embedding obtained using [Swivel](https://arxiv.org/abs/1602.02215), an algorithm that essentially factorizes word co-occurrence matrices to create the words embeddings. \n",
    "TF-Hub hosts the pretrained [gnews-swivel-20dim-with-oov](https://tfhub.dev/google/tf2-preview/gnews-swivel-20dim-with-oov/1) 20-dimensional Swivel module."
   ]
  },
  {
   "cell_type": "code",
   "execution_count": 20,
   "metadata": {},
   "outputs": [],
   "source": [
    "SWIVEL = \"https://tfhub.dev/google/tf2-preview/gnews-swivel-20dim-with-oov/1\"\n",
    "swivel_module = KerasLayer(\n",
    "    SWIVEL, output_shape=[20], input_shape=[], dtype=tf.string, trainable=True)"
   ]
  },
  {
   "cell_type": "markdown",
   "metadata": {},
   "source": [
    "Similarly as the previous pre-trained embedding, it outputs a single vector when passed a sentence:"
   ]
  },
  {
   "cell_type": "code",
   "execution_count": 21,
   "metadata": {},
   "outputs": [
    {
     "data": {
      "text/plain": [
       "<tf.Tensor: id=363, shape=(1, 20), dtype=float32, numpy=\n",
       "array([[ 0.9967701 , -0.3100155 ,  0.5889897 , -0.16765082, -0.6171738 ,\n",
       "        -1.1586996 , -0.8619045 ,  0.7281645 ,  0.32575002,  0.4754492 ,\n",
       "        -0.9272241 ,  0.41090095, -0.75389475, -0.31525993, -1.8918804 ,\n",
       "         0.6423996 ,  0.6801622 , -0.1335669 , -1.0017993 , -0.11908641]],\n",
       "      dtype=float32)>"
      ]
     },
     "execution_count": 21,
     "metadata": {},
     "output_type": "execute_result"
    }
   ],
   "source": [
    "swivel_module(tf.constant([\"The dog is happy to see people in the street.\"]))"
   ]
  },
  {
   "cell_type": "markdown",
   "metadata": {},
   "source": [
    "## Building the models"
   ]
  },
  {
   "cell_type": "markdown",
   "metadata": {},
   "source": [
    "Let's write a function that \n",
    "\n",
    "* takes as input an instance of a `KerasLayer` (i.e. the `swivel_module` or the `nnlm_module` we constructed above) as well as the name of the model (say `swivel` or `nnlm`)\n",
    "* returns a compiled Keras sequential model starting with this pre-trained TF-hub layer, adding one or more dense relu layers to it, and ending with a softmax layer giving the probability of each of the classes:"
   ]
  },
  {
   "cell_type": "code",
   "execution_count": 22,
   "metadata": {},
   "outputs": [],
   "source": [
    "def build_model(hub_module, name):\n",
    "    model = Sequential([\n",
    "        hub_module,\n",
    "        Dense(16, activation='relu'),\n",
    "        Dense(N_CLASSES, activation='softmax')\n",
    "    ], name=name)\n",
    "\n",
    "    model.compile(\n",
    "        optimizer='adam',\n",
    "        loss='categorical_crossentropy',\n",
    "        metrics=['accuracy']\n",
    "    )\n",
    "    return model"
   ]
  },
  {
   "cell_type": "markdown",
   "metadata": {},
   "source": [
    "Let's also wrap the training code into a `train_and_evaluate` function that \n",
    "* takes as input the training and validation data, as well as the compiled model itself, and the `batch_size`\n",
    "* trains the compiled model for 100 epochs at most, and does early-stopping when the validation loss is no longer decreasing\n",
    "* returns an `history` object, which will help us to plot the learning curves"
   ]
  },
  {
   "cell_type": "code",
   "execution_count": 23,
   "metadata": {},
   "outputs": [],
   "source": [
    "def train_and_evaluate(train_data, val_data, model, batch_size=5000):\n",
    "    X_train, Y_train = train_data\n",
    "\n",
    "    tf.random.set_seed(33)\n",
    "\n",
    "    model_dir = os.path.join(MODEL_DIR, model.name)\n",
    "    if tf.io.gfile.exists(model_dir):\n",
    "        tf.io.gfile.rmtree(model_dir)\n",
    "\n",
    "    history = model.fit(\n",
    "        X_train, Y_train,\n",
    "        epochs=100,\n",
    "        batch_size=batch_size,\n",
    "        validation_data=val_data,\n",
    "        callbacks=[EarlyStopping(), TensorBoard(model_dir)],\n",
    "    )\n",
    "    return history"
   ]
  },
  {
   "cell_type": "markdown",
   "metadata": {},
   "source": [
    "## Training NNLM"
   ]
  },
  {
   "cell_type": "code",
   "execution_count": 24,
   "metadata": {},
   "outputs": [],
   "source": [
    "data = (X_train, Y_train)\n",
    "val_data = (X_valid, Y_valid)"
   ]
  },
  {
   "cell_type": "code",
   "execution_count": 26,
   "metadata": {},
   "outputs": [
    {
     "name": "stdout",
     "output_type": "stream",
     "text": [
      "Train on 91392 samples, validate on 4811 samples\n",
      "Epoch 1/100\n",
      "91392/91392 [==============================] - 14s 148us/sample - loss: 1.0341 - accuracy: 0.5461 - val_loss: 0.9673 - val_accuracy: 0.6446\n",
      "Epoch 2/100\n",
      "91392/91392 [==============================] - 13s 141us/sample - loss: 0.8909 - accuracy: 0.7127 - val_loss: 0.8137 - val_accuracy: 0.7381\n",
      "Epoch 3/100\n",
      "91392/91392 [==============================] - 12s 134us/sample - loss: 0.7213 - accuracy: 0.7831 - val_loss: 0.6524 - val_accuracy: 0.7853\n",
      "Epoch 4/100\n",
      "91392/91392 [==============================] - 13s 137us/sample - loss: 0.5699 - accuracy: 0.8179 - val_loss: 0.5355 - val_accuracy: 0.8059\n",
      "Epoch 5/100\n",
      "91392/91392 [==============================] - 13s 143us/sample - loss: 0.4659 - accuracy: 0.8403 - val_loss: 0.4643 - val_accuracy: 0.8192\n",
      "Epoch 6/100\n",
      "91392/91392 [==============================] - 13s 142us/sample - loss: 0.3992 - accuracy: 0.8571 - val_loss: 0.4218 - val_accuracy: 0.8341\n",
      "Epoch 7/100\n",
      "91392/91392 [==============================] - 14s 155us/sample - loss: 0.3539 - accuracy: 0.8716 - val_loss: 0.3966 - val_accuracy: 0.8441\n",
      "Epoch 8/100\n",
      "91392/91392 [==============================] - 14s 153us/sample - loss: 0.3205 - accuracy: 0.8825 - val_loss: 0.3812 - val_accuracy: 0.8472\n",
      "Epoch 9/100\n",
      "91392/91392 [==============================] - 14s 155us/sample - loss: 0.2946 - accuracy: 0.8926 - val_loss: 0.3729 - val_accuracy: 0.8503\n",
      "Epoch 10/100\n",
      "91392/91392 [==============================] - 14s 156us/sample - loss: 0.2733 - accuracy: 0.9009 - val_loss: 0.3681 - val_accuracy: 0.8516\n",
      "Epoch 11/100\n",
      "91392/91392 [==============================] - 14s 157us/sample - loss: 0.2557 - accuracy: 0.9078 - val_loss: 0.3661 - val_accuracy: 0.8503\n",
      "Epoch 12/100\n",
      "91392/91392 [==============================] - 14s 152us/sample - loss: 0.2406 - accuracy: 0.9140 - val_loss: 0.3671 - val_accuracy: 0.8501\n"
     ]
    }
   ],
   "source": [
    "nnlm_model = build_model(nnlm_module, 'nnlm')\n",
    "nnlm_history = train_and_evaluate(data, val_data, nnlm_model)"
   ]
  },
  {
   "cell_type": "code",
   "execution_count": 27,
   "metadata": {},
   "outputs": [
    {
     "data": {
      "text/plain": [
       "<matplotlib.axes._subplots.AxesSubplot at 0x148e5dd30>"
      ]
     },
     "execution_count": 27,
     "metadata": {},
     "output_type": "execute_result"
    },
    {
     "data": {
      "image/png": "[encoded data removed]",
      "text/plain": [
       "<Figure size 432x288 with 1 Axes>"
      ]
     },
     "metadata": {
      "needs_background": "light"
     },
     "output_type": "display_data"
    },
    {
     "data": {
      "image/png": "[encoded data removed]",
      "text/plain": [
       "<Figure size 432x288 with 1 Axes>"
      ]
     },
     "metadata": {
      "needs_background": "light"
     },
     "output_type": "display_data"
    }
   ],
   "source": [
    "history = nnlm_history\n",
    "pd.DataFrame(history.history)[['loss', 'val_loss']].plot()\n",
    "pd.DataFrame(history.history)[['accuracy', 'val_accuracy']].plot()"
   ]
  },
  {
   "cell_type": "markdown",
   "metadata": {},
   "source": [
    "## Training Swivel"
   ]
  },
  {
   "cell_type": "code",
   "execution_count": 29,
   "metadata": {},
   "outputs": [],
   "source": [
    "swivel_model = build_model(swivel_module, name='swivel')"
   ]
  },
  {
   "cell_type": "code",
   "execution_count": 31,
   "metadata": {},
   "outputs": [
    {
     "name": "stdout",
     "output_type": "stream",
     "text": [
      "Train on 91392 samples, validate on 4811 samples\n",
      "Epoch 1/100\n",
      "91392/91392 [==============================] - 1s 9us/sample - loss: 1.1823 - accuracy: 0.3465 - val_loss: 1.1105 - val_accuracy: 0.4003\n",
      "Epoch 2/100\n",
      "91392/91392 [==============================] - 0s 5us/sample - loss: 1.0604 - accuracy: 0.4483 - val_loss: 1.0210 - val_accuracy: 0.4922\n",
      "Epoch 3/100\n",
      "91392/91392 [==============================] - 0s 5us/sample - loss: 0.9860 - accuracy: 0.5234 - val_loss: 0.9584 - val_accuracy: 0.5506\n",
      "Epoch 4/100\n",
      "91392/91392 [==============================] - 0s 5us/sample - loss: 0.9284 - accuracy: 0.5705 - val_loss: 0.9052 - val_accuracy: 0.5905\n",
      "Epoch 5/100\n",
      "91392/91392 [==============================] - 0s 5us/sample - loss: 0.8759 - accuracy: 0.6090 - val_loss: 0.8544 - val_accuracy: 0.6200\n",
      "Epoch 6/100\n",
      "91392/91392 [==============================] - 0s 5us/sample - loss: 0.8238 - accuracy: 0.6417 - val_loss: 0.8036 - val_accuracy: 0.6487\n",
      "Epoch 7/100\n",
      "91392/91392 [==============================] - 0s 4us/sample - loss: 0.7716 - accuracy: 0.6690 - val_loss: 0.7540 - val_accuracy: 0.6757\n",
      "Epoch 8/100\n",
      "91392/91392 [==============================] - 0s 5us/sample - loss: 0.7214 - accuracy: 0.6926 - val_loss: 0.7084 - val_accuracy: 0.6974\n",
      "Epoch 9/100\n",
      "91392/91392 [==============================] - 0s 5us/sample - loss: 0.6758 - accuracy: 0.7141 - val_loss: 0.6685 - val_accuracy: 0.7142\n",
      "Epoch 10/100\n",
      "91392/91392 [==============================] - 0s 5us/sample - loss: 0.6363 - accuracy: 0.7304 - val_loss: 0.6348 - val_accuracy: 0.7310\n",
      "Epoch 11/100\n",
      "91392/91392 [==============================] - 0s 5us/sample - loss: 0.6033 - accuracy: 0.7446 - val_loss: 0.6080 - val_accuracy: 0.7391\n",
      "Epoch 12/100\n",
      "91392/91392 [==============================] - 0s 5us/sample - loss: 0.5755 - accuracy: 0.7570 - val_loss: 0.5861 - val_accuracy: 0.7489\n",
      "Epoch 13/100\n",
      "91392/91392 [==============================] - 0s 5us/sample - loss: 0.5518 - accuracy: 0.7678 - val_loss: 0.5674 - val_accuracy: 0.7560\n",
      "Epoch 14/100\n",
      "91392/91392 [==============================] - 0s 4us/sample - loss: 0.5315 - accuracy: 0.7770 - val_loss: 0.5523 - val_accuracy: 0.7628\n",
      "Epoch 15/100\n",
      "91392/91392 [==============================] - 0s 5us/sample - loss: 0.5137 - accuracy: 0.7862 - val_loss: 0.5392 - val_accuracy: 0.7680\n",
      "Epoch 16/100\n",
      "91392/91392 [==============================] - 0s 5us/sample - loss: 0.4978 - accuracy: 0.7934 - val_loss: 0.5283 - val_accuracy: 0.7711\n",
      "Epoch 17/100\n",
      "91392/91392 [==============================] - 0s 5us/sample - loss: 0.4837 - accuracy: 0.7996 - val_loss: 0.5193 - val_accuracy: 0.7741\n",
      "Epoch 18/100\n",
      "91392/91392 [==============================] - 0s 5us/sample - loss: 0.4711 - accuracy: 0.8055 - val_loss: 0.5110 - val_accuracy: 0.7793\n",
      "Epoch 19/100\n",
      "91392/91392 [==============================] - 0s 5us/sample - loss: 0.4595 - accuracy: 0.8107 - val_loss: 0.5036 - val_accuracy: 0.7836\n",
      "Epoch 20/100\n",
      "91392/91392 [==============================] - 0s 5us/sample - loss: 0.4491 - accuracy: 0.8155 - val_loss: 0.4983 - val_accuracy: 0.7855\n",
      "Epoch 21/100\n",
      "91392/91392 [==============================] - 1s 6us/sample - loss: 0.4395 - accuracy: 0.8203 - val_loss: 0.4930 - val_accuracy: 0.7890\n",
      "Epoch 22/100\n",
      "91392/91392 [==============================] - 1s 6us/sample - loss: 0.4306 - accuracy: 0.8241 - val_loss: 0.4884 - val_accuracy: 0.7901\n",
      "Epoch 23/100\n",
      "91392/91392 [==============================] - 1s 6us/sample - loss: 0.4224 - accuracy: 0.8280 - val_loss: 0.4850 - val_accuracy: 0.7909\n",
      "Epoch 24/100\n",
      "91392/91392 [==============================] - 0s 5us/sample - loss: 0.4149 - accuracy: 0.8308 - val_loss: 0.4820 - val_accuracy: 0.7940\n",
      "Epoch 25/100\n",
      "91392/91392 [==============================] - 0s 5us/sample - loss: 0.4080 - accuracy: 0.8348 - val_loss: 0.4797 - val_accuracy: 0.7951\n",
      "Epoch 26/100\n",
      "91392/91392 [==============================] - 0s 5us/sample - loss: 0.4015 - accuracy: 0.8374 - val_loss: 0.4778 - val_accuracy: 0.7951\n",
      "Epoch 27/100\n",
      "91392/91392 [==============================] - 0s 4us/sample - loss: 0.3954 - accuracy: 0.8405 - val_loss: 0.4763 - val_accuracy: 0.7957\n",
      "Epoch 28/100\n",
      "91392/91392 [==============================] - 0s 4us/sample - loss: 0.3899 - accuracy: 0.8428 - val_loss: 0.4757 - val_accuracy: 0.7967\n",
      "Epoch 29/100\n",
      "91392/91392 [==============================] - 0s 5us/sample - loss: 0.3848 - accuracy: 0.8453 - val_loss: 0.4748 - val_accuracy: 0.7967\n",
      "Epoch 30/100\n",
      "91392/91392 [==============================] - 0s 5us/sample - loss: 0.3798 - accuracy: 0.8476 - val_loss: 0.4740 - val_accuracy: 0.7971\n",
      "Epoch 31/100\n",
      "91392/91392 [==============================] - 0s 5us/sample - loss: 0.3755 - accuracy: 0.8496 - val_loss: 0.4742 - val_accuracy: 0.7975\n"
     ]
    }
   ],
   "source": [
    "swivel_history = train_and_evaluate(data, val_data, swivel_model)"
   ]
  },
  {
   "cell_type": "code",
   "execution_count": 32,
   "metadata": {},
   "outputs": [
    {
     "data": {
      "text/plain": [
       "<matplotlib.axes._subplots.AxesSubplot at 0x1482b7c50>"
      ]
     },
     "execution_count": 32,
     "metadata": {},
     "output_type": "execute_result"
    },
    {
     "data": {
      "image/png": "[encoded data removed]",
      "text/plain": [
       "<Figure size 432x288 with 1 Axes>"
      ]
     },
     "metadata": {
      "needs_background": "light"
     },
     "output_type": "display_data"
    },
    {
     "data": {
      "image/png": "[encoded data removed]",
      "text/plain": [
       "<Figure size 432x288 with 1 Axes>"
      ]
     },
     "metadata": {
      "needs_background": "light"
     },
     "output_type": "display_data"
    }
   ],
   "source": [
    "history = swivel_history\n",
    "pd.DataFrame(history.history)[['loss', 'val_loss']].plot()\n",
    "pd.DataFrame(history.history)[['accuracy', 'val_accuracy']].plot()"
   ]
  },
  {
   "cell_type": "markdown",
   "metadata": {},
   "source": [
    "## Comparing the models"
   ]
  },
  {
   "cell_type": "markdown",
   "metadata": {},
   "source": [
    "Swivel trains faster but achieves a lower validation accuracy, and requires more epochs to train on."
   ]
  },
  {
   "cell_type": "markdown",
   "metadata": {},
   "source": [
    "At last, let's compare all the models we have trained at once using TensorBoard in order\n",
    "to choose the one that overfits the less for the same performance level.\n",
    "\n",
    "Running the following command will launch TensorBoard on port 6006. This will\n",
    "block the notebook execution, so you'll have to interrupt that cell first before\n",
    "you can run other cells.\n"
   ]
  },
  {
   "cell_type": "code",
   "execution_count": null,
   "metadata": {},
   "outputs": [],
   "source": [
    "!tensorboard --logdir $MODEL_DIR --port 6006"
   ]
  },
  {
   "cell_type": "markdown",
   "metadata": {},
   "source": [
    "## Bonus"
   ]
  },
  {
   "cell_type": "markdown",
   "metadata": {},
   "source": [
    "Try to beat the best model by modifying the model architecture, changing the TF-Hub embedding, and tweaking the training parameters."
   ]
  },
  {
   "cell_type": "markdown",
   "metadata": {},
   "source": [
    "Copyright 2019 Google Inc. Licensed under the Apache License, Version 2.0 (the \"License\"); you may not use this file except in compliance with the License. You may obtain a copy of the License at http://www.apache.org/licenses/LICENSE-2.0 Unless required by applicable law or agreed to in writing, software distributed under the License is distributed on an \"AS IS\" BASIS, WITHOUT WARRANTIES OR CONDITIONS OF ANY KIND, either express or implied. See the License for the specific language governing permissions and limitations under the License"
   ]
  }
 ],
 "metadata": {
  "kernelspec": {
   "display_name": "Python 3",
   "language": "python",
   "name": "python3"
  },
  "language_info": {
   "codemirror_mode": {
    "name": "ipython",
    "version": 3
   },
   "file_extension": ".py",
   "mimetype": "text/x-python",
   "name": "python",
   "nbconvert_exporter": "python",
   "pygments_lexer": "ipython3",
   "version": "3.6.4"
  }
 },
 "nbformat": 4,
 "nbformat_minor": 2
}
