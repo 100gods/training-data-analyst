{
 "cells": [
  {
   "cell_type": "markdown",
   "metadata": {},
   "source": [
    "# Time Series Prediction with BQML and AutoML\n",
    "\n",
    "Objectives\n",
    " - Learn how BQML and AutoML Tables can be used then building time series models\n",
    " \n",
    "In this lab we will explore"
   ]
  },
  {
   "cell_type": "code",
   "execution_count": null,
   "metadata": {},
   "outputs": [],
   "source": [
    "#  Ensure that we have the latest version of Tensorflow installed.\n",
    "!pip3 freeze | grep tf-nightly-2.0-preview || pip3 install tf-nightly-2.0-preview"
   ]
  },
  {
   "cell_type": "markdown",
   "metadata": {},
   "source": [
    "## Set up environment variables and load necessary libraries"
   ]
  },
  {
   "cell_type": "code",
   "execution_count": null,
   "metadata": {},
   "outputs": [],
   "source": [
    "PROJECT = \"munn-sandbox\"  # Replace with your PROJECT\n",
    "REGION = \"us-east1\"            # Choose an available region for Cloud MLE"
   ]
  },
  {
   "cell_type": "code",
   "execution_count": null,
   "metadata": {},
   "outputs": [],
   "source": [
    "import os\n",
    "os.environ[\"PROJECT\"] = PROJECT\n",
    "os.environ[\"REGION\"] = REGION"
   ]
  },
  {
   "cell_type": "code",
   "execution_count": null,
   "metadata": {},
   "outputs": [],
   "source": [
    "!pip freeze | grep google-cloud-bigquery==1.6.1 || pip install google-cloud-bigquery==1.6.1"
   ]
  },
  {
   "cell_type": "code",
   "execution_count": null,
   "metadata": {},
   "outputs": [],
   "source": [
    "# Allow you to easily have Python variables in SQL query.\n",
    "from IPython.core.magic import register_cell_magic\n",
    "from IPython import get_ipython\n",
    "\n",
    "@register_cell_magic('with_globals')\n",
    "def with_globals(line, cell):\n",
    "    contents = cell.format(**globals())\n",
    "    if 'print' in line:\n",
    "        print(contents)\n",
    "    get_ipython().run_cell(contents)"
   ]
  },
  {
   "cell_type": "markdown",
   "metadata": {},
   "source": [
    "## Review the dataset\n",
    "\n",
    "In the previous lab we created the training dataset we will use for modeling and saved it as "
   ]
  },
  {
   "cell_type": "code",
   "execution_count": null,
   "metadata": {},
   "outputs": [],
   "source": [
    "%load_ext google.cloud.bigquery"
   ]
  },
  {
   "cell_type": "code",
   "execution_count": null,
   "metadata": {},
   "outputs": [],
   "source": [
    "%%bigquery --project {PROJECT}\n",
    "SELECT *\n",
    "FROM stock_market.percent_change_sp500\n",
    "LIMIT 10"
   ]
  },
  {
   "cell_type": "markdown",
   "metadata": {},
   "source": [
    "## Using BQML\n",
    "\n",
    "### Create classification model for `direction`\n",
    "\n",
    "To create a model\n",
    "1. Use `CREATE MODEL` and provide a destination table for resulting model. Alternatively we can use `CREATE OR REPLACE MODEL` which allows overwriting an existing model.\n",
    "2. Use `OPTIONS` to specify the model type (linear_reg or logistic_reg). There are many more options [we could specify](https://cloud.google.com/bigquery/docs/reference/standard-sql/bigqueryml-syntax-create#model_option_list), such as regularization and learning rate, but we'll accept the defaults.\n",
    "3. Provide the query which fetches the training data \n",
    "\n",
    "Have a look at [Step Two of this tutorial](https://cloud.google.com/bigquery/docs/bigqueryml-natality) to see another example.\n",
    "\n",
    "**The query will take about two minutes to complete**\n",
    "\n",
    "\n",
    "We'll start with creating a classification model to predict the `direction` of each stock. \n",
    "\n",
    "We'll take a random split using the `symbol` value. With about 500 different values, using `MOD(ABS(FARM_FINGERPRINT(symbol)), 25) = 1` will give about 20 distinct `symbol` values which still corresponds to ______ training examples."
   ]
  },
  {
   "cell_type": "code",
   "execution_count": null,
   "metadata": {},
   "outputs": [],
   "source": [
    "%%bigquery --project $PROJECT\n",
    "CREATE OR REPLACE MODEL\n",
    "  stock_market.direction_model OPTIONS(model_type = \"logistic_reg\",\n",
    "    input_label_cols = [\"direction\"]) AS\n",
    "  -- query to fetch training data\n",
    "SELECT\n",
    "  symbol,\n",
    "  Date,\n",
    "  Open,\n",
    "  Close,\n",
    "  tomorrow_close,\n",
    "  tomo_close_m_close,\n",
    "  close_MIN_prior_5_days,\n",
    "  close_MIN_prior_20_days,\n",
    "  close_MIN_prior_260_days,\n",
    "  close_MAX_prior_5_days,\n",
    "  close_MAX_prior_20_days,\n",
    "  close_MAX_prior_260_days,\n",
    "  close_AVG_prior_5_days,\n",
    "  close_AVG_prior_20_days,\n",
    "  close_AVG_prior_260_days,\n",
    "  close_STDDEV_prior_5_days,\n",
    "  close_STDDEV_prior_20_days,\n",
    "  close_STDDEV_prior_260_days,\n",
    "  direction\n",
    "FROM\n",
    "  `munn-sandbox.stock_market.percent_change_sp500`\n",
    "WHERE\n",
    "  normalized_change IS NOT NULL\n",
    "  AND tomorrow_close IS NOT NULL\n",
    "  AND tomo_close_m_close IS NOT NULL\n",
    "  AND MOD(ABS(FARM_FINGERPRINT(symbol)), 25) = 1"
   ]
  },
  {
   "cell_type": "markdown",
   "metadata": {},
   "source": [
    "## Get training statistics\n",
    "\n",
    "To get the training results we use the [`ML.TRAINING_INFO`](https://cloud.google.com/bigquery/docs/reference/standard-sql/bigqueryml-syntax-train) function."
   ]
  },
  {
   "cell_type": "code",
   "execution_count": null,
   "metadata": {},
   "outputs": [],
   "source": [
    "%%bigquery --project $PROJECT\n",
    "SELECT\n",
    "    *\n",
    "FROM\n",
    "    ML.TRAINING_INFO(MODEL `stock_market.direction_model`)"
   ]
  },
  {
   "cell_type": "code",
   "execution_count": null,
   "metadata": {},
   "outputs": [],
   "source": [
    "%%bigquery --project $PROJECT\n",
    "SELECT\n",
    "  *\n",
    "FROM\n",
    "  ml.EVALUATE(MODEL `stock_market.direction_model`)"
   ]
  },
  {
   "cell_type": "markdown",
   "metadata": {},
   "source": [
    "### Create regression model for `normalized change`\n",
    "\n",
    "Similar to above\n"
   ]
  },
  {
   "cell_type": "code",
   "execution_count": null,
   "metadata": {},
   "outputs": [],
   "source": [
    "%%bigquery --project $PROJECT\n",
    "CREATE OR REPLACE MODEL\n",
    "  stock_market.price_model OPTIONS(model_type = \"linear_reg\",\n",
    "    input_label_cols = [\"normalized_change\"]) AS\n",
    "  -- query to fetch training data\n",
    "SELECT\n",
    "  symbol,\n",
    "  Date,\n",
    "  Open,\n",
    "  Close,\n",
    "  tomorrow_close,\n",
    "  tomo_close_m_close,\n",
    "  close_MIN_prior_5_days,\n",
    "  close_MIN_prior_20_days,\n",
    "  close_MIN_prior_260_days,\n",
    "  close_MAX_prior_5_days,\n",
    "  close_MAX_prior_20_days,\n",
    "  close_MAX_prior_260_days,\n",
    "  close_AVG_prior_5_days,\n",
    "  close_AVG_prior_20_days,\n",
    "  close_AVG_prior_260_days,\n",
    "  close_STDDEV_prior_5_days,\n",
    "  close_STDDEV_prior_20_days,\n",
    "  close_STDDEV_prior_260_days,\n",
    "  normalized_change\n",
    "FROM\n",
    "  `munn-sandbox.stock_market.percent_change_sp500`\n",
    "WHERE\n",
    "  normalized_change IS NOT NULL\n",
    "  AND tomorrow_close IS NOT NULL\n",
    "  AND tomo_close_m_close IS NOT NULL\n",
    "  AND MOD(ABS(FARM_FINGERPRINT(symbol)), 30) = 1"
   ]
  },
  {
   "cell_type": "code",
   "execution_count": null,
   "metadata": {},
   "outputs": [],
   "source": [
    "%%bigquery --project $PROJECT\n",
    "SELECT\n",
    "    *\n",
    "FROM\n",
    "    ML.TRAINING_INFO(MODEL `stock_market.price_model`)"
   ]
  },
  {
   "cell_type": "code",
   "execution_count": null,
   "metadata": {},
   "outputs": [],
   "source": [
    "%%bigquery --project $PROJECT\n",
    "SELECT\n",
    "  *\n",
    "FROM\n",
    "  ml.EVALUATE(MODEL `stock_market.price_model`)"
   ]
  },
  {
   "cell_type": "markdown",
   "metadata": {},
   "source": [
    "## Using AutoML Tables\n",
    "\n",
    "Will look at either regression or regression."
   ]
  },
  {
   "cell_type": "code",
   "execution_count": null,
   "metadata": {},
   "outputs": [],
   "source": []
  },
  {
   "cell_type": "code",
   "execution_count": null,
   "metadata": {},
   "outputs": [],
   "source": []
  },
  {
   "cell_type": "code",
   "execution_count": null,
   "metadata": {},
   "outputs": [],
   "source": []
  }
 ],
 "metadata": {
  "kernelspec": {
   "display_name": "Python 3",
   "language": "python",
   "name": "python3"
  },
  "language_info": {
   "codemirror_mode": {
    "name": "ipython",
    "version": 3
   },
   "file_extension": ".py",
   "mimetype": "text/x-python",
   "name": "python",
   "nbconvert_exporter": "python",
   "pygments_lexer": "ipython3",
   "version": "3.6.8"
  }
 },
 "nbformat": 4,
 "nbformat_minor": 2
}
