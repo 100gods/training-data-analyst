{
 "cells": [
  {
   "cell_type": "markdown",
   "metadata": {},
   "source": [
    "# Introducing the Keras Functional API\n",
    "\n",
    "**Learning Objectives**\n",
    "  - Understand embeddings and how to create them with the feature column API\n",
    "  - Understand Deep and Wide models and when to use them\n",
    "  - Understand the Keras functional API and how to build a deep and wide model with it\n",
    "\n",
    "## Introduction\n",
    "\n",
    "In the last notebook, we learned about the Keras Sequential API. The [Keras Functional API](https://www.tensorflow.org/guide/keras#functional_api) provides an alternate way of building models which is more flexible. With the Functional API, we can build models with more complex topologies, multiple input or output layers, shared layers or non-sequential data flows (e.g. residual layers).\n",
    "\n",
    "In this notebook we'll use what we learned about feature columns to build a Wide & Deep model. Recall, that the idea behind Wide & Deep models is to join the two methods of learning through memorization and generalization by making a wide linear model and a deep learning model to accommodate both. You can have a look at the original research paper here: [Wide & Deep Learning for Recommender Systems](https://arxiv.org/abs/1606.07792).\n",
    "\n",
    "<img src='assets/wide_deep.png' width='80%'>\n",
    "<sup>(image: https://ai.googleblog.com/2016/06/wide-deep-learning-better-together-with.html)</sup>\n",
    "\n",
    "The Wide part of the model is associated with the memory element. In this case, we train a linear model with a wide set of crossed features and learn the correlation of this related data with the assigned label. The Deep part of the model is associated with the generalization element where we use embedding vectors for features. The best embeddings are then learned through the training process. While both of these methods can work well alone, Wide & Deep models excel by combining these techniques together. "
   ]
  },
  {
   "cell_type": "code",
   "execution_count": 1,
   "metadata": {},
   "outputs": [
    {
     "name": "stdout",
     "output_type": "stream",
     "text": [
      "tf-nightly-2.0-preview==2.0.0.dev20190925\r\n"
     ]
    }
   ],
   "source": [
    "#  Ensure that we have the latest version of Tensorflow installed.\n",
    "!pip3 freeze | grep tf-nightly-2.0-preview || pip3 install tf-nightly-2.0-preview"
   ]
  },
  {
   "cell_type": "markdown",
   "metadata": {},
   "source": [
    "Start by importing the necessary libraries for this lab."
   ]
  },
  {
   "cell_type": "code",
   "execution_count": 2,
   "metadata": {},
   "outputs": [
    {
     "name": "stdout",
     "output_type": "stream",
     "text": [
      "2.0.0-dev20190925\n"
     ]
    }
   ],
   "source": [
    "import datetime\n",
    "import os\n",
    "import shutil\n",
    "\n",
    "import numpy as np\n",
    "import pandas as pd\n",
    "import tensorflow as tf\n",
    "\n",
    "from matplotlib import pyplot as plt\n",
    "from tensorflow import keras\n",
    "\n",
    "from tensorflow import feature_column as fc\n",
    "\n",
    "from tensorflow.keras import Model\n",
    "from tensorflow.keras.layers import (\n",
    "    Input, Dense, DenseFeatures, concatenate)\n",
    "from tensorflow.keras.callbacks import TensorBoard\n",
    "\n",
    "print(tf.__version__)"
   ]
  },
  {
   "cell_type": "code",
   "execution_count": 3,
   "metadata": {},
   "outputs": [],
   "source": [
    "%matplotlib inline"
   ]
  },
  {
   "cell_type": "markdown",
   "metadata": {},
   "source": [
    "## Load raw data \n",
    "\n",
    "We will use the taxifare dataset, using the CSV files that we created in the first notebook of this sequence. Those files have been saved into `../data`."
   ]
  },
  {
   "cell_type": "code",
   "execution_count": 4,
   "metadata": {},
   "outputs": [
    {
     "name": "stdout",
     "output_type": "stream",
     "text": [
      "-rw-r--r--  1 dherin  primarygroup  123590 Sep 25 14:39 ../data/taxi-test.csv\r\n",
      "-rw-r--r--  1 dherin  primarygroup  579055 Sep 25 14:39 ../data/taxi-train.csv\r\n",
      "-rw-r--r--  1 dherin  primarygroup  123114 Sep 25 14:39 ../data/taxi-valid.csv\r\n"
     ]
    }
   ],
   "source": [
    "!ls -l ../data/*.csv"
   ]
  },
  {
   "cell_type": "markdown",
   "metadata": {},
   "source": [
    "## Use tf.data to read the CSV files\n",
    "\n",
    "We wrote these functions for reading data from the csv files above in the [previous notebook](2_dataset_api.ipynb). For this lab we will also include some additional engineered features in our model. In particular, we will compute the difference in latitude and longitude, as well as the Euclidean distance between the pick-up and drop-off locations. We can accomplish this by adding these new features to the features dictionary with the function `add_engineered_features` below. \n",
    "\n",
    "Note that we include a call to this function when collecting our features dict and labels in the `features_and_labels` function below as well. "
   ]
  },
  {
   "cell_type": "code",
   "execution_count": 5,
   "metadata": {},
   "outputs": [],
   "source": [
    "CSV_COLUMNS = [\n",
    "    'fare_amount',\n",
    "    'pickup_datetime',\n",
    "    'pickup_longitude',\n",
    "    'pickup_latitude',\n",
    "    'dropoff_longitude',\n",
    "    'dropoff_latitude',\n",
    "    'passenger_count',\n",
    "    'key'\n",
    "]\n",
    "LABEL_COLUMN = 'fare_amount'\n",
    "DEFAULTS = [[0.0], ['na'], [0.0], [0.0], [0.0], [0.0], [0.0], ['na']]\n",
    "UNWANTED_COLS = ['pickup_datetime', 'key']\n",
    "\n",
    "\n",
    "def features_and_labels(row_data):\n",
    "    label = row_data.pop(LABEL_COLUMN)\n",
    "    features = row_data\n",
    "        \n",
    "    for unwanted_col in UNWANTED_COLS:\n",
    "        features.pop(unwanted_col)\n",
    "\n",
    "    return features, label\n",
    "\n",
    "\n",
    "def create_dataset(pattern, batch_size=1, mode=tf.estimator.ModeKeys.EVAL):\n",
    "    dataset = tf.data.experimental.make_csv_dataset(\n",
    "        pattern, batch_size, CSV_COLUMNS, DEFAULTS)\n",
    "\n",
    "    dataset = dataset.map(features_and_labels)\n",
    "    \n",
    "    if mode == tf.estimator.ModeKeys.TRAIN:\n",
    "        dataset = dataset.shuffle(buffer_size=1000).repeat()\n",
    "\n",
    "    # take advantage of multi-threading; 1=AUTOTUNE\n",
    "    dataset = dataset.prefetch(1)\n",
    "    return dataset"
   ]
  },
  {
   "cell_type": "markdown",
   "metadata": {},
   "source": [
    "## Feature columns for Wide and Deep model\n",
    "\n",
    "For the Wide columns, we will create feature columns of crossed features. To do this, we'll create a collection of Tensorflow feature columns to pass to the `tf.feature_column.crossed_column` constructor. The Deep columns will consist of numeric columns and the embedding columns we want to create. "
   ]
  },
  {
   "cell_type": "code",
   "execution_count": 6,
   "metadata": {},
   "outputs": [],
   "source": [
    "# 1. Bucketize latitudes and longitudes\n",
    "NBUCKETS = 16\n",
    "latbuckets = np.linspace(start=38.0, stop=42.0, num=NBUCKETS).tolist()\n",
    "lonbuckets = np.linspace(start=-76.0, stop=-72.0, num=NBUCKETS).tolist()\n",
    "\n",
    "fc_bucketized_plat = fc.bucketized_column(\n",
    "    source_column=fc.numeric_column(\"pickup_longitude\"), boundaries=lonbuckets)\n",
    "fc_bucketized_plon = fc.bucketized_column(\n",
    "    source_column=fc.numeric_column(\"pickup_latitude\"), boundaries=latbuckets)\n",
    "fc_bucketized_dlat = fc.bucketized_column(\n",
    "    source_column=fc.numeric_column(\"dropoff_longitude\"), boundaries=lonbuckets)\n",
    "fc_bucketized_dlon = fc.bucketized_column(\n",
    "    source_column=fc.numeric_column(\"dropoff_latitude\"), boundaries=latbuckets)\n",
    "\n",
    "# 2. Cross features for locations\n",
    "fc_crossed_dloc = fc.crossed_column(\n",
    "    [fc_bucketized_dlat, fc_bucketized_dlon],\n",
    "    hash_bucket_size=NBUCKETS * NBUCKETS)\n",
    "fc_crossed_ploc = fc.crossed_column(\n",
    "    [fc_bucketized_plat, fc_bucketized_plon],\n",
    "    hash_bucket_size=NBUCKETS * NBUCKETS)\n",
    "fc_crossed_pd_pair = fc.crossed_column(\n",
    "    [fc_crossed_dloc, fc_crossed_ploc],\n",
    "    hash_bucket_size=NBUCKETS**4)\n",
    "\n",
    "# 3. Create embedding columns for the crossed columns\n",
    "fc_pd_pair = fc.embedding_column(categorical_column=fc_crossed_pd_pair, dimension=3)\n",
    "fc_dloc = fc.embedding_column(categorical_column=fc_crossed_dloc, dimension=3)\n",
    "fc_ploc = fc.embedding_column(categorical_column=fc_crossed_ploc, dimension=3)"
   ]
  },
  {
   "cell_type": "markdown",
   "metadata": {},
   "source": [
    "### Gather list of feature columns\n",
    "\n",
    "Next we gather the list of wide and deep feature columns we'll pass to our Wide & Deep model in Tensorflow. Recall, wide columns are sparse, have linear relationship with the output while continuous columns are deep, have a complex relationship with the output. We will use our previously bucketized columns to collect crossed feature columns and sparse feature columns for our wide columns, and embedding feature columns and numeric features columns for the deep columns."
   ]
  },
  {
   "cell_type": "code",
   "execution_count": 7,
   "metadata": {},
   "outputs": [],
   "source": [
    "wide_columns = [\n",
    "    # One-hot encoded feature crosses\n",
    "    fc.indicator_column(fc_crossed_dloc),\n",
    "    fc.indicator_column(fc_crossed_ploc),\n",
    "    fc.indicator_column(fc_crossed_pd_pair)\n",
    "]\n",
    "\n",
    "deep_columns = [\n",
    "    # Embedding_column to \"group\" together ...\n",
    "    fc.embedding_column(fc_crossed_pd_pair, dimension=10),\n",
    "\n",
    "    # Numeric columns\n",
    "    fc.numeric_column(\"pickup_latitude\"),\n",
    "    fc.numeric_column(\"pickup_longitude\"),\n",
    "    fc.numeric_column(\"dropoff_longitude\"),\n",
    "    fc.numeric_column(\"dropoff_latitude\")\n",
    "]"
   ]
  },
  {
   "cell_type": "markdown",
   "metadata": {},
   "source": [
    "## Build a Wide and Deep model in Keras\n",
    "\n",
    "To build a wide-and-deep network, we connect the sparse (i.e. wide) features directly to the output node, but pass the dense (i.e. deep) features through a set of fully connected layers. Here’s that model architecture looks using the Functional API.\n",
    "\n",
    "First, we'll create our input columns using [tf.keras.layers.Input](https://www.tensorflow.org/versions/r2.0/api_docs/python/tf/keras/Input)."
   ]
  },
  {
   "cell_type": "code",
   "execution_count": 8,
   "metadata": {},
   "outputs": [],
   "source": [
    "INPUT_COLS = [\n",
    "    'pickup_longitude',\n",
    "    'pickup_latitude',\n",
    "    'dropoff_longitude',\n",
    "    'dropoff_latitude',\n",
    "    'passenger_count'\n",
    "]\n",
    "\n",
    "inputs = {colname : Input(name=colname, shape=(), dtype='float32')\n",
    "          for colname in INPUT_COLS\n",
    "}"
   ]
  },
  {
   "cell_type": "markdown",
   "metadata": {},
   "source": [
    "Then, we'll define our custom RMSE evaluation metric and build our wide and deep model."
   ]
  },
  {
   "cell_type": "code",
   "execution_count": 9,
   "metadata": {},
   "outputs": [],
   "source": [
    "def rmse(y_true, y_pred):\n",
    "    return tf.sqrt(tf.reduce_mean(tf.square(y_pred - y_true)))\n",
    "\n",
    "\n",
    "def build_model(dnn_hidden_units):\n",
    "    # Create the deep part of model\n",
    "    deep = DenseFeatures(deep_columns, name='deep_inputs')(inputs)\n",
    "    for num_nodes in dnn_hidden_units:\n",
    "        deep = Dense(num_nodes, activation='relu')(deep) \n",
    "\n",
    "    # Create the wide part of model\n",
    "    wide = DenseFeatures(wide_columns, name='wide_inputs')(inputs)\n",
    "\n",
    "    # Combine deep and wide parts of the model\n",
    "    combined = concatenate(inputs=[deep, wide], name='combined')\n",
    "\n",
    "    # Map the combined outputs into a single prediction value\n",
    "    output = Dense(units=1, activation=None, name='prediction')(combined)\n",
    "    \n",
    "    # Finalize the model\n",
    "    model = Model(inputs=list(inputs.values()), outputs=output)\n",
    "\n",
    "    # Compile the keras model\n",
    "    model.compile(optimizer=\"adam\", loss=\"mse\", metrics=[rmse, \"mse\"])\n",
    "    \n",
    "    return model"
   ]
  },
  {
   "cell_type": "markdown",
   "metadata": {},
   "source": [
    "Next, we can call the `build_model` to create the model. Here we'll have two hidden layers, each with 10 neurons, for the deep part of our model. We can also use `plot_model` to see a diagram of the model we've created."
   ]
  },
  {
   "cell_type": "code",
   "execution_count": 10,
   "metadata": {},
   "outputs": [
    {
     "name": "stdout",
     "output_type": "stream",
     "text": [
      "WARNING:tensorflow:From /Users/dherin/Desktop/asl/venv/lib/python3.6/site-packages/tensorflow_core/python/feature_column/feature_column_v2.py:3090: CrossedColumn._num_buckets (from tensorflow.python.feature_column.feature_column_v2) is deprecated and will be removed in a future version.\n",
      "Instructions for updating:\n",
      "The old _FeatureColumn APIs are being deprecated. Please use the new FeatureColumn APIs instead.\n",
      "WARNING:tensorflow:From /Users/dherin/Desktop/asl/venv/lib/python3.6/site-packages/tensorflow_core/python/feature_column/feature_column_v2.py:353: Layer.add_variable (from tensorflow.python.keras.engine.base_layer) is deprecated and will be removed in a future version.\n",
      "Instructions for updating:\n",
      "Please use `layer.add_weight` method instead.\n",
      "WARNING:tensorflow:From /Users/dherin/Desktop/asl/venv/lib/python3.6/site-packages/tensorflow_core/python/ops/embedding_ops.py:810: where (from tensorflow.python.ops.array_ops) is deprecated and will be removed in a future version.\n",
      "Instructions for updating:\n",
      "Use tf.where in 2.0, which has the same broadcast rule as np.where\n",
      "WARNING:tensorflow:From /Users/dherin/Desktop/asl/venv/lib/python3.6/site-packages/tensorflow_core/python/feature_column/feature_column_v2.py:4266: IndicatorColumn._variable_shape (from tensorflow.python.feature_column.feature_column_v2) is deprecated and will be removed in a future version.\n",
      "Instructions for updating:\n",
      "The old _FeatureColumn APIs are being deprecated. Please use the new FeatureColumn APIs instead.\n",
      "Failed to import pydot. You must install pydot and graphviz for `pydotprint` to work.\n"
     ]
    }
   ],
   "source": [
    "HIDDEN_UNITS = [10,10]\n",
    "\n",
    "model = build_model(dnn_hidden_units=HIDDEN_UNITS)\n",
    "\n",
    "tf.keras.utils.plot_model(model, show_shapes=False, rankdir='LR')"
   ]
  },
  {
   "cell_type": "markdown",
   "metadata": {},
   "source": [
    "Next, we'll set up our training variables, create our datasets for training and validation, and train our model."
   ]
  },
  {
   "cell_type": "code",
   "execution_count": 11,
   "metadata": {},
   "outputs": [
    {
     "name": "stdout",
     "output_type": "stream",
     "text": [
      "WARNING:tensorflow:From /Users/dherin/Desktop/asl/venv/lib/python3.6/site-packages/tensorflow_core/python/data/experimental/ops/readers.py:540: parallel_interleave (from tensorflow.python.data.experimental.ops.interleave_ops) is deprecated and will be removed in a future version.\n",
      "Instructions for updating:\n",
      "Use `tf.data.Dataset.interleave(map_func, cycle_length, block_length, num_parallel_calls=tf.data.experimental.AUTOTUNE)` instead. If sloppy execution is desired, use `tf.data.Options.experimental_deterministic`.\n",
      "WARNING:tensorflow:From /Users/dherin/Desktop/asl/venv/lib/python3.6/site-packages/tensorflow_core/python/data/experimental/ops/readers.py:214: shuffle_and_repeat (from tensorflow.python.data.experimental.ops.shuffle_ops) is deprecated and will be removed in a future version.\n",
      "Instructions for updating:\n",
      "Use `tf.data.Dataset.shuffle(buffer_size, seed)` followed by `tf.data.Dataset.repeat(count)`. Static tf.data optimizations will take care of using the fused implementation.\n"
     ]
    }
   ],
   "source": [
    "BATCH_SIZE = 1000\n",
    "NUM_TRAIN_EXAMPLES = 10000 * 5  # training dataset will repeat, wrap around\n",
    "NUM_EVALS = 50  # how many times to evaluate\n",
    "NUM_EVAL_EXAMPLES = 10000  # enough to get a reasonable sample\n",
    "\n",
    "trainds = create_dataset(\n",
    "    pattern='../data/taxi-train*',\n",
    "    batch_size=BATCH_SIZE,\n",
    "    mode=tf.estimator.ModeKeys.TRAIN)\n",
    "\n",
    "evalds = create_dataset(\n",
    "    pattern='../data/taxi-valid*',\n",
    "    batch_size=BATCH_SIZE,\n",
    "    mode=tf.estimator.ModeKeys.EVAL).take(NUM_EVAL_EXAMPLES//1000)"
   ]
  },
  {
   "cell_type": "code",
   "execution_count": 12,
   "metadata": {},
   "outputs": [
    {
     "name": "stdout",
     "output_type": "stream",
     "text": [
      "Train for 1 steps, validate for 10 steps\n",
      "Epoch 1/50\n",
      "1/1 [==============================] - 15s 15s/step - loss: 222.2876 - rmse: 14.9093 - mse: 222.2876 - val_loss: 253.2793 - val_rmse: 15.9098 - val_mse: 253.2793\n",
      "Epoch 2/50\n",
      "1/1 [==============================] - 3s 3s/step - loss: 235.8223 - rmse: 15.3565 - mse: 235.8223 - val_loss: 251.5203 - val_rmse: 15.8544 - val_mse: 251.5203\n",
      "Epoch 3/50\n",
      "1/1 [==============================] - 3s 3s/step - loss: 225.0270 - rmse: 15.0009 - mse: 225.0270 - val_loss: 249.8206 - val_rmse: 15.8007 - val_mse: 249.8206\n",
      "Epoch 4/50\n",
      "1/1 [==============================] - 3s 3s/step - loss: 203.7875 - rmse: 14.2754 - mse: 203.7875 - val_loss: 248.1620 - val_rmse: 15.7481 - val_mse: 248.1620\n",
      "Epoch 5/50\n",
      "1/1 [==============================] - 3s 3s/step - loss: 210.4895 - rmse: 14.5083 - mse: 210.4895 - val_loss: 246.5190 - val_rmse: 15.6958 - val_mse: 246.5190\n",
      "Epoch 6/50\n",
      "1/1 [==============================] - 3s 3s/step - loss: 231.0518 - rmse: 15.2004 - mse: 231.0518 - val_loss: 244.8680 - val_rmse: 15.6431 - val_mse: 244.8681\n",
      "Epoch 7/50\n",
      "1/1 [==============================] - 3s 3s/step - loss: 235.0072 - rmse: 15.3299 - mse: 235.0072 - val_loss: 243.1966 - val_rmse: 15.5895 - val_mse: 243.1966\n",
      "Epoch 8/50\n",
      "1/1 [==============================] - 3s 3s/step - loss: 211.9952 - rmse: 14.5601 - mse: 211.9952 - val_loss: 241.4978 - val_rmse: 15.5349 - val_mse: 241.4978\n",
      "Epoch 9/50\n",
      "1/1 [==============================] - 4s 4s/step - loss: 193.5278 - rmse: 13.9114 - mse: 193.5278 - val_loss: 239.7649 - val_rmse: 15.4790 - val_mse: 239.7648\n",
      "Epoch 10/50\n",
      "1/1 [==============================] - 4s 4s/step - loss: 212.0067 - rmse: 14.5605 - mse: 212.0067 - val_loss: 237.9874 - val_rmse: 15.4215 - val_mse: 237.9874\n",
      "Epoch 11/50\n",
      "1/1 [==============================] - 4s 4s/step - loss: 241.4488 - rmse: 15.5386 - mse: 241.4488 - val_loss: 236.1589 - val_rmse: 15.3620 - val_mse: 236.1590\n",
      "Epoch 12/50\n",
      "1/1 [==============================] - 3s 3s/step - loss: 203.5672 - rmse: 14.2677 - mse: 203.5672 - val_loss: 234.2757 - val_rmse: 15.3006 - val_mse: 234.2757\n",
      "Epoch 13/50\n",
      "1/1 [==============================] - 3s 3s/step - loss: 203.3544 - rmse: 14.2602 - mse: 203.3544 - val_loss: 232.3337 - val_rmse: 15.2370 - val_mse: 232.3336\n",
      "Epoch 14/50\n",
      "1/1 [==============================] - 3s 3s/step - loss: 185.4193 - rmse: 13.6169 - mse: 185.4193 - val_loss: 230.3334 - val_rmse: 15.1711 - val_mse: 230.3333\n",
      "Epoch 15/50\n",
      "1/1 [==============================] - 4s 4s/step - loss: 203.7142 - rmse: 14.2728 - mse: 203.7142 - val_loss: 228.2726 - val_rmse: 15.1030 - val_mse: 228.2726\n",
      "Epoch 16/50\n",
      "1/1 [==============================] - 3s 3s/step - loss: 184.7116 - rmse: 13.5909 - mse: 184.7116 - val_loss: 226.1716 - val_rmse: 15.0333 - val_mse: 226.1716\n",
      "Epoch 17/50\n",
      "1/1 [==============================] - 3s 3s/step - loss: 200.0938 - rmse: 14.1454 - mse: 200.0938 - val_loss: 224.0062 - val_rmse: 14.9610 - val_mse: 224.0062\n",
      "Epoch 18/50\n",
      "1/1 [==============================] - 3s 3s/step - loss: 199.1240 - rmse: 14.1111 - mse: 199.1240 - val_loss: 221.7796 - val_rmse: 14.8864 - val_mse: 221.7796\n",
      "Epoch 19/50\n",
      "1/1 [==============================] - 3s 3s/step - loss: 174.5358 - rmse: 13.2112 - mse: 174.5358 - val_loss: 219.4930 - val_rmse: 14.8094 - val_mse: 219.4930\n",
      "Epoch 20/50\n",
      "1/1 [==============================] - 4s 4s/step - loss: 201.6201 - rmse: 14.1993 - mse: 201.6201 - val_loss: 217.1416 - val_rmse: 14.7297 - val_mse: 217.1416\n",
      "Epoch 21/50\n",
      "1/1 [==============================] - 3s 3s/step - loss: 170.1416 - rmse: 13.0438 - mse: 170.1416 - val_loss: 214.7331 - val_rmse: 14.6477 - val_mse: 214.7332\n",
      "Epoch 22/50\n",
      "1/1 [==============================] - 3s 3s/step - loss: 178.5876 - rmse: 13.3637 - mse: 178.5876 - val_loss: 212.2650 - val_rmse: 14.5631 - val_mse: 212.2650\n",
      "Epoch 23/50\n",
      "1/1 [==============================] - 3s 3s/step - loss: 187.7007 - rmse: 13.7004 - mse: 187.7007 - val_loss: 209.7383 - val_rmse: 14.4761 - val_mse: 209.7383\n",
      "Epoch 24/50\n",
      "1/1 [==============================] - 3s 3s/step - loss: 212.9417 - rmse: 14.5925 - mse: 212.9417 - val_loss: 207.1513 - val_rmse: 14.3864 - val_mse: 207.1512\n",
      "Epoch 25/50\n",
      "1/1 [==============================] - 3s 3s/step - loss: 202.1297 - rmse: 14.2172 - mse: 202.1297 - val_loss: 204.5057 - val_rmse: 14.2941 - val_mse: 204.5057\n",
      "Epoch 26/50\n",
      "1/1 [==============================] - 3s 3s/step - loss: 176.2930 - rmse: 13.2775 - mse: 176.2930 - val_loss: 201.8105 - val_rmse: 14.1994 - val_mse: 201.8105\n",
      "Epoch 27/50\n",
      "1/1 [==============================] - 4s 4s/step - loss: 221.6189 - rmse: 14.8869 - mse: 221.6189 - val_loss: 199.0607 - val_rmse: 14.1022 - val_mse: 199.0607\n",
      "Epoch 28/50\n",
      "1/1 [==============================] - 4s 4s/step - loss: 177.2672 - rmse: 13.3142 - mse: 177.2672 - val_loss: 196.2720 - val_rmse: 14.0029 - val_mse: 196.2720\n",
      "Epoch 29/50\n",
      "1/1 [==============================] - 3s 3s/step - loss: 171.4267 - rmse: 13.0930 - mse: 171.4267 - val_loss: 193.4410 - val_rmse: 13.9013 - val_mse: 193.4410\n",
      "Epoch 30/50\n",
      "1/1 [==============================] - 3s 3s/step - loss: 140.1565 - rmse: 11.8388 - mse: 140.1565 - val_loss: 190.5862 - val_rmse: 13.7982 - val_mse: 190.5862\n",
      "Epoch 31/50\n",
      "1/1 [==============================] - 3s 3s/step - loss: 164.5596 - rmse: 12.8281 - mse: 164.5596 - val_loss: 187.6975 - val_rmse: 13.6930 - val_mse: 187.6975\n",
      "Epoch 32/50\n",
      "1/1 [==============================] - 4s 4s/step - loss: 153.0231 - rmse: 12.3703 - mse: 153.0231 - val_loss: 184.7861 - val_rmse: 13.5862 - val_mse: 184.7861\n",
      "Epoch 33/50\n",
      "1/1 [==============================] - 3s 3s/step - loss: 174.0090 - rmse: 13.1912 - mse: 174.0090 - val_loss: 181.8474 - val_rmse: 13.4776 - val_mse: 181.8474\n",
      "Epoch 34/50\n",
      "1/1 [==============================] - 4s 4s/step - loss: 157.5703 - rmse: 12.5527 - mse: 157.5703 - val_loss: 178.8913 - val_rmse: 13.3674 - val_mse: 178.8913\n",
      "Epoch 35/50\n",
      "1/1 [==============================] - 4s 4s/step - loss: 198.9456 - rmse: 14.1048 - mse: 198.9456 - val_loss: 175.9205 - val_rmse: 13.2557 - val_mse: 175.9205\n",
      "Epoch 36/50\n",
      "1/1 [==============================] - 4s 4s/step - loss: 134.2968 - rmse: 11.5886 - mse: 134.2968 - val_loss: 172.9514 - val_rmse: 13.1431 - val_mse: 172.9514\n",
      "Epoch 37/50\n",
      "1/1 [==============================] - 3s 3s/step - loss: 141.8711 - rmse: 11.9110 - mse: 141.8711 - val_loss: 169.9853 - val_rmse: 13.0297 - val_mse: 169.9853\n",
      "Epoch 38/50\n",
      "1/1 [==============================] - 3s 3s/step - loss: 135.5318 - rmse: 11.6418 - mse: 135.5318 - val_loss: 167.0371 - val_rmse: 12.9159 - val_mse: 167.0371\n",
      "Epoch 39/50\n",
      "1/1 [==============================] - 3s 3s/step - loss: 128.7043 - rmse: 11.3448 - mse: 128.7043 - val_loss: 164.1066 - val_rmse: 12.8019 - val_mse: 164.1066\n",
      "Epoch 40/50\n",
      "1/1 [==============================] - 3s 3s/step - loss: 134.3536 - rmse: 11.5911 - mse: 134.3536 - val_loss: 161.1986 - val_rmse: 12.6877 - val_mse: 161.1986\n",
      "Epoch 41/50\n",
      "1/1 [==============================] - 3s 3s/step - loss: 115.1296 - rmse: 10.7298 - mse: 115.1296 - val_loss: 158.3281 - val_rmse: 12.5739 - val_mse: 158.3281\n",
      "Epoch 42/50\n",
      "1/1 [==============================] - 3s 3s/step - loss: 135.6226 - rmse: 11.6457 - mse: 135.6226 - val_loss: 155.4871 - val_rmse: 12.4603 - val_mse: 155.4871\n",
      "Epoch 43/50\n",
      "1/1 [==============================] - 3s 3s/step - loss: 153.1848 - rmse: 12.3768 - mse: 153.1848 - val_loss: 152.6680 - val_rmse: 12.3466 - val_mse: 152.6680\n",
      "Epoch 44/50\n",
      "1/1 [==============================] - 3s 3s/step - loss: 123.1347 - rmse: 11.0966 - mse: 123.1347 - val_loss: 149.8984 - val_rmse: 12.2338 - val_mse: 149.8984\n",
      "Epoch 45/50\n",
      "1/1 [==============================] - 4s 4s/step - loss: 126.0077 - rmse: 11.2253 - mse: 126.0077 - val_loss: 147.1801 - val_rmse: 12.1220 - val_mse: 147.1801\n",
      "Epoch 46/50\n",
      "1/1 [==============================] - 3s 3s/step - loss: 118.2130 - rmse: 10.8726 - mse: 118.2130 - val_loss: 144.5244 - val_rmse: 12.0119 - val_mse: 144.5244\n",
      "Epoch 47/50\n",
      "1/1 [==============================] - 3s 3s/step - loss: 115.6285 - rmse: 10.7531 - mse: 115.6285 - val_loss: 141.9350 - val_rmse: 11.9035 - val_mse: 141.9350\n",
      "Epoch 48/50\n",
      "1/1 [==============================] - 3s 3s/step - loss: 118.4990 - rmse: 10.8857 - mse: 118.4990 - val_loss: 139.4197 - val_rmse: 11.7972 - val_mse: 139.4197\n"
     ]
    },
    {
     "name": "stdout",
     "output_type": "stream",
     "text": [
      "Epoch 49/50\n",
      "1/1 [==============================] - 4s 4s/step - loss: 92.3562 - rmse: 9.6102 - mse: 92.3562 - val_loss: 136.9994 - val_rmse: 11.6940 - val_mse: 136.9994\n",
      "Epoch 50/50\n",
      "1/1 [==============================] - 4s 4s/step - loss: 75.6977 - rmse: 8.7004 - mse: 75.6977 - val_loss: 134.6914 - val_rmse: 11.5948 - val_mse: 134.6913\n",
      "CPU times: user 8min 14s, sys: 7min 38s, total: 15min 52s\n",
      "Wall time: 3min 3s\n"
     ]
    }
   ],
   "source": [
    "%%time\n",
    "steps_per_epoch = NUM_TRAIN_EXAMPLES // (BATCH_SIZE * NUM_EVALS)\n",
    "\n",
    "OUTDIR = \"./taxi_trained\"\n",
    "shutil.rmtree(path=OUTDIR, ignore_errors=True) # start fresh each time\n",
    "\n",
    "history = model.fit(x=trainds,\n",
    "                    steps_per_epoch=steps_per_epoch,\n",
    "                    epochs=NUM_EVALS,\n",
    "                    validation_data=evalds,\n",
    "                    callbacks=[TensorBoard(OUTDIR)])"
   ]
  },
  {
   "cell_type": "markdown",
   "metadata": {},
   "source": [
    "Just as before, we can examine the history to see how the RMSE changes through training on the train set and validation set. "
   ]
  },
  {
   "cell_type": "code",
   "execution_count": 13,
   "metadata": {},
   "outputs": [
    {
     "data": {
      "text/plain": [
       "<matplotlib.axes._subplots.AxesSubplot at 0x145db8cc0>"
      ]
     },
     "execution_count": 13,
     "metadata": {},
     "output_type": "execute_result"
    },
    {
     "data": {
      "image/png": "[encoded data removed]",
      "text/plain": [
       "<Figure size 432x288 with 1 Axes>"
      ]
     },
     "metadata": {
      "needs_background": "light"
     },
     "output_type": "display_data"
    }
   ],
   "source": [
    "RMSE_COLS = ['rmse', 'val_rmse']\n",
    "\n",
    "pd.DataFrame(history.history)[RMSE_COLS].plot()"
   ]
  },
  {
   "cell_type": "markdown",
   "metadata": {},
   "source": [
    "We can also view the training results in Tensorboard. Running the following command will launch TensorBoard on port 6006. This will block the notebook execution, so you'll have to interrupt that cell first before you can run other cells."
   ]
  },
  {
   "cell_type": "code",
   "execution_count": null,
   "metadata": {},
   "outputs": [],
   "source": [
    "!tensorboard --logdir $OUTDIR --port 6006"
   ]
  },
  {
   "cell_type": "markdown",
   "metadata": {},
   "source": [
    "Copyright 2019 Google Inc. Licensed under the Apache License, Version 2.0 (the \"License\"); you may not use this file except in compliance with the License. You may obtain a copy of the License at http://www.apache.org/licenses/LICENSE-2.0 Unless required by applicable law or agreed to in writing, software distributed under the License is distributed on an \"AS IS\" BASIS, WITHOUT WARRANTIES OR CONDITIONS OF ANY KIND, either express or implied. See the License for the specific language governing permissions and limitations under the License"
   ]
  }
 ],
 "metadata": {
  "kernelspec": {
   "display_name": "Python 3",
   "language": "python",
   "name": "python3"
  },
  "language_info": {
   "codemirror_mode": {
    "name": "ipython",
    "version": 3
   },
   "file_extension": ".py",
   "mimetype": "text/x-python",
   "name": "python",
   "nbconvert_exporter": "python",
   "pygments_lexer": "ipython3",
   "version": "3.6.4"
  }
 },
 "nbformat": 4,
 "nbformat_minor": 2
}
