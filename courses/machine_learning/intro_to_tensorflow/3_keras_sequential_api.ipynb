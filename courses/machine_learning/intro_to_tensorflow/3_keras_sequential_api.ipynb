{
 "cells": [
  {
   "cell_type": "markdown",
   "metadata": {},
   "source": [
    "# Introducing the Keras Sequential API\n",
    "\n",
    "**Learning Objectives**\n",
    "  - Build a DNN model using the Keras Sequential API\n",
    "  - Learn how to use feature columns in a Keras model\n",
    "  - Learn how to save/load, and deploy a Keras model on GCP\n",
    "\n",
    "## Introduction\n",
    "\n",
    "The [Keras sequential API](https://keras.io/models/sequential/) allows you to create Tensorflow models layer-by-layer. This is useful for building most kinds of machine learning models but it does not allow you to create models that share layers, re-use layers or have multiple inputs or outputs. \n",
    "\n",
    "In this lab, we'll see how to build a simple deep neural network model using the keras sequential api and feature columns. Once we have trained our model, we will deploy it using AI Platform and see how to call our model for online prediciton.\n"
   ]
  },
  {
   "cell_type": "code",
   "execution_count": 1,
   "metadata": {},
   "outputs": [
    {
     "name": "stdout",
     "output_type": "stream",
     "text": [
      "Collecting tf-nightly-2.0-preview\n",
      "\u001b[?25l  Downloading https://files.pythonhosted.org/packages/68/43/2c94e50dea9c8f03c8b13ea71dbfa836a8644854f2766f86b471f5f96ca4/tf_nightly_2.0_preview-2.0.0.dev20190919-cp36-cp36m-macosx_10_9_x86_64.whl (106.9MB)\n",
      "\u001b[K    100% |████████████████████████████████| 106.9MB 461kB/s eta 0:00:01\n",
      "\u001b[?25hRequirement already satisfied, skipping upgrade: keras-preprocessing>=1.0.5 in /Users/munn/Projects/wBenoit/asl-dev/lib/python3.6/site-packages (from tf-nightly-2.0-preview) (1.1.0)\n",
      "Requirement already satisfied, skipping upgrade: termcolor>=1.1.0 in /Users/munn/Projects/wBenoit/asl-dev/lib/python3.6/site-packages (from tf-nightly-2.0-preview) (1.1.0)\n",
      "Requirement already satisfied, skipping upgrade: tensorflow-estimator-2.0-preview in /Users/munn/Projects/wBenoit/asl-dev/lib/python3.6/site-packages (from tf-nightly-2.0-preview) (1.14.0.dev2019090901)\n",
      "Requirement already satisfied, skipping upgrade: grpcio>=1.8.6 in /Users/munn/Projects/wBenoit/asl-dev/lib/python3.6/site-packages (from tf-nightly-2.0-preview) (1.23.0)\n",
      "Requirement already satisfied, skipping upgrade: wheel>=0.26 in /Users/munn/Projects/wBenoit/asl-dev/lib/python3.6/site-packages (from tf-nightly-2.0-preview) (0.33.6)\n",
      "Requirement already satisfied, skipping upgrade: absl-py>=0.7.0 in /Users/munn/Projects/wBenoit/asl-dev/lib/python3.6/site-packages (from tf-nightly-2.0-preview) (0.8.0)\n",
      "Requirement already satisfied, skipping upgrade: gast==0.2.2 in /Users/munn/Projects/wBenoit/asl-dev/lib/python3.6/site-packages (from tf-nightly-2.0-preview) (0.2.2)\n",
      "Requirement already satisfied, skipping upgrade: tb-nightly<2.1.0a0,>=2.0.0a0 in /Users/munn/Projects/wBenoit/asl-dev/lib/python3.6/site-packages (from tf-nightly-2.0-preview) (2.0.0a20190917)\n",
      "Requirement already satisfied, skipping upgrade: astor>=0.6.0 in /Users/munn/Projects/wBenoit/asl-dev/lib/python3.6/site-packages (from tf-nightly-2.0-preview) (0.8.0)\n",
      "Requirement already satisfied, skipping upgrade: keras-applications>=1.0.8 in /Users/munn/Projects/wBenoit/asl-dev/lib/python3.6/site-packages (from tf-nightly-2.0-preview) (1.0.8)\n",
      "Requirement already satisfied, skipping upgrade: numpy<2.0,>=1.16.0 in /Users/munn/Projects/wBenoit/asl-dev/lib/python3.6/site-packages (from tf-nightly-2.0-preview) (1.17.2)\n",
      "Requirement already satisfied, skipping upgrade: google-pasta>=0.1.6 in /Users/munn/Projects/wBenoit/asl-dev/lib/python3.6/site-packages (from tf-nightly-2.0-preview) (0.1.7)\n",
      "Requirement already satisfied, skipping upgrade: opt-einsum>=2.3.2 in /Users/munn/Projects/wBenoit/asl-dev/lib/python3.6/site-packages (from tf-nightly-2.0-preview) (3.0.1)\n",
      "Requirement already satisfied, skipping upgrade: protobuf>=3.6.1 in /Users/munn/Projects/wBenoit/asl-dev/lib/python3.6/site-packages (from tf-nightly-2.0-preview) (3.9.1)\n",
      "Requirement already satisfied, skipping upgrade: six>=1.10.0 in /Users/munn/Projects/wBenoit/asl-dev/lib/python3.6/site-packages (from tf-nightly-2.0-preview) (1.12.0)\n",
      "Requirement already satisfied, skipping upgrade: wrapt>=1.11.1 in /Users/munn/Projects/wBenoit/asl-dev/lib/python3.6/site-packages (from tf-nightly-2.0-preview) (1.11.2)\n",
      "Requirement already satisfied, skipping upgrade: setuptools>=41.0.0 in /Users/munn/Projects/wBenoit/asl-dev/lib/python3.6/site-packages (from tb-nightly<2.1.0a0,>=2.0.0a0->tf-nightly-2.0-preview) (41.2.0)\n",
      "Requirement already satisfied, skipping upgrade: markdown>=2.6.8 in /Users/munn/Projects/wBenoit/asl-dev/lib/python3.6/site-packages (from tb-nightly<2.1.0a0,>=2.0.0a0->tf-nightly-2.0-preview) (3.1.1)\n",
      "Requirement already satisfied, skipping upgrade: werkzeug>=0.11.15 in /Users/munn/Projects/wBenoit/asl-dev/lib/python3.6/site-packages (from tb-nightly<2.1.0a0,>=2.0.0a0->tf-nightly-2.0-preview) (0.15.6)\n",
      "Requirement already satisfied, skipping upgrade: h5py in /Users/munn/Projects/wBenoit/asl-dev/lib/python3.6/site-packages (from keras-applications>=1.0.8->tf-nightly-2.0-preview) (2.10.0)\n",
      "Installing collected packages: tf-nightly-2.0-preview\n",
      "  Found existing installation: tf-nightly-2.0-preview 2.0.0.dev20190918\n",
      "    Uninstalling tf-nightly-2.0-preview-2.0.0.dev20190918:\n",
      "      Successfully uninstalled tf-nightly-2.0-preview-2.0.0.dev20190918\n",
      "Successfully installed tf-nightly-2.0-preview-2.0.0.dev20190919\n",
      "\u001b[33mYou are using pip version 18.1, however version 19.2.3 is available.\n",
      "You should consider upgrading via the 'pip install --upgrade pip' command.\u001b[0m\n"
     ]
    }
   ],
   "source": [
    "!pip3 install --upgrade tf-nightly-2.0-preview"
   ]
  },
  {
   "cell_type": "code",
   "execution_count": 2,
   "metadata": {},
   "outputs": [
    {
     "name": "stdout",
     "output_type": "stream",
     "text": [
      "tf-nightly-2.0-preview==2.0.0.dev20190919\r\n"
     ]
    }
   ],
   "source": [
    "#  Ensure that we have the latest version of Tensorflow installed.\n",
    "!pip3 freeze | grep tf-nightly-2.0-preview || pip3 install tf-nightly-2.0-preview"
   ]
  },
  {
   "cell_type": "markdown",
   "metadata": {},
   "source": [
    "Start by importing the necessary libraries for this lab."
   ]
  },
  {
   "cell_type": "code",
   "execution_count": 36,
   "metadata": {},
   "outputs": [
    {
     "name": "stdout",
     "output_type": "stream",
     "text": [
      "2.0.0-dev20190919\n"
     ]
    }
   ],
   "source": [
    "import datetime\n",
    "import os\n",
    "import shutil\n",
    "\n",
    "import numpy as np\n",
    "import pandas as pd\n",
    "import tensorflow as tf\n",
    "\n",
    "from matplotlib import pyplot as plt\n",
    "from tensorflow import keras\n",
    "\n",
    "from tensorflow.keras.models import Sequential\n",
    "from tensorflow.keras.layers import Dense, DenseFeatures\n",
    "from tensorflow.keras.callbacks import TensorBoard\n",
    "\n",
    "print(tf.__version__)\n",
    "%matplotlib inline"
   ]
  },
  {
   "cell_type": "markdown",
   "metadata": {},
   "source": [
    "## Load raw data \n",
    "\n",
    "We will use the taxifare dataset, using the CSV files that we created in the first notebook of this sequence. Those files have been saved into `../data`."
   ]
  },
  {
   "cell_type": "code",
   "execution_count": 4,
   "metadata": {},
   "outputs": [
    {
     "name": "stdout",
     "output_type": "stream",
     "text": [
      "-rw-r--r--  1 munn  primarygroup  123590 Sep 17 10:37 ../data/taxi-test.csv\r\n",
      "-rw-r--r--  1 munn  primarygroup  579055 Sep 17 10:37 ../data/taxi-train.csv\r\n",
      "-rw-r--r--  1 munn  primarygroup  123114 Sep 17 10:37 ../data/taxi-valid.csv\r\n"
     ]
    }
   ],
   "source": [
    "!ls -l ../data/*.csv"
   ]
  },
  {
   "cell_type": "code",
   "execution_count": 5,
   "metadata": {},
   "outputs": [
    {
     "name": "stdout",
     "output_type": "stream",
     "text": [
      "==> ../data/taxi-test.csv <==\r\n",
      "6.0,2013-03-27 03:35:00 UTC,-73.977672,40.784052,-73.965332,40.801025,2,0\r\n",
      "19.3,2012-05-10 18:43:16 UTC,-73.954366,40.778924,-74.004094,40.723104,1,1\r\n",
      "7.5,2014-05-20 23:09:00 UTC,-73.999165,40.738377,-74.003473,40.723862,2,2\r\n",
      "12.5,2015-02-23 19:51:31 UTC,-73.9652099609375,40.76948165893555,-73.98949432373047,40.739742279052734,1,3\r\n",
      "10.9,2011-03-19 03:32:00 UTC,-73.99259,40.742957,-73.989908,40.711053,1,4\r\n",
      "7.0,2012-09-18 12:51:11 UTC,-73.971195,40.751566,-73.975922,40.756361,1,5\r\n",
      "19.0,2014-05-20 23:09:00 UTC,-73.998392,40.74517,-73.939845,40.74908,1,6\r\n",
      "8.9,2012-07-18 08:46:08 UTC,-73.997638,40.756541,-73.973303,40.762019,1,7\r\n",
      "4.5,2010-07-11 20:39:08 UTC,-73.976738,40.751321,-73.986671,40.74883,1,8\r\n",
      "7.0,2013-12-12 02:16:40 UTC,-73.985024,40.767537,-73.981273,40.779302,1,9\r\n",
      "\r\n",
      "==> ../data/taxi-train.csv <==\r\n",
      "11.3,2011-01-28 20:42:59 UTC,-73.999022,40.739146,-73.990369,40.717866,1,0\r\n",
      "7.7,2011-06-27 04:28:06 UTC,-73.987443,40.729221,-73.979013,40.758641,1,1\r\n",
      "10.5,2011-04-03 00:54:53 UTC,-73.982539,40.735725,-73.954797,40.778388,1,2\r\n",
      "16.2,2009-04-10 04:11:56 UTC,-74.001945,40.740505,-73.91385,40.758559,1,3\r\n",
      "33.5,2014-02-24 18:22:00 UTC,-73.993372,40.753382,-73.8609,40.732897,2,4\r\n",
      "6.9,2011-12-10 00:25:23 UTC,-73.996237,40.721848,-73.989416,40.718052,1,5\r\n",
      "6.1,2012-09-01 14:30:19 UTC,-73.977048,40.758461,-73.984899,40.744693,2,6\r\n",
      "9.5,2012-11-08 13:28:07 UTC,-73.969402,40.757545,-73.950049,40.776079,1,7\r\n",
      "9.0,2014-07-15 11:37:25 UTC,-73.979318,40.760949,-73.95767,40.773724,1,8\r\n",
      "3.3,2009-11-09 18:06:58 UTC,-73.955675,40.779154,-73.961172,40.772368,1,9\r\n",
      "\r\n",
      "==> ../data/taxi-valid.csv <==\r\n",
      "5.3,2012-01-03 19:21:35 UTC,-73.962627,40.763214,-73.973485,40.753353,1,0\r\n",
      "25.3,2010-09-27 07:30:15 UTC,-73.965799,40.794243,-73.927134,40.852261,3,1\r\n",
      "27.5,2015-05-19 00:40:02 UTC,-73.86344146728516,40.76899719238281,-73.96058654785156,40.76129913330078,1,2\r\n",
      "5.7,2010-04-29 12:28:00 UTC,-73.989255,40.738912,-73.97558,40.749172,1,3\r\n",
      "11.5,2013-06-23 06:08:09 UTC,-73.99731,40.763735,-73.955657,40.768141,1,4\r\n",
      "18.0,2014-10-14 18:52:03 UTC,-73.997995,40.761638,-74.008985,40.712442,1,5\r\n",
      "4.9,2010-04-29 12:28:00 UTC,-73.977315,40.766182,-73.970845,40.761462,5,6\r\n",
      "32.33,2014-02-24 18:22:00 UTC,-73.985358,40.761352,-73.92427,40.699145,1,7\r\n",
      "17.0,2015-03-26 02:48:58 UTC,-73.93981170654297,40.846473693847656,-73.97361755371094,40.786983489990234,1,8\r\n",
      "12.5,2013-04-09 09:39:13 UTC,-73.977323,40.753934,-74.00719,40.741472,1,9\r\n"
     ]
    }
   ],
   "source": [
    "!head ../data/taxi*.csv"
   ]
  },
  {
   "cell_type": "markdown",
   "metadata": {},
   "source": [
    "## Use tf.data to read the CSV files\n",
    "\n",
    "We wrote these functions for reading data from the csv files above in the [previous notebook](2_dataset_api.ipynb)."
   ]
  },
  {
   "cell_type": "code",
   "execution_count": 6,
   "metadata": {},
   "outputs": [],
   "source": [
    "CSV_COLUMNS = [\n",
    "    'fare_amount',\n",
    "    'pickup_datetime',\n",
    "    'pickup_longitude',\n",
    "    'pickup_latitude',\n",
    "    'dropoff_longitude',\n",
    "    'dropoff_latitude',\n",
    "    'passenger_count',\n",
    "    'key'\n",
    "]\n",
    "LABEL_COLUMN = 'fare_amount'\n",
    "DEFAULTS = [[0.0], ['na'], [0.0], [0.0], [0.0], [0.0], [0.0], ['na']]\n",
    "UNWANTED_COLS = ['pickup_datetime', 'key']\n",
    "\n",
    "\n",
    "def features_and_labels(row_data):\n",
    "    label = row_data.pop(LABEL_COLUMN)\n",
    "    features = row_data\n",
    "    \n",
    "    for unwanted_col in UNWANTED_COLS:\n",
    "        features.pop(unwanted_col)\n",
    "\n",
    "    return features, label\n",
    "\n",
    "\n",
    "def create_dataset(pattern, batch_size=1, mode=tf.estimator.ModeKeys.EVAL):\n",
    "    dataset = tf.data.experimental.make_csv_dataset(\n",
    "        pattern, batch_size, CSV_COLUMNS, DEFAULTS)\n",
    "\n",
    "    dataset = dataset.map(features_and_labels)\n",
    "\n",
    "    if mode == tf.estimator.ModeKeys.TRAIN:\n",
    "        dataset = dataset.shuffle(buffer_size=1000).repeat()\n",
    "\n",
    "    # take advantage of multi-threading; 1=AUTOTUNE\n",
    "    dataset = dataset.prefetch(1)\n",
    "    return dataset"
   ]
  },
  {
   "cell_type": "markdown",
   "metadata": {},
   "source": [
    "## Build a simple keras DNN model\n",
    "\n",
    "We will use feature columns to connect our raw data to our keras DNN model. Feature columns make it easy to perform common types of feature engineering on your raw data. For example, you can one-hot encode categorical data, create feature crosses, embeddings and more. We'll cover these in more detail later in the course, but if you want to a sneak peak browse the official TensorFlow [feature columns guide](https://www.tensorflow.org/guide/feature_columns).\n",
    "\n",
    "In our case we won't do any feature engineering. However, we still need to create a list of feature columns to specify the numeric values which will be passed on to our model. To do this, we use `tf.feature_column.numeric_column()`\n",
    "\n",
    "We use a python dictionary comprehension to create the feature columns for our model, which is just an elegant alternative to a for loop."
   ]
  },
  {
   "cell_type": "code",
   "execution_count": 7,
   "metadata": {},
   "outputs": [],
   "source": [
    "INPUT_COLS = [\n",
    "    'pickup_longitude',\n",
    "    'pickup_latitude',\n",
    "    'dropoff_longitude',\n",
    "    'dropoff_latitude',\n",
    "    'passenger_count',\n",
    "]\n",
    "\n",
    "# Create input layer of feature columns\n",
    "feature_columns = {\n",
    "    colname: tf.feature_column.numeric_column(colname)\n",
    "    for colname in INPUT_COLS\n",
    "    }"
   ]
  },
  {
   "cell_type": "markdown",
   "metadata": {},
   "source": [
    "Next, we create the DNN model. The Sequential model is a linear stack of layers and when building a model using the Sequential API, you configure each layer of the model in turn. Once all the layers have been added, you compile the model. "
   ]
  },
  {
   "cell_type": "code",
   "execution_count": 14,
   "metadata": {},
   "outputs": [],
   "source": [
    "# Build a keras DNN model using Sequential API\n",
    "model = Sequential([\n",
    "    DenseFeatures(feature_columns=feature_columns.values()),\n",
    "    Dense(units=32, activation=\"relu\", name=\"h1\"),\n",
    "    Dense(units=8, activation=\"relu\", name=\"h2\"),\n",
    "    Dense(units=1, activation=\"linear\", name=\"output\")\n",
    "    ])"
   ]
  },
  {
   "cell_type": "markdown",
   "metadata": {},
   "source": [
    "Next, to prepare the model for training, you must configure the learning process. This is done using the compile method. The compile method takes three arguments:\n",
    "\n",
    "* An optimizer. This could be the string identifier of an existing optimizer (such as `rmsprop` or `adagrad`), or an instance of the [Optimizer class](https://www.tensorflow.org/versions/r2.0/api_docs/python/tf/keras/optimizers).\n",
    "* A loss function. This is the objective that the model will try to minimize. It can be the string identifier of an existing loss function from the [Losses class](https://www.tensorflow.org/versions/r2.0/api_docs/python/tf/keras/losses) (such as categorical_crossentropy or mse), or it can be a custom objective function.\n",
    "* A list of metrics. For any machine learning problem you will want a set of metrics to evaluate your model. A metric could be the string identifier of an existing metric or a custom metric function.\n",
    "\n",
    "We will add an additional custom metric called `rmse` to our list of metrics which will return the root mean square error. "
   ]
  },
  {
   "cell_type": "code",
   "execution_count": 15,
   "metadata": {},
   "outputs": [],
   "source": [
    "# Create a custom evalution metric\n",
    "def rmse(y_true, y_pred):\n",
    "    return tf.sqrt(tf.reduce_mean(tf.square(y_pred - y_true)))\n",
    "\n",
    "\n",
    "# Compile the keras model\n",
    "model.compile(optimizer=\"adam\", loss=\"mse\", metrics=[rmse, \"mse\"])"
   ]
  },
  {
   "cell_type": "markdown",
   "metadata": {},
   "source": [
    "## Train the model\n",
    "\n",
    "To train your model, Keras provides three functions that can be used:\n",
    " 1. `.fit()` for training a model for a fixed number of epochs (iterations on a dataset).\n",
    " 2. `.fit_generator()` for training a model on data yielded batch-by-batch by a generator\n",
    " 3. `.train_on_batch()` runs a single gradient update on a single batch of data. \n",
    " \n",
    "The `.fit()` function works well for small datasets which can fit entirely in memory. However, for large datasets (or if you need to manipulate the training data on the fly via data augmentation, etc) you will need to use `.fit_generator()` instead. The `.train_on_batch()` method is for more fine-grained control over training and accepts only a single batch of data.\n",
    "\n",
    "The taxifare dataset we sampled is small enough to fit in memory, so can we could use `.fit` to train our model. Our `create_dataset` function above generates batches of training examples, so we could also use `.fit_generator`. In fact, when calling `.fit` the method inspects the data, and if it's a generator (as our dataset is) it will invoke automatically `.fit_generator` for training. \n",
    "\n",
    "We start by setting up some parameters for our training job and create the data generators for the training and validation data."
   ]
  },
  {
   "cell_type": "code",
   "execution_count": 16,
   "metadata": {},
   "outputs": [
    {
     "name": "stdout",
     "output_type": "stream",
     "text": [
      "WARNING:tensorflow:From /Users/munn/Projects/wBenoit/asl-dev/lib/python3.6/site-packages/tensorflow_core/python/data/experimental/ops/readers.py:540: parallel_interleave (from tensorflow.python.data.experimental.ops.interleave_ops) is deprecated and will be removed in a future version.\n",
      "Instructions for updating:\n",
      "Use `tf.data.Dataset.interleave(map_func, cycle_length, block_length, num_parallel_calls=tf.data.experimental.AUTOTUNE)` instead. If sloppy execution is desired, use `tf.data.Options.experimental_deterministic`.\n",
      "WARNING:tensorflow:From /Users/munn/Projects/wBenoit/asl-dev/lib/python3.6/site-packages/tensorflow_core/python/data/experimental/ops/readers.py:214: shuffle_and_repeat (from tensorflow.python.data.experimental.ops.shuffle_ops) is deprecated and will be removed in a future version.\n",
      "Instructions for updating:\n",
      "Use `tf.data.Dataset.shuffle(buffer_size, seed)` followed by `tf.data.Dataset.repeat(count)`. Static tf.data optimizations will take care of using the fused implementation.\n"
     ]
    }
   ],
   "source": [
    "TRAIN_BATCH_SIZE = 1000\n",
    "NUM_TRAIN_EXAMPLES = 10000 * 5  # training dataset will repeat, wrap around\n",
    "NUM_EVALS = 50  # how many times to evaluate\n",
    "NUM_EVAL_EXAMPLES = 10000  # enough to get a reasonable sample\n",
    "\n",
    "trainds = create_dataset(\n",
    "    pattern='../data/taxi-train*',\n",
    "    batch_size=TRAIN_BATCH_SIZE,\n",
    "    mode=tf.estimator.ModeKeys.TRAIN)\n",
    "\n",
    "evalds = create_dataset(\n",
    "    pattern='../data/taxi-valid*',\n",
    "    batch_size=1000,\n",
    "    mode=tf.estimator.ModeKeys.EVAL).take(NUM_EVAL_EXAMPLES//1000)"
   ]
  },
  {
   "cell_type": "markdown",
   "metadata": {},
   "source": [
    "There are various arguments you can set when calling the [.fit method](https://www.tensorflow.org/versions/r2.0/api_docs/python/tf/keras/Model#fit). Here `x` specifies the input data which in our case is a `tf.data` dataset returning a tuple of (inputs, targets). The `steps_per_epoch` parameter is used to mark the end of training for a single epoch. Here we are training for NUM_EVALS epochs. Lastly, for the `callback` argument we specify a Tensorboard callback so we can inspect Tensorboard after training. "
   ]
  },
  {
   "cell_type": "code",
   "execution_count": 25,
   "metadata": {},
   "outputs": [
    {
     "name": "stdout",
     "output_type": "stream",
     "text": [
      "Train for 1 steps, validate for 10 steps\n",
      "Epoch 1/50\n",
      "1/1 [==============================] - 9s 9s/step - loss: 95.3461 - rmse: 9.7645 - mse: 95.3461 - val_loss: 113.2641 - val_rmse: 10.6328 - val_mse: 113.2641\n",
      "Epoch 2/50\n",
      "1/1 [==============================] - 0s 169ms/step - loss: 72.5592 - rmse: 8.5182 - mse: 72.5592 - val_loss: 113.5069 - val_rmse: 10.6441 - val_mse: 113.5069\n",
      "Epoch 3/50\n",
      "1/1 [==============================] - 0s 174ms/step - loss: 94.6730 - rmse: 9.7300 - mse: 94.6730 - val_loss: 113.7659 - val_rmse: 10.6562 - val_mse: 113.7659\n",
      "Epoch 4/50\n",
      "1/1 [==============================] - 0s 171ms/step - loss: 98.4084 - rmse: 9.9201 - mse: 98.4084 - val_loss: 113.9879 - val_rmse: 10.6665 - val_mse: 113.9880\n",
      "Epoch 5/50\n",
      "1/1 [==============================] - 0s 178ms/step - loss: 104.2001 - rmse: 10.2078 - mse: 104.2001 - val_loss: 114.1584 - val_rmse: 10.6744 - val_mse: 114.1584\n",
      "Epoch 6/50\n",
      "1/1 [==============================] - 0s 175ms/step - loss: 91.5984 - rmse: 9.5707 - mse: 91.5984 - val_loss: 114.2972 - val_rmse: 10.6809 - val_mse: 114.2972\n",
      "Epoch 7/50\n",
      "1/1 [==============================] - 0s 182ms/step - loss: 100.9583 - rmse: 10.0478 - mse: 100.9583 - val_loss: 114.3566 - val_rmse: 10.6837 - val_mse: 114.3566\n",
      "Epoch 8/50\n",
      "1/1 [==============================] - 0s 175ms/step - loss: 109.5762 - rmse: 10.4679 - mse: 109.5762 - val_loss: 114.3056 - val_rmse: 10.6813 - val_mse: 114.3056\n",
      "Epoch 9/50\n",
      "1/1 [==============================] - 0s 178ms/step - loss: 97.8995 - rmse: 9.8944 - mse: 97.8995 - val_loss: 114.2091 - val_rmse: 10.6768 - val_mse: 114.2091\n",
      "Epoch 10/50\n",
      "1/1 [==============================] - 0s 183ms/step - loss: 128.5453 - rmse: 11.3378 - mse: 128.5453 - val_loss: 114.0587 - val_rmse: 10.6698 - val_mse: 114.0587\n",
      "Epoch 11/50\n",
      "1/1 [==============================] - 0s 183ms/step - loss: 95.8464 - rmse: 9.7901 - mse: 95.8464 - val_loss: 113.8876 - val_rmse: 10.6618 - val_mse: 113.8876\n",
      "Epoch 12/50\n",
      "1/1 [==============================] - 0s 176ms/step - loss: 98.9552 - rmse: 9.9476 - mse: 98.9552 - val_loss: 113.7115 - val_rmse: 10.6536 - val_mse: 113.7115\n",
      "Epoch 13/50\n",
      "1/1 [==============================] - 0s 181ms/step - loss: 124.6675 - rmse: 11.1655 - mse: 124.6675 - val_loss: 113.5161 - val_rmse: 10.6445 - val_mse: 113.5162\n",
      "Epoch 14/50\n",
      "1/1 [==============================] - 0s 186ms/step - loss: 82.1058 - rmse: 9.0612 - mse: 82.1058 - val_loss: 113.3422 - val_rmse: 10.6364 - val_mse: 113.3422\n",
      "Epoch 15/50\n",
      "1/1 [==============================] - 0s 179ms/step - loss: 81.2173 - rmse: 9.0121 - mse: 81.2173 - val_loss: 113.1979 - val_rmse: 10.6297 - val_mse: 113.1979\n",
      "Epoch 16/50\n",
      "1/1 [==============================] - 0s 180ms/step - loss: 98.1463 - rmse: 9.9069 - mse: 98.1463 - val_loss: 113.0784 - val_rmse: 10.6241 - val_mse: 113.0784\n",
      "Epoch 17/50\n",
      "1/1 [==============================] - 0s 176ms/step - loss: 122.3731 - rmse: 11.0622 - mse: 122.3731 - val_loss: 112.9794 - val_rmse: 10.6196 - val_mse: 112.9794\n",
      "Epoch 18/50\n",
      "1/1 [==============================] - 0s 189ms/step - loss: 97.1397 - rmse: 9.8559 - mse: 97.1397 - val_loss: 112.9069 - val_rmse: 10.6162 - val_mse: 112.9069\n",
      "Epoch 19/50\n",
      "1/1 [==============================] - 0s 178ms/step - loss: 88.3030 - rmse: 9.3970 - mse: 88.3030 - val_loss: 112.8524 - val_rmse: 10.6137 - val_mse: 112.8524\n",
      "Epoch 20/50\n",
      "1/1 [==============================] - 0s 181ms/step - loss: 138.8539 - rmse: 11.7836 - mse: 138.8539 - val_loss: 112.8128 - val_rmse: 10.6119 - val_mse: 112.8128\n",
      "Epoch 21/50\n",
      "1/1 [==============================] - 0s 188ms/step - loss: 99.7582 - rmse: 9.9879 - mse: 99.7582 - val_loss: 112.7891 - val_rmse: 10.6108 - val_mse: 112.7891\n",
      "Epoch 22/50\n",
      "1/1 [==============================] - 0s 179ms/step - loss: 74.0456 - rmse: 8.6050 - mse: 74.0456 - val_loss: 112.7811 - val_rmse: 10.6105 - val_mse: 112.7811\n",
      "Epoch 23/50\n",
      "1/1 [==============================] - 0s 182ms/step - loss: 75.3899 - rmse: 8.6827 - mse: 75.3899 - val_loss: 112.7787 - val_rmse: 10.6104 - val_mse: 112.7787\n",
      "Epoch 24/50\n",
      "1/1 [==============================] - 0s 180ms/step - loss: 99.5296 - rmse: 9.9765 - mse: 99.5296 - val_loss: 112.7775 - val_rmse: 10.6104 - val_mse: 112.7775\n",
      "Epoch 25/50\n",
      "1/1 [==============================] - 0s 175ms/step - loss: 87.9136 - rmse: 9.3762 - mse: 87.9136 - val_loss: 112.7792 - val_rmse: 10.6104 - val_mse: 112.7792\n",
      "Epoch 26/50\n",
      "1/1 [==============================] - 0s 186ms/step - loss: 91.5669 - rmse: 9.5691 - mse: 91.5669 - val_loss: 112.7846 - val_rmse: 10.6106 - val_mse: 112.7846\n",
      "Epoch 27/50\n",
      "1/1 [==============================] - 0s 181ms/step - loss: 92.9647 - rmse: 9.6418 - mse: 92.9647 - val_loss: 112.7981 - val_rmse: 10.6112 - val_mse: 112.7981\n",
      "Epoch 28/50\n",
      "1/1 [==============================] - 0s 175ms/step - loss: 86.2682 - rmse: 9.2881 - mse: 86.2682 - val_loss: 112.8223 - val_rmse: 10.6123 - val_mse: 112.8223\n",
      "Epoch 29/50\n",
      "1/1 [==============================] - 0s 193ms/step - loss: 86.0315 - rmse: 9.2753 - mse: 86.0315 - val_loss: 112.8574 - val_rmse: 10.6139 - val_mse: 112.8574\n",
      "Epoch 30/50\n",
      "1/1 [==============================] - 0s 182ms/step - loss: 84.3442 - rmse: 9.1839 - mse: 84.3442 - val_loss: 112.9099 - val_rmse: 10.6163 - val_mse: 112.9099\n",
      "Epoch 31/50\n",
      "1/1 [==============================] - 0s 179ms/step - loss: 101.2502 - rmse: 10.0623 - mse: 101.2502 - val_loss: 112.9603 - val_rmse: 10.6187 - val_mse: 112.9604\n",
      "Epoch 32/50\n",
      "1/1 [==============================] - 0s 188ms/step - loss: 112.7389 - rmse: 10.6179 - mse: 112.7389 - val_loss: 112.9995 - val_rmse: 10.6205 - val_mse: 112.9995\n",
      "Epoch 33/50\n",
      "1/1 [==============================] - 0s 178ms/step - loss: 92.9143 - rmse: 9.6392 - mse: 92.9143 - val_loss: 113.0419 - val_rmse: 10.6224 - val_mse: 113.0419\n",
      "Epoch 34/50\n",
      "1/1 [==============================] - 0s 183ms/step - loss: 82.3587 - rmse: 9.0752 - mse: 82.3587 - val_loss: 113.0743 - val_rmse: 10.6240 - val_mse: 113.0743\n",
      "Epoch 35/50\n",
      "1/1 [==============================] - 0s 194ms/step - loss: 91.9124 - rmse: 9.5871 - mse: 91.9124 - val_loss: 113.0957 - val_rmse: 10.6249 - val_mse: 113.0957\n",
      "Epoch 36/50\n",
      "1/1 [==============================] - 0s 182ms/step - loss: 112.0706 - rmse: 10.5863 - mse: 112.0706 - val_loss: 113.0913 - val_rmse: 10.6247 - val_mse: 113.0913\n",
      "Epoch 37/50\n",
      "1/1 [==============================] - 0s 173ms/step - loss: 90.7887 - rmse: 9.5283 - mse: 90.7887 - val_loss: 113.0944 - val_rmse: 10.6249 - val_mse: 113.0944\n",
      "Epoch 38/50\n",
      "1/1 [==============================] - 0s 173ms/step - loss: 99.3337 - rmse: 9.9666 - mse: 99.3337 - val_loss: 113.0822 - val_rmse: 10.6243 - val_mse: 113.0822\n",
      "Epoch 39/50\n",
      "1/1 [==============================] - 0s 181ms/step - loss: 85.5325 - rmse: 9.2484 - mse: 85.5325 - val_loss: 113.0732 - val_rmse: 10.6239 - val_mse: 113.0732\n",
      "Epoch 40/50\n",
      "1/1 [==============================] - 0s 191ms/step - loss: 107.5844 - rmse: 10.3723 - mse: 107.5844 - val_loss: 113.0600 - val_rmse: 10.6233 - val_mse: 113.0600\n",
      "Epoch 41/50\n",
      "1/1 [==============================] - 0s 196ms/step - loss: 91.2543 - rmse: 9.5527 - mse: 91.2543 - val_loss: 113.0612 - val_rmse: 10.6233 - val_mse: 113.0612\n",
      "Epoch 42/50\n",
      "1/1 [==============================] - 0s 191ms/step - loss: 118.6022 - rmse: 10.8905 - mse: 118.6022 - val_loss: 113.0490 - val_rmse: 10.6228 - val_mse: 113.0490\n",
      "Epoch 43/50\n",
      "1/1 [==============================] - 0s 189ms/step - loss: 87.9331 - rmse: 9.3773 - mse: 87.9331 - val_loss: 113.0449 - val_rmse: 10.6226 - val_mse: 113.0449\n",
      "Epoch 44/50\n",
      "1/1 [==============================] - 0s 181ms/step - loss: 75.7220 - rmse: 8.7018 - mse: 75.7220 - val_loss: 113.0531 - val_rmse: 10.6230 - val_mse: 113.0531\n",
      "Epoch 45/50\n",
      "1/1 [==============================] - 0s 186ms/step - loss: 85.5632 - rmse: 9.2500 - mse: 85.5632 - val_loss: 113.0544 - val_rmse: 10.6230 - val_mse: 113.0544\n",
      "Epoch 46/50\n",
      "1/1 [==============================] - 0s 191ms/step - loss: 132.9460 - rmse: 11.5302 - mse: 132.9460 - val_loss: 113.0352 - val_rmse: 10.6221 - val_mse: 113.0352\n",
      "Epoch 47/50\n",
      "1/1 [==============================] - 0s 190ms/step - loss: 107.2497 - rmse: 10.3561 - mse: 107.2497 - val_loss: 113.0285 - val_rmse: 10.6218 - val_mse: 113.0285\n",
      "Epoch 48/50\n",
      "1/1 [==============================] - 0s 192ms/step - loss: 79.2619 - rmse: 8.9029 - mse: 79.2619 - val_loss: 113.0322 - val_rmse: 10.6220 - val_mse: 113.0322\n"
     ]
    },
    {
     "name": "stdout",
     "output_type": "stream",
     "text": [
      "Epoch 49/50\n",
      "1/1 [==============================] - 0s 194ms/step - loss: 95.1774 - rmse: 9.7559 - mse: 95.1774 - val_loss: 113.0417 - val_rmse: 10.6224 - val_mse: 113.0417\n",
      "Epoch 50/50\n",
      "1/1 [==============================] - 0s 198ms/step - loss: 94.3616 - rmse: 9.7140 - mse: 94.3616 - val_loss: 113.0495 - val_rmse: 10.6228 - val_mse: 113.0495\n",
      "CPU times: user 21.7 s, sys: 6.21 s, total: 27.9 s\n",
      "Wall time: 18.3 s\n"
     ]
    }
   ],
   "source": [
    "%%time\n",
    "steps_per_epoch = NUM_TRAIN_EXAMPLES // (TRAIN_BATCH_SIZE * NUM_EVALS)\n",
    "\n",
    "LOGDIR = \"./taxi_trained\"\n",
    "history = model.fit(x=trainds,\n",
    "                    steps_per_epoch=steps_per_epoch,\n",
    "                    epochs=NUM_EVALS,\n",
    "                    validation_data=evalds,\n",
    "                    callbacks=[TensorBoard(LOGDIR)])"
   ]
  },
  {
   "cell_type": "markdown",
   "metadata": {},
   "source": [
    "### High-level model evaluation\n",
    "\n",
    "Once we've run data through the model, we can call `.summary()` on the model to get a high-level summary of our network. We can also plot the training and evaluation curves for the metrics we computed above. "
   ]
  },
  {
   "cell_type": "code",
   "execution_count": 26,
   "metadata": {},
   "outputs": [
    {
     "name": "stdout",
     "output_type": "stream",
     "text": [
      "Model: \"sequential\"\n",
      "_________________________________________________________________\n",
      "Layer (type)                 Output Shape              Param #   \n",
      "=================================================================\n",
      "dense_features (DenseFeature multiple                  0         \n",
      "_________________________________________________________________\n",
      "h1 (Dense)                   multiple                  192       \n",
      "_________________________________________________________________\n",
      "h2 (Dense)                   multiple                  264       \n",
      "_________________________________________________________________\n",
      "output (Dense)               multiple                  9         \n",
      "=================================================================\n",
      "Total params: 465\n",
      "Trainable params: 465\n",
      "Non-trainable params: 0\n",
      "_________________________________________________________________\n"
     ]
    }
   ],
   "source": [
    "model.summary()"
   ]
  },
  {
   "cell_type": "markdown",
   "metadata": {},
   "source": [
    "Running `.fit` (or `.fit_generator`) returns a History object which collects all the events recorded during training. Similar to Tensorboard, we can plot the training and validation curves for the model loss and rmse by accessing these elements of the History object."
   ]
  },
  {
   "cell_type": "code",
   "execution_count": 43,
   "metadata": {},
   "outputs": [
    {
     "data": {
      "text/plain": [
       "<matplotlib.axes._subplots.AxesSubplot at 0x13827c080>"
      ]
     },
     "execution_count": 43,
     "metadata": {},
     "output_type": "execute_result"
    },
    {
     "data": {
      "image/png": "[encoded data removed]",
      "text/plain": [
       "<Figure size 432x288 with 1 Axes>"
      ]
     },
     "metadata": {
      "needs_background": "light"
     },
     "output_type": "display_data"
    }
   ],
   "source": [
    "RMSE_COLS = ['rmse', 'val_rmse']\n",
    "\n",
    "pd.DataFrame(history.history)[RMSE_COLS].plot()"
   ]
  },
  {
   "cell_type": "code",
   "execution_count": 41,
   "metadata": {},
   "outputs": [
    {
     "data": {
      "text/plain": [
       "<matplotlib.axes._subplots.AxesSubplot at 0x137b791d0>"
      ]
     },
     "execution_count": 41,
     "metadata": {},
     "output_type": "execute_result"
    },
    {
     "data": {
      "image/png": "[encoded data removed]",
      "text/plain": [
       "<Figure size 432x288 with 1 Axes>"
      ]
     },
     "metadata": {
      "needs_background": "light"
     },
     "output_type": "display_data"
    }
   ],
   "source": [
    "LOSS_COLS = ['loss', 'val_loss']\n",
    "\n",
    "pd.DataFrame(history.history)[LOSS_COLS].plot()"
   ]
  },
  {
   "cell_type": "markdown",
   "metadata": {},
   "source": [
    "# Making predictions with our model\n",
    "\n",
    "To make predictions with our trained model, we can call the [predict method](https://www.tensorflow.org/api_docs/python/tf/keras/Model#predict), passing to it a dictionary of values. The `steps` parameter determines the total number of steps before declaring the prediction round finished. Here since we have just one example, we set `steps=1` (setting `steps=None` would also work). Note, however, that if x is a `tf.data` dataset or a dataset iterator, and steps is set to None, predict will run until the input dataset is exhausted."
   ]
  },
  {
   "cell_type": "code",
   "execution_count": null,
   "metadata": {},
   "outputs": [],
   "source": [
    "model.predict(x={\"pickup_longitude\": tf.convert_to_tensor([-73.982683]),\n",
    "                 \"pickup_latitude\": tf.convert_to_tensor([40.742104]),\n",
    "                 \"dropoff_longitude\": tf.convert_to_tensor([-73.983766]),\n",
    "                 \"dropoff_latitude\": tf.convert_to_tensor([40.755174]),\n",
    "                 \"passenger_count\": tf.convert_to_tensor([3.0])},\n",
    "              steps=1)"
   ]
  },
  {
   "cell_type": "markdown",
   "metadata": {},
   "source": [
    "# Export and deploy our model\n",
    "\n",
    "Of course, making individual predictions is not realistic, because we can't expect client code to have a model object in memory. For others to use our trained model, we'll have to export our model to a file, and expect client code to instantiate the model from that exported file. \n",
    "\n",
    "We'll export the model to a TensorFlow SavedModel format. Once we have a model in this format, we have lots of ways to \"serve\" the model, from a web application, from JavaScript, from mobile applications, etc."
   ]
  },
  {
   "cell_type": "code",
   "execution_count": null,
   "metadata": {},
   "outputs": [],
   "source": [
    "OUTPUT_DIR = \"./export/savedmodel\"\n",
    "shutil.rmtree(OUTPUT_DIR, ignore_errors=True)\n",
    "EXPORT_PATH = os.path.join(OUTPUT_DIR,\n",
    "                           datetime.datetime.now().strftime(\"%Y%m%d%H%M%S\"))\n",
    "tf.saved_model.save(model, EXPORT_PATH)  # with default serving function"
   ]
  },
  {
   "cell_type": "code",
   "execution_count": null,
   "metadata": {},
   "outputs": [],
   "source": [
    "!saved_model_cli show \\\n",
    " --tag_set serve \\\n",
    " --signature_def serving_default \\\n",
    " --dir {EXPORT_PATH}\n",
    "!find {EXPORT_PATH}\n",
    "os.environ['EXPORT_PATH'] = EXPORT_PATH"
   ]
  },
  {
   "cell_type": "markdown",
   "metadata": {},
   "source": [
    "### Deploy our model to AI Platform\n",
    "\n",
    "Finally, we will deploy our trained model to AI Platform and see how we can make online predicitons. "
   ]
  },
  {
   "cell_type": "code",
   "execution_count": null,
   "metadata": {},
   "outputs": [],
   "source": [
    "%%bash\n",
    "PROJECT=#TODO: Change this to your PROJECT\n",
    "BUCKET=${PROJECT}\n",
    "REGION=us-east1\n",
    "MODEL_NAME=taxifare\n",
    "VERSION_NAME=dnn\n",
    "\n",
    "if [[ $(gcloud ai-platform models list --format='value(name)' | grep $MODEL_NAME) ]]; then\n",
    "    echo \"$MODEL_NAME already exists\"\n",
    "else\n",
    "    # create model\n",
    "    echo \"Creating $MODEL_NAME\"\n",
    "    gcloud ai-platform models create --regions=$REGION $MODEL_NAME\n",
    "fi\n",
    "\n",
    "if [[ $(gcloud ai-platform versions list --model $MODEL_NAME --format='value(name)' | grep $VERSION_NAME) ]]; then\n",
    "    echo \"Deleting already existing $MODEL_NAME:$VERSION_NAME ... \"\n",
    "    gcloud ai-platform versions delete --model=$MODEL_NAME $VERSION_NAME\n",
    "    echo \"Please run this cell again if you don't see a Creating message ... \"\n",
    "    sleep 2\n",
    "fi\n",
    "\n",
    "# create model\n",
    "echo \"Creating $MODEL_NAME:$VERSION_NAME\"\n",
    "gcloud ai-platform versions create --model=$MODEL_NAME $VERSION_NAME --async \\\n",
    "       --framework=tensorflow --python-version=3.5 --runtime-version=1.14 \\\n",
    "       --origin=$EXPORT_PATH --staging-bucket=gs://$BUCKET"
   ]
  },
  {
   "cell_type": "code",
   "execution_count": null,
   "metadata": {},
   "outputs": [],
   "source": [
    "%%writefile input.json\n",
    "{\"pickup_longitude\": -73.982683, \"pickup_latitude\": 40.742104,\"dropoff_longitude\": -73.983766,\"dropoff_latitude\": 40.755174,\"passenger_count\": 3.0}  "
   ]
  },
  {
   "cell_type": "code",
   "execution_count": null,
   "metadata": {},
   "outputs": [],
   "source": [
    "!gcloud ai-platform predict --model taxifare --json-instances input.json --version dnn"
   ]
  },
  {
   "cell_type": "markdown",
   "metadata": {},
   "source": [
    "Copyright 2019 Google Inc. Licensed under the Apache License, Version 2.0 (the \"License\"); you may not use this file except in compliance with the License. You may obtain a copy of the License at http://www.apache.org/licenses/LICENSE-2.0 Unless required by applicable law or agreed to in writing, software distributed under the License is distributed on an \"AS IS\" BASIS, WITHOUT WARRANTIES OR CONDITIONS OF ANY KIND, either express or implied. See the License for the specific language governing permissions and limitations under the License"
   ]
  }
 ],
 "metadata": {
  "kernelspec": {
   "display_name": "Python 3",
   "language": "python",
   "name": "python3"
  },
  "language_info": {
   "codemirror_mode": {
    "name": "ipython",
    "version": 3
   },
   "file_extension": ".py",
   "mimetype": "text/x-python",
   "name": "python",
   "nbconvert_exporter": "python",
   "pygments_lexer": "ipython3",
   "version": "3.6.8"
  }
 },
 "nbformat": 4,
 "nbformat_minor": 4
}
