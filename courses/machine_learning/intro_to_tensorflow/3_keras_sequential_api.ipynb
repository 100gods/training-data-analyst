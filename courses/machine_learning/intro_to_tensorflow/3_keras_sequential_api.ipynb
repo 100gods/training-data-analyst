{
 "cells": [
  {
   "cell_type": "markdown",
   "metadata": {},
   "source": [
    "# Introducing the Keras Sequential API\n",
    "\n",
    "**Learning Objectives**\n",
    "  - Build a DNN model using the Keras Sequential API\n",
    "  - Learn how to use feature columns in a Keras model\n",
    "  - Learn how to save/load, and deploy a Keras model on GCP\n",
    "\n",
    "## Introduction\n",
    "\n",
    "The [Keras sequential API](https://keras.io/models/sequential/) allows you to create Tensorflow models layer-by-layer. This is useful for building most kinds of machine learning models but it does not allow you to create models that share layers, re-use layers or have multiple inputs or outputs. \n",
    "\n",
    "In this lab, we'll see how to build a simple deep neural network model using the keras sequential api and feature columns. Once we have trained our model, we will deploy it using AI Platform and see how to call our model for online prediciton.\n"
   ]
  },
  {
   "cell_type": "code",
   "execution_count": 2,
   "metadata": {},
   "outputs": [
    {
     "name": "stdout",
     "output_type": "stream",
     "text": [
      "tf-nightly-2.0-preview==2.0.0.dev20190925\r\n"
     ]
    }
   ],
   "source": [
    "#  Ensure that we have the latest version of Tensorflow installed.\n",
    "!pip3 freeze | grep tf-nightly-2.0-preview || pip3 install tf-nightly-2.0-preview"
   ]
  },
  {
   "cell_type": "markdown",
   "metadata": {},
   "source": [
    "Start by importing the necessary libraries for this lab."
   ]
  },
  {
   "cell_type": "code",
   "execution_count": 3,
   "metadata": {},
   "outputs": [
    {
     "name": "stdout",
     "output_type": "stream",
     "text": [
      "2.0.0-dev20190925\n"
     ]
    }
   ],
   "source": [
    "import datetime\n",
    "import os\n",
    "import shutil\n",
    "\n",
    "import numpy as np\n",
    "import pandas as pd\n",
    "import tensorflow as tf\n",
    "\n",
    "from matplotlib import pyplot as plt\n",
    "from tensorflow import keras\n",
    "\n",
    "from tensorflow.keras.models import Sequential\n",
    "from tensorflow.keras.layers import Dense, DenseFeatures\n",
    "from tensorflow.keras.callbacks import TensorBoard\n",
    "\n",
    "print(tf.__version__)\n",
    "%matplotlib inline"
   ]
  },
  {
   "cell_type": "markdown",
   "metadata": {},
   "source": [
    "## Load raw data \n",
    "\n",
    "We will use the taxifare dataset, using the CSV files that we created in the first notebook of this sequence. Those files have been saved into `../data`."
   ]
  },
  {
   "cell_type": "code",
   "execution_count": 4,
   "metadata": {},
   "outputs": [
    {
     "name": "stdout",
     "output_type": "stream",
     "text": [
      "-rw-r--r--  1 dherin  primarygroup  123590 Sep 25 14:39 ../data/taxi-test.csv\r\n",
      "-rw-r--r--  1 dherin  primarygroup  579055 Sep 25 14:39 ../data/taxi-train.csv\r\n",
      "-rw-r--r--  1 dherin  primarygroup  123114 Sep 25 14:39 ../data/taxi-valid.csv\r\n"
     ]
    }
   ],
   "source": [
    "!ls -l ../data/*.csv"
   ]
  },
  {
   "cell_type": "code",
   "execution_count": 5,
   "metadata": {},
   "outputs": [
    {
     "name": "stdout",
     "output_type": "stream",
     "text": [
      "==> ../data/taxi-test.csv <==\r\n",
      "6.0,2013-03-27 03:35:00 UTC,-73.977672,40.784052,-73.965332,40.801025,2,0\r\n",
      "19.3,2012-05-10 18:43:16 UTC,-73.954366,40.778924,-74.004094,40.723104,1,1\r\n",
      "7.5,2014-05-20 23:09:00 UTC,-73.999165,40.738377,-74.003473,40.723862,2,2\r\n",
      "12.5,2015-02-23 19:51:31 UTC,-73.9652099609375,40.76948165893555,-73.98949432373047,40.739742279052734,1,3\r\n",
      "10.9,2011-03-19 03:32:00 UTC,-73.99259,40.742957,-73.989908,40.711053,1,4\r\n",
      "7.0,2012-09-18 12:51:11 UTC,-73.971195,40.751566,-73.975922,40.756361,1,5\r\n",
      "19.0,2014-05-20 23:09:00 UTC,-73.998392,40.74517,-73.939845,40.74908,1,6\r\n",
      "8.9,2012-07-18 08:46:08 UTC,-73.997638,40.756541,-73.973303,40.762019,1,7\r\n",
      "4.5,2010-07-11 20:39:08 UTC,-73.976738,40.751321,-73.986671,40.74883,1,8\r\n",
      "7.0,2013-12-12 02:16:40 UTC,-73.985024,40.767537,-73.981273,40.779302,1,9\r\n",
      "\r\n",
      "==> ../data/taxi-train.csv <==\r\n",
      "11.3,2011-01-28 20:42:59 UTC,-73.999022,40.739146,-73.990369,40.717866,1,0\r\n",
      "7.7,2011-06-27 04:28:06 UTC,-73.987443,40.729221,-73.979013,40.758641,1,1\r\n",
      "10.5,2011-04-03 00:54:53 UTC,-73.982539,40.735725,-73.954797,40.778388,1,2\r\n",
      "16.2,2009-04-10 04:11:56 UTC,-74.001945,40.740505,-73.91385,40.758559,1,3\r\n",
      "33.5,2014-02-24 18:22:00 UTC,-73.993372,40.753382,-73.8609,40.732897,2,4\r\n",
      "6.9,2011-12-10 00:25:23 UTC,-73.996237,40.721848,-73.989416,40.718052,1,5\r\n",
      "6.1,2012-09-01 14:30:19 UTC,-73.977048,40.758461,-73.984899,40.744693,2,6\r\n",
      "9.5,2012-11-08 13:28:07 UTC,-73.969402,40.757545,-73.950049,40.776079,1,7\r\n",
      "9.0,2014-07-15 11:37:25 UTC,-73.979318,40.760949,-73.95767,40.773724,1,8\r\n",
      "3.3,2009-11-09 18:06:58 UTC,-73.955675,40.779154,-73.961172,40.772368,1,9\r\n",
      "\r\n",
      "==> ../data/taxi-valid.csv <==\r\n",
      "5.3,2012-01-03 19:21:35 UTC,-73.962627,40.763214,-73.973485,40.753353,1,0\r\n",
      "25.3,2010-09-27 07:30:15 UTC,-73.965799,40.794243,-73.927134,40.852261,3,1\r\n",
      "27.5,2015-05-19 00:40:02 UTC,-73.86344146728516,40.76899719238281,-73.96058654785156,40.76129913330078,1,2\r\n",
      "5.7,2010-04-29 12:28:00 UTC,-73.989255,40.738912,-73.97558,40.749172,1,3\r\n",
      "11.5,2013-06-23 06:08:09 UTC,-73.99731,40.763735,-73.955657,40.768141,1,4\r\n",
      "18.0,2014-10-14 18:52:03 UTC,-73.997995,40.761638,-74.008985,40.712442,1,5\r\n",
      "4.9,2010-04-29 12:28:00 UTC,-73.977315,40.766182,-73.970845,40.761462,5,6\r\n",
      "32.33,2014-02-24 18:22:00 UTC,-73.985358,40.761352,-73.92427,40.699145,1,7\r\n",
      "17.0,2015-03-26 02:48:58 UTC,-73.93981170654297,40.846473693847656,-73.97361755371094,40.786983489990234,1,8\r\n",
      "12.5,2013-04-09 09:39:13 UTC,-73.977323,40.753934,-74.00719,40.741472,1,9\r\n"
     ]
    }
   ],
   "source": [
    "!head ../data/taxi*.csv"
   ]
  },
  {
   "cell_type": "markdown",
   "metadata": {},
   "source": [
    "## Use tf.data to read the CSV files\n",
    "\n",
    "We wrote these functions for reading data from the csv files above in the [previous notebook](2_dataset_api.ipynb)."
   ]
  },
  {
   "cell_type": "code",
   "execution_count": 6,
   "metadata": {},
   "outputs": [],
   "source": [
    "CSV_COLUMNS = [\n",
    "    'fare_amount',\n",
    "    'pickup_datetime',\n",
    "    'pickup_longitude',\n",
    "    'pickup_latitude',\n",
    "    'dropoff_longitude',\n",
    "    'dropoff_latitude',\n",
    "    'passenger_count',\n",
    "    'key'\n",
    "]\n",
    "LABEL_COLUMN = 'fare_amount'\n",
    "DEFAULTS = [[0.0], ['na'], [0.0], [0.0], [0.0], [0.0], [0.0], ['na']]\n",
    "UNWANTED_COLS = ['pickup_datetime', 'key']\n",
    "\n",
    "\n",
    "def features_and_labels(row_data):\n",
    "    label = row_data.pop(LABEL_COLUMN)\n",
    "    features = row_data\n",
    "    \n",
    "    for unwanted_col in UNWANTED_COLS:\n",
    "        features.pop(unwanted_col)\n",
    "\n",
    "    return features, label\n",
    "\n",
    "\n",
    "def create_dataset(pattern, batch_size=1, mode=tf.estimator.ModeKeys.EVAL):\n",
    "    dataset = tf.data.experimental.make_csv_dataset(\n",
    "        pattern, batch_size, CSV_COLUMNS, DEFAULTS)\n",
    "\n",
    "    dataset = dataset.map(features_and_labels)\n",
    "\n",
    "    if mode == tf.estimator.ModeKeys.TRAIN:\n",
    "        dataset = dataset.shuffle(buffer_size=1000).repeat()\n",
    "\n",
    "    # take advantage of multi-threading; 1=AUTOTUNE\n",
    "    dataset = dataset.prefetch(1)\n",
    "    return dataset"
   ]
  },
  {
   "cell_type": "markdown",
   "metadata": {},
   "source": [
    "## Build a simple keras DNN model\n",
    "\n",
    "We will use feature columns to connect our raw data to our keras DNN model. Feature columns make it easy to perform common types of feature engineering on your raw data. For example, you can one-hot encode categorical data, create feature crosses, embeddings and more. We'll cover these in more detail later in the course, but if you want to a sneak peak browse the official TensorFlow [feature columns guide](https://www.tensorflow.org/guide/feature_columns).\n",
    "\n",
    "In our case we won't do any feature engineering. However, we still need to create a list of feature columns to specify the numeric values which will be passed on to our model. To do this, we use `tf.feature_column.numeric_column()`\n",
    "\n",
    "We use a python dictionary comprehension to create the feature columns for our model, which is just an elegant alternative to a for loop."
   ]
  },
  {
   "cell_type": "code",
   "execution_count": 7,
   "metadata": {},
   "outputs": [],
   "source": [
    "INPUT_COLS = [\n",
    "    'pickup_longitude',\n",
    "    'pickup_latitude',\n",
    "    'dropoff_longitude',\n",
    "    'dropoff_latitude',\n",
    "    'passenger_count',\n",
    "]\n",
    "\n",
    "# Create input layer of feature columns\n",
    "feature_columns = {\n",
    "    colname: tf.feature_column.numeric_column(colname)\n",
    "    for colname in INPUT_COLS\n",
    "    }"
   ]
  },
  {
   "cell_type": "markdown",
   "metadata": {},
   "source": [
    "Next, we create the DNN model. The Sequential model is a linear stack of layers and when building a model using the Sequential API, you configure each layer of the model in turn. Once all the layers have been added, you compile the model. "
   ]
  },
  {
   "cell_type": "code",
   "execution_count": 8,
   "metadata": {},
   "outputs": [],
   "source": [
    "# Build a keras DNN model using Sequential API\n",
    "model = Sequential([\n",
    "    DenseFeatures(feature_columns=feature_columns.values()),\n",
    "    Dense(units=32, activation=\"relu\", name=\"h1\"),\n",
    "    Dense(units=8, activation=\"relu\", name=\"h2\"),\n",
    "    Dense(units=1, activation=\"linear\", name=\"output\")\n",
    "    ])"
   ]
  },
  {
   "cell_type": "markdown",
   "metadata": {},
   "source": [
    "Next, to prepare the model for training, you must configure the learning process. This is done using the compile method. The compile method takes three arguments:\n",
    "\n",
    "* An optimizer. This could be the string identifier of an existing optimizer (such as `rmsprop` or `adagrad`), or an instance of the [Optimizer class](https://www.tensorflow.org/versions/r2.0/api_docs/python/tf/keras/optimizers).\n",
    "* A loss function. This is the objective that the model will try to minimize. It can be the string identifier of an existing loss function from the [Losses class](https://www.tensorflow.org/versions/r2.0/api_docs/python/tf/keras/losses) (such as categorical_crossentropy or mse), or it can be a custom objective function.\n",
    "* A list of metrics. For any machine learning problem you will want a set of metrics to evaluate your model. A metric could be the string identifier of an existing metric or a custom metric function.\n",
    "\n",
    "We will add an additional custom metric called `rmse` to our list of metrics which will return the root mean square error. "
   ]
  },
  {
   "cell_type": "code",
   "execution_count": 9,
   "metadata": {},
   "outputs": [],
   "source": [
    "# Create a custom evalution metric\n",
    "def rmse(y_true, y_pred):\n",
    "    return tf.sqrt(tf.reduce_mean(tf.square(y_pred - y_true)))\n",
    "\n",
    "\n",
    "# Compile the keras model\n",
    "model.compile(optimizer=\"adam\", loss=\"mse\", metrics=[rmse, \"mse\"])"
   ]
  },
  {
   "cell_type": "markdown",
   "metadata": {},
   "source": [
    "## Train the model\n",
    "\n",
    "To train your model, Keras provides three functions that can be used:\n",
    " 1. `.fit()` for training a model for a fixed number of epochs (iterations on a dataset).\n",
    " 2. `.fit_generator()` for training a model on data yielded batch-by-batch by a generator\n",
    " 3. `.train_on_batch()` runs a single gradient update on a single batch of data. \n",
    " \n",
    "The `.fit()` function works well for small datasets which can fit entirely in memory. However, for large datasets (or if you need to manipulate the training data on the fly via data augmentation, etc) you will need to use `.fit_generator()` instead. The `.train_on_batch()` method is for more fine-grained control over training and accepts only a single batch of data.\n",
    "\n",
    "The taxifare dataset we sampled is small enough to fit in memory, so can we could use `.fit` to train our model. Our `create_dataset` function above generates batches of training examples, so we could also use `.fit_generator`. In fact, when calling `.fit` the method inspects the data, and if it's a generator (as our dataset is) it will invoke automatically `.fit_generator` for training. \n",
    "\n",
    "We start by setting up some parameters for our training job and create the data generators for the training and validation data."
   ]
  },
  {
   "cell_type": "code",
   "execution_count": 10,
   "metadata": {},
   "outputs": [
    {
     "name": "stdout",
     "output_type": "stream",
     "text": [
      "WARNING:tensorflow:From /Users/dherin/Desktop/asl/venv/lib/python3.6/site-packages/tensorflow_core/python/data/experimental/ops/readers.py:540: parallel_interleave (from tensorflow.python.data.experimental.ops.interleave_ops) is deprecated and will be removed in a future version.\n",
      "Instructions for updating:\n",
      "Use `tf.data.Dataset.interleave(map_func, cycle_length, block_length, num_parallel_calls=tf.data.experimental.AUTOTUNE)` instead. If sloppy execution is desired, use `tf.data.Options.experimental_deterministic`.\n",
      "WARNING:tensorflow:From /Users/dherin/Desktop/asl/venv/lib/python3.6/site-packages/tensorflow_core/python/data/experimental/ops/readers.py:214: shuffle_and_repeat (from tensorflow.python.data.experimental.ops.shuffle_ops) is deprecated and will be removed in a future version.\n",
      "Instructions for updating:\n",
      "Use `tf.data.Dataset.shuffle(buffer_size, seed)` followed by `tf.data.Dataset.repeat(count)`. Static tf.data optimizations will take care of using the fused implementation.\n"
     ]
    }
   ],
   "source": [
    "TRAIN_BATCH_SIZE = 1000\n",
    "NUM_TRAIN_EXAMPLES = 10000 * 5  # training dataset will repeat, wrap around\n",
    "NUM_EVALS = 50  # how many times to evaluate\n",
    "NUM_EVAL_EXAMPLES = 10000  # enough to get a reasonable sample\n",
    "\n",
    "trainds = create_dataset(\n",
    "    pattern='../data/taxi-train*',\n",
    "    batch_size=TRAIN_BATCH_SIZE,\n",
    "    mode=tf.estimator.ModeKeys.TRAIN)\n",
    "\n",
    "evalds = create_dataset(\n",
    "    pattern='../data/taxi-valid*',\n",
    "    batch_size=1000,\n",
    "    mode=tf.estimator.ModeKeys.EVAL).take(NUM_EVAL_EXAMPLES//1000)"
   ]
  },
  {
   "cell_type": "markdown",
   "metadata": {},
   "source": [
    "There are various arguments you can set when calling the [.fit method](https://www.tensorflow.org/versions/r2.0/api_docs/python/tf/keras/Model#fit). Here `x` specifies the input data which in our case is a `tf.data` dataset returning a tuple of (inputs, targets). The `steps_per_epoch` parameter is used to mark the end of training for a single epoch. Here we are training for NUM_EVALS epochs. Lastly, for the `callback` argument we specify a Tensorboard callback so we can inspect Tensorboard after training. "
   ]
  },
  {
   "cell_type": "code",
   "execution_count": 11,
   "metadata": {},
   "outputs": [
    {
     "name": "stdout",
     "output_type": "stream",
     "text": [
      "Train for 1 steps, validate for 10 steps\n",
      "Epoch 1/50\n",
      "1/1 [==============================] - 11s 11s/step - loss: 1185.0978 - rmse: 34.4253 - mse: 1185.0978 - val_loss: 1139.7012 - val_rmse: 33.7582 - val_mse: 1139.7010\n",
      "Epoch 2/50\n",
      "1/1 [==============================] - 0s 190ms/step - loss: 1085.1454 - rmse: 32.9415 - mse: 1085.1454 - val_loss: 1048.9858 - val_rmse: 32.3867 - val_mse: 1048.9858\n",
      "Epoch 3/50\n",
      "1/1 [==============================] - 0s 198ms/step - loss: 1005.3954 - rmse: 31.7080 - mse: 1005.3954 - val_loss: 964.1464 - val_rmse: 31.0492 - val_mse: 964.1464\n",
      "Epoch 4/50\n",
      "1/1 [==============================] - 0s 210ms/step - loss: 883.6047 - rmse: 29.7255 - mse: 883.6047 - val_loss: 884.4213 - val_rmse: 29.7376 - val_mse: 884.4213\n",
      "Epoch 5/50\n",
      "1/1 [==============================] - 0s 214ms/step - loss: 827.8610 - rmse: 28.7726 - mse: 827.8610 - val_loss: 809.9564 - val_rmse: 28.4580 - val_mse: 809.9564\n",
      "Epoch 6/50\n",
      "1/1 [==============================] - 0s 206ms/step - loss: 772.2421 - rmse: 27.7892 - mse: 772.2421 - val_loss: 753.8903 - val_rmse: 27.4552 - val_mse: 753.8902\n",
      "Epoch 7/50\n",
      "1/1 [==============================] - 0s 199ms/step - loss: 715.0366 - rmse: 26.7402 - mse: 715.0366 - val_loss: 702.9872 - val_rmse: 26.5119 - val_mse: 702.9872\n",
      "Epoch 8/50\n",
      "1/1 [==============================] - 0s 199ms/step - loss: 686.6674 - rmse: 26.2043 - mse: 686.6674 - val_loss: 655.6184 - val_rmse: 25.6028 - val_mse: 655.6183\n",
      "Epoch 9/50\n",
      "1/1 [==============================] - 0s 198ms/step - loss: 576.0758 - rmse: 24.0016 - mse: 576.0758 - val_loss: 610.8677 - val_rmse: 24.7134 - val_mse: 610.8677\n",
      "Epoch 10/50\n",
      "1/1 [==============================] - 0s 204ms/step - loss: 566.7679 - rmse: 23.8069 - mse: 566.7679 - val_loss: 568.5961 - val_rmse: 23.8427 - val_mse: 568.5961\n",
      "Epoch 11/50\n",
      "1/1 [==============================] - 0s 203ms/step - loss: 519.4235 - rmse: 22.7909 - mse: 519.4235 - val_loss: 528.7606 - val_rmse: 22.9921 - val_mse: 528.7606\n",
      "Epoch 12/50\n",
      "1/1 [==============================] - 0s 207ms/step - loss: 529.1385 - rmse: 23.0030 - mse: 529.1385 - val_loss: 491.2428 - val_rmse: 22.1611 - val_mse: 491.2429\n",
      "Epoch 13/50\n",
      "1/1 [==============================] - 0s 208ms/step - loss: 497.1637 - rmse: 22.2972 - mse: 497.1637 - val_loss: 456.0070 - val_rmse: 21.3511 - val_mse: 456.0070\n",
      "Epoch 14/50\n",
      "1/1 [==============================] - 0s 209ms/step - loss: 399.6044 - rmse: 19.9901 - mse: 399.6044 - val_loss: 423.0810 - val_rmse: 20.5655 - val_mse: 423.0811\n",
      "Epoch 15/50\n",
      "1/1 [==============================] - 0s 211ms/step - loss: 410.9834 - rmse: 20.2727 - mse: 410.9834 - val_loss: 393.6526 - val_rmse: 19.8370 - val_mse: 393.6526\n",
      "Epoch 16/50\n",
      "1/1 [==============================] - 0s 213ms/step - loss: 332.1383 - rmse: 18.2247 - mse: 332.1383 - val_loss: 383.2035 - val_rmse: 19.5718 - val_mse: 383.2035\n",
      "Epoch 17/50\n",
      "1/1 [==============================] - 0s 212ms/step - loss: 332.7433 - rmse: 18.2413 - mse: 332.7433 - val_loss: 373.7007 - val_rmse: 19.3274 - val_mse: 373.7007\n",
      "Epoch 18/50\n",
      "1/1 [==============================] - 0s 203ms/step - loss: 323.0812 - rmse: 17.9745 - mse: 323.0812 - val_loss: 364.4272 - val_rmse: 19.0860 - val_mse: 364.4272\n",
      "Epoch 19/50\n",
      "1/1 [==============================] - 0s 190ms/step - loss: 340.0612 - rmse: 18.4408 - mse: 340.0612 - val_loss: 355.3738 - val_rmse: 18.8472 - val_mse: 355.3738\n",
      "Epoch 20/50\n",
      "1/1 [==============================] - 0s 193ms/step - loss: 346.1317 - rmse: 18.6046 - mse: 346.1317 - val_loss: 346.7486 - val_rmse: 18.6169 - val_mse: 346.7486\n",
      "Epoch 21/50\n",
      "1/1 [==============================] - 0s 215ms/step - loss: 335.7708 - rmse: 18.3240 - mse: 335.7708 - val_loss: 338.4335 - val_rmse: 18.3922 - val_mse: 338.4336\n",
      "Epoch 22/50\n",
      "1/1 [==============================] - 0s 191ms/step - loss: 315.9255 - rmse: 17.7743 - mse: 315.9255 - val_loss: 330.3388 - val_rmse: 18.1708 - val_mse: 330.3387\n",
      "Epoch 23/50\n",
      "1/1 [==============================] - 0s 198ms/step - loss: 290.7962 - rmse: 17.0527 - mse: 290.7962 - val_loss: 322.4599 - val_rmse: 17.9526 - val_mse: 322.4599\n",
      "Epoch 24/50\n",
      "1/1 [==============================] - 0s 194ms/step - loss: 290.4796 - rmse: 17.0435 - mse: 290.4796 - val_loss: 314.7898 - val_rmse: 17.7376 - val_mse: 314.7898\n",
      "Epoch 25/50\n",
      "1/1 [==============================] - 0s 198ms/step - loss: 314.9484 - rmse: 17.7468 - mse: 314.9484 - val_loss: 307.3260 - val_rmse: 17.5259 - val_mse: 307.3260\n",
      "Epoch 26/50\n",
      "1/1 [==============================] - 0s 214ms/step - loss: 326.4804 - rmse: 18.0688 - mse: 326.4804 - val_loss: 300.0426 - val_rmse: 17.3168 - val_mse: 300.0426\n",
      "Epoch 27/50\n",
      "1/1 [==============================] - 0s 223ms/step - loss: 276.1825 - rmse: 16.6187 - mse: 276.1825 - val_loss: 292.9649 - val_rmse: 17.1112 - val_mse: 292.9649\n",
      "Epoch 28/50\n",
      "1/1 [==============================] - 0s 234ms/step - loss: 255.0898 - rmse: 15.9715 - mse: 255.0898 - val_loss: 286.0964 - val_rmse: 16.9092 - val_mse: 286.0964\n",
      "Epoch 29/50\n",
      "1/1 [==============================] - 0s 243ms/step - loss: 254.0639 - rmse: 15.9394 - mse: 254.0639 - val_loss: 279.4259 - val_rmse: 16.7107 - val_mse: 279.4259\n",
      "Epoch 30/50\n",
      "1/1 [==============================] - 0s 205ms/step - loss: 243.6344 - rmse: 15.6088 - mse: 243.6344 - val_loss: 272.9537 - val_rmse: 16.5159 - val_mse: 272.9537\n",
      "Epoch 31/50\n",
      "1/1 [==============================] - 0s 200ms/step - loss: 232.0860 - rmse: 15.2344 - mse: 232.0860 - val_loss: 266.6855 - val_rmse: 16.3249 - val_mse: 266.6855\n",
      "Epoch 32/50\n",
      "1/1 [==============================] - 0s 209ms/step - loss: 228.1275 - rmse: 15.1039 - mse: 228.1275 - val_loss: 260.6208 - val_rmse: 16.1380 - val_mse: 260.6208\n",
      "Epoch 33/50\n",
      "1/1 [==============================] - 0s 214ms/step - loss: 209.9067 - rmse: 14.4882 - mse: 209.9067 - val_loss: 254.7589 - val_rmse: 15.9553 - val_mse: 254.7589\n",
      "Epoch 34/50\n",
      "1/1 [==============================] - 0s 206ms/step - loss: 224.8978 - rmse: 14.9966 - mse: 224.8978 - val_loss: 249.0799 - val_rmse: 15.7763 - val_mse: 249.0799\n",
      "Epoch 35/50\n",
      "1/1 [==============================] - 0s 212ms/step - loss: 247.5724 - rmse: 15.7344 - mse: 247.5724 - val_loss: 243.5645 - val_rmse: 15.6004 - val_mse: 243.5645\n",
      "Epoch 36/50\n",
      "1/1 [==============================] - 0s 251ms/step - loss: 232.0514 - rmse: 15.2332 - mse: 232.0514 - val_loss: 238.2195 - val_rmse: 15.4281 - val_mse: 238.2195\n",
      "Epoch 37/50\n",
      "1/1 [==============================] - 0s 256ms/step - loss: 189.7854 - rmse: 13.7763 - mse: 189.7854 - val_loss: 233.0619 - val_rmse: 15.2599 - val_mse: 233.0619\n",
      "Epoch 38/50\n",
      "1/1 [==============================] - 0s 249ms/step - loss: 268.1063 - rmse: 16.3740 - mse: 268.1063 - val_loss: 228.0475 - val_rmse: 15.0946 - val_mse: 228.0475\n",
      "Epoch 39/50\n",
      "1/1 [==============================] - 0s 257ms/step - loss: 222.6560 - rmse: 14.9217 - mse: 222.6560 - val_loss: 223.1974 - val_rmse: 14.9330 - val_mse: 223.1974\n",
      "Epoch 40/50\n",
      "1/1 [==============================] - 0s 306ms/step - loss: 213.7604 - rmse: 14.6205 - mse: 213.7604 - val_loss: 218.5052 - val_rmse: 14.7750 - val_mse: 218.5052\n",
      "Epoch 41/50\n",
      "1/1 [==============================] - 0s 230ms/step - loss: 182.3693 - rmse: 13.5044 - mse: 182.3693 - val_loss: 213.9755 - val_rmse: 14.6208 - val_mse: 213.9756\n",
      "Epoch 42/50\n",
      "1/1 [==============================] - 0s 229ms/step - loss: 242.5084 - rmse: 15.5727 - mse: 242.5084 - val_loss: 209.5803 - val_rmse: 14.4697 - val_mse: 209.5803\n",
      "Epoch 43/50\n",
      "1/1 [==============================] - 0s 268ms/step - loss: 185.1006 - rmse: 13.6052 - mse: 185.1006 - val_loss: 205.3390 - val_rmse: 14.3223 - val_mse: 205.3391\n",
      "Epoch 44/50\n",
      "1/1 [==============================] - 0s 206ms/step - loss: 163.6584 - rmse: 12.7929 - mse: 163.6584 - val_loss: 201.2583 - val_rmse: 14.1790 - val_mse: 201.2583\n",
      "Epoch 45/50\n",
      "1/1 [==============================] - 0s 199ms/step - loss: 172.8034 - rmse: 13.1455 - mse: 172.8034 - val_loss: 197.3200 - val_rmse: 14.0394 - val_mse: 197.3200\n",
      "Epoch 46/50\n",
      "1/1 [==============================] - 0s 208ms/step - loss: 211.0252 - rmse: 14.5267 - mse: 211.0252 - val_loss: 193.5167 - val_rmse: 13.9032 - val_mse: 193.5167\n",
      "Epoch 47/50\n",
      "1/1 [==============================] - 0s 239ms/step - loss: 161.2414 - rmse: 12.6981 - mse: 161.2414 - val_loss: 189.8522 - val_rmse: 13.7707 - val_mse: 189.8522\n"
     ]
    },
    {
     "name": "stdout",
     "output_type": "stream",
     "text": [
      "Epoch 48/50\n",
      "1/1 [==============================] - 0s 197ms/step - loss: 163.2926 - rmse: 12.7786 - mse: 163.2926 - val_loss: 186.3196 - val_rmse: 13.6417 - val_mse: 186.3196\n",
      "Epoch 49/50\n",
      "1/1 [==============================] - 0s 190ms/step - loss: 181.2267 - rmse: 13.4620 - mse: 181.2267 - val_loss: 182.9186 - val_rmse: 13.5164 - val_mse: 182.9186\n",
      "Epoch 50/50\n",
      "1/1 [==============================] - 0s 244ms/step - loss: 154.8475 - rmse: 12.4438 - mse: 154.8475 - val_loss: 179.6432 - val_rmse: 13.3946 - val_mse: 179.6432\n",
      "CPU times: user 39.8 s, sys: 10.3 s, total: 50.1 s\n",
      "Wall time: 34.5 s\n"
     ]
    }
   ],
   "source": [
    "%%time\n",
    "steps_per_epoch = NUM_TRAIN_EXAMPLES // (TRAIN_BATCH_SIZE * NUM_EVALS)\n",
    "\n",
    "LOGDIR = \"./taxi_trained\"\n",
    "history = model.fit(x=trainds,\n",
    "                    steps_per_epoch=steps_per_epoch,\n",
    "                    epochs=NUM_EVALS,\n",
    "                    validation_data=evalds,\n",
    "                    callbacks=[TensorBoard(LOGDIR)])"
   ]
  },
  {
   "cell_type": "markdown",
   "metadata": {},
   "source": [
    "### High-level model evaluation\n",
    "\n",
    "Once we've run data through the model, we can call `.summary()` on the model to get a high-level summary of our network. We can also plot the training and evaluation curves for the metrics we computed above. "
   ]
  },
  {
   "cell_type": "code",
   "execution_count": 26,
   "metadata": {},
   "outputs": [
    {
     "name": "stdout",
     "output_type": "stream",
     "text": [
      "Model: \"sequential\"\n",
      "_________________________________________________________________\n",
      "Layer (type)                 Output Shape              Param #   \n",
      "=================================================================\n",
      "dense_features (DenseFeature multiple                  0         \n",
      "_________________________________________________________________\n",
      "h1 (Dense)                   multiple                  192       \n",
      "_________________________________________________________________\n",
      "h2 (Dense)                   multiple                  264       \n",
      "_________________________________________________________________\n",
      "output (Dense)               multiple                  9         \n",
      "=================================================================\n",
      "Total params: 465\n",
      "Trainable params: 465\n",
      "Non-trainable params: 0\n",
      "_________________________________________________________________\n"
     ]
    }
   ],
   "source": [
    "model.summary()"
   ]
  },
  {
   "cell_type": "markdown",
   "metadata": {},
   "source": [
    "Running `.fit` (or `.fit_generator`) returns a History object which collects all the events recorded during training. Similar to Tensorboard, we can plot the training and validation curves for the model loss and rmse by accessing these elements of the History object."
   ]
  },
  {
   "cell_type": "code",
   "execution_count": 12,
   "metadata": {},
   "outputs": [
    {
     "data": {
      "text/plain": [
       "<matplotlib.axes._subplots.AxesSubplot at 0x145bdecf8>"
      ]
     },
     "execution_count": 12,
     "metadata": {},
     "output_type": "execute_result"
    },
    {
     "data": {
      "image/png": "[encoded data removed]",
      "text/plain": [
       "<Figure size 432x288 with 1 Axes>"
      ]
     },
     "metadata": {
      "needs_background": "light"
     },
     "output_type": "display_data"
    }
   ],
   "source": [
    "RMSE_COLS = ['rmse', 'val_rmse']\n",
    "\n",
    "pd.DataFrame(history.history)[RMSE_COLS].plot()"
   ]
  },
  {
   "cell_type": "code",
   "execution_count": 13,
   "metadata": {},
   "outputs": [
    {
     "data": {
      "text/plain": [
       "<matplotlib.axes._subplots.AxesSubplot at 0x11dae3630>"
      ]
     },
     "execution_count": 13,
     "metadata": {},
     "output_type": "execute_result"
    },
    {
     "data": {
      "image/png": "[encoded data removed]",
      "text/plain": [
       "<Figure size 432x288 with 1 Axes>"
      ]
     },
     "metadata": {
      "needs_background": "light"
     },
     "output_type": "display_data"
    }
   ],
   "source": [
    "LOSS_COLS = ['loss', 'val_loss']\n",
    "\n",
    "pd.DataFrame(history.history)[LOSS_COLS].plot()"
   ]
  },
  {
   "cell_type": "markdown",
   "metadata": {},
   "source": [
    "# Making predictions with our model\n",
    "\n",
    "To make predictions with our trained model, we can call the [predict method](https://www.tensorflow.org/api_docs/python/tf/keras/Model#predict), passing to it a dictionary of values. The `steps` parameter determines the total number of steps before declaring the prediction round finished. Here since we have just one example, we set `steps=1` (setting `steps=None` would also work). Note, however, that if x is a `tf.data` dataset or a dataset iterator, and steps is set to None, predict will run until the input dataset is exhausted."
   ]
  },
  {
   "cell_type": "code",
   "execution_count": 14,
   "metadata": {},
   "outputs": [
    {
     "data": {
      "text/plain": [
       "array([[3.4157488]], dtype=float32)"
      ]
     },
     "execution_count": 14,
     "metadata": {},
     "output_type": "execute_result"
    }
   ],
   "source": [
    "model.predict(x={\"pickup_longitude\": tf.convert_to_tensor([-73.982683]),\n",
    "                 \"pickup_latitude\": tf.convert_to_tensor([40.742104]),\n",
    "                 \"dropoff_longitude\": tf.convert_to_tensor([-73.983766]),\n",
    "                 \"dropoff_latitude\": tf.convert_to_tensor([40.755174]),\n",
    "                 \"passenger_count\": tf.convert_to_tensor([3.0])},\n",
    "              steps=1)"
   ]
  },
  {
   "cell_type": "markdown",
   "metadata": {},
   "source": [
    "# Export and deploy our model\n",
    "\n",
    "Of course, making individual predictions is not realistic, because we can't expect client code to have a model object in memory. For others to use our trained model, we'll have to export our model to a file, and expect client code to instantiate the model from that exported file. \n",
    "\n",
    "We'll export the model to a TensorFlow SavedModel format. Once we have a model in this format, we have lots of ways to \"serve\" the model, from a web application, from JavaScript, from mobile applications, etc."
   ]
  },
  {
   "cell_type": "code",
   "execution_count": null,
   "metadata": {},
   "outputs": [],
   "source": [
    "OUTPUT_DIR = \"./export/savedmodel\"\n",
    "shutil.rmtree(OUTPUT_DIR, ignore_errors=True)\n",
    "EXPORT_PATH = os.path.join(OUTPUT_DIR,\n",
    "                           datetime.datetime.now().strftime(\"%Y%m%d%H%M%S\"))\n",
    "tf.saved_model.save(model, EXPORT_PATH)  # with default serving function"
   ]
  },
  {
   "cell_type": "code",
   "execution_count": null,
   "metadata": {},
   "outputs": [],
   "source": [
    "!saved_model_cli show \\\n",
    " --tag_set serve \\\n",
    " --signature_def serving_default \\\n",
    " --dir {EXPORT_PATH}\n",
    "!find {EXPORT_PATH}\n",
    "os.environ['EXPORT_PATH'] = EXPORT_PATH"
   ]
  },
  {
   "cell_type": "markdown",
   "metadata": {},
   "source": [
    "### Deploy our model to AI Platform\n",
    "\n",
    "Finally, we will deploy our trained model to AI Platform and see how we can make online predicitons. "
   ]
  },
  {
   "cell_type": "code",
   "execution_count": null,
   "metadata": {},
   "outputs": [],
   "source": [
    "%%bash\n",
    "PROJECT=#TODO: Change this to your PROJECT\n",
    "BUCKET=${PROJECT}\n",
    "REGION=us-east1\n",
    "MODEL_NAME=taxifare\n",
    "VERSION_NAME=dnn\n",
    "\n",
    "if [[ $(gcloud ai-platform models list --format='value(name)' | grep $MODEL_NAME) ]]; then\n",
    "    echo \"$MODEL_NAME already exists\"\n",
    "else\n",
    "    # create model\n",
    "    echo \"Creating $MODEL_NAME\"\n",
    "    gcloud ai-platform models create --regions=$REGION $MODEL_NAME\n",
    "fi\n",
    "\n",
    "if [[ $(gcloud ai-platform versions list --model $MODEL_NAME --format='value(name)' | grep $VERSION_NAME) ]]; then\n",
    "    echo \"Deleting already existing $MODEL_NAME:$VERSION_NAME ... \"\n",
    "    gcloud ai-platform versions delete --model=$MODEL_NAME $VERSION_NAME\n",
    "    echo \"Please run this cell again if you don't see a Creating message ... \"\n",
    "    sleep 2\n",
    "fi\n",
    "\n",
    "# create model\n",
    "echo \"Creating $MODEL_NAME:$VERSION_NAME\"\n",
    "gcloud ai-platform versions create --model=$MODEL_NAME $VERSION_NAME --async \\\n",
    "       --framework=tensorflow --python-version=3.5 --runtime-version=1.14 \\\n",
    "       --origin=$EXPORT_PATH --staging-bucket=gs://$BUCKET"
   ]
  },
  {
   "cell_type": "code",
   "execution_count": null,
   "metadata": {},
   "outputs": [],
   "source": [
    "%%writefile input.json\n",
    "{\"pickup_longitude\": -73.982683, \"pickup_latitude\": 40.742104,\"dropoff_longitude\": -73.983766,\"dropoff_latitude\": 40.755174,\"passenger_count\": 3.0}  "
   ]
  },
  {
   "cell_type": "code",
   "execution_count": null,
   "metadata": {},
   "outputs": [],
   "source": [
    "!gcloud ai-platform predict --model taxifare --json-instances input.json --version dnn"
   ]
  },
  {
   "cell_type": "markdown",
   "metadata": {},
   "source": [
    "Copyright 2019 Google Inc. Licensed under the Apache License, Version 2.0 (the \"License\"); you may not use this file except in compliance with the License. You may obtain a copy of the License at http://www.apache.org/licenses/LICENSE-2.0 Unless required by applicable law or agreed to in writing, software distributed under the License is distributed on an \"AS IS\" BASIS, WITHOUT WARRANTIES OR CONDITIONS OF ANY KIND, either express or implied. See the License for the specific language governing permissions and limitations under the License"
   ]
  }
 ],
 "metadata": {
  "kernelspec": {
   "display_name": "Python 3",
   "language": "python",
   "name": "python3"
  },
  "language_info": {
   "codemirror_mode": {
    "name": "ipython",
    "version": 3
   },
   "file_extension": ".py",
   "mimetype": "text/x-python",
   "name": "python",
   "nbconvert_exporter": "python",
   "pygments_lexer": "ipython3",
   "version": "3.6.4"
  }
 },
 "nbformat": 4,
 "nbformat_minor": 4
}
