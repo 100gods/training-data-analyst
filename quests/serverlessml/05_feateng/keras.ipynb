{
 "cells": [
  {
   "cell_type": "markdown",
   "metadata": {},
   "source": [
    "# A simple DNN model built in Keras.\n",
    "\n",
    "Let's start off with the Python imports that we need."
   ]
  },
  {
   "cell_type": "code",
   "execution_count": 1,
   "metadata": {},
   "outputs": [
    {
     "name": "stdout",
     "output_type": "stream",
     "text": [
      "2.0.0-alpha0\n"
     ]
    }
   ],
   "source": [
    "import os, json, math\n",
    "import numpy as np\n",
    "import tensorflow as tf\n",
    "print(tf.__version__)"
   ]
  },
  {
   "cell_type": "code",
   "execution_count": 2,
   "metadata": {},
   "outputs": [],
   "source": [
    "# These are parameters that we will configure so that we can schedule this notebook\n",
    "DATADIR = '../data'\n",
    "NBUCKETS = 10  # for feature crossing\n",
    "TRAIN_BATCH_SIZE = 32\n",
    "NUM_TRAIN_EXAMPLES = 10000 * 5 # remember the training dataset repeats, so this will wrap around\n",
    "NUM_EVALS = 5  # evaluate this many times\n",
    "NUM_EVAL_EXAMPLES = 10000 # enough to get a reasonable sample, but no so much that it slows down"
   ]
  },
  {
   "cell_type": "markdown",
   "metadata": {},
   "source": [
    "## Locating the CSV files\n",
    "\n",
    "We will start with the CSV files that we wrote out in the [first notebook](../01_explore/taxifare.iypnb) of this sequence. Just so you don't have to run the notebook, we saved a copy in ../data"
   ]
  },
  {
   "cell_type": "code",
   "execution_count": 3,
   "metadata": {},
   "outputs": [
    {
     "name": "stdout",
     "output_type": "stream",
     "text": [
      "-rw-r--r-- 1 jupyter jupyter 126266 Jun  3 15:48 ../data/taxi-test.csv\n",
      "-rw-r--r-- 1 jupyter jupyter 593612 Jun  3 15:48 ../data/taxi-train.csv\n",
      "-rw-r--r-- 1 jupyter jupyter 126833 Jun  3 15:48 ../data/taxi-valid.csv\n"
     ]
    }
   ],
   "source": [
    "if DATADIR[:5] == 'gs://':\n",
    "    !gsutil ls $DATADIR/*.csv\n",
    "else:\n",
    "    !ls -l $DATADIR/*.csv"
   ]
  },
  {
   "cell_type": "markdown",
   "metadata": {},
   "source": [
    "## Use tf.data to read the CSV files\n",
    "\n",
    "We wrote these cells in the [third notebook](../03_tfdata/input_pipeline.ipynb) of this sequence."
   ]
  },
  {
   "cell_type": "code",
   "execution_count": 4,
   "metadata": {},
   "outputs": [],
   "source": [
    "CSV_COLUMNS  = ['fare_amount',  'pickup_datetime',\n",
    "                'pickup_longitude', 'pickup_latitude', \n",
    "                'dropoff_longitude', 'dropoff_latitude', \n",
    "                'passenger_count', 'key']\n",
    "LABEL_COLUMN = 'fare_amount'\n",
    "DEFAULTS     = [[0.0],['na'],[0.0],[0.0],[0.0],[0.0],[0.0],['na']]"
   ]
  },
  {
   "cell_type": "code",
   "execution_count": 5,
   "metadata": {},
   "outputs": [],
   "source": [
    "def features_and_labels(row_data):\n",
    "    for unwanted_col in ['key']:  # keep the pickup_datetime!\n",
    "        row_data.pop(unwanted_col)\n",
    "    label = row_data.pop(LABEL_COLUMN)\n",
    "    return row_data, label  # features, label\n",
    "\n",
    "# load the training data\n",
    "def load_dataset(pattern, batch_size=1, mode=tf.estimator.ModeKeys.EVAL):\n",
    "    pattern = '{}/{}'.format(DATADIR, pattern)\n",
    "    dataset = (tf.data.experimental.make_csv_dataset(pattern, batch_size, CSV_COLUMNS, DEFAULTS)\n",
    "               .map(features_and_labels) # features, label\n",
    "               .cache())\n",
    "    if mode == tf.estimator.ModeKeys.TRAIN:\n",
    "        print(\"Repeating training dataset indefinitely\")\n",
    "        dataset = dataset.shuffle(1000).repeat()\n",
    "    dataset = dataset.prefetch(1) # take advantage of multi-threading; 1=AUTOTUNE\n",
    "    return dataset"
   ]
  },
  {
   "cell_type": "code",
   "execution_count": 6,
   "metadata": {},
   "outputs": [
    {
     "name": "stdout",
     "output_type": "stream",
     "text": [
      "0\n",
      "Sun\n"
     ]
    }
   ],
   "source": [
    "import datetime\n",
    "# Python 3.5 doesn't handle timezones of the form 00:00, only 0000\n",
    "ts = datetime.datetime.strptime('2010-02-08 09:17:00+00:00'.replace(':',''), \"%Y-%m-%d %H%M%S%z\")\n",
    "print(ts.weekday())\n",
    "DAYS = ['Sun', 'Mon', 'Tue', 'Wed', 'Thu', 'Fri', 'Sat']\n",
    "print(DAYS[ts.weekday()])"
   ]
  },
  {
   "cell_type": "code",
   "execution_count": 7,
   "metadata": {},
   "outputs": [
    {
     "name": "stderr",
     "output_type": "stream",
     "text": [
      "WARNING: Logging before flag parsing goes to stderr.\n",
      "W0604 02:44:03.501463 140388305549056 deprecation.py:323] From /usr/local/lib/python3.5/dist-packages/tensorflow/python/feature_column/feature_column_v2.py:3048: CrossedColumn._num_buckets (from tensorflow.python.feature_column.feature_column_v2) is deprecated and will be removed in a future version.\n",
      "Instructions for updating:\n",
      "The old _FeatureColumn APIs are being deprecated. Please use the new FeatureColumn APIs instead.\n",
      "W0604 02:44:03.565639 140388305549056 deprecation.py:323] From /usr/local/lib/python3.5/dist-packages/tensorflow/python/ops/lookup_ops.py:1347: to_int64 (from tensorflow.python.ops.math_ops) is deprecated and will be removed in a future version.\n",
      "Instructions for updating:\n",
      "Use `tf.cast` instead.\n",
      "W0604 02:44:03.574861 140388305549056 deprecation.py:323] From /usr/local/lib/python3.5/dist-packages/tensorflow/python/feature_column/feature_column_v2.py:4307: IndicatorColumn._variable_shape (from tensorflow.python.feature_column.feature_column_v2) is deprecated and will be removed in a future version.\n",
      "Instructions for updating:\n",
      "The old _FeatureColumn APIs are being deprecated. Please use the new FeatureColumn APIs instead.\n",
      "W0604 02:44:03.575824 140388305549056 deprecation.py:323] From /usr/local/lib/python3.5/dist-packages/tensorflow/python/feature_column/feature_column_v2.py:4362: VocabularyListCategoricalColumn._num_buckets (from tensorflow.python.feature_column.feature_column_v2) is deprecated and will be removed in a future version.\n",
      "Instructions for updating:\n",
      "The old _FeatureColumn APIs are being deprecated. Please use the new FeatureColumn APIs instead.\n",
      "W0604 02:44:03.592455 140388305549056 deprecation.py:323] From /usr/local/lib/python3.5/dist-packages/tensorflow/python/feature_column/feature_column_v2.py:2758: to_float (from tensorflow.python.ops.math_ops) is deprecated and will be removed in a future version.\n",
      "Instructions for updating:\n",
      "Use `tf.cast` instead.\n"
     ]
    },
    {
     "name": "stdout",
     "output_type": "stream",
     "text": [
      "['pickup_datetime']\n",
      "{'pickup_latitude', 'pickup_longitude', 'dropoff_longitude', 'passenger_count', 'dropoff_latitude'}\n",
      "BEFORE TRANSFORMATION\n",
      "INPUTS: dict_keys(['pickup_latitude', 'passenger_count', 'dropoff_longitude', 'pickup_longitude', 'dropoff_latitude', 'pickup_datetime'])\n",
      "AFTER TRANSFORMATION\n",
      "TRANSFORMED: dict_keys(['pickup_latitude', 'passenger_count', 'dayofweek', 'dropoff_longitude', 'hourofday', 'pickup_longitude', 'dropoff_latitude', 'pickup_datetime', 'euclidean'])\n",
      "FEATURES dict_keys(['pickup_latitude', 'pickup_and_dropoff', 'passenger_count', 'dayofweek', 'dropoff_longitude', 'hourofday', 'pickup_longitude', 'dropoff_latitude', 'euclidean'])\n"
     ]
    },
    {
     "name": "stderr",
     "output_type": "stream",
     "text": [
      "W0604 02:44:03.815928 140388305549056 deprecation.py:323] From /usr/local/lib/python3.5/dist-packages/tensorflow/python/feature_column/feature_column_v2.py:4362: IdentityCategoricalColumn._num_buckets (from tensorflow.python.feature_column.feature_column_v2) is deprecated and will be removed in a future version.\n",
      "Instructions for updating:\n",
      "The old _FeatureColumn APIs are being deprecated. Please use the new FeatureColumn APIs instead.\n"
     ]
    },
    {
     "name": "stdout",
     "output_type": "stream",
     "text": [
      "Model: \"model\"\n",
      "__________________________________________________________________________________________________\n",
      "Layer (type)                    Output Shape         Param #     Connected to                     \n",
      "==================================================================================================\n",
      "pickup_datetime (InputLayer)    [(None,)]            0                                            \n",
      "__________________________________________________________________________________________________\n",
      "dropoff_latitude (InputLayer)   [(None,)]            0                                            \n",
      "__________________________________________________________________________________________________\n",
      "dropoff_longitude (InputLayer)  [(None,)]            0                                            \n",
      "__________________________________________________________________________________________________\n",
      "pickup_longitude (InputLayer)   [(None,)]            0                                            \n",
      "__________________________________________________________________________________________________\n",
      "pickup_latitude (InputLayer)    [(None,)]            0                                            \n",
      "__________________________________________________________________________________________________\n",
      "dayofweek (Lambda)              (None,)              0           pickup_datetime[0][0]            \n",
      "__________________________________________________________________________________________________\n",
      "scale_dropoff_latitude (Lambda) (None,)              0           dropoff_latitude[0][0]           \n",
      "__________________________________________________________________________________________________\n",
      "scale_dropoff_longitude (Lambda (None,)              0           dropoff_longitude[0][0]          \n",
      "__________________________________________________________________________________________________\n",
      "euclidean (Lambda)              (None,)              0           pickup_longitude[0][0]           \n",
      "                                                                 pickup_latitude[0][0]            \n",
      "                                                                 dropoff_longitude[0][0]          \n",
      "                                                                 dropoff_latitude[0][0]           \n",
      "__________________________________________________________________________________________________\n",
      "hourofday (Lambda)              (None,)              0           pickup_datetime[0][0]            \n",
      "__________________________________________________________________________________________________\n",
      "passenger_count (InputLayer)    [(None,)]            0                                            \n",
      "__________________________________________________________________________________________________\n",
      "scale_pickup_latitude (Lambda)  (None,)              0           pickup_latitude[0][0]            \n",
      "__________________________________________________________________________________________________\n",
      "scale_pickup_longitude (Lambda) (None,)              0           pickup_longitude[0][0]           \n",
      "__________________________________________________________________________________________________\n",
      "dense_features (DenseFeatures)  (None, 137)          1000000     dayofweek[0][0]                  \n",
      "                                                                 scale_dropoff_latitude[0][0]     \n",
      "                                                                 scale_dropoff_longitude[0][0]    \n",
      "                                                                 euclidean[0][0]                  \n",
      "                                                                 hourofday[0][0]                  \n",
      "                                                                 passenger_count[0][0]            \n",
      "                                                                 pickup_datetime[0][0]            \n",
      "                                                                 scale_pickup_latitude[0][0]      \n",
      "                                                                 scale_pickup_longitude[0][0]     \n",
      "__________________________________________________________________________________________________\n",
      "dense (Dense)                   (None, 32)           4416        dense_features[0][0]             \n",
      "__________________________________________________________________________________________________\n",
      "dense_1 (Dense)                 (None, 8)            264         dense[0][0]                      \n",
      "__________________________________________________________________________________________________\n",
      "dense_2 (Dense)                 (None, 1)            9           dense_1[0][0]                    \n",
      "==================================================================================================\n",
      "Total params: 1,004,689\n",
      "Trainable params: 1,004,689\n",
      "Non-trainable params: 0\n",
      "__________________________________________________________________________________________________\n",
      "None\n"
     ]
    }
   ],
   "source": [
    "## Add transformations\n",
    "def euclidean(params):\n",
    "    lon1, lat1, lon2, lat2 = params\n",
    "    londiff = lon2 - lon1\n",
    "    latdiff = lat2 - lat1\n",
    "    return tf.sqrt(londiff*londiff + latdiff*latdiff)\n",
    "\n",
    "DAYS = ['Sun', 'Mon', 'Tue', 'Wed', 'Thu', 'Fri', 'Sat']\n",
    "def get_dayofweek(s):\n",
    "    # Python 3.5 doesn't handle timezones of the form 00:00, only 0000\n",
    "    ts = datetime.datetime.strptime(s.replace(':', ''), \"%Y-%m-%d %H%M%S%z\")\n",
    "    return DAYS[ts.weekday()]\n",
    "\n",
    "def dayofweek(ts_in):\n",
    "    return tf.map_fn(\n",
    "        lambda s: tf.py_function(get_dayofweek, inp=[s], Tout=tf.string),\n",
    "        ts_in\n",
    "    )\n",
    "\n",
    "def transform(inputs, NUMERIC_COLS, STRING_COLS):\n",
    "    transformed = inputs.copy()\n",
    "    print(\"BEFORE TRANSFORMATION\")\n",
    "    print(\"INPUTS:\", inputs.keys())\n",
    "    \n",
    "    feature_columns = {\n",
    "        colname: tf.feature_column.numeric_column(colname)\n",
    "           for colname in NUMERIC_COLS\n",
    "    }\n",
    "    \n",
    "    # scale the lat, lon values to be in 0, 1\n",
    "    for lon_col in ['pickup_longitude', 'dropoff_longitude']:  # in range -70 to -78\n",
    "        transformed[lon_col] = tf.keras.layers.Lambda(\n",
    "            lambda x: (x+78)/8.0, \n",
    "            name='scale_{}'.format(lon_col)\n",
    "        )(inputs[lon_col])\n",
    "    for lat_col in ['pickup_latitude', 'dropoff_latitude']: # in range 37 to 45\n",
    "        transformed[lat_col] = tf.keras.layers.Lambda(\n",
    "            lambda x: (x-37)/8.0, \n",
    "            name='scale_{}'.format(lat_col)\n",
    "        )(inputs[lat_col])\n",
    "\n",
    "    # add Euclidean distance. Doesn't have to be accurate calculation because NN will calibrate it\n",
    "    transformed['euclidean'] = tf.keras.layers.Lambda(euclidean, name='euclidean')([\n",
    "        inputs['pickup_longitude'],\n",
    "        inputs['pickup_latitude'],\n",
    "        inputs['dropoff_longitude'],\n",
    "        inputs['dropoff_latitude']\n",
    "    ])\n",
    "    feature_columns['euclidean'] = tf.feature_column.numeric_column('euclidean')\n",
    "    \n",
    "    # hour of day from timestamp of form '2010-02-08 09:17:00+00:00'\n",
    "    transformed['hourofday'] = tf.keras.layers.Lambda(\n",
    "        lambda x: tf.strings.to_number(tf.strings.substr(x, 11, 2), out_type=tf.dtypes.int32),\n",
    "        name='hourofday',\n",
    "        output_shape=()\n",
    "    )(inputs['pickup_datetime'])\n",
    "    feature_columns['hourofday'] = tf.feature_column.indicator_column(\n",
    "        tf.feature_column.categorical_column_with_identity('hourofday', num_buckets=24))\n",
    "\n",
    "\n",
    "    # day of week is hard because there is no TensorFlow function for date handling\n",
    "    transformed['dayofweek'] = tf.keras.layers.Lambda(\n",
    "        lambda x: tf.strings.substr(x, 0, 4), #dayofweek(x),\n",
    "        name='dayofweek',\n",
    "        output_shape=()\n",
    "    )(inputs['pickup_datetime'])\n",
    "    feature_columns['dayofweek'] = tf.feature_column.indicator_column(\n",
    "        tf.feature_column.categorical_column_with_vocabulary_list(\n",
    "          'dayofweek', vocabulary_list = DAYS))\n",
    "    \n",
    "    # featurecross lat, lon into nxn buckets, then embed\n",
    "    nbuckets = NBUCKETS\n",
    "    latbuckets = np.linspace(0, 1, nbuckets).tolist()\n",
    "    lonbuckets = np.linspace(0, 1, nbuckets).tolist()\n",
    "    b_plat = tf.feature_column.bucketized_column(feature_columns['pickup_latitude'], latbuckets)\n",
    "    b_dlat = tf.feature_column.bucketized_column(feature_columns['dropoff_latitude'], latbuckets)\n",
    "    b_plon = tf.feature_column.bucketized_column(feature_columns['pickup_longitude'], lonbuckets)\n",
    "    b_dlon = tf.feature_column.bucketized_column(feature_columns['dropoff_longitude'], lonbuckets)\n",
    "    ploc = tf.feature_column.crossed_column([b_plat, b_plon], nbuckets * nbuckets)\n",
    "    dloc = tf.feature_column.crossed_column([b_dlat, b_dlon], nbuckets * nbuckets)\n",
    "    pd_pair = tf.feature_column.crossed_column([ploc, dloc], nbuckets ** 4 )\n",
    "    feature_columns['pickup_and_dropoff'] = tf.feature_column.embedding_column(pd_pair, 100)\n",
    "\n",
    "    print(\"AFTER TRANSFORMATION\")\n",
    "    print(\"TRANSFORMED:\", transformed.keys())\n",
    "    print(\"FEATURES\", feature_columns.keys())   \n",
    "    return transformed, feature_columns\n",
    "\n",
    "def rmse(y_true, y_pred):\n",
    "    return tf.sqrt(tf.reduce_mean(tf.square(y_pred - y_true))) \n",
    "\n",
    "def build_dnn_model():\n",
    "    # input layer is all float except for pickup_datetime which is a string\n",
    "    STRING_COLS = ['pickup_datetime']\n",
    "    NUMERIC_COLS = set(CSV_COLUMNS) - set([LABEL_COLUMN, 'key']) - set(STRING_COLS)\n",
    "    print(STRING_COLS)\n",
    "    print(NUMERIC_COLS)\n",
    "    inputs = {\n",
    "        colname : tf.keras.layers.Input(name=colname, shape=(), dtype='float32')\n",
    "           for colname in NUMERIC_COLS\n",
    "    }\n",
    "    inputs.update({\n",
    "        colname : tf.keras.layers.Input(name=colname, shape=(), dtype='string')\n",
    "           for colname in STRING_COLS\n",
    "    })\n",
    "    \n",
    "    # transforms\n",
    "    transformed, feature_columns = transform(inputs, NUMERIC_COLS, STRING_COLS)\n",
    "    dnn_inputs = tf.keras.layers.DenseFeatures(feature_columns.values())(transformed)\n",
    "\n",
    "    # two hidden layers of [32, 8] just in like the BQML DNN\n",
    "    h1 = tf.keras.layers.Dense(32, activation='relu')(dnn_inputs)\n",
    "    h2 = tf.keras.layers.Dense(8, activation='relu')(h1)\n",
    "    # final output would normally have a linear activation because this is regression\n",
    "    # However, we know something about the taxi problem (fares are +ve and tend to be below $60).\n",
    "    # Use that here. (You can verify by running this query):\n",
    "    # SELECT APPROX_QUANTILES(fare_amount, 100) FROM serverlessml.cleaned_training_data\n",
    "    fare_thresh = lambda x: 60 * tf.keras.activations.relu(x)\n",
    "    output = tf.keras.layers.Dense(1, activation=fare_thresh)(h2)\n",
    "    model = tf.keras.models.Model(inputs, output)\n",
    "    model.compile(optimizer='adam', loss='mse', metrics=[rmse, 'mse'])\n",
    "    return model\n",
    "\n",
    "model = build_dnn_model()\n",
    "print(model.summary())"
   ]
  },
  {
   "cell_type": "markdown",
   "metadata": {},
   "source": [
    "## Train model\n",
    "\n",
    "To train the model, call model.fit()"
   ]
  },
  {
   "cell_type": "code",
   "execution_count": 8,
   "metadata": {},
   "outputs": [
    {
     "name": "stdout",
     "output_type": "stream",
     "text": [
      "Repeating training dataset indefinitely\n",
      "Epoch 1/5\n",
      "312/312 [==============================] - 14s 45ms/step - loss: 112.2151 - rmse: 9.9083 - mse: 112.2152 - val_loss: 61.2252 - val_rmse: 7.8201 - val_mse: 61.2253\n",
      "Epoch 2/5\n",
      "312/312 [==============================] - 14s 43ms/step - loss: 59.2955 - rmse: 6.8098 - mse: 59.2955 - val_loss: 24.3317 - val_rmse: 4.9267 - val_mse: 24.3317\n",
      "Epoch 3/5\n",
      "312/312 [==============================] - 13s 43ms/step - loss: 29.8566 - rmse: 4.6614 - mse: 29.8566 - val_loss: 15.9867 - val_rmse: 3.9912 - val_mse: 15.9867\n",
      "Epoch 4/5\n",
      "312/312 [==============================] - 14s 43ms/step - loss: 30.5709 - rmse: 4.6829 - mse: 30.5709 - val_loss: 18.3488 - val_rmse: 4.2772 - val_mse: 18.3488\n",
      "Epoch 5/5\n",
      "312/312 [==============================] - 14s 43ms/step - loss: 29.0136 - rmse: 4.5504 - mse: 29.0136 - val_loss: 15.6492 - val_rmse: 3.9474 - val_mse: 15.6492\n"
     ]
    }
   ],
   "source": [
    "trainds = load_dataset('taxi-train*', TRAIN_BATCH_SIZE, tf.estimator.ModeKeys.TRAIN)\n",
    "evalds = load_dataset('taxi-valid*', 1000, tf.estimator.ModeKeys.EVAL).take(NUM_EVAL_EXAMPLES//1000)\n",
    "\n",
    "steps_per_epoch = NUM_TRAIN_EXAMPLES // (TRAIN_BATCH_SIZE * NUM_EVALS)\n",
    "\n",
    "history = model.fit(trainds, \n",
    "                    validation_data=evalds,\n",
    "                    epochs=NUM_EVALS, \n",
    "                    steps_per_epoch=steps_per_epoch)"
   ]
  },
  {
   "cell_type": "code",
   "execution_count": 9,
   "metadata": {},
   "outputs": [
    {
     "data": {
      "image/png": "[encoded data removed]",
      "text/plain": [
       "<Figure size 720x360 with 2 Axes>"
      ]
     },
     "metadata": {
      "needs_background": "light"
     },
     "output_type": "display_data"
    }
   ],
   "source": [
    "# plot\n",
    "import matplotlib.pyplot as plt\n",
    "nrows = 1\n",
    "ncols = 2\n",
    "fig = plt.figure(figsize=(10, 5))\n",
    "\n",
    "for idx, key in enumerate(['loss', 'rmse']):\n",
    "    ax = fig.add_subplot(nrows, ncols, idx+1)\n",
    "    plt.plot(history.history[key])\n",
    "    plt.plot(history.history['val_{}'.format(key)])\n",
    "    plt.title('model {}'.format(key))\n",
    "    plt.ylabel(key)\n",
    "    plt.xlabel('epoch')\n",
    "    plt.legend(['train', 'validation'], loc='upper left');"
   ]
  },
  {
   "cell_type": "markdown",
   "metadata": {},
   "source": [
    "## Evaluate over full validation dataset\n",
    "\n",
    "Let's evaluate over the full validation dataset (provided the validation dataset is large enough)."
   ]
  },
  {
   "cell_type": "code",
   "execution_count": 16,
   "metadata": {},
   "outputs": [
    {
     "name": "stdout",
     "output_type": "stream",
     "text": [
      "Going through dataset only once\n",
      "    500/Unknown - 20s 39ms/step - loss: 15.5960 - rmse: 3.9421 - mse: 15.5960"
     ]
    },
    {
     "data": {
      "text/plain": [
       "[15.596032260894775, 3.9421325, 15.596039]"
      ]
     },
     "execution_count": 16,
     "metadata": {},
     "output_type": "execute_result"
    }
   ],
   "source": [
    "evalds = load_dataset('../data/taxi-valid*', 1000, tf.estimator.ModeKeys.EVAL).take(500) # 500 steps would be 500k samples\n",
    "model.evaluate(evalds)"
   ]
  },
  {
   "cell_type": "markdown",
   "metadata": {},
   "source": [
    "Yippee! We are now at under 4 dollars RMSE!"
   ]
  },
  {
   "cell_type": "markdown",
   "metadata": {},
   "source": [
    "## Predict with model\n",
    "\n",
    "This is how you'd predict with this model, but the string input doesn't work at present."
   ]
  },
  {
   "cell_type": "code",
   "execution_count": null,
   "metadata": {},
   "outputs": [],
   "source": [
    "# This doesn't work yet.\n",
    "model.predict({\n",
    "    'pickup_longitude': tf.convert_to_tensor([-73.982683]),\n",
    "    'pickup_latitude': tf.convert_to_tensor([40.742104]),\n",
    "    'dropoff_longitude': tf.convert_to_tensor([-73.983766]),\n",
    "    'dropoff_latitude': tf.convert_to_tensor([40.755174]),\n",
    "    'passenger_count': tf.convert_to_tensor([3.0]),\n",
    "    'pickup_datetime': tf.convert_to_tensor(['2010-02-08 09:17:00+00:00'], dtype=tf.string),\n",
    "})"
   ]
  },
  {
   "cell_type": "markdown",
   "metadata": {},
   "source": [
    "Also, this is not realistic, because we can't expect client code to have a model object in memory. We'll have to export our model to a file, and expect client code to instantiate the model from that exported file."
   ]
  },
  {
   "cell_type": "markdown",
   "metadata": {},
   "source": [
    "## Export model\n",
    "\n",
    "Let's export the model to a TensorFlow SavedModel format. Once we have a model in this format, we have lots of ways to \"serve\" the model, from a web application, from JavaScript, from mobile applications, etc."
   ]
  },
  {
   "cell_type": "code",
   "execution_count": null,
   "metadata": {},
   "outputs": [],
   "source": [
    "# This doesn't work yet.\n",
    "tf.keras.experimental.export_saved_model(model, export_dir)\n",
    "\n",
    "# Recreate the exact same model\n",
    "new_model = keras.experimental.load_from_saved_model(export_dir)\n",
    "\n",
    "# try predicting with this model\n",
    "new_model.predict({\n",
    "    'pickup_longitude': tf.convert_to_tensor([-73.982683]),\n",
    "    'pickup_latitude': tf.convert_to_tensor([40.742104]),\n",
    "    'dropoff_longitude': tf.convert_to_tensor([-73.983766]),\n",
    "    'dropoff_latitude': tf.convert_to_tensor([40.755174]),\n",
    "    'passenger_count': tf.convert_to_tensor([3.0]),  \n",
    "    'pickup_datetime': tf.convert_to_tensor(['2010-02-08 09:17:00+00:00'], dtype=tf.string),\n",
    "})"
   ]
  },
  {
   "cell_type": "markdown",
   "metadata": {},
   "source": [
    "In this notebook, we have looked at how to implement a custom Keras model using feature columns."
   ]
  },
  {
   "cell_type": "markdown",
   "metadata": {},
   "source": [
    "Copyright 2019 Google Inc.\n",
    "Licensed under the Apache License, Version 2.0 (the \"License\"); you may not use this file except in compliance with the License. You may obtain a copy of the License at\n",
    "http://www.apache.org/licenses/LICENSE-2.0\n",
    "Unless required by applicable law or agreed to in writing, software distributed under the License is distributed on an \"AS IS\" BASIS, WITHOUT WARRANTIES OR CONDITIONS OF ANY KIND, either express or implied. See the License for the specific language governing permissions and limitations under the License."
   ]
  }
 ],
 "metadata": {
  "kernelspec": {
   "display_name": "Python 3",
   "language": "python",
   "name": "python3"
  },
  "language_info": {
   "codemirror_mode": {
    "name": "ipython",
    "version": 3
   },
   "file_extension": ".py",
   "mimetype": "text/x-python",
   "name": "python",
   "nbconvert_exporter": "python",
   "pygments_lexer": "ipython3",
   "version": "3.5.3"
  }
 },
 "nbformat": 4,
 "nbformat_minor": 2
}
