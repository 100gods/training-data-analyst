{
 "cells": [
  {
   "cell_type": "markdown",
   "metadata": {},
   "source": [
    "# Input pipeline into Keras\n",
    "\n",
    "In this notebook, we will look at how to read large datasets, datasets that may not fit into memory, using TensorFlow. We can use the tf.data pipeline to feed data to Keras models that use a TensorFlow backend.\n",
    "\n",
    "Let's start off with the Python imports that we need."
   ]
  },
  {
   "cell_type": "code",
   "execution_count": 4,
   "metadata": {},
   "outputs": [
    {
     "name": "stdout",
     "output_type": "stream",
     "text": [
      "2.0.0-alpha0\n"
     ]
    }
   ],
   "source": [
    "import os, json, math\n",
    "import numpy as np\n",
    "import tensorflow as tf\n",
    "print(tf.__version__)"
   ]
  },
  {
   "cell_type": "markdown",
   "metadata": {},
   "source": [
    "## Locating the CSV files\n",
    "\n",
    "We will start with the CSV files that we wrote out in the [first notebook](../01_explore/taxifare.iypnb) of this sequence. Just so you don't have to run the notebook, we saved a copy in ../data"
   ]
  },
  {
   "cell_type": "code",
   "execution_count": 3,
   "metadata": {},
   "outputs": [
    {
     "name": "stdout",
     "output_type": "stream",
     "text": [
      "-rw-r--r-- 1 jupyter jupyter  85978 Jun  1 18:03 ../data/taxi-test.csv\n",
      "-rw-r--r-- 1 jupyter jupyter 402560 Jun  1 18:03 ../data/taxi-train.csv\n",
      "-rw-r--r-- 1 jupyter jupyter  85797 Jun  1 18:03 ../data/taxi-valid.csv\n"
     ]
    }
   ],
   "source": [
    "!ls -l ../data/*.csv"
   ]
  },
  {
   "cell_type": "markdown",
   "metadata": {},
   "source": [
    "## Use tf.data to read the CSV files\n",
    "\n",
    "See the documentation for [make_csv_dataset](https://www.tensorflow.org/api_docs/python/tf/data/experimental/make_csv_dataset).\n",
    "If you have TFRecords (which is recommended), use [make_batched_features_dataset](https://www.tensorflow.org/api_docs/python/tf/data/experimental/make_batched_features_dataset) instead."
   ]
  },
  {
   "cell_type": "code",
   "execution_count": 5,
   "metadata": {},
   "outputs": [],
   "source": [
    "CSV_COLUMNS  = ['fare_amount', \n",
    "                'pickup_longitude', 'pickup_latitude', \n",
    "                'dropoff_longitude', 'dropoff_latitude', \n",
    "                'passenger_count', 'key']\n",
    "LABEL_COLUMN = 'fare_amount'\n",
    "DEFAULTS     = [[0.0],[0.0],[0.0],[0.0],[0.0],[0.0],['na']]"
   ]
  },
  {
   "cell_type": "code",
   "execution_count": 12,
   "metadata": {},
   "outputs": [
    {
     "name": "stdout",
     "output_type": "stream",
     "text": [
      "<PrefetchDataset shapes: OrderedDict([(fare_amount, (1,)), (pickup_longitude, (1,)), (pickup_latitude, (1,)), (dropoff_longitude, (1,)), (dropoff_latitude, (1,)), (passenger_count, (1,)), (key, (1,))]), types: OrderedDict([(fare_amount, tf.float32), (pickup_longitude, tf.float32), (pickup_latitude, tf.float32), (dropoff_longitude, tf.float32), (dropoff_latitude, tf.float32), (passenger_count, tf.float32), (key, tf.string)])>\n"
     ]
    }
   ],
   "source": [
    "# load the training data\n",
    "def load_dataset(pattern):\n",
    "  return tf.data.experimental.make_csv_dataset(pattern, 1, CSV_COLUMNS, DEFAULTS)\n",
    "\n",
    "tempds = load_dataset('../data/taxi-train*')\n",
    "print(tempds)"
   ]
  },
  {
   "cell_type": "markdown",
   "metadata": {},
   "source": [
    "Note that this is a prefetched dataset. If you loop over the dataset, you'll get the rows one-by-one. Let's convert each row into a Python dictionary:"
   ]
  },
  {
   "cell_type": "code",
   "execution_count": 11,
   "metadata": {},
   "outputs": [
    {
     "name": "stdout",
     "output_type": "stream",
     "text": [
      "0 {'dropoff_longitude': array([-73.96857], dtype=float32), 'passenger_count': array([2.], dtype=float32), 'fare_amount': array([6.], dtype=float32), 'pickup_longitude': array([-73.97851], dtype=float32), 'dropoff_latitude': array([40.760876], dtype=float32), 'pickup_latitude': array([40.75231], dtype=float32), 'key': array([b'1388'], dtype=object)}\n",
      "1 {'dropoff_longitude': array([-74.01276], dtype=float32), 'passenger_count': array([1.], dtype=float32), 'fare_amount': array([5.], dtype=float32), 'pickup_longitude': array([-74.01003], dtype=float32), 'dropoff_latitude': array([40.707954], dtype=float32), 'pickup_latitude': array([40.705784], dtype=float32), 'key': array([b'2525'], dtype=object)}\n",
      "2 {'dropoff_longitude': array([-73.95558], dtype=float32), 'passenger_count': array([5.], dtype=float32), 'fare_amount': array([4.5], dtype=float32), 'pickup_longitude': array([-73.945946], dtype=float32), 'dropoff_latitude': array([40.779686], dtype=float32), 'pickup_latitude': array([40.77777], dtype=float32), 'key': array([b'6511'], dtype=object)}\n",
      "3 {'dropoff_longitude': array([-73.98099], dtype=float32), 'passenger_count': array([1.], dtype=float32), 'fare_amount': array([8.9], dtype=float32), 'pickup_longitude': array([-73.98796], dtype=float32), 'dropoff_latitude': array([40.76303], dtype=float32), 'pickup_latitude': array([40.749786], dtype=float32), 'key': array([b'775'], dtype=object)}\n"
     ]
    }
   ],
   "source": [
    "# print a few of the rows\n",
    "for n, data in enumerate(tempds):\n",
    "    row_data = {k: v.numpy() for k,v in data.items()}\n",
    "    print(n, row_data)\n",
    "    if n > 2:\n",
    "        break"
   ]
  },
  {
   "cell_type": "markdown",
   "metadata": {},
   "source": [
    "What we really need is a dictionary of features + a label. So, we have to do two things to the above dictionary. (1) remove the unwanted column \"key\" and (2) keep the label separate from the features."
   ]
  },
  {
   "cell_type": "code",
   "execution_count": 13,
   "metadata": {},
   "outputs": [
    {
     "name": "stdout",
     "output_type": "stream",
     "text": [
      "0 [7.3] {'dropoff_longitude': array([-73.97203], dtype=float32), 'passenger_count': array([1.], dtype=float32), 'pickup_longitude': array([-73.977], dtype=float32), 'dropoff_latitude': array([40.764313], dtype=float32), 'pickup_latitude': array([40.74728], dtype=float32)}\n",
      "1 [5.] {'dropoff_longitude': array([-73.97982], dtype=float32), 'passenger_count': array([1.], dtype=float32), 'pickup_longitude': array([-73.98815], dtype=float32), 'dropoff_latitude': array([40.751232], dtype=float32), 'pickup_latitude': array([40.74935], dtype=float32)}\n",
      "2 [29.5] {'dropoff_longitude': array([-73.960144], dtype=float32), 'passenger_count': array([1.], dtype=float32), 'pickup_longitude': array([-73.86369], dtype=float32), 'dropoff_latitude': array([40.687412], dtype=float32), 'pickup_latitude': array([40.769897], dtype=float32)}\n",
      "3 [7.] {'dropoff_longitude': array([-73.970825], dtype=float32), 'passenger_count': array([5.], dtype=float32), 'pickup_longitude': array([-73.96219], dtype=float32), 'dropoff_latitude': array([40.78329], dtype=float32), 'pickup_latitude': array([40.770557], dtype=float32)}\n"
     ]
    }
   ],
   "source": [
    "# get features, label\n",
    "def features_and_labels(row_data):\n",
    "    for unwanted_col in ['key']:\n",
    "        row_data.pop(unwanted_col)\n",
    "    label = row_data.pop(LABEL_COLUMN)\n",
    "    return row_data, label  # features, label\n",
    "\n",
    "# print a few rows to make it sure works\n",
    "for n, data in enumerate(tempds):\n",
    "    row_data = {k: v.numpy() for k,v in data.items()}\n",
    "    features, label = features_and_labels(row_data)\n",
    "    print(n, label, features)\n",
    "    if n > 2:\n",
    "        break"
   ]
  },
  {
   "cell_type": "markdown",
   "metadata": {},
   "source": [
    "## Batching\n",
    "\n",
    "Let's do both (loading, features_label)\n",
    "in our load_dataset function, and also add batching."
   ]
  },
  {
   "cell_type": "code",
   "execution_count": 17,
   "metadata": {},
   "outputs": [
    {
     "name": "stdout",
     "output_type": "stream",
     "text": [
      "[(OrderedDict([('pickup_longitude', <tf.Tensor: id=1015, shape=(2,), dtype=float32, numpy=array([-73.974304, -73.97505 ], dtype=float32)>), ('pickup_latitude', <tf.Tensor: id=1014, shape=(2,), dtype=float32, numpy=array([40.75003, 40.73255], dtype=float32)>), ('dropoff_longitude', <tf.Tensor: id=1012, shape=(2,), dtype=float32, numpy=array([-73.87089 , -73.981155], dtype=float32)>), ('dropoff_latitude', <tf.Tensor: id=1011, shape=(2,), dtype=float32, numpy=array([40.7719  , 40.741596], dtype=float32)>), ('passenger_count', <tf.Tensor: id=1013, shape=(2,), dtype=float32, numpy=array([5., 5.], dtype=float32)>)]), <tf.Tensor: id=1016, shape=(2,), dtype=float32, numpy=array([28.9,  4.9], dtype=float32)>), (OrderedDict([('pickup_longitude', <tf.Tensor: id=1021, shape=(2,), dtype=float32, numpy=array([-73.96097, -73.98101], dtype=float32)>), ('pickup_latitude', <tf.Tensor: id=1020, shape=(2,), dtype=float32, numpy=array([40.772446, 40.741745], dtype=float32)>), ('dropoff_longitude', <tf.Tensor: id=1018, shape=(2,), dtype=float32, numpy=array([-73.97088, -74.00125], dtype=float32)>), ('dropoff_latitude', <tf.Tensor: id=1017, shape=(2,), dtype=float32, numpy=array([40.779892, 40.751358], dtype=float32)>), ('passenger_count', <tf.Tensor: id=1019, shape=(2,), dtype=float32, numpy=array([2., 1.], dtype=float32)>)]), <tf.Tensor: id=1022, shape=(2,), dtype=float32, numpy=array([6.5, 6.5], dtype=float32)>), (OrderedDict([('pickup_longitude', <tf.Tensor: id=1027, shape=(2,), dtype=float32, numpy=array([-73.99635, -73.98213], dtype=float32)>), ('pickup_latitude', <tf.Tensor: id=1026, shape=(2,), dtype=float32, numpy=array([40.7637 , 40.77313], dtype=float32)>), ('dropoff_longitude', <tf.Tensor: id=1024, shape=(2,), dtype=float32, numpy=array([-73.99355 , -73.976395], dtype=float32)>), ('dropoff_latitude', <tf.Tensor: id=1023, shape=(2,), dtype=float32, numpy=array([40.72441, 40.78834], dtype=float32)>), ('passenger_count', <tf.Tensor: id=1025, shape=(2,), dtype=float32, numpy=array([6., 1.], dtype=float32)>)]), <tf.Tensor: id=1028, shape=(2,), dtype=float32, numpy=array([13.5,  6. ], dtype=float32)>)]\n"
     ]
    }
   ],
   "source": [
    "def load_dataset(pattern, batch_size):\n",
    "  return (\n",
    "      tf.data.experimental.make_csv_dataset(pattern, batch_size, CSV_COLUMNS, DEFAULTS)\n",
    "             .map(features_and_labels) # features, label\n",
    "  )\n",
    "\n",
    "# try changing the batch size and watch what happens.\n",
    "tempds = load_dataset('../data/taxi-train*', batch_size=2)\n",
    "print(list(tempds.take(3))) # truncate and print as a list "
   ]
  },
  {
   "cell_type": "markdown",
   "metadata": {},
   "source": [
    "## Shuffling\n",
    "\n",
    "When training a deep learning model in batches over multiple workers, it is helpful if we shuffle the data. That way, different workers will be working on different parts of the input file at the same time, and so averaging gradients across workers will help. Also, during training, we will need to read the data indefinitely."
   ]
  },
  {
   "cell_type": "code",
   "execution_count": 23,
   "metadata": {},
   "outputs": [
    {
     "name": "stdout",
     "output_type": "stream",
     "text": [
      "[(OrderedDict([('pickup_longitude', <tf.Tensor: id=2201, shape=(2,), dtype=float32, numpy=array([-73.97941, -74.00601], dtype=float32)>), ('pickup_latitude', <tf.Tensor: id=2200, shape=(2,), dtype=float32, numpy=array([40.781647, 40.73576 ], dtype=float32)>), ('dropoff_longitude', <tf.Tensor: id=2198, shape=(2,), dtype=float32, numpy=array([-73.95575 , -73.986176], dtype=float32)>), ('dropoff_latitude', <tf.Tensor: id=2197, shape=(2,), dtype=float32, numpy=array([40.77253, 40.73058], dtype=float32)>), ('passenger_count', <tf.Tensor: id=2199, shape=(2,), dtype=float32, numpy=array([1., 1.], dtype=float32)>)]), <tf.Tensor: id=2202, shape=(2,), dtype=float32, numpy=array([7.3, 6.9], dtype=float32)>)]\n",
      "[(OrderedDict([('pickup_longitude', <tf.Tensor: id=2299, shape=(2,), dtype=float32, numpy=array([-73.975105, -73.95398 ], dtype=float32)>), ('pickup_latitude', <tf.Tensor: id=2298, shape=(2,), dtype=float32, numpy=array([40.736317, 40.770515], dtype=float32)>), ('dropoff_longitude', <tf.Tensor: id=2296, shape=(2,), dtype=float32, numpy=array([-73.98577, -73.95027], dtype=float32)>), ('dropoff_latitude', <tf.Tensor: id=2295, shape=(2,), dtype=float32, numpy=array([40.75561 , 40.775455], dtype=float32)>), ('passenger_count', <tf.Tensor: id=2297, shape=(2,), dtype=float32, numpy=array([3., 1.], dtype=float32)>)]), <tf.Tensor: id=2300, shape=(2,), dtype=float32, numpy=array([8.5, 3.5], dtype=float32)>)]\n"
     ]
    }
   ],
   "source": [
    "def load_dataset(pattern, batch_size=1, mode=tf.estimator.ModeKeys.EVAL):\n",
    "  dataset = (tf.data.experimental.make_csv_dataset(pattern, batch_size, CSV_COLUMNS, DEFAULTS)\n",
    "             .map(features_and_labels) # features, label\n",
    "             .cache())\n",
    "  if mode == tf.estimator.ModeKeys.TRAIN:\n",
    "        dataset = dataset.shuffle(1000).repeat()\n",
    "  dataset = dataset.prefetch(1) # take advantage of multi-threading; 1=AUTOTUNE\n",
    "  return dataset\n",
    "\n",
    "tempds = load_dataset('../data/taxi-train*', 2, tf.estimator.ModeKeys.TRAIN)\n",
    "print(list(tempds.take(1)))\n",
    "tempds = load_dataset('../data/taxi-valid*', 2, tf.estimator.ModeKeys.EVAL)\n",
    "print(list(tempds.take(1)))"
   ]
  },
  {
   "cell_type": "markdown",
   "metadata": {},
   "source": [
    "In the next notebook, we will build the model using this input pipeline."
   ]
  },
  {
   "cell_type": "markdown",
   "metadata": {},
   "source": [
    "Copyright 2019 Google Inc.\n",
    "Licensed under the Apache License, Version 2.0 (the \"License\"); you may not use this file except in compliance with the License. You may obtain a copy of the License at\n",
    "http://www.apache.org/licenses/LICENSE-2.0\n",
    "Unless required by applicable law or agreed to in writing, software distributed under the License is distributed on an \"AS IS\" BASIS, WITHOUT WARRANTIES OR CONDITIONS OF ANY KIND, either express or implied. See the License for the specific language governing permissions and limitations under the License."
   ]
  }
 ],
 "metadata": {
  "kernelspec": {
   "display_name": "Python 3",
   "language": "python",
   "name": "python3"
  },
  "language_info": {
   "codemirror_mode": {
    "name": "ipython",
    "version": 3
   },
   "file_extension": ".py",
   "mimetype": "text/x-python",
   "name": "python",
   "nbconvert_exporter": "python",
   "pygments_lexer": "ipython3",
   "version": "3.5.3"
  }
 },
 "nbformat": 4,
 "nbformat_minor": 2
}
