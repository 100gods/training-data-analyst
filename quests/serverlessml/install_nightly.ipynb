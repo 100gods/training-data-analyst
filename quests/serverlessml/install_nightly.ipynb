{
 "cells": [
  {
   "cell_type": "code",
   "execution_count": null,
   "metadata": {},
   "outputs": [],
   "source": [
    "%pip install tf-nightly"
   ]
  },
  {
   "cell_type": "code",
   "execution_count": 1,
   "metadata": {},
   "outputs": [
    {
     "name": "stdout",
     "output_type": "stream",
     "text": [
      "1.14.1-dev20190603\n"
     ]
    },
    {
     "name": "stderr",
     "output_type": "stream",
     "text": [
      "WARNING: Logging before flag parsing goes to stderr.\n",
      "W0604 05:24:37.030460 140714490566400 deprecation.py:323] From /home/jupyter/.local/lib/python3.5/site-packages/tensorflow/python/feature_column/feature_column_v2.py:2655: add_dispatch_support.<locals>.wrapper (from tensorflow.python.ops.array_ops) is deprecated and will be removed in a future version.\n",
      "Instructions for updating:\n",
      "Use tf.where in 2.0, which has the same broadcast rule as np.where\n",
      "W0604 05:24:37.060478 140714490566400 deprecation.py:323] From /home/jupyter/.local/lib/python3.5/site-packages/tensorflow/python/feature_column/feature_column_v2.py:4215: IndicatorColumn._variable_shape (from tensorflow.python.feature_column.feature_column_v2) is deprecated and will be removed in a future version.\n",
      "Instructions for updating:\n",
      "The old _FeatureColumn APIs are being deprecated. Please use the new FeatureColumn APIs instead.\n",
      "W0604 05:24:37.061576 140714490566400 deprecation.py:323] From /home/jupyter/.local/lib/python3.5/site-packages/tensorflow/python/feature_column/feature_column_v2.py:4270: VocabularyListCategoricalColumn._num_buckets (from tensorflow.python.feature_column.feature_column_v2) is deprecated and will be removed in a future version.\n",
      "Instructions for updating:\n",
      "The old _FeatureColumn APIs are being deprecated. Please use the new FeatureColumn APIs instead.\n"
     ]
    },
    {
     "name": "stdout",
     "output_type": "stream",
     "text": [
      "Train on 1 samples\n",
      "1/1 [==============================] - 0s 74ms/step - loss: 22.2133\n"
     ]
    },
    {
     "data": {
      "text/plain": [
       "array([[-3.2158718]], dtype=float32)"
      ]
     },
     "execution_count": 1,
     "metadata": {},
     "output_type": "execute_result"
    }
   ],
   "source": [
    "import tensorflow as tf\n",
    "tf.enable_v2_behavior()\n",
    "import pandas as pd\n",
    "print(tf.__version__)\n",
    "\n",
    "inputs = {\n",
    "    'a' : tf.keras.layers.Input(name='a', shape=(), dtype='float32'),\n",
    "    'b' : tf.keras.layers.Input(name='b', shape=(), dtype='string'),\n",
    "}\n",
    "fc = {\n",
    "    'a' : tf.feature_column.numeric_column('a'),\n",
    "    'b' : tf.feature_column.indicator_column(\n",
    "        tf.feature_column.categorical_column_with_vocabulary_list('b', ['one', 'two'])\n",
    "    )\n",
    "}\n",
    "\n",
    "ds = tf.keras.layers.DenseFeatures(fc.values())(inputs)\n",
    "output = tf.keras.layers.Dense(1)(ds)\n",
    "model = tf.keras.models.Model(inputs=inputs, outputs=output)\n",
    "model.compile(optimizer='adam', loss='mse')\n",
    "\n",
    "df = pd.DataFrame.from_dict({\n",
    "    'a': [3.0, 2.0, 1.0],\n",
    "    'b': ['one', 'one', 'two'],\n",
    "})\n",
    "y =  [3.0, 2.0, 2.0]\n",
    "\n",
    "model.fit([df['a'], df['b']], y, steps_per_epoch=1)\n",
    "\n",
    "model.predict({\n",
    "    'a': tf.convert_to_tensor([3.0]),\n",
    "    'b': tf.convert_to_tensor(['one']),\n",
    "})"
   ]
  },
  {
   "cell_type": "code",
   "execution_count": null,
   "metadata": {},
   "outputs": [],
   "source": []
  }
 ],
 "metadata": {
  "kernelspec": {
   "display_name": "Python 3",
   "language": "python",
   "name": "python3"
  },
  "language_info": {
   "codemirror_mode": {
    "name": "ipython",
    "version": 3
   },
   "file_extension": ".py",
   "mimetype": "text/x-python",
   "name": "python",
   "nbconvert_exporter": "python",
   "pygments_lexer": "ipython3",
   "version": "3.5.3"
  }
 },
 "nbformat": 4,
 "nbformat_minor": 2
}
