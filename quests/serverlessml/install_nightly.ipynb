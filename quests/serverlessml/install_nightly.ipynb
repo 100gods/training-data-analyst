{
 "cells": [
  {
   "cell_type": "code",
   "execution_count": 1,
   "metadata": {},
   "outputs": [
    {
     "name": "stdout",
     "output_type": "stream",
     "text": [
      "Note: you may need to restart the kernel to use updated packages.\n"
     ]
    }
   ],
   "source": [
    "%pip install --upgrade --quiet tf-nightly-2.0-preview #tf-nightly"
   ]
  },
  {
   "cell_type": "code",
   "execution_count": 1,
   "metadata": {},
   "outputs": [
    {
     "name": "stdout",
     "output_type": "stream",
     "text": [
      "2.0.0-dev20190629\n"
     ]
    }
   ],
   "source": [
    "import tensorflow as tf\n",
    "print(tf.__version__)"
   ]
  },
  {
   "cell_type": "code",
   "execution_count": 2,
   "metadata": {},
   "outputs": [
    {
     "name": "stderr",
     "output_type": "stream",
     "text": [
      "WARNING: Logging before flag parsing goes to stderr.\n",
      "W0701 17:39:20.871020 140075871741696 deprecation.py:323] From /home/jupyter/.local/lib/python3.5/site-packages/tensorflow_core/python/feature_column/feature_column_v2.py:4281: IndicatorColumn._variable_shape (from tensorflow.python.feature_column.feature_column_v2) is deprecated and will be removed in a future version.\n",
      "Instructions for updating:\n",
      "The old _FeatureColumn APIs are being deprecated. Please use the new FeatureColumn APIs instead.\n",
      "W0701 17:39:20.872119 140075871741696 deprecation.py:323] From /home/jupyter/.local/lib/python3.5/site-packages/tensorflow_core/python/feature_column/feature_column_v2.py:4336: VocabularyListCategoricalColumn._num_buckets (from tensorflow.python.feature_column.feature_column_v2) is deprecated and will be removed in a future version.\n",
      "Instructions for updating:\n",
      "The old _FeatureColumn APIs are being deprecated. Please use the new FeatureColumn APIs instead.\n",
      "W0701 17:39:20.918486 140075871741696 deprecation.py:323] From /home/jupyter/.local/lib/python3.5/site-packages/tensorflow_core/python/feature_column/feature_column_v2.py:4336: IdentityCategoricalColumn._num_buckets (from tensorflow.python.feature_column.feature_column_v2) is deprecated and will be removed in a future version.\n",
      "Instructions for updating:\n",
      "The old _FeatureColumn APIs are being deprecated. Please use the new FeatureColumn APIs instead.\n"
     ]
    },
    {
     "name": "stdout",
     "output_type": "stream",
     "text": [
      "2.0.0-dev20190629\n"
     ]
    },
    {
     "name": "stderr",
     "output_type": "stream",
     "text": [
      "W0701 17:39:20.997879 140075871741696 training_utils.py:1144] When passing input data as arrays, do not specify `steps_per_epoch`/`steps` argument. Please use `batch_size` instead.\n",
      "W0701 17:39:21.082270 140075871741696 deprecation.py:323] From /home/jupyter/.local/lib/python3.5/site-packages/tensorflow_core/python/keras/optimizer_v2/optimizer_v2.py:460: BaseResourceVariable.constraint (from tensorflow.python.ops.resource_variable_ops) is deprecated and will be removed in a future version.\n",
      "Instructions for updating:\n",
      "Apply a constraint manually following the optimizer update step.\n"
     ]
    },
    {
     "name": "stdout",
     "output_type": "stream",
     "text": [
      "Train on 1 samples\n",
      "\n",
      "Epoch 00001: saving model to 04_keras/checkpoints/nightly.cpt\n",
      "1/1 [==============================] - 0s 151ms/step - loss: 6.2551 - rmse: 2.5010 - mse: 6.2551\n",
      "3/3 [==============================] - 0s 29ms/sample - loss: 6.2406 - rmse: 2.4981 - mse: 6.2406\n"
     ]
    },
    {
     "data": {
      "text/plain": [
       "array([[-0.35985315]], dtype=float32)"
      ]
     },
     "execution_count": 2,
     "metadata": {},
     "output_type": "execute_result"
    }
   ],
   "source": [
    "import tensorflow as tf\n",
    "import pandas as pd\n",
    "import datetime\n",
    "print(tf.__version__)\n",
    "import shutil\n",
    "import os\n",
    "\n",
    "# serving inputs to model\n",
    "inputs = {\n",
    "    'a' : tf.keras.layers.Input(name='a', shape=(), dtype='string')\n",
    "}\n",
    "\n",
    "DAYS = ['Sun', 'Mon', 'Tue', 'Wed', 'Thu', 'Fri', 'Sat']\n",
    "def get_dayofweek(s):\n",
    "    # Python 3.5 doesn't handle timezones of the form 00:00, only 0000\n",
    "    s1 = s.numpy().decode('utf-8') # get Python string\n",
    "    ts = datetime.datetime.strptime(s1.replace(':',''), \"%Y-%m-%d %H%M%S%z\")\n",
    "    return DAYS[ts.weekday()]\n",
    "\n",
    "def dayofweek(ts_in):\n",
    "    return tf.map_fn(\n",
    "        lambda s: tf.py_function(get_dayofweek, inp=[s], Tout=tf.string),\n",
    "        ts_in\n",
    "    )\n",
    "\n",
    "# inputs to model with which model is trained\n",
    "transformed = inputs.copy()\n",
    "transformed['d'] = tf.keras.layers.Lambda(lambda x: dayofweek(x), name='dayofweek_pyfun')(inputs['a'])\n",
    "transformed['d'] = tf.keras.layers.Reshape((), name='dayofweek')(transformed['d'])\n",
    "\n",
    "transformed['h'] = tf.keras.layers.Lambda(\n",
    "        lambda x: tf.strings.to_number(tf.strings.substr(x, 11, 2), out_type=tf.dtypes.int32),\n",
    "        name='hourofday'\n",
    "    )(inputs['a'])\n",
    "\n",
    "# feature columns based on training inputs\n",
    "fc = {\n",
    "    'd' : tf.feature_column.indicator_column(\n",
    "        tf.feature_column.categorical_column_with_vocabulary_list('d', vocabulary_list = DAYS)),\n",
    "    'h' : tf.feature_column.indicator_column(\n",
    "        tf.feature_column.categorical_column_with_identity('h', num_buckets = 24)),\n",
    "}\n",
    "\n",
    "# b/135479527\n",
    "#dh = tf.feature_column.crossed_column(['d', 'h'], 2 )\n",
    "#fc['dh'] = tf.feature_column.embedding_column(dh, 2)\n",
    "    \n",
    "\n",
    "# model architecture\n",
    "fare_thresh = lambda x: 60 * tf.keras.activations.relu(x)\n",
    "ds = tf.keras.layers.DenseFeatures(fc.values())(transformed)\n",
    "output = tf.keras.layers.Dense(1, name='pred')(ds)\n",
    "#output = tf.keras.layers.Dense(1, activation=fare_thresh, name='fare')(ds) # b/136476088\n",
    "model = tf.keras.models.Model(inputs=inputs, outputs=output)\n",
    "\n",
    "\n",
    "\n",
    "def rmse(y_true, y_pred):\n",
    "    return tf.sqrt(tf.reduce_mean(tf.square(y_pred - y_true))) \n",
    "\n",
    "model.compile(optimizer='adam', loss='mse', metrics=[rmse, 'mse'])\n",
    "\n",
    "df = pd.DataFrame.from_dict({\n",
    "    'a': ['2010-02-08 09:17:00+00:00', '2010-02-09 09:17:00+00:00', '2010-02-07 09:17:00+00:00'],\n",
    "})\n",
    "y =  [3.0, 2.0, 2.0]\n",
    "\n",
    "\n",
    "shutil.rmtree('04_keras/checkpoints/', ignore_errors=True)\n",
    "checkpoint_path = \"04_keras/checkpoints/nightly.cpt\"\n",
    "cp_callback = tf.keras.callbacks.ModelCheckpoint(checkpoint_path, \n",
    "                                                 save_weights_only=True,\n",
    "                                                 verbose=1)\n",
    "\n",
    "model.fit([df['a']], y, steps_per_epoch=1, callbacks=[cp_callback])\n",
    "model.evaluate([df['a']], y)\n",
    "\n",
    "model.predict({\n",
    "    'a': tf.convert_to_tensor(['2010-02-08 09:17:00+00:00']),\n",
    "})"
   ]
  },
  {
   "cell_type": "code",
   "execution_count": 3,
   "metadata": {},
   "outputs": [
    {
     "data": {
      "image/png": "[encoded data removed]",
      "text/plain": [
       "<IPython.core.display.Image object>"
      ]
     },
     "execution_count": 3,
     "metadata": {},
     "output_type": "execute_result"
    }
   ],
   "source": [
    "tf.keras.utils.plot_model(model, 'repro_model.png', show_shapes=True)"
   ]
  },
  {
   "cell_type": "code",
   "execution_count": 4,
   "metadata": {},
   "outputs": [
    {
     "name": "stderr",
     "output_type": "stream",
     "text": [
      "W0701 17:39:22.248620 140075871741696 deprecation.py:323] From <ipython-input-4-f42e5ded74e3>:3: export_saved_model (from tensorflow.python.keras.saving.saved_model_experimental) is deprecated and will be removed in a future version.\n",
      "Instructions for updating:\n",
      "Please use `model.save(..., save_format=\"tf\")` or `tf.keras.models.save_model(..., save_format=\"tf\")`.\n",
      "W0701 17:39:22.407885 140075871741696 deprecation.py:506] From /home/jupyter/.local/lib/python3.5/site-packages/tensorflow_core/python/ops/resource_variable_ops.py:1624: calling BaseResourceVariable.__init__ (from tensorflow.python.ops.resource_variable_ops) with constraint is deprecated and will be removed in a future version.\n",
      "Instructions for updating:\n",
      "If using Keras pass *_constraint arguments to layers.\n",
      "W0701 17:39:22.812583 140075871741696 deprecation.py:323] From /home/jupyter/.local/lib/python3.5/site-packages/tensorflow_core/python/saved_model/signature_def_utils_impl.py:253: build_tensor_info (from tensorflow.python.saved_model.utils_impl) is deprecated and will be removed in a future version.\n",
      "Instructions for updating:\n",
      "This function will only be available through the v1 compatibility library as tf.compat.v1.saved_model.utils.build_tensor_info or tf.compat.v1.saved_model.build_tensor_info.\n",
      "W0701 17:39:22.814244 140075871741696 export_utils.py:182] Export includes no default signature!\n",
      "W0701 17:39:23.166348 140075871741696 export_utils.py:182] Export includes no default signature!\n"
     ]
    }
   ],
   "source": [
    "# export as SavedModel\n",
    "shutil.rmtree('04_keras/export/savedmodel', ignore_errors=True)\n",
    "tf.keras.experimental.export_saved_model(model, '04_keras/export/savedmodel')"
   ]
  },
  {
   "cell_type": "code",
   "execution_count": 5,
   "metadata": {},
   "outputs": [
    {
     "name": "stdout",
     "output_type": "stream",
     "text": [
      "The given SavedModel SignatureDef contains the following input(s):\n",
      "  inputs['a'] tensor_info:\n",
      "      dtype: DT_STRING\n",
      "      shape: (-1)\n",
      "      name: a:0\n",
      "The given SavedModel SignatureDef contains the following output(s):\n",
      "  outputs['pred'] tensor_info:\n",
      "      dtype: DT_FLOAT\n",
      "      shape: (-1, 1)\n",
      "      name: pred/BiasAdd:0\n",
      "Method name is: tensorflow/serving/predict\n"
     ]
    }
   ],
   "source": [
    "!saved_model_cli show --tag_set serve --signature_def serving_default --dir 04_keras/export/savedmodel"
   ]
  },
  {
   "cell_type": "code",
   "execution_count": 6,
   "metadata": {},
   "outputs": [
    {
     "name": "stdout",
     "output_type": "stream",
     "text": [
      "04_keras/export/savedmodel\n",
      "04_keras/export/savedmodel/assets\n",
      "04_keras/export/savedmodel/assets/saved_model.json\n",
      "04_keras/export/savedmodel/variables\n",
      "04_keras/export/savedmodel/variables/variables.data-00001-of-00002\n",
      "04_keras/export/savedmodel/variables/variables.index\n",
      "04_keras/export/savedmodel/variables/variables.data-00000-of-00001\n",
      "04_keras/export/savedmodel/variables/variables.data-00000-of-00002\n",
      "04_keras/export/savedmodel/variables/checkpoint\n",
      "04_keras/export/savedmodel/saved_model.pb\n"
     ]
    }
   ],
   "source": [
    "!find 04_keras/export/savedmodel"
   ]
  },
  {
   "cell_type": "code",
   "execution_count": 7,
   "metadata": {},
   "outputs": [
    {
     "name": "stderr",
     "output_type": "stream",
     "text": [
      "W0701 17:39:26.216993 140075871741696 deprecation.py:323] From <ipython-input-7-81e377f898f9>:2: load_from_saved_model (from tensorflow.python.keras.saving.saved_model_experimental) is deprecated and will be removed in a future version.\n",
      "Instructions for updating:\n",
      "The experimental save and load functions have been  deprecated. Please switch to `tf.keras.models.load_model`.\n",
      "W0701 17:39:26.275084 140075871741696 util.py:144] Unresolved object in checkpoint: (root).optimizer\n",
      "W0701 17:39:26.276020 140075871741696 util.py:144] Unresolved object in checkpoint: (root).optimizer.iter\n",
      "W0701 17:39:26.277042 140075871741696 util.py:144] Unresolved object in checkpoint: (root).optimizer.beta_1\n",
      "W0701 17:39:26.277798 140075871741696 util.py:144] Unresolved object in checkpoint: (root).optimizer.beta_2\n",
      "W0701 17:39:26.278487 140075871741696 util.py:144] Unresolved object in checkpoint: (root).optimizer.decay\n",
      "W0701 17:39:26.279385 140075871741696 util.py:144] Unresolved object in checkpoint: (root).optimizer.learning_rate\n",
      "W0701 17:39:26.284959 140075871741696 util.py:144] Unresolved object in checkpoint: (root).optimizer's state 'm' for (root).layer_with_weights-0.kernel\n",
      "W0701 17:39:26.285728 140075871741696 util.py:144] Unresolved object in checkpoint: (root).optimizer's state 'm' for (root).layer_with_weights-0.bias\n",
      "W0701 17:39:26.286322 140075871741696 util.py:144] Unresolved object in checkpoint: (root).optimizer's state 'v' for (root).layer_with_weights-0.kernel\n",
      "W0701 17:39:26.287086 140075871741696 util.py:144] Unresolved object in checkpoint: (root).optimizer's state 'v' for (root).layer_with_weights-0.bias\n",
      "W0701 17:39:26.287845 140075871741696 util.py:152] A checkpoint was restored (e.g. tf.train.Checkpoint.restore or tf.keras.Model.load_weights) but not all checkpointed values were used. See above for specific issues. Use expect_partial() on the load status object, e.g. tf.train.Checkpoint.restore(...).expect_partial(), to silence these warnings, or use assert_consumed() to make the check explicit. See https://www.tensorflow.org/alpha/guide/checkpoints#loading_mechanics for details.\n",
      "W0701 17:39:26.497683 140075871741696 util.py:144] Unresolved object in checkpoint: (root).optimizer.beta_1\n",
      "W0701 17:39:26.498701 140075871741696 util.py:144] Unresolved object in checkpoint: (root).optimizer.beta_2\n",
      "W0701 17:39:26.500488 140075871741696 util.py:144] Unresolved object in checkpoint: (root).optimizer.decay\n",
      "W0701 17:39:26.502710 140075871741696 util.py:144] Unresolved object in checkpoint: (root).optimizer.learning_rate\n",
      "W0701 17:39:26.503939 140075871741696 util.py:144] Unresolved object in checkpoint: (root).optimizer's state 'm' for (root).layer_with_weights-0.kernel\n",
      "W0701 17:39:26.505305 140075871741696 util.py:144] Unresolved object in checkpoint: (root).optimizer's state 'm' for (root).layer_with_weights-0.bias\n",
      "W0701 17:39:26.506514 140075871741696 util.py:144] Unresolved object in checkpoint: (root).optimizer's state 'v' for (root).layer_with_weights-0.kernel\n",
      "W0701 17:39:26.507798 140075871741696 util.py:144] Unresolved object in checkpoint: (root).optimizer's state 'v' for (root).layer_with_weights-0.bias\n",
      "W0701 17:39:26.508683 140075871741696 util.py:152] A checkpoint was restored (e.g. tf.train.Checkpoint.restore or tf.keras.Model.load_weights) but not all checkpointed values were used. See above for specific issues. Use expect_partial() on the load status object, e.g. tf.train.Checkpoint.restore(...).expect_partial(), to silence these warnings, or use assert_consumed() to make the check explicit. See https://www.tensorflow.org/alpha/guide/checkpoints#loading_mechanics for details.\n"
     ]
    },
    {
     "data": {
      "text/plain": [
       "array([[-0.35985315]], dtype=float32)"
      ]
     },
     "execution_count": 7,
     "metadata": {},
     "output_type": "execute_result"
    }
   ],
   "source": [
    "# restore from SavedModel\n",
    "loaded_model = tf.keras.experimental.load_from_saved_model('04_keras/export/savedmodel')\n",
    "loaded_model.predict({\n",
    "    'a': tf.convert_to_tensor(['2010-02-08 09:17:00+00:00']),\n",
    "})"
   ]
  },
  {
   "cell_type": "code",
   "execution_count": 8,
   "metadata": {},
   "outputs": [
    {
     "name": "stdout",
     "output_type": "stream",
     "text": [
      "Overwriting repro.json\n"
     ]
    }
   ],
   "source": [
    "%%writefile repro.json\n",
    "{\"a\": \"2010-02-08 09:17:00+00:00\"}"
   ]
  },
  {
   "cell_type": "code",
   "execution_count": 10,
   "metadata": {},
   "outputs": [
    {
     "name": "stdout",
     "output_type": "stream",
     "text": [
      "Python 3.5.3\n"
     ]
    }
   ],
   "source": [
    "!python3 --version"
   ]
  },
  {
   "cell_type": "code",
   "execution_count": 59,
   "metadata": {},
   "outputs": [
    {
     "name": "stdout",
     "output_type": "stream",
     "text": [
      "repro already exists\n",
      "Creating repro:v1\n"
     ]
    }
   ],
   "source": [
    "%%bash\n",
    "MODEL_NAME=repro\n",
    "VERSION_NAME=v1\n",
    "if [[ $(gcloud ai-platform models list --format='value(name)' | grep $MODEL_NAME) ]]; then\n",
    "    echo \"$MODEL_NAME already exists\"\n",
    "else\n",
    "    # create model\n",
    "    echo \"Creating $MODEL_NAME\"\n",
    "    gcloud ai-platform models create --regions=us-central1 $MODEL_NAME\n",
    "fi\n",
    "\n",
    "if [[ $(gcloud ai-platform versions list --model $MODEL_NAME --format='value(name)' | grep $VERSION_NAME) ]]; then\n",
    "    echo \"Deleting already existing $MODEL_NAME:$VERSION_NAME ... \"\n",
    "    gcloud ai-platform versions delete --model=$MODEL_NAME $VERSION_NAME\n",
    "    echo \"Please run this cell again if you don't see a Creating message ... \"\n",
    "    sleep 10\n",
    "fi\n",
    "\n",
    "# create model\n",
    "echo \"Creating $MODEL_NAME:$VERSION_NAME\"\n",
    "gcloud ai-platform versions create --model=$MODEL_NAME $VERSION_NAME --async \\\n",
    "       --framework=tensorflow --origin=04_keras/export/savedmodel --staging-bucket=gs://cloud-training-demos-ml"
   ]
  },
  {
   "cell_type": "code",
   "execution_count": 50,
   "metadata": {},
   "outputs": [
    {
     "name": "stdout",
     "output_type": "stream",
     "text": [
      "v1\n"
     ]
    }
   ],
   "source": [
    "!gcloud ai-platform versions list --model repro --format='value(name)'"
   ]
  },
  {
   "cell_type": "code",
   "execution_count": 57,
   "metadata": {},
   "outputs": [
    {
     "name": "stdout",
     "output_type": "stream",
     "text": [
      "\u001b[1;31mERROR:\u001b[0m (gcloud.ai-platform.predict) HTTP request failed. Response: {\n",
      "  \"error\": {\n",
      "    \"code\": 404,\n",
      "    \"message\": \"Field: name Error: Online prediction is unavailable for this version. Please verify that CreateVersion has completed successfully.\",\n",
      "    \"status\": \"NOT_FOUND\",\n",
      "    \"details\": [\n",
      "      {\n",
      "        \"@type\": \"type.googleapis.com/google.rpc.BadRequest\",\n",
      "        \"fieldViolations\": [\n",
      "          {\n",
      "            \"field\": \"name\",\n",
      "            \"description\": \"Online prediction is unavailable for this version. Please verify that CreateVersion has completed successfully.\"\n",
      "          }\n",
      "        ]\n",
      "      }\n",
      "    ]\n",
      "  }\n",
      "}\n",
      "\n"
     ]
    }
   ],
   "source": [
    "!gcloud ai-platform predict --model=repro --version=v1 --json-instances=repro.json"
   ]
  },
  {
   "cell_type": "code",
   "execution_count": null,
   "metadata": {},
   "outputs": [],
   "source": []
  }
 ],
 "metadata": {
  "kernelspec": {
   "display_name": "Python 3",
   "language": "python",
   "name": "python3"
  },
  "language_info": {
   "codemirror_mode": {
    "name": "ipython",
    "version": 3
   },
   "file_extension": ".py",
   "mimetype": "text/x-python",
   "name": "python",
   "nbconvert_exporter": "python",
   "pygments_lexer": "ipython3",
   "version": "3.5.3"
  }
 },
 "nbformat": 4,
 "nbformat_minor": 2
}
