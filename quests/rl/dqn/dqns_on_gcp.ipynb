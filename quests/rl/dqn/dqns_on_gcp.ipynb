{
 "cells": [
  {
   "cell_type": "markdown",
   "metadata": {},
   "source": [
    "# DQNs on GCP\n",
    "\n",
    "Reinforcement Learning (RL) Agents can be quite fickle. This is because the environment for an Agent is different than that of Supervised and Unsupervised algorithms.\n",
    "\n",
    "| Supervised / Unsupervised | Reinforcement Learning |\n",
    "| ----------- | ----------- |\n",
    "| Data is previously gathered | Data needs to be simulated |\n",
    "| Big Data: Many examples covering many siutations | Sparse Data: Agent trades off between exploring and exploiting | \n",
    "| The environment is assumed static | The environment may change in response to the agent |\n",
    "\n",
    "Because of this, hyperparameter tuning is even more crucial in RL as it not only impacts the training of the agent's neural network, but it also impacts how the data is gathered through simulation.\n",
    "\n",
    "## Setup\n",
    "\n",
    "Hypertuning takes some time, and in this case, it can take anywhere between **10 - 30 minutes**. Let's kick off the training job now, and step through what the code is doing while our agents learn."
   ]
  },
  {
   "cell_type": "code",
   "execution_count": 81,
   "metadata": {},
   "outputs": [
    {
     "name": "stdout",
     "output_type": "stream",
     "text": [
      "jobId: dqn_on_gcp_191025_015602\n",
      "state: QUEUED\n"
     ]
    },
    {
     "name": "stderr",
     "output_type": "stream",
     "text": [
      "Job [dqn_on_gcp_191025_015602] submitted successfully.\n",
      "Your job is still active. You may view the status of your job with the command\n",
      "\n",
      "  $ gcloud ai-platform jobs describe dqn_on_gcp_191025_015602\n",
      "\n",
      "or continue streaming the logs with the command\n",
      "\n",
      "  $ gcloud ai-platform jobs stream-logs dqn_on_gcp_191025_015602\n"
     ]
    }
   ],
   "source": [
    "%%bash\n",
    "BUCKET=ddetering-experimental # Change to your bucket name\n",
    "JOB_NAME=dqn_on_gcp_$(date -u +%y%m%d_%H%M%S)\n",
    "REGION='us-central1' # Change to your bucket region\n",
    "IMAGE_URI=gcr.io/ddetering-experimental/dqn_on_gcp\n",
    "\n",
    "gcloud ai-platform jobs submit training $JOB_NAME \\\n",
    "    --staging-bucket=gs://$BUCKET \\\n",
    "    --region=$REGION \\\n",
    "    --master-image-uri=$IMAGE_URI \\\n",
    "    --scale-tier=BASIC_GPU \\\n",
    "    --job-dir=gs://$BUCKET/$JOB_NAME \\\n",
    "    --config=hyperparam.yaml"
   ]
  },
  {
   "cell_type": "markdown",
   "metadata": {},
   "source": [
    "The above command sends a [hyperparameter tuning job](https://cloud.google.com/ml-engine/docs/hyperparameter-tuning-overview) to the [Google Cloud AI Platform](https://cloud.google.com/sdk/gcloud/reference/ai-platform/jobs/submit/training). It's a service that sets up scaling distributed training so data scientists and machine learning engineers do not have to worry about technical infrastructure. Usually, it automatically selects the [container environment](https://cloud.google.com/ml-engine/docs/runtime-version-list), but we're going to take advantage of a feature to specify our own environment with [Docker](https://www.docker.com/resources/what-container). Not only will this allow us to install our game environment to be deployed to the cloud, but it will also significantly speed up hyperparameter tuning time as each worker can skip the library installation steps.\n",
    "\n",
    "The <a href=\"Dockerfile\">Dockerfile</a> in this directory shows the steps taken to build this environment. First, we copy from a [Google Deep Learning Container](https://cloud.google.com/ai-platform/deep-learning-containers/docs/choosing-container) which already has Google Cloud Libraries installed. Then, we install our other desired modules and libraries. `ffmpeg`, `xvfb`, and `python-opengl` are needed in order to get video output from the server. Machines on the cloud don't typically have a display (why would they need one?), so we'll make a virtual display of our own.\n",
    "\n",
    "After we copy our code, we tell the container to be configured as an executable so we can pass our hyperparameter tuning flags to it with the [ENTRYPOINT](https://stackoverflow.com/questions/21553353/what-is-the-difference-between-cmd-and-entrypoint-in-a-dockerfile) command. In order to set up our virtual display, we can use the [xvfb-run](http://manpages.ubuntu.com/manpages/trusty/man1/xvfb-run.1.html) command. Unfortunately, Docker strips quotes from specified commands in ENTRYPOINT, so we'll make a super simple shell script, <a href=\"train_model.sh\">train_model.sh</a>, to specify our virtual display parameters. The `\"@\"` parameter is used to pass the flags called against the container to our python module, `trainer.trainer`.\n",
    "\n",
    "## CartPole-v0\n",
    "\n",
    "So what is the game we'll be solving for? We'll be playing with [AI Gym's CartPole Environment](https://gym.openai.com/envs/CartPole-v1/). As MNIST is the \"Hello World\" of image classification, CartPole is the \"Hellow World\" of Deep Q Networks. Let's install [OpenAI Gym](https://gym.openai.com/) and play with the game ourselves!"
   ]
  },
  {
   "cell_type": "code",
   "execution_count": 12,
   "metadata": {},
   "outputs": [
    {
     "name": "stdout",
     "output_type": "stream",
     "text": [
      "gym==0.12.5\n",
      "tensorflow==2.0.0b1\n"
     ]
    }
   ],
   "source": [
    "!python3 -m pip freeze | grep gym || python3 -m pip install gym==0.12.5\n",
    "!python3 -m pip freeze | grep tensorflow==2 || python3 -m pip install tensorflow==2.0.0b1"
   ]
  },
  {
   "cell_type": "markdown",
   "metadata": {},
   "source": [
    "###### Note: Restart the kernel if the above libraries needed to be installed\n",
    "\n",
    "The `gym` library hosts a number of different gaming environments that our agents (and us humans) can play around in. To make an environment, we simply need to pass it what game we'd like to play with the `make` method.\n",
    "\n",
    "This will create an environment object with a number of useful methods and properties.\n",
    "* The `observation_space` parameter is the structure of observations about the environment.\n",
    "  - Each \"state\" or snapshot or our environment will follow this structure\n",
    "* The `action_space` parameter is the possible actions the agent can take\n",
    "\n",
    "So for example, with CartPole, there are 4 observation dimensions which represent `[Cart Position, Cart Velocity, Pole Angle, Pole Velocity At Tip]`. For the actions, there are 2 possible actions to take: 0 pushes the cart to the left, and 1 pushes the cart to the right. More detail is described in the game's code [here](https://github.com/openai/gym/blob/master/gym/envs/classic_control/cartpole.py)."
   ]
  },
  {
   "cell_type": "code",
   "execution_count": 90,
   "metadata": {},
   "outputs": [
    {
     "name": "stdout",
     "output_type": "stream",
     "text": [
      "The observation space is Box(4,)\n",
      "The observation dimensions are (4,)\n",
      "The action space is Discrete(2)\n",
      "The number of possible actions is 2\n"
     ]
    }
   ],
   "source": [
    "from collections import deque\n",
    "import random\n",
    "\n",
    "import gym\n",
    "import numpy as np\n",
    "import tensorflow as tf\n",
    "from tensorflow.keras import layers, models\n",
    "\n",
    "\n",
    "env = gym.make('CartPole-v0')\n",
    "print(\"The observation space is\", env.observation_space)\n",
    "print(\"The observation dimensions are\", env.observation_space.shape)\n",
    "print(\"The action space is\", env.action_space)\n",
    "print(\"The number of possible actions is\", env.action_space.n)"
   ]
  },
  {
   "cell_type": "markdown",
   "metadata": {},
   "source": [
    "* The `reset` method will restart the environment and return a starting state.\n",
    "* The `step` method takes an action, applies it to the environment and returns a new state. Each step returns a new state, the transition reward, whether the game is over or not, and game specific information. For CartPole, there is no extra info, so it returns a blank dictionary."
   ]
  },
  {
   "cell_type": "code",
   "execution_count": 58,
   "metadata": {},
   "outputs": [
    {
     "name": "stdout",
     "output_type": "stream",
     "text": [
      "Step 0 - Cart X: 0.019, Cart V: 0.038, Pole A: 0.010, Pole V:-0.023, Reward:None\n"
     ]
    }
   ],
   "source": [
    "def print_state(state, step, reward=None):\n",
    "    format_string = 'Step {0} - Cart X: {1:.3f}, Cart V: {2:.3f}, Pole A: {3:.3f}, Pole V:{4:.3f}, Reward:{5}'\n",
    "    print(format_string.format(step, *tuple(state), reward))\n",
    "\n",
    "state = env.reset()\n",
    "step = 0\n",
    "print_state(state, step)"
   ]
  },
  {
   "cell_type": "code",
   "execution_count": 47,
   "metadata": {},
   "outputs": [
    {
     "name": "stdout",
     "output_type": "stream",
     "text": [
      "Step 1 - Cart X: 0.014, Cart V: -0.171, Pole A: -0.026, Pole V:0.326, Reward:1.0\n",
      "The game can continue.\n",
      "Info: {}\n"
     ]
    }
   ],
   "source": [
    "action = 0\n",
    "state_prime, reward, done, info = env.step(action)\n",
    "step += 1\n",
    "print_state(state_prime, step, reward)\n",
    "print(\"The game is over.\" if done else \"The game can continue.\")\n",
    "print(\"Info:\", info)"
   ]
  },
  {
   "cell_type": "markdown",
   "metadata": {},
   "source": [
    "Run the cell below repeatedly until the game is over, changing the action to push the cart left(0) or right(1). The game is considered \"won\" when the pole can stay up for an average of steps 195 over 100 games. How far can you get? An agent acting randomly can only survive about 10 steps."
   ]
  },
  {
   "cell_type": "code",
   "execution_count": 74,
   "metadata": {},
   "outputs": [
    {
     "name": "stdout",
     "output_type": "stream",
     "text": [
      "Step 16 - Cart X: -0.001, Cart V: 0.030, Pole A: 0.070, Pole V:0.156, Reward:1.0\n",
      "The game can continue.\n"
     ]
    }
   ],
   "source": [
    "action = 1  # Change me: 0 Left, 1 Right\n",
    "state_prime, reward, done, info = env.step(action)\n",
    "step += 1\n",
    "\n",
    "print_state(state_prime, step, reward)\n",
    "print(\"The game is over.\" if done else \"The game can continue.\")"
   ]
  },
  {
   "cell_type": "markdown",
   "metadata": {},
   "source": [
    "We can make our own policy and create a loop to play through an episode (one full simulation) of the game. Below, actions are generated to alternate between pushing the cart left and right. The code is very similar to how our agents will be interacting with the game environment."
   ]
  },
  {
   "cell_type": "code",
   "execution_count": 79,
   "metadata": {},
   "outputs": [
    {
     "name": "stdout",
     "output_type": "stream",
     "text": [
      "Step 1 - Cart X: 0.033, Cart V: -0.222, Pole A: -0.014, Pole V:0.275, Reward:1.0\n",
      "Step 2 - Cart X: 0.028, Cart V: -0.027, Pole A: -0.008, Pole V:-0.022, Reward:1.0\n",
      "Step 3 - Cart X: 0.028, Cart V: -0.222, Pole A: -0.009, Pole V:0.268, Reward:1.0\n",
      "Step 4 - Cart X: 0.023, Cart V: -0.027, Pole A: -0.004, Pole V:-0.027, Reward:1.0\n",
      "Step 5 - Cart X: 0.023, Cart V: -0.222, Pole A: -0.004, Pole V:0.264, Reward:1.0\n",
      "Step 6 - Cart X: 0.019, Cart V: -0.027, Pole A: 0.001, Pole V:-0.030, Reward:1.0\n",
      "Step 7 - Cart X: 0.018, Cart V: -0.222, Pole A: 0.001, Pole V:0.263, Reward:1.0\n",
      "Step 8 - Cart X: 0.014, Cart V: -0.027, Pole A: 0.006, Pole V:-0.029, Reward:1.0\n",
      "Step 9 - Cart X: 0.013, Cart V: -0.222, Pole A: 0.005, Pole V:0.265, Reward:1.0\n",
      "Step 10 - Cart X: 0.009, Cart V: -0.027, Pole A: 0.011, Pole V:-0.026, Reward:1.0\n",
      "Step 11 - Cart X: 0.008, Cart V: -0.222, Pole A: 0.010, Pole V:0.270, Reward:1.0\n",
      "Step 12 - Cart X: 0.004, Cart V: -0.027, Pole A: 0.016, Pole V:-0.019, Reward:1.0\n",
      "Step 13 - Cart X: 0.003, Cart V: -0.223, Pole A: 0.015, Pole V:0.279, Reward:1.0\n",
      "Step 14 - Cart X: -0.001, Cart V: -0.028, Pole A: 0.021, Pole V:-0.009, Reward:1.0\n",
      "Step 15 - Cart X: -0.002, Cart V: -0.223, Pole A: 0.021, Pole V:0.290, Reward:1.0\n",
      "Step 16 - Cart X: -0.006, Cart V: -0.028, Pole A: 0.026, Pole V:0.004, Reward:1.0\n",
      "Step 17 - Cart X: -0.007, Cart V: -0.224, Pole A: 0.026, Pole V:0.305, Reward:1.0\n",
      "Step 18 - Cart X: -0.011, Cart V: -0.029, Pole A: 0.032, Pole V:0.020, Reward:1.0\n",
      "Step 19 - Cart X: -0.012, Cart V: -0.225, Pole A: 0.033, Pole V:0.323, Reward:1.0\n",
      "Step 20 - Cart X: -0.017, Cart V: -0.030, Pole A: 0.039, Pole V:0.041, Reward:1.0\n",
      "Step 21 - Cart X: -0.017, Cart V: -0.226, Pole A: 0.040, Pole V:0.346, Reward:1.0\n",
      "Step 22 - Cart X: -0.022, Cart V: -0.031, Pole A: 0.047, Pole V:0.066, Reward:1.0\n",
      "Step 23 - Cart X: -0.022, Cart V: -0.227, Pole A: 0.048, Pole V:0.373, Reward:1.0\n",
      "Step 24 - Cart X: -0.027, Cart V: -0.032, Pole A: 0.056, Pole V:0.096, Reward:1.0\n",
      "Step 25 - Cart X: -0.027, Cart V: -0.228, Pole A: 0.058, Pole V:0.406, Reward:1.0\n",
      "Step 26 - Cart X: -0.032, Cart V: -0.034, Pole A: 0.066, Pole V:0.132, Reward:1.0\n",
      "Step 27 - Cart X: -0.033, Cart V: -0.230, Pole A: 0.069, Pole V:0.445, Reward:1.0\n",
      "Step 28 - Cart X: -0.037, Cart V: -0.036, Pole A: 0.077, Pole V:0.174, Reward:1.0\n",
      "Step 29 - Cart X: -0.038, Cart V: -0.232, Pole A: 0.081, Pole V:0.490, Reward:1.0\n",
      "Step 30 - Cart X: -0.043, Cart V: -0.038, Pole A: 0.091, Pole V:0.224, Reward:1.0\n",
      "Step 31 - Cart X: -0.043, Cart V: -0.235, Pole A: 0.095, Pole V:0.544, Reward:1.0\n",
      "Step 32 - Cart X: -0.048, Cart V: -0.041, Pole A: 0.106, Pole V:0.283, Reward:1.0\n",
      "Step 33 - Cart X: -0.049, Cart V: -0.237, Pole A: 0.112, Pole V:0.607, Reward:1.0\n",
      "Step 34 - Cart X: -0.054, Cart V: -0.044, Pole A: 0.124, Pole V:0.352, Reward:1.0\n",
      "Step 35 - Cart X: -0.055, Cart V: -0.241, Pole A: 0.131, Pole V:0.681, Reward:1.0\n",
      "Step 36 - Cart X: -0.059, Cart V: -0.048, Pole A: 0.145, Pole V:0.432, Reward:1.0\n",
      "Step 37 - Cart X: -0.060, Cart V: -0.244, Pole A: 0.153, Pole V:0.766, Reward:1.0\n",
      "Step 38 - Cart X: -0.065, Cart V: -0.052, Pole A: 0.169, Pole V:0.526, Reward:1.0\n",
      "Step 39 - Cart X: -0.066, Cart V: -0.249, Pole A: 0.179, Pole V:0.866, Reward:1.0\n",
      "Step 40 - Cart X: -0.071, Cart V: -0.056, Pole A: 0.196, Pole V:0.635, Reward:1.0\n",
      "Step 41 - Cart X: -0.072, Cart V: -0.254, Pole A: 0.209, Pole V:0.982, Reward:1.0\n",
      "Step 42 - Cart X: -0.077, Cart V: -0.062, Pole A: 0.229, Pole V:0.762, Reward:1.0\n",
      "Game over! Score = 42.0\n"
     ]
    }
   ],
   "source": [
    "# [0, 1, 0, 1, 0, 1, ...]\n",
    "actions = [x % 2 for x in range(200)]\n",
    "state = env.reset()\n",
    "step = 0\n",
    "episode_reward = 0\n",
    "done = False\n",
    "\n",
    "while not done and step < len(actions):\n",
    "    action = actions[step]  # In the future, our agents will define this.\n",
    "    state_prime, reward, done, info = env.step(action)\n",
    "    episode_reward += reward\n",
    "    step += 1\n",
    "    state = state_prime\n",
    "    print_state(state, step, reward)\n",
    "\n",
    "end_statement = \"Game over!\" if done else \"Ran out of actions!\"\n",
    "print(end_statement, \"Score =\", episode_reward)"
   ]
  },
  {
   "cell_type": "markdown",
   "metadata": {},
   "source": [
    "It's a challenge to get to 200! We could repeatedly experiment to find the best heuristics to beat the game, or we could leave all that work to the robot. Let's create an intelligence to figure this out for us.\n",
    "\n",
    "## The Theory Behind Deep Q Networks\n",
    "\n",
    "The fundamental principle behind RL is we have two entities: the **agent** and the **environment**. The agent takes state and reward information about the envionment and chooses an action. The environment takes that action and will change to be in a new state.\n",
    "\n",
    "<img src=\"https://docs.google.com/drawings/d/e/2PACX-1vQy37Si3hVcTIe7tDjW_6CABuMu9egjoyt3r99m-ljAN4ZgpKMY-oj6WWahc5bWd0EcJWJaRK8MLhiZ/pub?w=476&h=260\">\n",
    "\n",
    "RL assumes that the environment follows a [Markov Decision Process (MDP)](https://en.wikipedia.org/wiki/Markov_decision_process). That means the state is dependent partially on the agent's actions, and partially on chance. MDPs can be represented by a graph, with states and actions as nodes, and rewards and path probabilities on the edges.\n",
    "\n",
    "<img src=\"https://docs.google.com/drawings/d/e/2PACX-1vQEpjMqlQkRXSqg11xO5m_qq8gBVm0HzU7S-s8iBq_vgrnnGEeJZJrAdbVsigzqb8jh3meNhfLtjyKH/pub?w=471&h=243\">\n",
    "\n",
    "So what would be the best path through the graph above? Or perhaps a more difficult question, what would be our expected winnings if we played optimally? The probability intriduced in this problem has inspired multiple strategies over the years, but all of them boil down to the idea of discounted future rewards.\n",
    "\n",
    "Would you rather have `$100` now or `$105` a year from now? With inflation, there's no definitive answer, but each of us has a threshold that we use to determine the value of something now versus the value of something later. In psychology, this is called [Delayed Gratification](https://en.wikipedia.org/wiki/Delayed_gratification). Richard E. Bellman boiled this theory down into an equation widely used in RL called the [Bellman Equation](https://en.wikipedia.org/wiki/Bellman_equation). Let's introduce some vocab to better define it.\n",
    "\n",
    "| Symbol | Name | Definition | Example |\n",
    "| - | - | - | - |\n",
    "| | agent | An entity that can act and transition between states | Us when we play CartPole |\n",
    "| s | state | The environmental parameters describing where the agent is | The position of the cart and angle of the pole |\n",
    "| a | action | What the agent can do within a state | Pushing the cart left or right |\n",
    "| t | time / step | One transition between states | One push of the cart |\n",
    "| v, V(s) | value | How much a state is worth | V(state with treasurelast state before dropping the pole) = 0\n",
    "| r, R(s, a) | reward | Value gained or lost transitioning between states through an action | R(keeping the pole up) = 1 |\n",
    "| γ | gamma | How much to value a current state based on a future state | Coming up soon |\n",
    "| 𝜋, 𝜋(s) | policy |The recommended action to the agent based on the current state | π(in trouble) = honesty |\n",
    "\n",
    "Bellman realized this: The value of our current state should the discounted value of the next state the agent will be in plus any rewards picked up along the way, given the agent takes the best action to maximize this.\n",
    "\n",
    "Using all the symbols from above, we get:\n",
    "\n",
    "<img src=\"https://docs.google.com/drawings/d/e/2PACX-1vTy36nUQguPZCzA8a7acdb7AZhrTHKMw9EkH6KjrBD9C3aZaf_IrPxdNxdCmDcnzJ0hVY4aJJXhtmEX/pub?w=260&h=50\">\n",
    "\n",
    "However, this is assuming we know all the states, their corresponding actions, and their rewards. If we don't know this in advance, we can explore and simulate this equation with what is called the [Q equation](https://en.wikipedia.org/wiki/Q-learning):\n",
    "\n",
    "<img src=\"https://wikimedia.org/api/rest_v1/media/math/render/svg/47fa1e5cf8cf75996a777c11c7b9445dc96d4637\">\n",
    "\n",
    "Here, the value function is replaced with the Q value, which is a function of a state and action. The learning rate is how much we want to change our old Q value with new information found during simulation. Visually, this results in a Q-table, where rows are the states, actions are the columns, and each cell is the value found through simulation.\n",
    "\n",
    "|| Binge Watch Show | Go to bed | Non-Screen Time |\n",
    "|-|-|-|-|\n",
    "| Midnight - 4AM | 0 | 1 | .25 |\n",
    "| 4AM - 8AM | .25 | .75 | .25 |\n",
    "| 8AM - Noon | .5 | .25 | .5 |\n",
    "| Noon - 4PM | 1 | 0 | .25 |\n",
    "| 4PM - 8PM | 1 | .25 |\n",
    "| 8PM - Midnight | .25 | .5 | .5 |\n",
    "\n",
    "So this is cool and all, but how exactly does this fit in with CartPole? Here, MDPs are discrete states. CartPole has multidimensional states on a continuous scale. This is where neural networks save the day! Rather than categorize each state, we can feed state properties into our network. By have the same number of output nodes as possible actions, our network can be used to predict the value of the next state given the current state and action.\n",
    "\n",
    "## Building the Agent\n",
    "\n",
    "These networks can be configured with the same architectures and tools as other problems, such as CNNs and LSTMs. However, the one gotcha is that uses a specialized loss function. We'll instead be using the derivative of the Bellman Equation. Let's go ahead and define our model function as it is in trainer/model.py"
   ]
  },
  {
   "cell_type": "code",
   "execution_count": 80,
   "metadata": {},
   "outputs": [],
   "source": [
    "def deep_q_network(\n",
    "        state_shape, action_size, learning_rate, hidden_neurons):\n",
    "    \"\"\"Creates a Deep Q Network to emulate Q-learning.\n",
    "\n",
    "    Creates a two hidden-layer Deep Q Network. Similar to a typical nueral\n",
    "    network, the loss function is altered to reduce the difference between\n",
    "    predicted Q-values and Target Q-values.\n",
    "\n",
    "    Args:\n",
    "        space_shape: a tuple of ints representing the observation space.\n",
    "        action_size (int): the number of possible actions.\n",
    "        learning_rate (float): the nueral network's learning rate.\n",
    "        hidden_neurons (int): the number of neurons to use per hidden\n",
    "            layer.\n",
    "    \"\"\"\n",
    "    state_input = layers.Input(state_shape, name='frames')\n",
    "    actions_input = layers.Input((action_size,), name='mask')\n",
    "\n",
    "    hidden_1 = layers.Dense(hidden_neurons, activation='relu')(state_input)\n",
    "    hidden_2 = layers.Dense(hidden_neurons, activation='relu')(hidden_1)\n",
    "    q_values = layers.Dense(action_size)(hidden_2)\n",
    "    masked_q_values = layers.Multiply()([q_values, actions_input])\n",
    "\n",
    "    model = models.Model(\n",
    "        inputs=[state_input, actions_input], outputs=masked_q_values)\n",
    "    optimizer = tf.keras.optimizers.RMSprop(lr=learning_rate)\n",
    "    model.compile(loss='mse', optimizer=optimizer)\n",
    "    return model"
   ]
  },
  {
   "cell_type": "markdown",
   "metadata": {},
   "source": [
    "Notice any other atypical aspects of this network?\n",
    "\n",
    "Here, we take in both state and actions as inputs to our network. The states are fed in as normal, but the actions are used to \"mask\" the output. This is actually used for faster training, as we'd only want to update the nodes correspnding to the action that we simulated.\n",
    "\n",
    "The Bellman Equation actually isn't in the network. That's because this is only the \"brain\" of our agent. As an intelligence, it has much more! Before we get to how exactly the agent learns, let's looks at the other aspects of its body: \"Memory\" and \"Exploration\".\n",
    "\n",
    "Just like other neural network algorithms, we need data to train on. However, this data is the result of our simulations, not something previously stored in a table. Thus, we're going to give our agent a memory where we can store state - action - new state transitions to learn on.\n",
    "\n",
    "Each time the agent takes a step in gym, we'll save `(state, action, reward, state_prime, done)` to our buffer, which is defined like so."
   ]
  },
  {
   "cell_type": "code",
   "execution_count": 83,
   "metadata": {},
   "outputs": [],
   "source": [
    "class Memory():\n",
    "    \"\"\"Sets up a memory replay buffer for a Deep Q Network.\n",
    "\n",
    "    A simple memory buffer for a DQN. This one randomly selects state\n",
    "    transitions with uniform probability, but research has gone into\n",
    "    other methods. For instance, a weight could be given to each memory\n",
    "    depending on how big of a difference there is between predicted Q values\n",
    "    and target Q values.\n",
    "\n",
    "    Args:\n",
    "        memory_size (int): How many elements to hold in the memory buffer.\n",
    "        batch_size (int): The number of elements to include in a replay batch.\n",
    "        gamma (float): The \"discount rate\" used to assess Q values.\n",
    "    \"\"\"\n",
    "    def __init__(self, memory_size, batch_size, gamma):\n",
    "        self.buffer = deque(maxlen=memory_size)\n",
    "        self.batch_size = batch_size\n",
    "        self.gamma = gamma\n",
    "\n",
    "    def add(self, experience):\n",
    "        \"\"\"Adds an experience into the memory buffer.\n",
    "\n",
    "        Args:\n",
    "            experience: a (state, action, reward, state_prime, done) tuple.\n",
    "        \"\"\"\n",
    "        self.buffer.append(experience)\n",
    "\n",
    "    def sample(self):\n",
    "        \"\"\"Uniformally selects from the replay memory buffer.\n",
    "\n",
    "        Uniformally and randomly selects experiences to train the nueral\n",
    "        network on. Transposes the experiences to allow batch math on\n",
    "        the experience components.\n",
    "\n",
    "        Returns:\n",
    "            (list): A list of lists with structure [\n",
    "                [states], [actions], [rewards], [state_primes], [dones]\n",
    "            ]\n",
    "        \"\"\"\n",
    "        buffer_size = len(self.buffer)\n",
    "        index = np.random.choice(\n",
    "            np.arange(buffer_size), size=self.batch_size, replace=False)\n",
    "\n",
    "        # Columns have different data types, so numpy array would be awkward.\n",
    "        batch = np.array([self.buffer[i] for i in index]).T.tolist()\n",
    "        states_mb = tf.convert_to_tensor(np.array(batch[0], dtype=np.float32))\n",
    "        actions_mb = np.array(batch[1], dtype=np.int8)\n",
    "        rewards_mb = np.array(batch[2], dtype=np.float32)\n",
    "        states_prime_mb = np.array(batch[3], dtype=np.float32)\n",
    "        dones_mb = batch[4]\n",
    "        return states_mb, actions_mb, rewards_mb, states_prime_mb, dones_mb"
   ]
  },
  {
   "cell_type": "markdown",
   "metadata": {},
   "source": [
    "Let's make a fake buffer and play around with it! We'll add the memory into our game play code to start collecting experiences."
   ]
  },
  {
   "cell_type": "code",
   "execution_count": 86,
   "metadata": {},
   "outputs": [],
   "source": [
    "test_memory_size = 20\n",
    "test_batch_size = 4\n",
    "test_gamma = .9  # Unused here. For learning.\n",
    "\n",
    "test_memory = Memory(test_memory_size, test_batch_size, test_gamma)"
   ]
  },
  {
   "cell_type": "code",
   "execution_count": 91,
   "metadata": {},
   "outputs": [
    {
     "name": "stdout",
     "output_type": "stream",
     "text": [
      "Step 1 - Cart X: 0.042, Cart V: -0.239, Pole A: -0.049, Pole V:0.239, Reward:1.0\n",
      "Step 2 - Cart X: 0.037, Cart V: -0.043, Pole A: -0.044, Pole V:-0.068, Reward:1.0\n",
      "Step 3 - Cart X: 0.036, Cart V: -0.237, Pole A: -0.045, Pole V:0.210, Reward:1.0\n",
      "Step 4 - Cart X: 0.032, Cart V: -0.042, Pole A: -0.041, Pole V:-0.096, Reward:1.0\n",
      "Step 5 - Cart X: 0.031, Cart V: -0.236, Pole A: -0.043, Pole V:0.183, Reward:1.0\n",
      "Step 6 - Cart X: 0.026, Cart V: -0.040, Pole A: -0.039, Pole V:-0.123, Reward:1.0\n",
      "Step 7 - Cart X: 0.025, Cart V: -0.235, Pole A: -0.042, Pole V:0.157, Reward:1.0\n",
      "Step 8 - Cart X: 0.020, Cart V: -0.039, Pole A: -0.038, Pole V:-0.148, Reward:1.0\n",
      "Step 9 - Cart X: 0.020, Cart V: -0.234, Pole A: -0.041, Pole V:0.132, Reward:1.0\n",
      "Step 10 - Cart X: 0.015, Cart V: -0.038, Pole A: -0.039, Pole V:-0.173, Reward:1.0\n",
      "Step 11 - Cart X: 0.014, Cart V: -0.233, Pole A: -0.042, Pole V:0.107, Reward:1.0\n",
      "Step 12 - Cart X: 0.010, Cart V: -0.037, Pole A: -0.040, Pole V:-0.199, Reward:1.0\n",
      "Step 13 - Cart X: 0.009, Cart V: -0.232, Pole A: -0.044, Pole V:0.081, Reward:1.0\n",
      "Step 14 - Cart X: 0.004, Cart V: -0.036, Pole A: -0.042, Pole V:-0.225, Reward:1.0\n",
      "Step 15 - Cart X: 0.004, Cart V: -0.230, Pole A: -0.047, Pole V:0.054, Reward:1.0\n",
      "Step 16 - Cart X: -0.001, Cart V: -0.035, Pole A: -0.046, Pole V:-0.254, Reward:1.0\n",
      "Step 17 - Cart X: -0.002, Cart V: -0.229, Pole A: -0.051, Pole V:0.024, Reward:1.0\n",
      "Step 18 - Cart X: -0.006, Cart V: -0.033, Pole A: -0.051, Pole V:-0.284, Reward:1.0\n",
      "Step 19 - Cart X: -0.007, Cart V: -0.227, Pole A: -0.056, Pole V:-0.008, Reward:1.0\n",
      "Step 20 - Cart X: -0.012, Cart V: -0.032, Pole A: -0.056, Pole V:-0.318, Reward:1.0\n",
      "Step 21 - Cart X: -0.012, Cart V: -0.226, Pole A: -0.063, Pole V:-0.043, Reward:1.0\n",
      "Step 22 - Cart X: -0.017, Cart V: -0.030, Pole A: -0.064, Pole V:-0.355, Reward:1.0\n",
      "Step 23 - Cart X: -0.017, Cart V: -0.224, Pole A: -0.071, Pole V:-0.083, Reward:1.0\n",
      "Step 24 - Cart X: -0.022, Cart V: -0.028, Pole A: -0.072, Pole V:-0.397, Reward:1.0\n",
      "Step 25 - Cart X: -0.022, Cart V: -0.222, Pole A: -0.080, Pole V:-0.128, Reward:1.0\n",
      "Step 26 - Cart X: -0.027, Cart V: -0.026, Pole A: -0.083, Pole V:-0.445, Reward:1.0\n",
      "Step 27 - Cart X: -0.027, Cart V: -0.220, Pole A: -0.092, Pole V:-0.180, Reward:1.0\n",
      "Step 28 - Cart X: -0.032, Cart V: -0.023, Pole A: -0.095, Pole V:-0.500, Reward:1.0\n",
      "Step 29 - Cart X: -0.032, Cart V: -0.217, Pole A: -0.105, Pole V:-0.238, Reward:1.0\n",
      "Step 30 - Cart X: -0.037, Cart V: -0.021, Pole A: -0.110, Pole V:-0.562, Reward:1.0\n",
      "Step 31 - Cart X: -0.037, Cart V: -0.214, Pole A: -0.121, Pole V:-0.306, Reward:1.0\n",
      "Step 32 - Cart X: -0.041, Cart V: -0.017, Pole A: -0.127, Pole V:-0.635, Reward:1.0\n",
      "Step 33 - Cart X: -0.042, Cart V: -0.211, Pole A: -0.140, Pole V:-0.385, Reward:1.0\n",
      "Step 34 - Cart X: -0.046, Cart V: -0.014, Pole A: -0.148, Pole V:-0.718, Reward:1.0\n",
      "Step 35 - Cart X: -0.046, Cart V: -0.207, Pole A: -0.162, Pole V:-0.475, Reward:1.0\n",
      "Step 36 - Cart X: -0.050, Cart V: -0.010, Pole A: -0.172, Pole V:-0.814, Reward:1.0\n",
      "Step 37 - Cart X: -0.050, Cart V: -0.202, Pole A: -0.188, Pole V:-0.580, Reward:1.0\n",
      "Step 38 - Cart X: -0.054, Cart V: -0.005, Pole A: -0.200, Pole V:-0.926, Reward:1.0\n",
      "Step 39 - Cart X: -0.055, Cart V: -0.197, Pole A: -0.218, Pole V:-0.702, Reward:1.0\n",
      "Game over! Score = 39.0\n"
     ]
    }
   ],
   "source": [
    "actions = [x % 2 for x in range(200)]\n",
    "state = env.reset()\n",
    "step = 0\n",
    "episode_reward = 0\n",
    "done = False\n",
    "\n",
    "while not done and step < len(actions):\n",
    "    action = actions[step]  # In the future, our agents will define this.\n",
    "    state_prime, reward, done, info = env.step(action)\n",
    "    episode_reward += reward\n",
    "    test_memory.add((state, action, reward, state_prime, done)) # New line here\n",
    "    step += 1\n",
    "    state = state_prime\n",
    "    print_state(state, step, reward)\n",
    "\n",
    "end_statement = \"Game over!\" if done else \"Ran out of actions!\"\n",
    "print(end_statement, \"Score =\", episode_reward)"
   ]
  },
  {
   "cell_type": "markdown",
   "metadata": {},
   "source": [
    "Now, let's sample the memory by running the cell below multiple times. It's different each call, and that's on purpose. Just like with other neural networks, it's important randomly sample so that our agent can learn from many different situations.\n",
    "\n",
    "The use of a memory buffer is called [Experience Replay](https://arxiv.org/pdf/1511.05952.pdf). The above technique of a uniform random sample is a quick and computationally efficient way to get the job done, but RL researchers often look into other sampling methods. For instance, maybe there's a way to weight memories based on their rarity or loss when the agent learns with it."
   ]
  },
  {
   "cell_type": "code",
   "execution_count": 94,
   "metadata": {},
   "outputs": [
    {
     "data": {
      "text/plain": [
       "(<tf.Tensor: id=4, shape=(4, 4), dtype=float32, numpy=\n",
       " array([[-0.03652051, -0.02062908, -0.11008468, -0.562437  ],\n",
       "        [-0.02731556, -0.21973433, -0.09173153, -0.17951226],\n",
       "        [-0.03171024, -0.02342759, -0.09532177, -0.49966562],\n",
       "        [-0.05037118, -0.2019667 , -0.18800925, -0.5803506 ]],\n",
       "       dtype=float32)>,\n",
       " array([0, 1, 0, 1], dtype=int8),\n",
       " array([1., 1., 1., 1.], dtype=float32),\n",
       " array([[-0.03693309, -0.21404806, -0.12133341, -0.3063643 ],\n",
       "        [-0.03171024, -0.02342759, -0.09532177, -0.49966562],\n",
       "        [-0.03217879, -0.21708557, -0.10531508, -0.23847954],\n",
       "        [-0.05441051, -0.00477696, -0.19961625, -0.9258726 ]],\n",
       "       dtype=float32),\n",
       " [False, False, False, False])"
      ]
     },
     "execution_count": 94,
     "metadata": {},
     "output_type": "execute_result"
    }
   ],
   "source": [
    "test_memory.sample()"
   ]
  },
  {
   "cell_type": "markdown",
   "metadata": {},
   "source": [
    "But before the agent has any memories and has learned anything, how is it supposed to act? That comes down to [Exploration vs Exploitation](https://en.wikipedia.org/wiki/Multi-armed_bandit). The trouble is that in order to learn, risks with the unknown need to be made. There's no right answer, but there is a popular answer. We'll start by acting randomly, and over time, we will slowly decay our chance to act randomly.\n",
    "\n",
    "Below is a partial version of the agent. "
   ]
  },
  {
   "cell_type": "code",
   "execution_count": 105,
   "metadata": {},
   "outputs": [],
   "source": [
    "class Partial_Agent():\n",
    "    \"\"\"Sets up a reinforcement learning agent to play in a game environment.\"\"\"\n",
    "    def __init__(self, network, memory, epsilon_decay, action_size):\n",
    "        \"\"\"Initializes the agent with DQN and memory sub-classes.\n",
    "\n",
    "        Args:\n",
    "            network: A neural network created from deep_q_network().\n",
    "            memory: A Memory class object.\n",
    "            epsilon_decay (float): The rate at which to decay random actions.\n",
    "            action_size (int): The number of possible actions to take.\n",
    "        \"\"\"\n",
    "        self.network = network\n",
    "        self.action_size = action_size\n",
    "        self.memory = memory\n",
    "        self.epsilon = 1  # The chance to take a random action.\n",
    "        self.epsilon_decay = epsilon_decay\n",
    "\n",
    "    def act(self, state, training=False):\n",
    "        \"\"\"Selects an action for the agent to take given a game state.\n",
    "\n",
    "        Args:\n",
    "            state (list of numbers): The state of the environment to act on.\n",
    "            traning (bool): True if the agent is training.\n",
    "\n",
    "        Returns:\n",
    "            (int) The index of the action to take.\n",
    "        \"\"\"\n",
    "        if training:\n",
    "            # Random actions until enough simulations to train the model.\n",
    "            if len(self.memory.buffer) >= self.memory.batch_size:\n",
    "                self.epsilon *= self.epsilon_decay\n",
    "\n",
    "            if self.epsilon > np.random.rand():\n",
    "                print(\"Exploration!\")\n",
    "                return random.randint(0, self.action_size-1)\n",
    "\n",
    "        # If not acting randomly, take action with highest predicted value.\n",
    "        print(\"Exploitation!\")\n",
    "        state_batch = np.expand_dims(state, axis=0)\n",
    "        predict_mask = np.ones((1, self.action_size,))\n",
    "        action_qs = self.network.predict([state_batch, predict_mask])\n",
    "        return np.argmax(action_qs[0])"
   ]
  },
  {
   "cell_type": "markdown",
   "metadata": {},
   "source": [
    "Let's define the agent and get a starting state to see how it would act without any training."
   ]
  },
  {
   "cell_type": "code",
   "execution_count": 143,
   "metadata": {},
   "outputs": [],
   "source": [
    "state = env.reset()\n",
    "\n",
    "# Define \"brain\"\n",
    "space_shape = env.observation_space.shape\n",
    "action_size = env.action_space.n\n",
    "# Feel free to play with these\n",
    "test_learning_rate = .2\n",
    "test_hidden_neurons = 10\n",
    "test_network = deep_q_network(\n",
    "    space_shape, action_size, test_learning_rate, test_hidden_neurons)\n",
    "\n",
    "test_epsilon_decay = .95\n",
    "\n",
    "test_agent = Partial_Agent(\n",
    "    test_network, test_memory, test_epsilon_decay, action_size)"
   ]
  },
  {
   "cell_type": "markdown",
   "metadata": {},
   "source": [
    "Run the cell below multiple times. Since we're decaying the random action rate after every action, it's only a matter a time before the agent exploits more than it explores."
   ]
  },
  {
   "cell_type": "code",
   "execution_count": 136,
   "metadata": {},
   "outputs": [
    {
     "name": "stdout",
     "output_type": "stream",
     "text": [
      "Exploitation!\n",
      "Push Right\n"
     ]
    }
   ],
   "source": [
    "action = test_agent.act(state, training=True)\n",
    "print(\"Push Right\" if action else \"Push Left\")"
   ]
  },
  {
   "cell_type": "markdown",
   "metadata": {},
   "source": [
    "Memories, a brain, and a healthy dose of curiosity. We finally have all the ingredient for our agent to learn. After all, as the Scarecrow from the Wizard of Oz said:\n",
    "\n",
    "\"Everything in life is unusual until you get accustomed to it.\"  \n",
    "~L. Frank Baum\n",
    "\n",
    "Below is the code used by our agent to learn, where the Bellman Equation at last makes an appearance. We'll run through the following steps.\n",
    "\n",
    "1. Pull a batch from memory\n",
    "2. Get the Q value (the output of the neural network) based on the memory's ending state\n",
    "    - Assume the Q value of the action with the highest Q value (test all actions)\n",
    "4. Update these Q values with the Bellman Equations\n",
    "    - `target_qs = (next_q_mb * self.memory.gamma) + reward_mb`\n",
    "    - If the state is the end of the game, set the target_q to the reward for entering the final state.\n",
    "5. Reshape the target_qs to match the networks output\n",
    "    - Only learn on the memory's corresponding action by setting all action nodes to zero besides the action node taken.\n",
    "6. Fit Target Qs as the label to our model against the memory's starting state and action as the inputs."
   ]
  },
  {
   "cell_type": "code",
   "execution_count": 146,
   "metadata": {},
   "outputs": [],
   "source": [
    "def learn(self):\n",
    "    \"\"\"Trains the Deep Q Network based on stored experiences.\"\"\"\n",
    "    batch_size = self.memory.batch_size\n",
    "    if len(self.memory.buffer) < batch_size:\n",
    "        return None\n",
    "\n",
    "    # Obtain random mini-batch from memory.\n",
    "    state_mb, action_mb, reward_mb, next_state_mb, done_mb = (\n",
    "        self.memory.sample())\n",
    "\n",
    "    # Get Q values for next_state.\n",
    "    predict_mask = np.ones(action_mb.shape + (self.action_size,))\n",
    "    next_q_mb = self.network.predict([next_state_mb, predict_mask])\n",
    "    next_q_mb = tf.math.reduce_max(next_q_mb, axis=1)\n",
    "\n",
    "    # Apply the Bellman Equation\n",
    "    target_qs = (next_q_mb * self.memory.gamma) + reward_mb\n",
    "    target_qs = tf.where(done_mb, reward_mb, target_qs)\n",
    "\n",
    "    # Match training batch to network output:\n",
    "    # target_q where action taken, 0 otherwise.\n",
    "    action_mb = tf.convert_to_tensor(action_mb, dtype=tf.int32)\n",
    "    action_hot = tf.one_hot(action_mb, self.action_size)\n",
    "    target_mask = tf.multiply(tf.expand_dims(target_qs, -1), action_hot)\n",
    "\n",
    "    return self.network.train_on_batch(\n",
    "        [state_mb, action_hot], target_mask, reset_metrics=False\n",
    "    )\n",
    "\n",
    "Partial_Agent.learn = learn\n",
    "test_agent = Partial_Agent(\n",
    "    test_network, test_memory, test_epsilon_decay, action_size)"
   ]
  },
  {
   "cell_type": "markdown",
   "metadata": {},
   "source": [
    "Nice! We finally have an intelligence that can walk and talk and... well ok, this intelligence is to simple to be able to do those things, but maybe it can learn to push a cart with a pole on it. Let's update our training loop to use our new agent.\n",
    "\n",
    "Run the below cell over and over up to ten times to train the agent."
   ]
  },
  {
   "cell_type": "code",
   "execution_count": 157,
   "metadata": {},
   "outputs": [
    {
     "name": "stdout",
     "output_type": "stream",
     "text": [
      "Exploitation!\n",
      "Step 1 - Cart X: -0.011, Cart V: -0.172, Pole A: -0.022, Pole V:0.291, Reward:1.0\n",
      "Exploitation!\n",
      "Step 2 - Cart X: -0.014, Cart V: -0.367, Pole A: -0.016, Pole V:0.577, Reward:1.0\n",
      "Exploitation!\n",
      "Step 3 - Cart X: -0.021, Cart V: -0.562, Pole A: -0.005, Pole V:0.864, Reward:1.0\n",
      "Exploitation!\n",
      "Step 4 - Cart X: -0.033, Cart V: -0.757, Pole A: 0.012, Pole V:1.156, Reward:1.0\n",
      "Exploitation!\n",
      "Step 5 - Cart X: -0.048, Cart V: -0.953, Pole A: 0.035, Pole V:1.452, Reward:1.0\n",
      "Exploitation!\n",
      "Step 6 - Cart X: -0.067, Cart V: -1.148, Pole A: 0.065, Pole V:1.756, Reward:1.0\n",
      "Exploitation!\n",
      "Step 7 - Cart X: -0.090, Cart V: -1.344, Pole A: 0.100, Pole V:2.068, Reward:1.0\n",
      "Exploitation!\n",
      "Step 8 - Cart X: -0.117, Cart V: -1.540, Pole A: 0.141, Pole V:2.389, Reward:1.0\n",
      "Exploitation!\n",
      "Step 9 - Cart X: -0.148, Cart V: -1.736, Pole A: 0.189, Pole V:2.722, Reward:1.0\n",
      "Exploitation!\n",
      "Step 10 - Cart X: -0.182, Cart V: -1.932, Pole A: 0.243, Pole V:3.066, Reward:1.0\n",
      "Game over! Game over! Score = 10.0\n"
     ]
    }
   ],
   "source": [
    "state = env.reset()\n",
    "step = 0\n",
    "episode_reward = 0\n",
    "done = False\n",
    "\n",
    "while not done:\n",
    "    action = test_agent.act(state, training=True)\n",
    "    state_prime, reward, done, info = env.step(action)\n",
    "    episode_reward += reward\n",
    "    test_agent.memory.add((state, action, reward, state_prime, done)) # New line here\n",
    "    step += 1\n",
    "    state = state_prime\n",
    "    print_state(state, step, reward)\n",
    "\n",
    "test_agent.learn()\n",
    "print(end_statement, \"Game over! Score =\", episode_reward)"
   ]
  },
  {
   "cell_type": "markdown",
   "metadata": {},
   "source": [
    "## Hypertuning\n",
    "\n",
    "Chances are, at this point, the agent is having a tough time learning. Why is that? Well, remember that hyperparameter tuning job we kicked off at the start of this notebook?\n",
    "\n",
    "The are many parameters that need adjusting with our agent. Let's recap:\n",
    "* The number of `episodes` or full runs of the game to train on\n",
    "* The neural networks `learning_rate`\n",
    "* The number of `hidden_neurons` to use in our network\n",
    "* `gamma`, or how much we want to discount the future value of states\n",
    "* How quickly we want to switch from explore to exploit with `explore_decay`\n",
    "* The size of the memory buffer, `memory_size`\n",
    "* The number of memories to pull from the buffer when training, `memory_batch_size`\n",
    "\n",
    "These all have been added as flags to pass to the model in `trainer/trainer.py`'s `_parse_arguments` method. For the most part, `trainer/trainer.py` follows the structure of the training loop that we have above, but it does have a few extra bells and whistles, like a hook into TensorBoard and video output."
   ]
  },
  {
   "cell_type": "code",
   "execution_count": 158,
   "metadata": {},
   "outputs": [],
   "source": [
    "def _parse_arguments(argv):\n",
    "    \"\"\"Parses command-line arguments.\"\"\"\n",
    "    parser = argparse.ArgumentParser()\n",
    "    parser.add_argument(\n",
    "        '--game',\n",
    "        help='Which open ai gym game to play',\n",
    "        type=str,\n",
    "        default='CartPole-v0')\n",
    "    parser.add_argument(\n",
    "        '--episodes',\n",
    "        help='The number of episodes to simulate',\n",
    "        type=int,\n",
    "        default=200)\n",
    "    parser.add_argument(\n",
    "        '--learning_rate',\n",
    "        help='Learning rate for the nueral network',\n",
    "        type=float,\n",
    "        default=0.2)\n",
    "    parser.add_argument(\n",
    "        '--hidden_neurons',\n",
    "        help='The number of nuerons to use per layer',\n",
    "        type=int,\n",
    "        default=30)\n",
    "    parser.add_argument(\n",
    "        '--gamma',\n",
    "        help='The gamma or \"discount\" factor to discount future states',\n",
    "        type=float,\n",
    "        default=0.5)\n",
    "    parser.add_argument(\n",
    "        '--explore_decay',\n",
    "        help='The rate at which to decay the probability of a random action',\n",
    "        type=float,\n",
    "        default=0.1)\n",
    "    parser.add_argument(\n",
    "        '--memory_size',\n",
    "        help='Size of the memory buffer',\n",
    "        type=int,\n",
    "        default=100000)\n",
    "    parser.add_argument(\n",
    "        '--memory_batch_size',\n",
    "        help='The amount of memories to sample from the buffer while training',\n",
    "        type=int,\n",
    "        default=8)\n",
    "    parser.add_argument(\n",
    "        '--job-dir',\n",
    "        help='Directory where to save the given model',\n",
    "        type=str,\n",
    "        default='models/')\n",
    "    parser.add_argument(\n",
    "        '--print_rate',\n",
    "        help='How often to print the score, 0 if never',\n",
    "        type=int,\n",
    "        default=0)\n",
    "    parser.add_argument(\n",
    "        '--eval_rate',\n",
    "        help=\"\"\"While training, perform an on-policy simulation and record\n",
    "        metrics to tensorboard every <record_rate> steps, 0 if never. Use\n",
    "        higher values to avoid hyperparameter tuning \"too many metrics\"\n",
    "        error\"\"\",\n",
    "        type=int,\n",
    "        default=20)\n",
    "    return parser.parse_known_args(argv)"
   ]
  },
  {
   "cell_type": "markdown",
   "metadata": {},
   "source": [
    "Geez, that's a lot. And like with other machine learning methods, there's no hard and fast rule and is problem dependent. Plus, there are many more paramaters we could explore, like the number of layers, learning rate decay, and so on.\n",
    "\n",
    "It is definately a worthwhile exercise to try and find the optimal set of parameters on one's on, but if life is too short, and there isn't time for that, the hyperparameter tuning job should now be complete. Head on over to [Google Cloud's AI Platform](https://console.cloud.google.com/ai-platform/jobs) to see the job labeled `dqn_on_gcp_<time_this_lab_was_started>`\n",
    "\n",
    "**TODO insert image**\n",
    "\n",
    "Click on the job name to see the results. Information comes in as each trial is complete, and the best performing trial will be listed on the top.\n",
    "\n",
    "<img src=\"https://docs.google.com/drawings/d/e/2PACX-1vReGRMvFkA15v2bFVvP8Xr9DmNxsajYdpPgxK7_2ss7jsbi4h7JB295tHT4m0HXBqMSzt_HUTVjSotM/pub?w=966&h=464\">"
   ]
  },
  {
   "cell_type": "markdown",
   "metadata": {},
   "source": [
    "Logs can be invaluable when debugging. Click the three dots to the right of one of the trials to filter logs by that particular trial.\n",
    "\n",
    "At last, let's see the results of the best trial. Keep in mind the best trial number and navigate over to [your bucket](https://console.cloud.google.com/storage/browser). The results will be in a file with the same Job Name as your hyperparameter tuning job. In that folder, there will be a number of subfolders equal to the number of hyperparameter tuning trials. Select the folder with your best performing `Trial Id`\n",
    "\n",
    "<img src=\"https://docs.google.com/drawings/d/e/2PACX-1vTpxLSz2DJ3rjmKVZxwEkrdftftiWUY5ryFC-rfDskr74ptCiuW1TOFMqCOlP_2b9l6iErKPP6w1HSM/pub?w=956&h=456\">\n",
    "\n",
    "There should be a number of goodies in the file including TensorBoard information in `/train`, a saved model in `saved_model.pb`, and a recording of the model in `recording.mp4`.\n",
    "\n",
    "Open the [Google Cloud Shell](https://console.cloud.google.com/home/dashboard?cloudshell=true&_ga=2.207467987.-157492093.1570741979) and run Tensorboard with\n",
    "\n",
    "`tensorboard --logdir=gs://<your-bucket>/<job-name>/<path-best-trial>`\n",
    "\n",
    "The episode rewards and training loss are displayed for the trial in intervals of 20 episodes.\n",
    "\n",
    "<img src=\"https://docs.google.com/drawings/d/e/2PACX-1vSS6O1fmo5nGdgS24K9LvvSfvWrQ8gk6oNkXYTXhEfNLVodddcZ7H_ez4ar5AXdBB5pJAi-lT1N4mCd/pub?w=910&h=708\">\n",
    "\n",
    "Click `recording.mp4` in your bucket to visually see how the model performed! How did it do? If you're not proud of your little robot, check out the recordings of the other trials to see how it decimates the competition.\n",
    "\n",
    "Congratulations on making a Deep Q Agent! That's it for now, but this is just scratching the surface for Reinforcement Learning. AI Gym has plenty of other [environments](https://gym.openai.com/envs/#classic_control), see if you can conquer them with your new skills!"
   ]
  },
  {
   "cell_type": "markdown",
   "metadata": {},
   "source": [
    "Copyright 2019 Google Inc.\n",
    "Licensed under the Apache License, Version 2.0 (the \"License\"); you may not use this file except in compliance with the License. You may obtain a copy of the License at\n",
    "http://www.apache.org/licenses/LICENSE-2.0\n",
    "Unless required by applicable law or agreed to in writing, software distributed under the License is distributed on an \"AS IS\" BASIS, WITHOUT WARRANTIES OR CONDITIONS OF ANY KIND, either express or implied. See the License for the specific language governing permissions and limitations under the License."
   ]
  },
  {
   "cell_type": "code",
   "execution_count": null,
   "metadata": {},
   "outputs": [],
   "source": []
  }
 ],
 "metadata": {
  "kernelspec": {
   "display_name": "Python 3",
   "language": "python",
   "name": "python3"
  },
  "language_info": {
   "codemirror_mode": {
    "name": "ipython",
    "version": 3
   },
   "file_extension": ".py",
   "mimetype": "text/x-python",
   "name": "python",
   "nbconvert_exporter": "python",
   "pygments_lexer": "ipython3",
   "version": "3.5.3"
  }
 },
 "nbformat": 4,
 "nbformat_minor": 4
}
